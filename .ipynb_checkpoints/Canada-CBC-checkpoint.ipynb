{
 "cells": [
  {
   "cell_type": "code",
   "execution_count": 1,
   "metadata": {},
   "outputs": [],
   "source": [
    "SEED_CRAWL = 'https://www.cbc.ca/graphql'"
   ]
  },
  {
   "cell_type": "code",
   "execution_count": 2,
   "metadata": {},
   "outputs": [],
   "source": [
    "import random\n",
    "import requests\n",
    "from requests_html import HTMLSession\n",
    "from requests_html import HTML\n",
    "import os\n",
    "import json\n",
    "import validators"
   ]
  },
  {
   "cell_type": "code",
   "execution_count": 29,
   "metadata": {},
   "outputs": [],
   "source": [
    "class Crawler:\n",
    "    \n",
    "    USER_AGENT_LIST = [\n",
    "        \"Mozilla/5.0 (Windows NT 6.1; WOW64) AppleWebKit/537.1 (KHTML, like Gecko) Chrome/22.0.1207.1 Safari/537.1\",\n",
    "        \"Mozilla/5.0 (X11; CrOS i686 2268.111.0) AppleWebKit/536.11 (KHTML, like Gecko) Chrome/20.0.1132.57 Safari/536.11\",\n",
    "        \"Mozilla/5.0 (Windows NT 6.1; WOW64) AppleWebKit/536.6 (KHTML, like Gecko) Chrome/20.0.1092.0 Safari/536.6\",\n",
    "        \"Mozilla/5.0 (Windows NT 6.2) AppleWebKit/536.6 (KHTML, like Gecko) Chrome/20.0.1090.0 Safari/536.6\",\n",
    "        \"Mozilla/5.0 (Windows NT 6.2; WOW64) AppleWebKit/537.1 (KHTML, like Gecko) Chrome/19.77.34.5 Safari/537.1\",\n",
    "        \"Mozilla/5.0 (X11; Linux x86_64) AppleWebKit/536.5 (KHTML, like Gecko) Chrome/19.0.1084.9 Safari/536.5\",\n",
    "        \"Mozilla/5.0 (Windows NT 6.0) AppleWebKit/536.5 (KHTML, like Gecko) Chrome/19.0.1084.36 Safari/536.5\",\n",
    "        \"Mozilla/5.0 (Windows NT 6.1; WOW64) AppleWebKit/536.3 (KHTML, like Gecko) Chrome/19.0.1063.0 Safari/536.3\",\n",
    "        \"Mozilla/5.0 (Windows NT 5.1) AppleWebKit/536.3 (KHTML, like Gecko) Chrome/19.0.1063.0 Safari/536.3\",\n",
    "        \"Mozilla/5.0 (Macintosh; Intel Mac OS X 10_8_0) AppleWebKit/536.3 (KHTML, like Gecko) Chrome/19.0.1063.0 Safari/536.3\",\n",
    "        \"Mozilla/5.0 (Windows NT 6.2) AppleWebKit/536.3 (KHTML, like Gecko) Chrome/19.0.1062.0 Safari/536.3\",\n",
    "        \"Mozilla/5.0 (Windows NT 6.1; WOW64) AppleWebKit/536.3 (KHTML, like Gecko) Chrome/19.0.1062.0 Safari/536.3\",\n",
    "        \"Mozilla/5.0 (Windows NT 6.2) AppleWebKit/536.3 (KHTML, like Gecko) Chrome/19.0.1061.1 Safari/536.3\",\n",
    "        \"Mozilla/5.0 (Windows NT 6.1; WOW64) AppleWebKit/536.3 (KHTML, like Gecko) Chrome/19.0.1061.1 Safari/536.3\",\n",
    "        \"Mozilla/5.0 (Windows NT 6.1) AppleWebKit/536.3 (KHTML, like Gecko) Chrome/19.0.1061.1 Safari/536.3\",\n",
    "        \"Mozilla/5.0 (Windows NT 6.2) AppleWebKit/536.3 (KHTML, like Gecko) Chrome/19.0.1061.0 Safari/536.3\",\n",
    "        \"Mozilla/5.0 (X11; Linux x86_64) AppleWebKit/535.24 (KHTML, like Gecko) Chrome/19.0.1055.1 Safari/535.24\",\n",
    "        \"Mozilla/5.0 (Windows NT 6.2; WOW64) AppleWebKit/535.24 (KHTML, like Gecko) Chrome/19.0.1055.1 Safari/535.24\"\n",
    "]\n",
    "\n",
    "\n",
    "    all_json_to_send = []\n",
    "    \n",
    "    \n",
    "    def _init_(self):\n",
    "        pass\n",
    "    \n",
    "    \n",
    "    def start_request(self,url):\n",
    "        session = HTMLSession()\n",
    "        header = dict()\n",
    "        #data = \"\"\"cbc_privacy_notification=1; cbc_visitor=7472d71c-2df0-405a-8b28-8f34f2948e5c; s_ecid=MCMID%7C83434766441015208602588750493444837267; cX_P=kim4fjpmtbv1zyc4; _cb_ls=1; _cb=D-qG8RDIlWDpDEZmFC; _v__chartbeat3=wdI3zDL6jpxBMxkrA; cX_G=cx%3A26b2j46tcera1ilnod780e8yj%3A34bz52xebz5i7; _admrla=2.; _fbp=fb.1.1607803081655.1573896280; referrerPillar=feed; avcaff_volume=null; avcaff_captions=null; avcaff_autodockdisable=null; akaas_feed=2147483647~rv=29~id=f674f6623e1866cba409a3530e203964; AMCVS_951720B3535680CB0A490D45%40AdobeOrg=1; AMCV_951720B3535680CB0A490D45%40AdobeOrg=1585540135%7CMCIDTS%7C18633%7CMCMID%7C83434766441015208602588750493444837267%7CMCAAMLH-1610414577%7C4%7CMCAAMB-1610414577%7CRKhpRz8krg2tLO6pguXWp5olkAcUniQYPHaMWWgdJ3xzPWQmdj0y%7CMCOPTOUT-1609816977s%7CNONE%7CMCAID%7CNONE%7CMCSYNCSOP%7C411-18634%7CvVersion%7C4.4.0%7CMCCIDH%7C-82759145; ak_bmsc=53E564E84FE5ED75413B9CA0E58C0970170E5714897100006DBFF35F06DBB41A~plG4437Wcdo1DEsl8AaKpdRgI7TZsEYVxvt34GGvQ+YJHKaRJ4+SI/FrYAAWsB6mNDK5GjuNb/onD20Wl2JpDqYiO51YEuYuQ0uszUVEsL1AxrgRboY8wMBva7X2vZCr6568fUP1pNvHO2OV+xUEFl8pAxMU414QSKgTRmHFx675S/npjWatVQtvyvDGRwNm8rqHge0X4OIUlR6Vh3FOrw/bR8hdnpA0DAflNzVikd7DQrPp23vOASw+CMT/AZ+LsW; cbc-session=1609809780; NSC_mcwt-ttm-onxfcdbdif=ffffffff0983169445525d5f4f58455e445a4a423660; s_cc=true; cX_S=kjjb6gn6b4di1bl3; _cb_svref=null; _vfz=www%2Ecbc%2Eca.00000000-0000-4000-8000-082f79d5b829.1609809783.1.medium=direct|source=|sharer_uuid=|terms=; _vfa=www%2Ecbc%2Eca.00000000-0000-4000-8000-082f79d5b829.a5bb8c50-099a-4d63-a11c-e03b77fa2410.1607803064.1609370563.1609809783.13; _t_tests=eyJmQzRGYTNLS2tZaTJVIjp7ImNob3NlblZhcmlhbnQiOiJBIiwic3BlY2lmaWNMb2NhdGlvbiI6WyJCNGlZY0UiXX0sImxpZnRfZXhwIjoibSJ9; cbc_app_version=fe0aa1fcefe06dd1cf66073241eebf7b73f4228b; referringDepartment=noReferrer; _chartbeat2=.1607803063861.1609809806903.0000000001100001.BjNiOQDGDJRpBw1fyyMUM3OBA8py0.3; _chartbeat5=313,1,https%3A%2F%2Fwww.cbc.ca%2F,https%3A%2F%2Fwww.cbc.ca%2Fsitemap,DgCgXLDyMqzPD36EpEDT-mZABiTOV-,,c,BWAqGRuCNnKCcwHcvCKyj1CB5jfPV,cbc.ca,; amplitude_id_f5b7aa101ec24385b731affd4a2f5ed0_statscbc.ca=eyJkZXZpY2VJZCI6Ijc0NzJkNzFjLTJkZjAtNDA1YS04YjI4LThmMzRmMjk0OGU1YyIsInVzZXJJZCI6bnVsbCwib3B0T3V0IjpmYWxzZSwic2Vzc2lvbklkIjoxNjA5ODA5Nzc1MDg4LCJsYXN0RXZlbnRUaW1lIjoxNjA5ODA5ODA2OTI4LCJldmVudElkIjoxNjQsImlkZW50aWZ5SWQiOjM3NCwic2VxdWVuY2VOdW1iZXIiOjUzOH0=; _awl=2.1609809806.0.4-c7b73d29-feb29777b29e67a93b609e861026f884-6763652d75732d7765737431-5ff3bf8e-1; bm_sv=AEA8E1013B40E6FB463C39F2B4C9E71D~i38i6HFbQEoShaTibFapROXLO/2TaZvfSc6R/KTS30BQgcK5oeHxih6eBHp9mzoqbW9W9W/2VrY8TsCskP/3yFqZ30ZD0dQTBz0805jRe7TV8OpiQUepgL8irkfYAMBq1ddXoBEYsnaZ+a3TCfLnq6vz9PuK2CiqlLOV0M/y/vY=; _vfb=www%2Ecbc%2Eca.00000000-0000-4000-8000-082f79d5b829.6.10.1609809783....; RT=\"z=1&dm=cbc.ca&si=c8033304-ffe3-4f02-a504-cebdf515b60f&ss=kjjb6anc&sl=2&tt=8gi&bcn=%2F%2F17c8edc5.akstat.io%2F&ld=ur2&nu=14clweh9&cl=pmj\"; s_sq=cbc-production%3D%2526pid%253Dmisc%25253Athenational%2526pidt%253D1%2526oid%253Dfunctionfn%252528%252529%25257B%25257D%2526oidt%253D2%2526ot%253DSUBMIT\"\"\"\n",
    "        header['user-agent'] = \"Mozilla/5.0 (X11; Linux x86_64) AppleWebKit/537.36 (KHTML, like Gecko) Chrome/87.0.4280.88 Safari/537.36\"#random.choice(self.USER_AGENT_LIST)\n",
    "        \n",
    "        header['authority'] = \"www.cbc.ca\"\n",
    "        header['dnt'] = \"1\"\n",
    "        header['content-type'] =  \"application/json\"\n",
    "        header['accept'] = \"*/*\"\n",
    "        header['origin'] = \"https://www.cbc.ca\"\n",
    "        header['sec-fetch-site'] = \"same-origin\"\n",
    "        header['sec-fetch-mode'] = \"cors\"\n",
    "        header['sec-fetch-dest'] = \"empty\"\n",
    "        header['referer'] = \"https://www.cbc.ca/news/canada\"\n",
    "        header['accept-language'] = \"es-US,es;q=0.9,en-US;q=0.8,en;q=0.7,es-419;q=0.6\"\n",
    "       \n",
    "        response = session.post(url,headers=header, json={\n",
    "   \"query\":\"query singleLineup($lineupSlug: String, $categorySlug: String, $subjectsSet: String, $tags: String, $pageSize: Int, $page: Int) {\\n    allContentItems(lineupSlug: $lineupSlug, categorySlug: $categorySlug, subjectsSet: $subjectsSet, tags: $tags, pageSize: $pageSize, page: $page, source: \\\"Polopoly\\\", typeSet: CBC_OCELOT) {\\n        nodes {\\n            ...cardNode\\n        }\\n    }\\n} \\nfragment cardNode on ContentItem {\\n    id\\n    url\\n    urlSlug\\n    title\\n    sectionList\\n    sectionLabels\\n    relatedLinks {\\n        url\\n        title\\n        sourceId\\n    }\\n    deck\\n    description\\n    flag\\n    imageLarge\\n    source\\n    sourceId\\n    imageAspects\\n    publishedAt\\n    updatedAt\\n    sponsor {\\n        name\\n        logo\\n        url\\n        external\\n        label\\n    }\\n    type\\n    show\\n    authors {\\n        name\\n        image\\n    }\\n    commentsEnabled\\n    contextualHeadlines {\\n        headline\\n        contextualLineupSlug\\n    }\\n    mediaId\\n    mediaDuration\\n    headlineData {\\n        type\\n        title\\n        mediaId\\n        mediaDuration\\n        publishedAt\\n        image\\n    }\\n    components {\\n        mainContent {\\n            url\\n            urlSlug\\n            sectionList\\n            flag\\n            sourceId\\n            type\\n        }\\n        mainVisual {\\n            ... on ContentItem {\\n                mediaId\\n                mediaDuration\\n                title\\n                imageLarge\\n            }\\n        }\\n        primary\\n        secondary\\n    }\\n}\",\n",
    "   \"variables\":{\n",
    "      \"lineupSlug\":\"news-canada\",\n",
    "      \"categorySlug\":\"\",\n",
    "      \"subjectsSet\":\"\",\n",
    "      \"tags\":\"\",\n",
    "      \"page\":2,\n",
    "      \"pageSize\":28\n",
    "   }\n",
    "})        \n",
    "        return response\n",
    "    \n",
    "    \n",
    "    def parse(self, response):\n",
    "        self.all_json_to_send = []\n",
    "        json_data = json.loads(response.html.html)[\"data\"][\"allContentItems\"][\"nodes\"]\n",
    "        for url_data in json_data: \n",
    "            json_to_send = {}\n",
    "            json_to_send[\"url\"] = url_data[\"url\"]\n",
    "            self.all_json_to_send.append(json_to_send)  "
   ]
  },
  {
   "cell_type": "code",
   "execution_count": 30,
   "metadata": {},
   "outputs": [],
   "source": [
    "crawler = Crawler()\n",
    "\n",
    "response = crawler.start_request(SEED_CRAWL)"
   ]
  },
  {
   "cell_type": "code",
   "execution_count": 31,
   "metadata": {},
   "outputs": [
    {
     "data": {
      "text/plain": [
       "'{\"data\":{\"allContentItems\":{\"nodes\":[{\"id\":1655068,\"url\":\"https://www.cbc.ca/news/canada/ottawa/gatineau-police-new-years-altercation-1.5859782\",\"urlSlug\":\"gatineau-police-new-years-altercation\",\"title\":\"Gatineau, Que., police issue fines over New Year\\'s Eve party that ended in heated altercation\",\"sectionList\":[\"news\",\"canada\",\"ottawa\"],\"sectionLabels\":[\"News\",\"Canada\",\"Ottawa\"],\"relatedLinks\":[],\"deck\":\"Police responded to family gathering on Thursday night after a complaint from a neighbour\",\"description\":\"Gatineau, Que., police say they arrested two people and fined six under Quebec\\'s public health act after breaking up a family party on New Year\\'s Eve.\",\"flag\":\"Video\",\"imageLarge\":\"https://i.cbc.ca/1.5859787.1609627367!/fileImage/httpImage/image.JPG_gen/derivatives/16x9_620/gatineau-police-video.JPG\",\"source\":\"Polopoly\",\"sourceId\":\"1.5859782\",\"imageAspects\":\"16x9_940,16x9_300,16x9_620,original_620,original_300,16x9tight_140,16x9_460\",\"publishedAt\":\"1609633774922\",\"updatedAt\":\"1609633774922\",\"sponsor\":null,\"type\":\"story\",\"show\":\"\",\"authors\":[{\"name\":\"Sarah Kester\",\"image\":\"https://i.cbc.ca/1.5204381.1562615863!/fileImage/httpImage/image.jpg_gen/derivatives/square_140/sarah-kester.jpg\"}],\"commentsEnabled\":false,\"contextualHeadlines\":[],\"mediaId\":null,\"mediaDuration\":null,\"headlineData\":{\"type\":\"image\",\"title\":null,\"mediaId\":\"\",\"mediaDuration\":null,\"publishedAt\":null,\"image\":null},\"components\":null},{\"id\":1655032,\"url\":\"https://www.cbc.ca/news/canada/toronto/protest-tendercare-living-centre-covid-19-1.5859667\",\"urlSlug\":\"protest-Tendercare-Living-Centre-COVID-19\",\"title\":\"Scores of people protest conditions at Tendercare after 60 deaths due to COVID-19\",\"sectionList\":[\"news\",\"canada\",\"toronto\"],\"sectionLabels\":[\"News\",\"Canada\",\"Toronto\"],\"relatedLinks\":[{\"url\":\"https://www.cbc.ca/news/canada/toronto/protest-tendercare-scarborough-long-term-care-home-1.5856912\",\"title\":\"Families protest outside Scarborough long-term care home to demand more provincial help\",\"sourceId\":\"1.5856912\"},{\"url\":\"https://www.cbc.ca/news/canada/toronto/tendercare-living-centre-scarborough-covid-19-outbreak-52-dead-1.5859358\",\"title\":\"Group calls for military intervention in Ontario long-term care homes\",\"sourceId\":\"1.5859358\"}],\"deck\":\"Protesters call on province to take further action as Scarborough home battles outbreak\",\"description\":\"Scores of people protested outside a Scarborough long-term care home on Saturday to draw attention to conditions inside the facility where 60 residents have died of COVID-19.\",\"flag\":\"\",\"imageLarge\":\"https://i.cbc.ca/1.5859744.1609623326!/fileImage/httpImage/image.jpg_gen/derivatives/16x9_620/maureen-mcdermott.jpg\",\"source\":\"Polopoly\",\"sourceId\":\"1.5859667\",\"imageAspects\":\"16x9_940,16x9_300,16x9_620,original_620,original_300,16x9tight_140,16x9_460\",\"publishedAt\":\"1609623368180\",\"updatedAt\":\"1609626058140\",\"sponsor\":null,\"type\":\"story\",\"show\":\"\",\"authors\":[{\"name\":\"Muriel Draaisma\",\"image\":\"https://i.cbc.ca/1.3961855.1485974066!/fileImage/httpImage/image.JPG_gen/derivatives/square_140/muriel-draaisma.JPG\"}],\"commentsEnabled\":false,\"contextualHeadlines\":[{\"headline\":\"Scores of people protest conditions at Toronto care home after 60 deaths due to COVID-19\",\"contextualLineupSlug\":\"news-canada\"}],\"mediaId\":null,\"mediaDuration\":null,\"headlineData\":{\"type\":\"image\",\"title\":null,\"mediaId\":\"\",\"mediaDuration\":null,\"publishedAt\":null,\"image\":null},\"components\":null},{\"id\":1655003,\"url\":\"https://www.cbc.ca/news/canada/calgary/murder-calgary-police-officer-andrew-harnett-new-years-eve-traffic-stop-bail-1.5859630\",\"urlSlug\":\"murder calgary police officer andrew harnett new years eve traffic stop bail\",\"title\":\"Both teens accused of murdering Calgary police officer will seek bail as soon as possible\",\"sectionList\":[\"news\",\"canada\",\"calgary\"],\"sectionLabels\":[\"News\",\"Canada\",\"Calgary\"],\"relatedLinks\":[{\"url\":\"https://www.cbc.ca/news/canada/calgary/murder-shooting-calgary-police-service-identified-car-1.5858903\",\"title\":\"Police identify 2 men whose bodies sat in running vehicle for 12 hours before they were found\",\"sourceId\":\"1.5858903\"},{\"url\":\"https://www.cbc.ca/news/canada/calgary/calgary-top-court-cases-2021-trials-1.5853106\",\"title\":\"Triple homicides and 2002 Valentine\\'s Day killing among top Calgary court cases to watch in 2021\",\"sourceId\":\"1.5853106\"},{\"url\":\"https://www.cbc.ca/news/canada/calgary\",\"title\":\"Top stories from CBC Calgary\",\"sourceId\":\"1.5367014\"}],\"deck\":\"Calgary Sgt. Andrew Harnett was killed on New Year\\'s Eve when vehicle fled traffic stop\",\"description\":\"Both teens accused of murdering a Calgary police officer will seek bail as soon as possible, according to their lawyers.\",\"flag\":\"\",\"imageLarge\":\"https://i.cbc.ca/1.5859631.1609606955!/fileImage/httpImage/image.jpg_gen/derivatives/16x9_620/andrew-harnett.jpg\",\"source\":\"Polopoly\",\"sourceId\":\"1.5859630\",\"imageAspects\":\"16x9_940,16x9_300,16x9_620,original_620,original_300,16x9tight_140,16x9_460\",\"publishedAt\":\"1609608753668\",\"updatedAt\":\"1609630254181\",\"sponsor\":null,\"type\":\"story\",\"show\":\"\",\"authors\":[{\"name\":\"Meghan Grant\",\"image\":\"https://i.cbc.ca/1.3364860.1450126756!/fileImage/httpImage/image.jpeg_gen/derivatives/square_140/meghan-grant.jpeg\"}],\"commentsEnabled\":false,\"contextualHeadlines\":[],\"mediaId\":null,\"mediaDuration\":null,\"headlineData\":{\"type\":\"image\",\"title\":null,\"mediaId\":\"\",\"mediaDuration\":null,\"publishedAt\":null,\"image\":null},\"components\":null},{\"id\":1654971,\"url\":\"https://www.cbc.ca/news/canada/toronto/covid19-update-jan-2-ontario-1.5859541\",\"urlSlug\":\"covid19-update-jan-2-ontario\",\"title\":\"Ontario sees 5,839 new cases of COVID-19 and 95 deaths over 2 days\",\"sectionList\":[\"news\",\"canada\",\"toronto\"],\"sectionLabels\":[\"News\",\"Canada\",\"Toronto\"],\"relatedLinks\":[{\"url\":\"https://www.cbc.ca/news/canada/toronto/ltc-update-dec28-1.5856056\",\"title\":\"Families plead for help as coronavirus outbreaks worsen at Toronto long-term care homes\",\"sourceId\":\"1.5856056\"},{\"url\":\"https://www.cbc.ca/news/canada/toronto/tendercare-living-centre-scarborough-covid-19-outbreak-52-dead-1.5859358\",\"title\":\"Group calls for military intervention in Ontario long-term care homes\",\"sourceId\":\"1.5859358\"}],\"deck\":\"Province broke another single-day record on Saturday with 3,363 new COVID-19 cases\",\"description\":\"Ontario is reporting a two-day total of 5,839 new cases of COVID-19\\xa0and 95 additional deaths.\",\"flag\":\"\",\"imageLarge\":\"https://i.cbc.ca/1.5859543.1609591822!/cumulusImage/httpImage/image.jpg_gen/derivatives/16x9_620/covid-vaccinations-healthcare-workers.jpg\",\"source\":\"Polopoly\",\"sourceId\":\"1.5859541\",\"imageAspects\":\"16x9_940,16x9_300,16x9_620,original_620,original_300,16x9tight_140,16x9_460\",\"publishedAt\":\"1609600920605\",\"updatedAt\":\"1609684825631\",\"sponsor\":null,\"type\":\"story\",\"show\":\"\",\"authors\":[{\"name\":\"\",\"image\":\"\"}],\"commentsEnabled\":true,\"contextualHeadlines\":[],\"mediaId\":null,\"mediaDuration\":null,\"headlineData\":{\"type\":\"image\",\"title\":null,\"mediaId\":\"\",\"mediaDuration\":null,\"publishedAt\":null,\"image\":null},\"components\":null},{\"id\":1655060,\"url\":\"https://www.cbc.ca/sports/hockey/canada-czech-world-juniors-quarter-finals-jan-2-recap-1.5859644\",\"urlSlug\":\"Canada-Czech-world-juniors-quarter-finals-Jan-2-recap\",\"title\":\"Canada blanks Czech Republic, sets up semifinal against Russia at world juniors\",\"sectionList\":[\"sports\",\"hockey\"],\"sectionLabels\":[\"Sports\",\"Hockey\"],\"relatedLinks\":[{\"url\":\"https://www.cbc.ca/sports/hockey/world-juniors-2021-dec-26-results-1.5855269\",\"title\":\"Canada opens world juniors with 16-2 rout of Germany\",\"sourceId\":\"1.5855269\"},{\"url\":\"https://www.cbc.ca/sports/hockey/world-juniors-2021-dec-27-results-1.5855507\",\"title\":\"Canada tops Slovakia to improve to 2-0 at world juniors\",\"sourceId\":\"1.5855507\"},{\"url\":\"https://www.cbc.ca/sports/hockey/world-juniors-2021-dec-29-canada-switzerland-roundup-1.5856347\",\"title\":\"Canada blisters Switzerland in 10-goal rout to remain perfect at world juniors\",\"sourceId\":\"1.5856347\"},{\"url\":\"https://www.cbc.ca/sports/hockey/world-juniors-2020-cp-team-of-the-year-1.5857352\",\"title\":\"Canada\\'s golden world junior squad voted CP team of the year\",\"sourceId\":\"1.5857352\"},{\"url\":\"https://www.cbc.ca/sports/hockey/canada-finland-world-juniors-dec-31-recap-1.5858464\",\"title\":\"Canada beats Finland to finish 1st in pool at world juniors\",\"sourceId\":\"1.5858464\"},{\"url\":\"https://www.cbc.ca/sports/hockey/canada-world-juniors-prepares-czech-quarter-finals-1.5859491\",\"title\":\"Canada preps for quarter-final showdown with Czech Republic at world juniors\",\"sourceId\":\"1.5859491\"},{\"url\":\"https://www.cbc.ca/sports/hockey/wearable-tech-world-junior-dec-30-bubble-defence-1.5857736\",\"title\":\"Wearable tech provides defence against COVID-19 in world junior \\'bubble\\'\",\"sourceId\":\"1.5857736\"},{\"url\":\"https://www.cbc.ca/news/canada/edmonton/iihf-world-junior-hockey-tournament-1.5859091\",\"title\":\"Online 50/50 draw during world juniors grows to $7.4M in a day\",\"sourceId\":\"1.5859091\"}],\"deck\":\"Rematch of last year\\'s gold medal final set for Monday in Edmonton \\'bubble\\'\",\"description\":\"Bowen Byram, Dylan Cozens and Connor McMichael each scored a goal in a 3-0 Team Canada victory over the Czech Republic in quarter-final action.\",\"flag\":\"\",\"imageLarge\":\"https://i.cbc.ca/1.5859873.1609643484!/fileImage/httpImage/image.JPG_gen/derivatives/16x9_620/hko-world-junior-canada-czech-republic-20210102.JPG\",\"source\":\"Polopoly\",\"sourceId\":\"1.5859644\",\"imageAspects\":\"16x9_940,16x9_300,16x9_620,original_620,original_300,16x9tight_140,16x9_460\",\"publishedAt\":\"1609631784036\",\"updatedAt\":\"1609655224491\",\"sponsor\":null,\"type\":\"story\",\"show\":\"\",\"authors\":[{\"name\":\"\",\"image\":\"\"}],\"commentsEnabled\":true,\"contextualHeadlines\":[],\"mediaId\":null,\"mediaDuration\":null,\"headlineData\":{\"type\":\"image\",\"title\":null,\"mediaId\":\"\",\"mediaDuration\":null,\"publishedAt\":null,\"image\":null},\"components\":null},{\"id\":1654931,\"url\":\"https://www.cbc.ca/news/canada/new-brunswick/fundy-cold-swims-nadine-currie-jackson-1.5856686\",\"urlSlug\":\"fundy-cold-swims-nadine-currie-jackson\",\"title\":\"Some like it cold: N.B. woman takes a dip in the Bay of Fundy every day, all year long\",\"sectionList\":[\"news\",\"canada\",\"new-brunswick\"],\"sectionLabels\":[\"News\",\"Canada\",\"New Brunswick\"],\"relatedLinks\":[],\"deck\":\"Snowing and sub-zero? Nadine Currie Jackson sees that as a sign to suit up and head to the beach\",\"description\":\"Ask Nadine Currie Jackson what her perfect day looks like, and she instantly gets a vision: It\\'s wintertime, the sun is coming up, snow is coming down and she\\'s outside, enjoying it. In her bathing suit. In the Bay of Fundy.\",\"flag\":\"\",\"imageLarge\":\"https://i.cbc.ca/1.5856698.1609438036!/fileImage/httpImage/image.jpg_gen/derivatives/16x9_620/nadine-currie-jackson.jpg\",\"source\":\"Polopoly\",\"sourceId\":\"1.5856686\",\"imageAspects\":\"16x9_940,16x9_300,16x9_620,original_620,original_300,16x9tight_140,16x9_460\",\"publishedAt\":\"1609588800527\",\"updatedAt\":\"1609588800527\",\"sponsor\":null,\"type\":\"story\",\"show\":\"\",\"authors\":[{\"name\":\"Marie Sutherland\",\"image\":\"https://i.cbc.ca/1.5791850.1604624178!/fileImage/httpImage/image.jpg_gen/derivatives/original_140/marie-sutherland.jpg\"}],\"commentsEnabled\":true,\"contextualHeadlines\":[],\"mediaId\":null,\"mediaDuration\":null,\"headlineData\":{\"type\":\"image\",\"title\":null,\"mediaId\":\"\",\"mediaDuration\":null,\"publishedAt\":null,\"image\":null},\"components\":null},{\"id\":1655056,\"url\":\"https://www.cbc.ca/news/canada/2020-good-news-stories-1.5859102\",\"urlSlug\":\"2020-good-news-stories\",\"title\":\"These uplifting stories made 2020 hurt a little less in Canada\",\"sectionList\":[\"news\",\"canada\"],\"sectionLabels\":[\"News\",\"Canada\"],\"relatedLinks\":[],\"deck\":\"Here are some of the bright spots CBC News found across Canada last year\",\"description\":\"The past year will be remembered for COVID-19 and its harmful impact on people\\'s lives, health and economic well-being. But despite all of the challenges, Canadians still managed to create bright spots.\",\"flag\":\"Video\",\"imageLarge\":\"https://i.cbc.ca/1.5859941.1609684261!/fileImage/httpImage/image.jpg_gen/derivatives/16x9_620/karina-leblanc.jpg\",\"source\":\"Polopoly\",\"sourceId\":\"1.5859102\",\"imageAspects\":\"16x9_940,16x9_300,16x9_620,original_620,original_300,16x9tight_140,16x9_460\",\"publishedAt\":\"1609631207144\",\"updatedAt\":\"1609688732576\",\"sponsor\":null,\"type\":\"story\",\"show\":\"\",\"authors\":[{\"name\":\"\",\"image\":\"\"}],\"commentsEnabled\":false,\"contextualHeadlines\":[],\"mediaId\":null,\"mediaDuration\":null,\"headlineData\":{\"type\":\"image\",\"title\":null,\"mediaId\":\"\",\"mediaDuration\":null,\"publishedAt\":null,\"image\":null},\"components\":null},{\"id\":1654802,\"url\":\"https://www.cbc.ca/news/canada/edmonton/jason-kenney-conference-1.5859278\",\"urlSlug\":\"jason kenney conference \",\"title\":\"Kenney orders MLAs not to leave Canada unless on government business after minister\\'s vacation\",\"sectionList\":[\"news\",\"canada\",\"edmonton\"],\"sectionLabels\":[\"News\",\"Canada\",\"Edmonton\"],\"relatedLinks\":[],\"deck\":\"Tracy Allard, who travelled to Hawaii in December, called trip \\'lapse in judgment\\'\",\"description\":\"Alberta Premier Jason Kenney took responsibility for not being clear about travel rules for MLAs after news of Municipal Affairs Minister Tracy Allard\\'s Hawaii vacation was revealed.\",\"flag\":\"\",\"imageLarge\":\"https://i.cbc.ca/1.5845296.1609794677!/fileImage/httpImage/image.jpg_gen/derivatives/16x9_620/tracy-allard.jpg\",\"source\":\"Polopoly\",\"sourceId\":\"1.5859278\",\"imageAspects\":\"6x9_140,6x9_780,6x9_460,6x9_380,6x9_940,6x9_620,16x9_1180,square_1180,original_140,6x9_220,6x9_300,original_380,4x3_140,4x3_460,4x3_780,16x9_60,26x11_60,4x3_380,4x3_620,4x3_940,4x3_220,4x3_300,16x9tight_60,original_1180,16x9tight_1180,26x11_780,26x11_220,26x11_380,16x9tight_380,26x11_140,16x9tight_460,26x11_460,16x9tight_140,16x9tight_220,3x4_620,16x9tight_780,3x4_940,square_60,26x11_300,16x9tight_620,3x4_220,26x11_620,16x9tight_300,square_300,26x11_940,square_620,16x9tight_940,3x4_300,square_940,square_460,square_780,square_220,square_380,square_140,original_60,6x9_60,6x9_1180,16x9_940,16x9_300,16x9_620,4x3_60,16x9_780,16x9_220,4x3_1180,16x9_140,16x9_460,16x9_380,3x4_60,3x4_140,original_220,3x4_460,original_780,3x4_780,original_460,original_940,original_620,26x11_1180,original_300,3x4_380,3x4_1180\",\"publishedAt\":\"1609525800961\",\"updatedAt\":\"1609589071615\",\"sponsor\":null,\"type\":\"story\",\"show\":\"\",\"authors\":[{\"name\":\"Emily Pasiuk\",\"image\":\"https://i.cbc.ca/1.4977098.1547477246!/fileImage/httpImage/image.JPG_gen/derivatives/square_140/emily-pasiuk-headshot.JPG\"}],\"commentsEnabled\":false,\"contextualHeadlines\":[],\"mediaId\":null,\"mediaDuration\":null,\"headlineData\":{\"type\":\"image\",\"title\":null,\"mediaId\":\"\",\"mediaDuration\":null,\"publishedAt\":null,\"image\":null},\"components\":null},{\"id\":1654769,\"url\":\"http://www.cbc.ca/1.5859246\",\"urlSlug\":\"\",\"title\":\"Saudi activist Loujain Alhathloul targeted for her work, brother says\",\"sectionList\":[\"radio\",\"thecurrent\"],\"sectionLabels\":[\"Radio\",\"The Current\"],\"relatedLinks\":[],\"deck\":\"UBC grad was sentenced to just under 6 years in prison under Saudi Arabia\\'s vaguely worded anti-terror law\",\"description\":\"The brother of women\\'s rights activist Loujain Alhathloul, who was sentenced by Saudia Arabia\\'s anti-terrorism court to nearly six years in prison, says she has been targeted and punished for speaking out about human rights abuses in that country.\",\"flag\":\"\",\"imageLarge\":\"https://i.cbc.ca/1.5780232.1609174603!/fileImage/httpImage/image.JPG_gen/derivatives/16x9_620/loujain-alhathloul.JPG\",\"source\":\"Polopoly\",\"sourceId\":\"1.5859271\",\"imageAspects\":\"16x9_940,16x9_300,16x9_620,original_620,original_300,16x9tight_140,16x9_460\",\"publishedAt\":\"1609525480000\",\"updatedAt\":\"1609525276000\",\"sponsor\":null,\"type\":\"stub\",\"show\":\"The Current\",\"authors\":[{\"name\":\"\",\"image\":\"\"}],\"commentsEnabled\":false,\"contextualHeadlines\":[],\"mediaId\":null,\"mediaDuration\":null,\"headlineData\":{\"type\":\"image\",\"title\":null,\"mediaId\":\"\",\"mediaDuration\":null,\"publishedAt\":null,\"image\":null},\"components\":null},{\"id\":1654846,\"url\":\"https://www.cbc.ca/news/canada/prince-edward-island/pei-new-year-s-baby-2021-1.5859429\",\"urlSlug\":\"pei-new-year\\'s-baby-2021\",\"title\":\"P.E.I.\\'s first baby of 2021 not first New Year\\'s Day birth for family\",\"sectionList\":[\"news\",\"canada\",\"prince-edward-island\"],\"sectionLabels\":[\"News\",\"Canada\",\"PEI\"],\"relatedLinks\":[],\"deck\":\"Scarlett Dawn Arsenault was delivered by C-section and weighed seven\\xa0pounds, four\\xa0ounces\",\"description\":\"P.E.I.\\'s first baby of 2021 was born at 2:22 p.m. at Prince County Hospital on Friday. It turns out she\\'s not the first New Year\\'s Day baby in her extended family.\\xa0\",\"flag\":\"\",\"imageLarge\":\"https://i.cbc.ca/1.5859435.1609536059!/fileImage/httpImage/image.jpg_gen/derivatives/16x9_620/scarlett-dawn-arsenault-p-e-i-2021-new-year-s-baby.jpg\",\"source\":\"Polopoly\",\"sourceId\":\"1.5859429\",\"imageAspects\":\"16x9_940,16x9_300,16x9_620,original_620,original_300,16x9tight_140,16x9_460\",\"publishedAt\":\"1609538028392\",\"updatedAt\":\"1609538028392\",\"sponsor\":null,\"type\":\"story\",\"show\":\"\",\"authors\":[{\"name\":\"Isabelle Gallant\",\"image\":\"https://i.cbc.ca/1.5823898.1606852446!/fileImage/httpImage/image.jpg_gen/derivatives/square_140/isabelle-gallant.jpg\"}],\"commentsEnabled\":false,\"contextualHeadlines\":[],\"mediaId\":null,\"mediaDuration\":null,\"headlineData\":{\"type\":\"image\",\"title\":null,\"mediaId\":\"\",\"mediaDuration\":null,\"publishedAt\":null,\"image\":null},\"components\":null},{\"id\":1654302,\"url\":\"https://www.cbc.ca/news/canada/toronto/ontario-covid-19-dec31-1.5858400\",\"urlSlug\":\"ontario-covid-19-dec31\",\"title\":\"Ontario reports record high 3,328 new COVID-19 cases, 56 new deaths\",\"sectionList\":[\"news\",\"canada\",\"toronto\"],\"sectionLabels\":[\"News\",\"Canada\",\"Toronto\"],\"relatedLinks\":[{\"url\":\"https://www.cbc.ca/news/canada/canadians-vaccinated-covid-19-1.5854325\",\"title\":\"How Canadians will know when it\\'s their turn to get vaccinated\",\"sourceId\":\"1.5854325\"}],\"deck\":\"Small number of long-term care residents become first people in Ontario to receive Moderna\\'s COVID-19 vaccine\",\"description\":\"Ontario reported a single-day\\xa0record of 3,328 new COVID-19 cases on Thursday and 56\\xa0new deaths related to the illness.\\xa0\",\"flag\":\"\",\"imageLarge\":\"https://i.cbc.ca/1.5837496.1608214425!/cumulusImage/httpImage/image.jpg_gen/derivatives/16x9_620/nygh-covid-19-ontario-hospital.jpg\",\"source\":\"Polopoly\",\"sourceId\":\"1.5858400\",\"imageAspects\":\"16x9_940,16x9_300,16x9_620,original_620,original_300,16x9tight_140,16x9_460\",\"publishedAt\":\"1609427375373\",\"updatedAt\":\"1609445138223\",\"sponsor\":null,\"type\":\"story\",\"show\":\"\",\"authors\":[{\"name\":\"\",\"image\":\"\"}],\"commentsEnabled\":true,\"contextualHeadlines\":[],\"mediaId\":null,\"mediaDuration\":null,\"headlineData\":{\"type\":\"image\",\"title\":null,\"mediaId\":\"\",\"mediaDuration\":null,\"publishedAt\":null,\"image\":null},\"components\":null},{\"id\":1654218,\"url\":\"https://www.cbc.ca/news/canada/calgary/alberta-covid-19-december-deadliest-year-end-1.5856674\",\"urlSlug\":\"alberta-covid-19-december-deadliest-year-end\",\"title\":\"How Alberta\\'s COVID-19 death toll turned so grim, so quickly\",\"sectionList\":[\"news\",\"canada\",\"calgary\"],\"sectionLabels\":[\"News\",\"Canada\",\"Calgary\"],\"relatedLinks\":[{\"url\":\"https://www.cbc.ca/news/canada/calgary/alberta-covid-19-data-statistics-numbers-cases-hospitalizations-1.5514947\",\"title\":\"Here are the latest COVID-19 statistics for Alberta — and what they mean\",\"sourceId\":\"1.5514947\"},{\"url\":\"https://www.cbc.ca/news/canada/calgary/vaccines-calgary-alberta-kenney-shandro-target-covid-19-vaccinations-1.5857373\",\"title\":\"Alberta government falls far short of goal to vaccinate 29,000 people against COVID-19 by year\\'s end\",\"sourceId\":\"1.5857373\"},{\"url\":\"https://www.cbc.ca/news/canada/edmonton/alberta-covid-19-coronavirus-deena-hinshaw-1.5858603\",\"title\":\"Alberta reports estimated 1,200 new cases of COVID-19\",\"sourceId\":\"1.5858603\"},{\"url\":\"https://www.cbc.ca/news/canada/calgary\",\"title\":\"Top stories from CBC Calgary\",\"sourceId\":\"1.5367014\"}],\"deck\":\"The first 500 deaths took nearly 9 months. The next 500 took just 34 days.\",\"description\":\"Alberta recently recorded its 1,000th\\xa0COVID-19 death, a grim milestone that arrived in a flash in a marked turnaround for a province that seemed to have the disease under relative control for a time.\",\"flag\":\"Analysis\",\"imageLarge\":\"https://i.cbc.ca/1.5852423.1609365238!/fileImage/httpImage/image.JPG_gen/derivatives/16x9_620/jozsef-lang.JPG\",\"source\":\"Polopoly\",\"sourceId\":\"1.5856674\",\"imageAspects\":\"16x9_940,16x9_300,16x9_620,original_620,original_300,16x9tight_140,16x9_460\",\"publishedAt\":\"1609416000188\",\"updatedAt\":\"1609460501970\",\"sponsor\":null,\"type\":\"story\",\"show\":\"\",\"authors\":[{\"name\":\"Robson Fletcher\",\"image\":\"https://i.cbc.ca/1.4681196.1527893537!/fileImage/httpImage/image.jpg_gen/derivatives/square_140/robson-fletcher-headshot.jpg\"}],\"commentsEnabled\":true,\"contextualHeadlines\":[{\"headline\":\"Alberta\\'s first 500 COVID deaths took nearly 9 months. The next 500 took just 34 days.\",\"contextualLineupSlug\":\"news-canada\"},{\"headline\":\"Alberta\\'s first 500 COVID deaths took nearly 9 months. The next 500 took just 34 days.\",\"contextualLineupSlug\":\"news-canada-calgary\"}],\"mediaId\":null,\"mediaDuration\":null,\"headlineData\":{\"type\":\"image\",\"title\":null,\"mediaId\":\"\",\"mediaDuration\":null,\"publishedAt\":null,\"image\":null},\"components\":null},{\"id\":1654155,\"url\":\"https://www.cbc.ca/news/canada/edmonton/coronials-covid-babies-isolation-pregnancies-1.5837295\",\"urlSlug\":\"Coronials COVID babies isolation pregnancies\",\"title\":\"Moms are welcoming the first wave of \\'coronial\\' babies — but experts say to expect fewer births\",\"sectionList\":[\"news\",\"canada\",\"edmonton\"],\"sectionLabels\":[\"News\",\"Canada\",\"Edmonton\"],\"relatedLinks\":[],\"deck\":\"Pregnancy during the pandemic has been emotionally and physically exhausting, says Edmonton woman\",\"description\":\"Nearly 10 months after Alberta\\'s first presumptive COVID-19 case was confirmed, mothers across the province are giving birth to what some have dubbed \\\\\"the coronial\\xa0generation.\\\\\"\",\"flag\":\"\",\"imageLarge\":\"https://i.cbc.ca/1.5535038.1587069632!/cumulusImage/httpImage/image.jpg_gen/derivatives/16x9_620/shutterstock-huge-file.jpg\",\"source\":\"Polopoly\",\"sourceId\":\"1.5837295\",\"imageAspects\":\"16x9_940,16x9_300,16x9_620,original_620,original_300,16x9tight_140,16x9_460\",\"publishedAt\":\"1609405200608\",\"updatedAt\":\"1609405200608\",\"sponsor\":null,\"type\":\"story\",\"show\":\"\",\"authors\":[{\"name\":\"Wallis Snowdon\",\"image\":\"https://i.cbc.ca/1.4289572.1505403581!/fileImage/httpImage/image.jpg_gen/derivatives/square_140/wallis-snowdon.jpg\"}],\"commentsEnabled\":true,\"contextualHeadlines\":[],\"mediaId\":null,\"mediaDuration\":null,\"headlineData\":{\"type\":\"image\",\"title\":null,\"mediaId\":\"\",\"mediaDuration\":null,\"publishedAt\":null,\"image\":null},\"components\":null},{\"id\":1654186,\"url\":\"https://www.cbc.ca/news/canada/newfoundland-labrador/northern-cod-rebuilding-plan-dfo-1.5856369\",\"urlSlug\":\"northern-cod-rebuilding-plan-dfo\",\"title\":\"DFO has a new plan for northern cod stocks. It doesn\\'t include more fishing\",\"sectionList\":[\"news\",\"canada\",\"newfoundland-labrador\"],\"sectionLabels\":[\"News\",\"Canada\",\"Nfld. & Labrador\"],\"relatedLinks\":[],\"deck\":\"Plan aims to keep fishing levels low to indefinite point in future\",\"description\":\"The Department of Fisheries and Oceans has released its plan to boost northern cod numbers — a plan that the fisheries union in Newfoundland and Labrador blasts as being more about resettling communities than rebuilding stocks.\",\"flag\":\"\",\"imageLarge\":\"https://i.cbc.ca/1.3085690.1432491052!/fileImage/httpImage/image.jpg_gen/derivatives/16x9_620/cod-fish-20130924.jpg\",\"source\":\"Polopoly\",\"sourceId\":\"1.5856369\",\"imageAspects\":\"16x9_940,16x9_300,16x9_620,original_620,original_300,16x9tight_140,16x9_460\",\"publishedAt\":\"1609410600127\",\"updatedAt\":\"1609420057112\",\"sponsor\":null,\"type\":\"story\",\"show\":\"\",\"authors\":[{\"name\":\"Lindsay Bird\",\"image\":\"https://i.cbc.ca/1.3140006.1436201868!/fileImage/httpImage/image.jpg_gen/derivatives/square_140/lindsay-bird.jpg\"}],\"commentsEnabled\":true,\"contextualHeadlines\":[],\"mediaId\":null,\"mediaDuration\":null,\"headlineData\":{\"type\":\"image\",\"title\":null,\"mediaId\":\"\",\"mediaDuration\":null,\"publishedAt\":null,\"image\":null},\"components\":null},{\"id\":1654497,\"url\":\"https://www.cbc.ca/news/canada/toronto/vaughan-tim-hortons-gofundme-fundraiser-school-1.5858818\",\"urlSlug\":\"Vaughan Tim Hortons GoFundMe fundraiser school\",\"title\":\"Customers fundraise to send Ontario Tim Hortons employee back to school\",\"sectionList\":[\"news\",\"canada\",\"toronto\"],\"sectionLabels\":[\"News\",\"Canada\",\"Toronto\"],\"relatedLinks\":[],\"deck\":\"\\'It\\'s amazing how people appreciate the small things that I do,\\' says Vishnu Gopansothilingan\",\"description\":\"When customers at a Vaughan, Ont., Tim Hortons found out that their favourite employee, Vishnu Gopansothilingan, had dropped out of university due to financial constraints, they began to fundraise to help send him back to school.\",\"flag\":\"Video\",\"imageLarge\":\"https://i.cbc.ca/1.5858868.1609451936!/fileImage/httpImage/image.jpg_gen/derivatives/16x9_620/vishnu-gopansothilingan.jpg\",\"source\":\"Polopoly\",\"sourceId\":\"1.5858818\",\"imageAspects\":\"16x9_940,16x9_300,16x9_620,original_620,original_300,16x9tight_140,16x9_460\",\"publishedAt\":\"1609452749250\",\"updatedAt\":\"1609452749250\",\"sponsor\":null,\"type\":\"story\",\"show\":\"\",\"authors\":[{\"name\":\"\",\"image\":\"\"}],\"commentsEnabled\":true,\"contextualHeadlines\":[],\"mediaId\":null,\"mediaDuration\":null,\"headlineData\":{\"type\":\"image\",\"title\":null,\"mediaId\":\"\",\"mediaDuration\":null,\"publishedAt\":null,\"image\":null},\"components\":null},{\"id\":1654148,\"url\":\"https://www.cbc.ca/news/canada/newfoundland-labrador/dildo-pandemic-1.5844194\",\"urlSlug\":\"dildo-pandemic\",\"title\":\"Dildo was hoping to cash in on a post-Kimmel boom — then came the pandemic\",\"sectionList\":[\"news\",\"canada\",\"newfoundland-labrador\"],\"sectionLabels\":[\"News\",\"Canada\",\"Nfld. & Labrador\"],\"relatedLinks\":[{\"url\":\"https://www.cbc.ca/news/canada/newfoundland-labrador/jimmy-kimmel-dildo-mayor-1.5244159\",\"title\":\"\\'Dildodians\\' are buzzing as Jimmy Kimmel\\'s mayoral bid for Dildo, N.L. gathers steam\",\"sourceId\":\"1.5244159\"},{\"url\":\"https://www.cbc.ca/news/canada/newfoundland-labrador/guillermo-rodriguez-dildo-1.5245559\",\"title\":\"Jimmy Kimmel\\'s sidekick Guillermo Rodriguez does Dildo — reluctantly\",\"sourceId\":\"1.5245559\"},{\"url\":\"https://www.cbc.ca/news/canada/newfoundland-labrador/kimmel-named-honorary-mayor-1.5249308\",\"title\":\"Dildo loves Jimmy: late-night TV host named honorary mayor — if he visits\",\"sourceId\":\"1.5249308\"},{\"url\":\"https://www.cbc.ca/news/canada/newfoundland-labrador/dildo-kimmel-effect-tourism-boom-1.5256323\",\"title\":\"Kimmel\\'s jokes about Dildo, N.L., worth some $11M, province says\",\"sourceId\":\"1.5256323\"},{\"url\":\"https://www.cbc.ca/news/canada/newfoundland-labrador/dildo-family-jimmy-kimmel-1.5333168\",\"title\":\"\\'My people,\\' Jimmy Kimmel says to N.L. family wearing Dildo shirts in NYC\",\"sourceId\":\"1.5333168\"}],\"deck\":\"From boom to bust, at least for now\",\"description\":\"Sulagna Sanyal and Rajesh Menon opened the first Indian restaurant in the coastal Newfoundland village of Dildo, tapping into a tourism boom heightened by interest from U.S. talk-show host Jimmy Kimmel. But COVID-19 has stopped the community\\'s plans cold.\",\"flag\":\"\",\"imageLarge\":\"https://i.cbc.ca/1.5844248.1608818192!/fileImage/httpImage/image.JPG_gen/derivatives/16x9_620/sulagna-sanyal-and-rajesh-menon.JPG\",\"source\":\"Polopoly\",\"sourceId\":\"1.5844194\",\"imageAspects\":\"16x9_940,16x9_300,16x9_620,original_620,original_300,16x9tight_140,16x9_460\",\"publishedAt\":\"1609405200951\",\"updatedAt\":\"1609405200951\",\"sponsor\":null,\"type\":\"story\",\"show\":\"\",\"authors\":[{\"name\":\"Chris O\\'Neill-Yates\",\"image\":\"https://i.cbc.ca/1.5009837.1549562197!/fileImage/httpImage/image.JPG_gen/derivatives/square_140/chris-o-neill-yates.JPG\"}],\"commentsEnabled\":false,\"contextualHeadlines\":[],\"mediaId\":null,\"mediaDuration\":null,\"headlineData\":{\"type\":\"image\",\"title\":null,\"mediaId\":\"\",\"mediaDuration\":null,\"publishedAt\":null,\"image\":null},\"components\":null},{\"id\":1654207,\"url\":\"https://www.cbc.ca/news/canada/prince-edward-island/pei-climate-change-now-farming-fishing-1.5844000\",\"urlSlug\":\"pei-climate-change-now-farming-fishing\",\"title\":\"How P.E.I.\\'s farming and fishing industries are adapting to the new normal\",\"sectionList\":[\"news\",\"canada\",\"prince-edward-island\"],\"sectionLabels\":[\"News\",\"Canada\",\"PEI\"],\"relatedLinks\":[],\"deck\":\"\\'If the change is consistent then we can probably adapt\\'\",\"description\":\"For good and ill, fishing and farming on P.E.I. are already different because of climate change.\",\"flag\":\"CLIMATE CHANGE NOW\",\"imageLarge\":\"https://i.cbc.ca/1.4312069.1506627354!/fileImage/httpImage/image.jpg_gen/derivatives/16x9_620/peaches-at-arlington-orchards.jpg\",\"source\":\"Polopoly\",\"sourceId\":\"1.5844000\",\"imageAspects\":\"16x9_940,16x9_300,16x9_620,original_620,original_300,16x9tight_140,16x9_460\",\"publishedAt\":\"1609412400014\",\"updatedAt\":\"1609771426215\",\"sponsor\":null,\"type\":\"story\",\"show\":\"\",\"authors\":[{\"name\":\"Kevin Yarr\",\"image\":\"https://i.cbc.ca/1.4479007.1515511595!/fileImage/httpImage/image.jpeg_gen/derivatives/square_140/kevin-yarr.jpeg\"}],\"commentsEnabled\":true,\"contextualHeadlines\":[],\"mediaId\":null,\"mediaDuration\":null,\"headlineData\":{\"type\":\"image\",\"title\":null,\"mediaId\":\"\",\"mediaDuration\":null,\"publishedAt\":null,\"image\":null},\"components\":null},{\"id\":1654171,\"url\":\"https://www.cbc.ca/news/canada/nova-scotia/carolyn-and-cheryl-simon-mother-daughter-quillwork-mi-kmaq-artists-lessons-1.5854351\",\"urlSlug\":\"carolyn and cheryl simon mother daughter quillwork mi\\'kmaq artists lessons\",\"title\":\"7-year-old teaches Mi\\'kmaw quillwork, a skill she learned from her mom\",\"sectionList\":[\"news\",\"canada\",\"nova-scotia\"],\"sectionLabels\":[\"News\",\"Canada\",\"Nova Scotia\"],\"relatedLinks\":[],\"deck\":\"Carolyn Simon recently gave a tutorial to her Grade 2 class in Dartmouth\",\"description\":\"Head bent toward her work, Carolyn Simon uses tweezers to carefully pull\\xa0a porcupine quill through a tiny hole in a piece of birch bark. It\\'s a technique she\\'s seen her mom do hundreds of times, and while she\\'s only seven years old she\\'s close to mastering it herself.\",\"flag\":\"Video\",\"imageLarge\":\"https://i.cbc.ca/1.5855891.1609172490!/fileImage/httpImage/image.jpg_gen/derivatives/16x9_620/carolyn-simon.jpg\",\"source\":\"Polopoly\",\"sourceId\":\"1.5854351\",\"imageAspects\":\"16x9_940,16x9_300,16x9_620,original_620,original_300,16x9tight_140,16x9_460\",\"publishedAt\":\"1609408800111\",\"updatedAt\":\"1609408800111\",\"sponsor\":null,\"type\":\"story\",\"show\":\"\",\"authors\":[{\"name\":\"Emma Smith\",\"image\":\"https://i.cbc.ca/1.4219527.1500926437!/fileImage/httpImage/image.jpg_gen/derivatives/square_140/emma-smith-cbc-reporter.jpg\"}],\"commentsEnabled\":false,\"contextualHeadlines\":[],\"mediaId\":null,\"mediaDuration\":null,\"headlineData\":{\"type\":\"video\",\"title\":\"A lesson in Mi\\'kmaw quillwork\",\"mediaId\":\"1839366211574\",\"mediaDuration\":195,\"publishedAt\":\"1609523940000\",\"image\":\"https://i.cbc.ca/1.5859343.1609531501!/httpImage/image.jpg_gen/derivatives/16x9_620/image.jpg\"},\"components\":null},{\"id\":1654157,\"url\":\"https://www.cbc.ca/news/entertainment/2020-horror-films-boom-year-1.5857848\",\"urlSlug\":\"2020-horror-films-boom-year\",\"title\":\"The dark side: 2020 was a boom year for horror on-screen — and that\\'s no accident\",\"sectionList\":[\"news\",\"entertainment\"],\"sectionLabels\":[\"News\",\"Entertainment\"],\"relatedLinks\":[{\"url\":\"https://www.cbc.ca/news/entertainment/funny-boy-tamil-representation-1.5804302\",\"title\":\"Why representation in Deepa Mehta\\'s Funny Boy has some in the Tamil community upset\",\"sourceId\":\"1.5804302\"},{\"url\":\"https://www.cbc.ca/news/indigenous/nfb-pulls-inconvenient-indian-sundance-1.5852150\",\"title\":\"NFB pulls Michelle Latimer\\'s documentary Inconvenient Indian from Sundance festival\",\"sourceId\":\"1.5852150\"},{\"url\":\"https://www.cbc.ca/news/entertainment/lgbtq-holiday-movies-1.5845178\",\"title\":\"New slate of LGBTQ holiday movies sparks joy, criticism over portrayal of queer stories\",\"sourceId\":\"1.5845178\"},{\"url\":\"https://www.cbc.ca/radio/q/tuesday-oct-31-2017-gerry-dee-john-carpenter-and-more-1.4375000/take-a-deep-dive-into-the-sunken-place-in-this-get-out-inspired-university-course-1.4375297\",\"title\":\"Take a deep dive into the Sunken Place in this Get Out-inspired university course\",\"sourceId\":\"1.4375297\"},{\"url\":\"https://www.cbc.ca/radio/q/friday-march-22-2019-tessa-virtue-and-scott-moir-jessica-lucas-and-more-1.5066040/the-complex-history-of-black-horror-in-cinema-1.5066062\",\"title\":\"Jordan Peele\\'s new film & the complex history of black horror movies\",\"sourceId\":\"1.5066062\"},{\"url\":\"https://www.cbc.ca/news/entertainment/streaming-warner-bros-movie-theatres-1.5845820\",\"title\":\"How the streaming wars will change movies in 2021\",\"sourceId\":\"1.5845820\"},{\"url\":\"https://www.cbc.ca/news/entertainment/best-films-2020-1.5852421\",\"title\":\"The top 10 films of 2020\",\"sourceId\":\"1.5852421\"}],\"deck\":\"Message-driven horror movies thrive despite — and maybe because of — pandemic\",\"description\":\"Horror landed in 2020 both instructing and judging, as well as thriving. It\\'s a boom time for the genre, which entered its renaissance only a few years ago and is likely to only be helped by a global pandemic.\",\"flag\":\"\",\"imageLarge\":\"https://i.cbc.ca/1.5857899.1609363699!/fileImage/httpImage/image.jpg_gen/derivatives/16x9_620/horror-in-2020.jpg\",\"source\":\"Polopoly\",\"sourceId\":\"1.5857848\",\"imageAspects\":\"16x9_940,16x9_300,16x9_620,original_620,original_300,16x9tight_140,16x9_460\",\"publishedAt\":\"1609405200221\",\"updatedAt\":\"1609405200221\",\"sponsor\":null,\"type\":\"story\",\"show\":\"\",\"authors\":[{\"name\":\"Jackson Weaver\",\"image\":\"https://i.cbc.ca/1.5185004.1561132599!/fileImage/httpImage/image.jpg_gen/derivatives/square_140/jackson-weaver.jpg\"}],\"commentsEnabled\":true,\"contextualHeadlines\":[],\"mediaId\":null,\"mediaDuration\":null,\"headlineData\":{\"type\":\"image\",\"title\":null,\"mediaId\":\"\",\"mediaDuration\":null,\"publishedAt\":null,\"image\":null},\"components\":null},{\"id\":1653508,\"url\":\"https://www.cbc.ca/news/canada/canadians-vaccinated-covid-19-1.5854325\",\"urlSlug\":\"canadians-vaccinated-covid-19\",\"title\":\"How Canadians will know when it\\'s their turn to get vaccinated\",\"sectionList\":[\"news\",\"canada\"],\"sectionLabels\":[\"News\",\"Canada\"],\"relatedLinks\":[{\"url\":\"https://www.cbc.ca/news/health/vaccine-rollout-spread-death-covid-19-1.5836027\",\"title\":\"2nd stage of COVID-19 vaccination should target those most likely to spread the virus, say some experts\",\"sourceId\":\"1.5836027\"},{\"url\":\"https://www.cbc.ca/news/politics/seniors-long-term-care-workers-first-in-line-1.5828720\",\"title\":\"Seniors, long-term care workers should be first in line for COVID-19 vaccine, committee says\",\"sourceId\":\"1.5828720\"}],\"deck\":\"COVID-19 vaccine is currently in 1st phase of rollout to priority groups\",\"description\":\"With the recent announcement that Health Canada has approved the Moderna\\xa0COVID-19 vaccine, Canadians\\xa0are likely wondering when it will be their turn to get inoculated.\\xa0\",\"flag\":\"\",\"imageLarge\":\"https://i.cbc.ca/1.5834143.1609291385!/fileImage/httpImage/image.jpg_gen/derivatives/16x9_620/pfizer-biontech-covid-19-vaccine.jpg\",\"source\":\"Polopoly\",\"sourceId\":\"1.5854325\",\"imageAspects\":\"16x9_940,16x9_300,16x9_620,original_620,original_300,16x9tight_140,16x9_460\",\"publishedAt\":\"1609318800885\",\"updatedAt\":\"1609363550221\",\"sponsor\":null,\"type\":\"story\",\"show\":\"\",\"authors\":[{\"name\":\"\",\"image\":\"\"}],\"commentsEnabled\":false,\"contextualHeadlines\":[],\"mediaId\":null,\"mediaDuration\":null,\"headlineData\":{\"type\":\"image\",\"title\":null,\"mediaId\":\"\",\"mediaDuration\":null,\"publishedAt\":null,\"image\":null},\"components\":null},{\"id\":1654144,\"url\":\"https://www.cbc.ca/news/canada/toronto/most-borrowed-books-ontario-2020-1.5847514\",\"urlSlug\":\"most-borrowed-books-ontario-2020\",\"title\":\"Majority of borrowed books across Ontario libraries in 2020 weren\\'t published this year\",\"sectionList\":[\"news\",\"canada\",\"toronto\"],\"sectionLabels\":[\"News\",\"Canada\",\"Toronto\"],\"relatedLinks\":[{\"url\":\"https://www.cbc.ca/news/canada/toronto/toronto-public-library-popular-books-top-ten-1.5389739\",\"title\":\"Female authors, Canadian titles dominate Toronto Public Library\\'s top 10 books of 2019\",\"sourceId\":\"1.5389739\"},{\"url\":\"https://www.cbc.ca/news/canada/hamilton/hamilton-library-million-digital-checkouts-1.5768146\",\"title\":\"Hamilton public library hits \\'record-breaking\\' 1 million digital book check outs\",\"sourceId\":\"1.5768146\"}],\"deck\":\"Borrowing of e-books up more than 30% for some Ontario libraries due to COVID-19\",\"description\":\"In a year dominated by a global pandemic and American politics, some might find it fitting that the library book most likely to be checked out across Ontario was a hopeful memoir written by the former first lady of the United States.\",\"flag\":\"\",\"imageLarge\":\"https://i.cbc.ca/1.5847537.1608315783!/fileImage/httpImage/image.jpg_gen/derivatives/16x9_620/top-books-across-ontario-libraries-2020.jpg\",\"source\":\"Polopoly\",\"sourceId\":\"1.5847514\",\"imageAspects\":\"16x9_940,16x9_300,16x9_620,original_620,original_300,16x9tight_140,16x9_460\",\"publishedAt\":\"1609405200673\",\"updatedAt\":\"1609405200673\",\"sponsor\":null,\"type\":\"story\",\"show\":\"\",\"authors\":[{\"name\":\"Nicole Brockbank\",\"image\":\"https://i.cbc.ca/1.3961941.1550254863!/fileImage/httpImage/image.JPG_gen/derivatives/square_140/nicole-brockbank.JPG\"}],\"commentsEnabled\":true,\"contextualHeadlines\":[{\"headline\":\"These are the most borrowed books across Ontario libraries this year\",\"contextualLineupSlug\":\"news-canada-ottawa\"}],\"mediaId\":null,\"mediaDuration\":null,\"headlineData\":{\"type\":\"image\",\"title\":null,\"mediaId\":\"\",\"mediaDuration\":null,\"publishedAt\":null,\"image\":null},\"components\":null},{\"id\":1654087,\"url\":\"https://www.cbc.ca/news/canada/british-columbia/pemberton-avalanche-snow-bike-1.5858185\",\"urlSlug\":\"pemberton-avalanche-snow-bike\",\"title\":\"Pemberton-area avalanche victim loved the outdoors, had safety training, says his mother\",\"sectionList\":[\"news\",\"canada\",\"british-columbia\"],\"sectionLabels\":[\"News\",\"Canada\",\"British Columbia\"],\"relatedLinks\":[{\"url\":\"https://www.cbc.ca/news/canada/british-columbia/fleurentin-house-fire-1.5857447\",\"title\":\"Generosity of neighbours gives hope to family of 10 who lost their possessions in pre-Christmas fire\",\"sourceId\":\"1.5857447\"},{\"url\":\"https://www.cbc.ca/news/canada/british-columbia/bc-gillian-mcintosh-covid-19-1.5858145\",\"title\":\"B.C. mom describes \\'surreal experience\\' meeting new son after waking up from COVID-related coma\",\"sourceId\":\"1.5858145\"},{\"url\":\"https://www.cbc.ca/news/canada/british-columbia/covid-19-bc-new-cases-dec-30-1.5857884\",\"title\":\"B.C. orders restaurants, bars and stores to stop liquor sales at 8 p.m. on New Year\\'s Eve\",\"sourceId\":\"1.5857884\"},{\"url\":\"http://www.cbc.ca/news/canada/british-columbia\",\"title\":\"Top stories from British Columbia\",\"sourceId\":\"1.4712283\"}],\"deck\":\"Bodies of 2 snow bikers were found Tuesday near Pemberton, B.C.\",\"description\":\"“Nicholas did live his dreams,” Suzanne Bowker said of her son, who was found dead Tuesday. “And I am happy that he was happy. I\\'m not happy that he\\'s gone but I\\'m happy that he was able to do so much in his 30 years.\",\"flag\":\"\",\"imageLarge\":\"https://i.cbc.ca/1.5858188.1609380922!/fileImage/httpImage/image.jpg_gen/derivatives/16x9_620/nicholas-bowker.jpg\",\"source\":\"Polopoly\",\"sourceId\":\"1.5858185\",\"imageAspects\":\"16x9_940,16x9_300,16x9_620,original_620,original_300,16x9tight_140,16x9_460\",\"publishedAt\":\"1609387485872\",\"updatedAt\":\"1609428703637\",\"sponsor\":null,\"type\":\"story\",\"show\":\"\",\"authors\":[{\"name\":\"Liam Britten\",\"image\":\"https://i.cbc.ca/1.4654484.1525824147!/fileImage/httpImage/image.jpg_gen/derivatives/square_140/liam-britten.jpg\"}],\"commentsEnabled\":false,\"contextualHeadlines\":[{\"headline\":\"B.C. avalanche vicitim loved the outdoors, had safety training, says mother \",\"contextualLineupSlug\":\"news-canada\"}],\"mediaId\":null,\"mediaDuration\":null,\"headlineData\":{\"type\":\"image\",\"title\":null,\"mediaId\":\"\",\"mediaDuration\":null,\"publishedAt\":null,\"image\":null},\"components\":null},{\"id\":1654059,\"url\":\"https://www.cbc.ca/news/canada/british-columbia/father-of-14-year-old-metro-vancouver-homicide-victim-says-his-son-was-set-up-1.5857922\",\"urlSlug\":\"\",\"title\":\"Father of 14-year-old Metro Vancouver homicide victim says his son was set up\",\"sectionList\":[\"news\",\"canada\",\"british-columbia\"],\"sectionLabels\":[\"News\",\"Canada\",\"British Columbia\"],\"relatedLinks\":[{\"url\":\"https://www.cbc.ca/news/canada/british-columbia/iio-car-collision-chilliwack-rcmp-1.5857081\",\"title\":\"Third person dies following head-on crash near Chilliwack\",\"sourceId\":\"1.5857081\"},{\"url\":\"https://www.cbc.ca/news/canada/british-columbia/stolen-jade-slab-found-cache-creek-1.5856227\",\"title\":\"Stolen 1,300-kilogram jade boulder found, says B.C. gift shop owner\",\"sourceId\":\"1.5856227\"},{\"url\":\"https://www.cbc.ca/news/canada/british-columbia/party-host-christmas-vancouver-jail-1.5857537\",\"title\":\"Vancouver party host spends Christmas in jail after repeated fines for violating COVID-19 public health orders\",\"sourceId\":\"1.5857537\"},{\"url\":\"http://www.cbc.ca/news/canada/british-columbia\",\"title\":\"Top stories from British Columbia\",\"sourceId\":\"1.4712283\"}],\"deck\":\"Tequel Willis, 14, was shot as he stepped out of a taxi in Surrey, B.C., on Dec. 28\",\"description\":\"David Weisgarber\\xa0said he believes son Tequel Willis was set up by someone who asked him to deliver a set of car keys to Surrey.\",\"flag\":\"\",\"imageLarge\":\"https://i.cbc.ca/1.5858178.1609379035!/fileImage/httpImage/image.jpeg_gen/derivatives/16x9_620/tequel-willis.jpeg\",\"source\":\"Polopoly\",\"sourceId\":\"1.5857922\",\"imageAspects\":\"16x9_940,16x9_300,16x9_620,original_620,original_300,16x9tight_140,16x9_460\",\"publishedAt\":\"1609382180274\",\"updatedAt\":\"1609386613889\",\"sponsor\":null,\"type\":\"story\",\"show\":\"\",\"authors\":[{\"name\":\"Karin Larsen\",\"image\":\"https://i.cbc.ca/1.3041530.1505849156!/fileImage/httpImage/image.jpg_gen/derivatives/square_140/karin-larsen.jpg\"}],\"commentsEnabled\":false,\"contextualHeadlines\":[],\"mediaId\":null,\"mediaDuration\":null,\"headlineData\":{\"type\":\"image\",\"title\":null,\"mediaId\":\"\",\"mediaDuration\":null,\"publishedAt\":null,\"image\":null},\"components\":null},{\"id\":1654147,\"url\":\"https://www.cbc.ca/news/canada/toronto/osie-the-rescue-cat-best-thing-2020-1.5851000\",\"urlSlug\":\"osie-the-rescue-cat-best-thing-2020\",\"title\":\"For Osie the rescue cat, 2020 was just perfect\",\"sectionList\":[\"news\",\"canada\",\"toronto\"],\"sectionLabels\":[\"News\",\"Canada\",\"Toronto\"],\"relatedLinks\":[],\"deck\":\"She\\'s working on becoming a lap cat during a quiet, locked down year\",\"description\":\"A little black and white cat was one of 347 rescued from a single, squalid two-bedroom Toronto apartment in 2019. This year, during lockdowns one and two, she\\'s become the best thing of her owner\\'s year.\",\"flag\":\"\",\"imageLarge\":\"https://i.cbc.ca/1.5851017.1608674117!/fileImage/httpImage/image.jpeg_gen/derivatives/16x9_620/osie-the-rescue-cat.jpeg\",\"source\":\"Polopoly\",\"sourceId\":\"1.5851000\",\"imageAspects\":\"16x9_940,16x9_300,16x9_620,original_620,original_300,16x9tight_140,16x9_460\",\"publishedAt\":\"1609405200587\",\"updatedAt\":\"1609405200587\",\"sponsor\":null,\"type\":\"story\",\"show\":\"\",\"authors\":[{\"name\":\"John Rieti\",\"image\":\"https://i.cbc.ca/1.3961850.1485974039!/fileImage/httpImage/image.JPG_gen/derivatives/square_140/john-rieti.JPG\"}],\"commentsEnabled\":true,\"contextualHeadlines\":[],\"mediaId\":null,\"mediaDuration\":null,\"headlineData\":{\"type\":\"image\",\"title\":null,\"mediaId\":\"\",\"mediaDuration\":null,\"publishedAt\":null,\"image\":null},\"components\":null},{\"id\":1654044,\"url\":\"https://www.cbc.ca/news/canada/british-columbia/bc-gillian-mcintosh-covid-19-1.5858145\",\"urlSlug\":\"bc-gillian-mcintosh-covid-19\",\"title\":\"B.C. mom describes \\'surreal experience\\' meeting new son after waking up from COVID-related coma\",\"sectionList\":[\"news\",\"canada\",\"british-columbia\"],\"sectionLabels\":[\"News\",\"Canada\",\"British Columbia\"],\"relatedLinks\":[{\"url\":\"https://www.cbc.ca/news/canada/british-columbia/all-native-basketball-tournament-cancelled-1.5858013\",\"title\":\"B.C.\\'s All Native Basketball Tournament cancelled because of COVID-19 concerns\",\"sourceId\":\"1.5858013\"},{\"url\":\"https://www.cbc.ca/news/canada/british-columbia/911-nuisance-calls-2020-1.5857806\",\"title\":\"Complaints about food delivery No. 1 on annual list of nuisance 911 calls\",\"sourceId\":\"1.5857806\"},{\"url\":\"https://www.cbc.ca/news/canada/british-columbia/party-host-christmas-vancouver-jail-1.5857537\",\"title\":\"Vancouver party host spends Christmas in jail after repeated fines for violating COVID-19 public health orders\",\"sourceId\":\"1.5857537\"},{\"url\":\"http://www.cbc.ca/news/canada/british-columbia\",\"title\":\"Top stories from British Columbia\",\"sourceId\":\"1.4712283\"}],\"deck\":\"Gillian McIntosh was discharged from hospital in Abbotsford on Christmas Eve\",\"description\":\"A B.C. mom who gave birth while in an induced coma because of COVID-19 says she was released from hospital just in time to spend Christmas at home with her family.\",\"flag\":\"\",\"imageLarge\":\"https://i.cbc.ca/1.5858149.1609380611!/fileImage/httpImage/image.jpeg_gen/derivatives/16x9_620/mcintosh-family-christmas.jpeg\",\"source\":\"Polopoly\",\"sourceId\":\"1.5858145\",\"imageAspects\":\"16x9_940,16x9_300,16x9_620,original_620,original_300,16x9tight_140,16x9_460\",\"publishedAt\":\"1609380200234\",\"updatedAt\":\"1609380637513\",\"sponsor\":null,\"type\":\"story\",\"show\":\"\",\"authors\":[{\"name\":\"Bethany Lindsay\",\"image\":\"https://i.cbc.ca/1.4411313.1511220479!/fileImage/httpImage/image.jpg_gen/derivatives/square_140/bethany-lindsay.jpg\"}],\"commentsEnabled\":true,\"contextualHeadlines\":[],\"mediaId\":null,\"mediaDuration\":null,\"headlineData\":{\"type\":\"image\",\"title\":null,\"mediaId\":\"\",\"mediaDuration\":null,\"publishedAt\":null,\"image\":null},\"components\":null},{\"id\":1653804,\"url\":\"https://www.cbc.ca/news/canada/british-columbia/party-host-christmas-vancouver-jail-1.5857537\",\"urlSlug\":\"party-host-Christmas-Vancouver-jail\",\"title\":\"Vancouver party host spends Christmas in jail after repeated fines for violating COVID-19 public health orders\",\"sectionList\":[\"news\",\"canada\",\"british-columbia\"],\"sectionLabels\":[\"News\",\"Canada\",\"British Columbia\"],\"relatedLinks\":[{\"url\":\"https://www.cbc.ca/news/canada/british-columbia/stolen-jade-slab-found-cache-creek-1.5856227\",\"title\":\"Stolen 1,300-kilogram jade boulder found, says B.C. gift shop owner\",\"sourceId\":\"1.5856227\"},{\"url\":\"https://www.cbc.ca/news/canada/british-columbia/targeted-shooting-14-year-old-surrey-1.5856936\",\"title\":\"Victim of second targeted shooting in Surrey in 24 hours was 14 years old, B.C. police say\",\"sourceId\":\"1.5856936\"},{\"url\":\"http://www.cbc.ca/news/canada/british-columbia\",\"title\":\"Top stories from British Columbia\",\"sourceId\":\"1.4712283\"}],\"deck\":\"Police say they had been receiving complaints about man\\'s parties since September\",\"description\":\"A 24-year-old Vancouver man spent Christmas night in jail after repeatedly hosting parties that violated\\xa0COVID-19 public health orders.\",\"flag\":\"\",\"imageLarge\":\"https://i.cbc.ca/1.5696637.1604625392!/fileImage/httpImage/image.jpg_gen/derivatives/16x9_620/793896193.jpg\",\"source\":\"Polopoly\",\"sourceId\":\"1.5857537\",\"imageAspects\":\"16x9_940,16x9_300,16x9_620,original_620,original_300,16x9tight_140,16x9_460\",\"publishedAt\":\"1609354584056\",\"updatedAt\":\"1609360076267\",\"sponsor\":null,\"type\":\"story\",\"show\":\"\",\"authors\":[{\"name\":\"Karin Larsen\",\"image\":\"https://i.cbc.ca/1.3041530.1505849156!/fileImage/httpImage/image.jpg_gen/derivatives/square_140/karin-larsen.jpg\"}],\"commentsEnabled\":true,\"contextualHeadlines\":[],\"mediaId\":null,\"mediaDuration\":null,\"headlineData\":{\"type\":\"image\",\"title\":null,\"mediaId\":\"\",\"mediaDuration\":null,\"publishedAt\":null,\"image\":null},\"components\":null},{\"id\":1653765,\"url\":\"https://www.cbc.ca/news/canada/calgary/vaccines-calgary-alberta-kenney-shandro-target-covid-19-vaccinations-1.5857373\",\"urlSlug\":\"vaccines calgary alberta kenney shandro target COVID-19 vaccinations\",\"title\":\"Alberta government falls far short of goal to vaccinate 29,000 people against COVID-19 by year\\'s end\",\"sectionList\":[\"news\",\"canada\",\"calgary\"],\"sectionLabels\":[\"News\",\"Canada\",\"Calgary\"],\"relatedLinks\":[{\"url\":\"https://www.cbc.ca/news/canada/calgary/poll-kenney-covid-satisfaction-pandemic-prairie-premiers-1.5856430\",\"title\":\"Poll finds lowest levels of satisfaction for Prairie premiers\\' handling of pandemic\",\"sourceId\":\"1.5856430\"},{\"url\":\"https://www.cbc.ca/news/canada/edmonton/jason-kenney-tyler-shandro-alberta-covid-19-coronavirus-1.5856583\",\"title\":\"First shipment of Moderna vaccine destined for Alberta long-term care facilities, premier says\",\"sourceId\":\"1.5856583\"},{\"url\":\"https://www.cbc.ca/news/canada/calgary\",\"title\":\"Top stories from CBC Calgary\",\"sourceId\":\"1.5367014\"}],\"deck\":\"It\\'s unclear why doses were held back despite health minister\\'s assurance they wouldn\\'t be\",\"description\":\"Alberta will fall far short of the UCP government’s promise to vaccinate\\xa029,000 people against COVID-19 by the end of the year, Premier Jason Kenney has acknowledged.\",\"flag\":\"\",\"imageLarge\":\"https://i.cbc.ca/1.5843689.1609350202!/cpImage/httpImage/image.jpg_gen/derivatives/16x9_620/covid-alta-20201215.jpg\",\"source\":\"Polopoly\",\"sourceId\":\"1.5857373\",\"imageAspects\":\"16x9_940,16x9_300,16x9_620,original_620,original_300,16x9tight_140,16x9_460\",\"publishedAt\":\"1609350699044\",\"updatedAt\":\"1609368443733\",\"sponsor\":null,\"type\":\"story\",\"show\":\"\",\"authors\":[{\"name\":\"\",\"image\":\"\"}],\"commentsEnabled\":true,\"contextualHeadlines\":[],\"mediaId\":null,\"mediaDuration\":null,\"headlineData\":{\"type\":\"image\",\"title\":null,\"mediaId\":\"\",\"mediaDuration\":null,\"publishedAt\":null,\"image\":null},\"components\":null},{\"id\":1653846,\"url\":\"https://www.cbc.ca/news/canada/toronto/ontario-rod-phillips-caribbean-vacation-1.5857535\",\"urlSlug\":\"ontario-rod-phillips-caribbean-vacation\",\"title\":\"Doug Ford acknowledges he knew finance minister was away before news broke of Caribbean vacation\",\"sectionList\":[\"news\",\"canada\",\"toronto\"],\"sectionLabels\":[\"News\",\"Canada\",\"Toronto\"],\"relatedLinks\":[],\"deck\":\"Rod Phillips is due back in Canada on Thursday, Ontario premier tells reporters\",\"description\":\"Finance Minister Rod Phillps, who has been on vacation in the Caribbean, is on his way back to Canada, Premier Doug Ford said Wednesday.\",\"flag\":\"\",\"imageLarge\":\"https://i.cbc.ca/1.5854610.1608836345!/cpImage/httpImage/image.jpg_gen/derivatives/16x9_620/covid-ont-premier-doug-ford-20201221.jpg\",\"source\":\"Polopoly\",\"sourceId\":\"1.5857535\",\"imageAspects\":\"16x9_940,16x9_300,16x9_620,original_620,original_300,16x9tight_140,16x9_460\",\"publishedAt\":\"1609360111361\",\"updatedAt\":\"1609388494768\",\"sponsor\":null,\"type\":\"story\",\"show\":\"\",\"authors\":[{\"name\":\"Desmond Brown\",\"image\":\"https://i.cbc.ca/1.5770980.1603294917!/fileImage/httpImage/image.jpg_gen/derivatives/original_140/desmond-brown-journalist-at-cbc.jpg\"}],\"commentsEnabled\":true,\"contextualHeadlines\":[],\"mediaId\":null,\"mediaDuration\":null,\"headlineData\":{\"type\":\"image\",\"title\":null,\"mediaId\":\"\",\"mediaDuration\":null,\"publishedAt\":null,\"image\":null},\"components\":null}]}}}\\n'"
      ]
     },
     "execution_count": 31,
     "metadata": {},
     "output_type": "execute_result"
    }
   ],
   "source": [
    "response.html.html\n"
   ]
  },
  {
   "cell_type": "code",
   "execution_count": 32,
   "metadata": {},
   "outputs": [],
   "source": [
    "crawler.parse(response)"
   ]
  },
  {
   "cell_type": "code",
   "execution_count": 33,
   "metadata": {},
   "outputs": [
    {
     "data": {
      "text/plain": [
       "[{'url': 'https://www.cbc.ca/news/canada/ottawa/gatineau-police-new-years-altercation-1.5859782'},\n",
       " {'url': 'https://www.cbc.ca/news/canada/toronto/protest-tendercare-living-centre-covid-19-1.5859667'},\n",
       " {'url': 'https://www.cbc.ca/news/canada/calgary/murder-calgary-police-officer-andrew-harnett-new-years-eve-traffic-stop-bail-1.5859630'},\n",
       " {'url': 'https://www.cbc.ca/news/canada/toronto/covid19-update-jan-2-ontario-1.5859541'},\n",
       " {'url': 'https://www.cbc.ca/sports/hockey/canada-czech-world-juniors-quarter-finals-jan-2-recap-1.5859644'},\n",
       " {'url': 'https://www.cbc.ca/news/canada/new-brunswick/fundy-cold-swims-nadine-currie-jackson-1.5856686'},\n",
       " {'url': 'https://www.cbc.ca/news/canada/2020-good-news-stories-1.5859102'},\n",
       " {'url': 'https://www.cbc.ca/news/canada/edmonton/jason-kenney-conference-1.5859278'},\n",
       " {'url': 'http://www.cbc.ca/1.5859246'},\n",
       " {'url': 'https://www.cbc.ca/news/canada/prince-edward-island/pei-new-year-s-baby-2021-1.5859429'},\n",
       " {'url': 'https://www.cbc.ca/news/canada/toronto/ontario-covid-19-dec31-1.5858400'},\n",
       " {'url': 'https://www.cbc.ca/news/canada/calgary/alberta-covid-19-december-deadliest-year-end-1.5856674'},\n",
       " {'url': 'https://www.cbc.ca/news/canada/edmonton/coronials-covid-babies-isolation-pregnancies-1.5837295'},\n",
       " {'url': 'https://www.cbc.ca/news/canada/newfoundland-labrador/northern-cod-rebuilding-plan-dfo-1.5856369'},\n",
       " {'url': 'https://www.cbc.ca/news/canada/toronto/vaughan-tim-hortons-gofundme-fundraiser-school-1.5858818'},\n",
       " {'url': 'https://www.cbc.ca/news/canada/newfoundland-labrador/dildo-pandemic-1.5844194'},\n",
       " {'url': 'https://www.cbc.ca/news/canada/prince-edward-island/pei-climate-change-now-farming-fishing-1.5844000'},\n",
       " {'url': 'https://www.cbc.ca/news/canada/nova-scotia/carolyn-and-cheryl-simon-mother-daughter-quillwork-mi-kmaq-artists-lessons-1.5854351'},\n",
       " {'url': 'https://www.cbc.ca/news/entertainment/2020-horror-films-boom-year-1.5857848'},\n",
       " {'url': 'https://www.cbc.ca/news/canada/canadians-vaccinated-covid-19-1.5854325'},\n",
       " {'url': 'https://www.cbc.ca/news/canada/toronto/most-borrowed-books-ontario-2020-1.5847514'},\n",
       " {'url': 'https://www.cbc.ca/news/canada/british-columbia/pemberton-avalanche-snow-bike-1.5858185'},\n",
       " {'url': 'https://www.cbc.ca/news/canada/british-columbia/father-of-14-year-old-metro-vancouver-homicide-victim-says-his-son-was-set-up-1.5857922'},\n",
       " {'url': 'https://www.cbc.ca/news/canada/toronto/osie-the-rescue-cat-best-thing-2020-1.5851000'},\n",
       " {'url': 'https://www.cbc.ca/news/canada/british-columbia/bc-gillian-mcintosh-covid-19-1.5858145'},\n",
       " {'url': 'https://www.cbc.ca/news/canada/british-columbia/party-host-christmas-vancouver-jail-1.5857537'},\n",
       " {'url': 'https://www.cbc.ca/news/canada/calgary/vaccines-calgary-alberta-kenney-shandro-target-covid-19-vaccinations-1.5857373'},\n",
       " {'url': 'https://www.cbc.ca/news/canada/toronto/ontario-rod-phillips-caribbean-vacation-1.5857535'}]"
      ]
     },
     "execution_count": 33,
     "metadata": {},
     "output_type": "execute_result"
    }
   ],
   "source": [
    "crawler.all_json_to_send"
   ]
  },
  {
   "cell_type": "code",
   "execution_count": 34,
   "metadata": {},
   "outputs": [],
   "source": [
    "assert(len(crawler.all_json_to_send)>0) "
   ]
  },
  {
   "cell_type": "code",
   "execution_count": 35,
   "metadata": {},
   "outputs": [],
   "source": [
    "\n",
    "assert validators.url(crawler.all_json_to_send[0][\"url\"])"
   ]
  },
  {
   "cell_type": "code",
   "execution_count": 36,
   "metadata": {},
   "outputs": [],
   "source": [
    "SEED_SCRAP = 'https://www.cbc.ca/news/canada/ottawa/gatineau-police-new-years-altercation-1.5859782'\n"
   ]
  },
  {
   "cell_type": "code",
   "execution_count": 37,
   "metadata": {},
   "outputs": [],
   "source": [
    "QUERY_TITLE = \"//h1[@class='detailHeadline']\"\n",
    "QUERY_CONTENT =  \"//div[@class='story']/span/*[self::p|self::h2]\"\n",
    "QUERY_DATE = \"//time[@class='timeStamp']//@datetime\""
   ]
  },
  {
   "cell_type": "code",
   "execution_count": 38,
   "metadata": {},
   "outputs": [],
   "source": [
    "import json\n",
    "import w3lib.html\n",
    "import random\n",
    "import os\n",
    "import datetime\n",
    "import requests\n",
    "import string\n",
    "import calendar\n",
    "import html\n",
    "import locale \n",
    "from requests_html import HTMLSession\n",
    "import re"
   ]
  },
  {
   "cell_type": "code",
   "execution_count": 42,
   "metadata": {},
   "outputs": [],
   "source": [
    "class Scraper:\n",
    "    \n",
    "    USER_AGENT_LIST = [\n",
    "        \"Mozilla/5.0 (Windows NT 6.1; WOW64) AppleWebKit/537.1 (KHTML, like Gecko) Chrome/22.0.1207.1 Safari/537.1\",\n",
    "        \"Mozilla/5.0 (X11; CrOS i686 2268.111.0) AppleWebKit/536.11 (KHTML, like Gecko) Chrome/20.0.1132.57 Safari/536.11\",\n",
    "        \"Mozilla/5.0 (Windows NT 6.1; WOW64) AppleWebKit/536.6 (KHTML, like Gecko) Chrome/20.0.1092.0 Safari/536.6\",\n",
    "        \"Mozilla/5.0 (Windows NT 6.2) AppleWebKit/536.6 (KHTML, like Gecko) Chrome/20.0.1090.0 Safari/536.6\",\n",
    "        \"Mozilla/5.0 (Windows NT 6.2; WOW64) AppleWebKit/537.1 (KHTML, like Gecko) Chrome/19.77.34.5 Safari/537.1\",\n",
    "        \"Mozilla/5.0 (X11; Linux x86_64) AppleWebKit/536.5 (KHTML, like Gecko) Chrome/19.0.1084.9 Safari/536.5\",\n",
    "        \"Mozilla/5.0 (Windows NT 6.0) AppleWebKit/536.5 (KHTML, like Gecko) Chrome/19.0.1084.36 Safari/536.5\",\n",
    "        \"Mozilla/5.0 (Windows NT 6.1; WOW64) AppleWebKit/536.3 (KHTML, like Gecko) Chrome/19.0.1063.0 Safari/536.3\",\n",
    "        \"Mozilla/5.0 (Windows NT 5.1) AppleWebKit/536.3 (KHTML, like Gecko) Chrome/19.0.1063.0 Safari/536.3\",\n",
    "        \"Mozilla/5.0 (Macintosh; Intel Mac OS X 10_8_0) AppleWebKit/536.3 (KHTML, like Gecko) Chrome/19.0.1063.0 Safari/536.3\",\n",
    "        \"Mozilla/5.0 (Windows NT 6.2) AppleWebKit/536.3 (KHTML, like Gecko) Chrome/19.0.1062.0 Safari/536.3\",\n",
    "        \"Mozilla/5.0 (Windows NT 6.1; WOW64) AppleWebKit/536.3 (KHTML, like Gecko) Chrome/19.0.1062.0 Safari/536.3\",\n",
    "        \"Mozilla/5.0 (Windows NT 6.2) AppleWebKit/536.3 (KHTML, like Gecko) Chrome/19.0.1061.1 Safari/536.3\",\n",
    "        \"Mozilla/5.0 (Windows NT 6.1; WOW64) AppleWebKit/536.3 (KHTML, like Gecko) Chrome/19.0.1061.1 Safari/536.3\",\n",
    "        \"Mozilla/5.0 (Windows NT 6.1) AppleWebKit/536.3 (KHTML, like Gecko) Chrome/19.0.1061.1 Safari/536.3\",\n",
    "        \"Mozilla/5.0 (Windows NT 6.2) AppleWebKit/536.3 (KHTML, like Gecko) Chrome/19.0.1061.0 Safari/536.3\",\n",
    "        \"Mozilla/5.0 (X11; Linux x86_64) AppleWebKit/535.24 (KHTML, like Gecko) Chrome/19.0.1055.1 Safari/535.24\",\n",
    "        \"Mozilla/5.0 (Windows NT 6.2; WOW64) AppleWebKit/535.24 (KHTML, like Gecko) Chrome/19.0.1055.1 Safari/535.24\"\n",
    "    ]\n",
    "\n",
    "    query_extract_title = QUERY_TITLE\n",
    "    query_extract_text =  QUERY_CONTENT\n",
    "    query_extract_date = QUERY_DATE\n",
    "\n",
    "    \n",
    "    def _init_(self):\n",
    "        pass\n",
    "\n",
    "  \n",
    "    def start_request(self,url):\n",
    "        headers = {'user-agent':random.choice(self.USER_AGENT_LIST) }\n",
    "        session = HTMLSession()\n",
    "        response = session.get(url,headers=headers)  \n",
    "        return response\n",
    "    \n",
    "\n",
    "    def clean_text(self, html_text):\n",
    "        text_without_tags = w3lib.html.remove_tags(html_text)\n",
    "        text_without_escape_chars = w3lib.html.replace_escape_chars(text_without_tags)\n",
    "        text_without_escape_chars = html.unescape(text_without_escape_chars)\n",
    "        text_without_whitespace = text_without_escape_chars.strip()\n",
    "        return text_without_whitespace\n",
    "\n",
    "\n",
    "    def replace_month_name_to_number(self,date_string):\n",
    "        lower_string = date_string.lower()\n",
    "        for month_id in range(1, 13):\n",
    "            if(lower_string.find(calendar.month_name[month_id].lower())!=-1):\n",
    "                if(month_id>=10):\n",
    "                    return (lower_string.replace(calendar.month_name[month_id].lower(),str(month_id)))\n",
    "                else:\n",
    "                    return (lower_string.replace(calendar.month_name[month_id].lower(),\"0\"+str(month_id)))\n",
    "            if(lower_string.find(calendar.month_abbr[month_id].lower())!=-1):\n",
    "                if(month_id>=10):\n",
    "                    return (lower_string.replace(calendar.month_abbr[month_id].lower(),str(month_id)))\n",
    "                else:\n",
    "                    return (lower_string.replace(calendar.month_abbr[month_id].lower(),\"0\"+str(month_id)))\n",
    "                    \n",
    "\n",
    "    def format_date(self,date):\n",
    "        return(date[0:10])\n",
    "        \n",
    "\n",
    "\n",
    "    def parse(self, response):\n",
    "        self.news_text = []\n",
    "        self.message_to_send = []\n",
    "        self.scraped_url = response.url\n",
    "        self.news_title = response.html.xpath(self.query_extract_title)[0].text\n",
    "        self.date = response.html.xpath(self.query_extract_date)[0]\n",
    "        self.news_title = self.clean_text(self.news_title)\n",
    "        self.date = self.clean_text(self.date)\n",
    "        self.date = self.format_date(self.date)    \n",
    "        news_text_extracted_response = response.html.xpath(self.query_extract_text)\n",
    "        for part_of_body in news_text_extracted_response:\n",
    "            stripped_html_tags = w3lib.html.remove_tags(part_of_body.text)\n",
    "            text_cleaned = self.clean_text(stripped_html_tags)\n",
    "            self.news_text.append(text_cleaned) "
   ]
  },
  {
   "cell_type": "code",
   "execution_count": 43,
   "metadata": {},
   "outputs": [],
   "source": [
    "scraper = Scraper()\n",
    "response =scraper.start_request(SEED_SCRAP)"
   ]
  },
  {
   "cell_type": "code",
   "execution_count": 44,
   "metadata": {},
   "outputs": [],
   "source": [
    "scraper.parse(response)"
   ]
  },
  {
   "cell_type": "code",
   "execution_count": 45,
   "metadata": {},
   "outputs": [
    {
     "data": {
      "text/plain": [
       "\"Gatineau, Que., police issue fines over New Year's Eve party that ended in heated altercation\""
      ]
     },
     "execution_count": 45,
     "metadata": {},
     "output_type": "execute_result"
    }
   ],
   "source": [
    "scraper.news_title"
   ]
  },
  {
   "cell_type": "code",
   "execution_count": 46,
   "metadata": {},
   "outputs": [
    {
     "data": {
      "text/plain": [
       "'2021-01-03'"
      ]
     },
     "execution_count": 46,
     "metadata": {},
     "output_type": "execute_result"
    }
   ],
   "source": [
    "scraper.date"
   ]
  },
  {
   "cell_type": "code",
   "execution_count": 47,
   "metadata": {},
   "outputs": [
    {
     "data": {
      "text/plain": [
       "[\"Police in Gatineau, Que.,\\xa0said they arrested two people and fined six under the province's public health act after breaking up a family party on New Year's Eve.\",\n",
       " 'Police were called to a home on rue le Baron around 11:30 p.m. ET Thursday evening after receiving an anonymous complaint from a neighbour.\\xa0They encountered six people from multiple households having a private gathering.',\n",
       " \"Quebec is currently in lockdown, meaning visitors from another address are not permitted inside people's homes at the moment.\",\n",
       " \"Mathieu Tessier, one of those arrested,\\xa0posted a video of the police response to Facebook on Friday. In an interview with CBC News, Tessier alleged police used\\xa0excessive force and complained\\xa0that officers weren't wearing masks.\",\n",
       " '\"The police cannot do what they did to us. They treat us like animals, like criminals,\" Tessier said.',\n",
       " 'In a tweet, Gatineau police said\\xa0the video only shows part of the incident and that one of the individuals arrested assaulted a police officer.',\n",
       " 'WATCH | Warning: This video contains graphic content:',\n",
       " 'Gatineau police spokesperson Renee Anne St. Amant\\xa0told Radio-Canada in an interview that the owner of the house refused to identify herself and was uncooperative\\xa0when police arrived.',\n",
       " '\"At this point, the situation just got worse,\" St. Amant said.',\n",
       " 'Tessier\\xa0said he and his sister were both detained by police, but he\\xa0denied hitting a police officer. Gatineau police said at least one of them will face\\xa0charges of obstructing the work of peace officers, assault and resisting arrest.',\n",
       " 'Tessier, whose sister owns\\xa0the house where the gathering took place, acknowledged that the family took a risk but said he thought if police showed up they would ask them politely to break up the party.',\n",
       " '\"The worst case in my head, it was ... like, a warning,\" he said.',\n",
       " 'Officers not wearing masks, Tessier says',\n",
       " \"Tessier said when his sister stepped out of the house to speak to police, she wasn't wearing shoes or a mask. His mother then opened the door to ask her inside, which is when Tessier said things escalated.\",\n",
       " '\"The policemen took [my mother\\'s] arms from the house and pulled to get her out,\" he said.',\n",
       " 'At this point, he said he was hiding in the living room with his girlfriend and stepfather with the lights off, but said\\xa0he went to the door to try to intervene when he heard his mother scream. Tessier said he tried to get in between his mother and the police officer, which is when his girlfriend started filming.',\n",
       " '\"When I see that he was pulling my mother out, I go in the middle of them so they can leave my mother alone so I can close the door and talk,\" he said.',\n",
       " \"Tessier said some of the police officers who came to the house weren't wearing masks, which he felt was also inappropriate.\",\n",
       " '\"You\\'re supposed to protect us but right now you don\\'t have [a] mask so you put my life in danger,\" he said.',\n",
       " \"The video showed\\xa0that some of\\xa0the police officers, as well as the members of the family,\\xa0weren't wearing masks.\\xa0St. Amant said one of the officers was hit\\xa0and lost his mask in the altercation.\",\n",
       " \"As for the others, St. Amant said when reinforcements were called\\xa0due to the urgency of the situation and the escalating violence, officers didn't have time to put their masks on. She also noted that most of the action took place outside the residence.\"]"
      ]
     },
     "execution_count": 47,
     "metadata": {},
     "output_type": "execute_result"
    }
   ],
   "source": [
    "scraper.news_text"
   ]
  },
  {
   "cell_type": "code",
   "execution_count": 48,
   "metadata": {},
   "outputs": [],
   "source": [
    "def validate(date_text):\n",
    "    try:\n",
    "        datetime.datetime.strptime(date_text, \"%Y-%m-%d\")\n",
    "        return True\n",
    "    except:\n",
    "        print(\"La fecha no tiene el formato correcto, año-mes-dia\")\n",
    "        return False\n",
    "\n",
    "    \n",
    "def test_news_title_has_text(news_title):\n",
    "    regex_string_only_numbers = r'^[0-9\\.\\ ]*$'\n",
    "    news_text_is_only_number_query = re.match(regex_string_only_numbers,news_title)\n",
    "    if(news_text_is_only_number_query is None):\n",
    "        return True\n",
    "    else:\n",
    "        return False\n",
    "\n",
    "    \n",
    "def test_news_text_has_text(news_text):\n",
    "    joined_text =   \" \".join(news_text)\n",
    "    regex_string_only_numbers = r'^[0-9\\.\\ ]*$'\n",
    "    news_text_is_only_number_query = re.match(regex_string_only_numbers,joined_text)\n",
    "    if(news_text_is_only_number_query is None):\n",
    "        return True\n",
    "    else:\n",
    "        return False\n",
    "\n",
    "        \n",
    "def test_news_title_length(news_title):\n",
    "    words_of_news_title = news_title.split(\" \")\n",
    "    len_of_each_news_title_word = list(map(len,words_of_news_title))\n",
    "    avg_of_news_words = sum(len_of_each_news_title_word)/len(len_of_each_news_title_word)\n",
    "    if(avg_of_news_words >= 1.5):\n",
    "        return True\n",
    "    else:\n",
    "        return False\n",
    "\n",
    "    \n",
    "def test_news_text_length(news_text):\n",
    "    len_of_each_news_text_words = []\n",
    "    for paragraph in news_text:\n",
    "        splited_words = paragraph.split(\" \")\n",
    "        len_of_each_news_text_words.extend(list(map(len,splited_words)))\n",
    "    avg_of_news_words = sum(len_of_each_news_text_words)/len(len_of_each_news_text_words)\n",
    "    if(avg_of_news_words >= 1.5):\n",
    "        return True\n",
    "    else:\n",
    "        return False"
   ]
  },
  {
   "cell_type": "code",
   "execution_count": 49,
   "metadata": {},
   "outputs": [],
   "source": [
    "assert(len(scraper.news_title)>0)\n",
    "assert(len(scraper.news_text)>0)\n",
    "assert(validate(scraper.date))\n",
    "assert(isinstance(scraper.news_title,str))\n",
    "assert(isinstance(scraper.news_text,list)) \n",
    "assert(scraper.news_title.find(\"<script>\")==-1)\n",
    "assert(scraper.news_title.find(\"</script>\")==-1)\n",
    "for text_piece in scraper.news_text:\n",
    "    assert(text_piece.find(\"<script>\")==-1)\n",
    "    assert(text_piece.find(\"</script>\")==-1)\n",
    "assert(test_news_title_has_text(scraper.news_title))\n",
    "assert(test_news_text_has_text(scraper.news_text))\n",
    "assert(test_news_title_length(scraper.news_title))\n",
    "assert(test_news_text_length(scraper.news_text))  "
   ]
  },
  {
   "cell_type": "code",
   "execution_count": null,
   "metadata": {},
   "outputs": [],
   "source": []
  },
  {
   "cell_type": "code",
   "execution_count": null,
   "metadata": {},
   "outputs": [],
   "source": []
  },
  {
   "cell_type": "code",
   "execution_count": null,
   "metadata": {},
   "outputs": [],
   "source": []
  },
  {
   "cell_type": "code",
   "execution_count": null,
   "metadata": {},
   "outputs": [],
   "source": []
  }
 ],
 "metadata": {
  "kernelspec": {
   "display_name": "Python 3",
   "language": "python",
   "name": "python3"
  },
  "language_info": {
   "codemirror_mode": {
    "name": "ipython",
    "version": 3
   },
   "file_extension": ".py",
   "mimetype": "text/x-python",
   "name": "python",
   "nbconvert_exporter": "python",
   "pygments_lexer": "ipython3",
   "version": "3.8.5"
  }
 },
 "nbformat": 4,
 "nbformat_minor": 4
}
