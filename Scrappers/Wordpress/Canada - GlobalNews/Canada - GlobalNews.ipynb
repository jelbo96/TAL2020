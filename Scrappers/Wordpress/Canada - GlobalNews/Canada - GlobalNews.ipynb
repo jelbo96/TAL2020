{
 "cells": [
  {
   "cell_type": "code",
   "execution_count": 1,
   "metadata": {},
   "outputs": [],
   "source": [
    "import json\n",
    "import w3lib.html\n",
    "import random\n",
    "import os\n",
    "import datetime\n",
    "import requests\n",
    "import string\n",
    "import calendar\n",
    "import html\n",
    "import locale \n",
    "import validators\n",
    "from requests_html import HTML\n",
    "from requests_html import HTMLSession"
   ]
  },
  {
   "cell_type": "markdown",
   "metadata": {},
   "source": [
    "## Crawler"
   ]
  },
  {
   "cell_type": "code",
   "execution_count": null,
   "metadata": {},
   "outputs": [],
   "source": [
    "SEED_CRAWL = 'https://globalnews.ca/wp-json/wp/v2/posts'"
   ]
  },
  {
   "cell_type": "code",
   "execution_count": null,
   "metadata": {},
   "outputs": [],
   "source": [
    "class Crawler:\n",
    "    \n",
    "    USER_AGENT_LIST = [\n",
    "        \"Mozilla/5.0 (Windows NT 6.1; WOW64) AppleWebKit/537.1 (KHTML, like Gecko) Chrome/22.0.1207.1 Safari/537.1\",\n",
    "        \"Mozilla/5.0 (X11; CrOS i686 2268.111.0) AppleWebKit/536.11 (KHTML, like Gecko) Chrome/20.0.1132.57 Safari/536.11\",\n",
    "        \"Mozilla/5.0 (Windows NT 6.1; WOW64) AppleWebKit/536.6 (KHTML, like Gecko) Chrome/20.0.1092.0 Safari/536.6\",\n",
    "        \"Mozilla/5.0 (Windows NT 6.2) AppleWebKit/536.6 (KHTML, like Gecko) Chrome/20.0.1090.0 Safari/536.6\",\n",
    "        \"Mozilla/5.0 (Windows NT 6.2; WOW64) AppleWebKit/537.1 (KHTML, like Gecko) Chrome/19.77.34.5 Safari/537.1\",\n",
    "        \"Mozilla/5.0 (X11; Linux x86_64) AppleWebKit/536.5 (KHTML, like Gecko) Chrome/19.0.1084.9 Safari/536.5\",\n",
    "        \"Mozilla/5.0 (Windows NT 6.0) AppleWebKit/536.5 (KHTML, like Gecko) Chrome/19.0.1084.36 Safari/536.5\",\n",
    "        \"Mozilla/5.0 (Windows NT 6.1; WOW64) AppleWebKit/536.3 (KHTML, like Gecko) Chrome/19.0.1063.0 Safari/536.3\",\n",
    "        \"Mozilla/5.0 (Windows NT 5.1) AppleWebKit/536.3 (KHTML, like Gecko) Chrome/19.0.1063.0 Safari/536.3\",\n",
    "        \"Mozilla/5.0 (Macintosh; Intel Mac OS X 10_8_0) AppleWebKit/536.3 (KHTML, like Gecko) Chrome/19.0.1063.0 Safari/536.3\",\n",
    "        \"Mozilla/5.0 (Windows NT 6.2) AppleWebKit/536.3 (KHTML, like Gecko) Chrome/19.0.1062.0 Safari/536.3\",\n",
    "        \"Mozilla/5.0 (Windows NT 6.1; WOW64) AppleWebKit/536.3 (KHTML, like Gecko) Chrome/19.0.1062.0 Safari/536.3\",\n",
    "        \"Mozilla/5.0 (Windows NT 6.2) AppleWebKit/536.3 (KHTML, like Gecko) Chrome/19.0.1061.1 Safari/536.3\",\n",
    "        \"Mozilla/5.0 (Windows NT 6.1; WOW64) AppleWebKit/536.3 (KHTML, like Gecko) Chrome/19.0.1061.1 Safari/536.3\",\n",
    "        \"Mozilla/5.0 (Windows NT 6.1) AppleWebKit/536.3 (KHTML, like Gecko) Chrome/19.0.1061.1 Safari/536.3\",\n",
    "        \"Mozilla/5.0 (Windows NT 6.2) AppleWebKit/536.3 (KHTML, like Gecko) Chrome/19.0.1061.0 Safari/536.3\",\n",
    "        \"Mozilla/5.0 (X11; Linux x86_64) AppleWebKit/535.24 (KHTML, like Gecko) Chrome/19.0.1055.1 Safari/535.24\",\n",
    "        \"Mozilla/5.0 (Windows NT 6.2; WOW64) AppleWebKit/535.24 (KHTML, like Gecko) Chrome/19.0.1055.1 Safari/535.24\"\n",
    "]\n",
    "\n",
    "    #query_extract_all_href=QUERY_URL\n",
    "\n",
    "    all_json_to_send = []\n",
    "    \n",
    "    def _init_(self):\n",
    "        pass\n",
    "    \n",
    "    def parse(self, response):\n",
    "        ''' do something with this parser '''\n",
    "        self.all_extracted_href = []\n",
    "        json_data = json.loads(response.html.html)\n",
    "        for url_data in json_data:\n",
    "           \n",
    "            json_to_send = {}\n",
    "            json_to_send[\"url\"] = url_data[\"guid\"][\"rendered\"]\n",
    "            json_to_send[\"title\"] = url_data[\"title\"][\"rendered\"]\n",
    "            json_to_send[\"date\"] = url_data[\"date_gmt\"]\n",
    "            self.all_json_to_send.append(json_to_send)      \n",
    "                     \n",
    "\n",
    "    def start_request(self,url,header=dict()):\n",
    "        session = HTMLSession()\n",
    "        header['user-agent'] = random.choice(self.USER_AGENT_LIST)\n",
    "        response = session.get(url)  \n",
    "        return response\n",
    "    \n",
    "    def get_number_of_pages(self,url,header=dict()):\n",
    "        session = HTMLSession()\n",
    "        header['user-agent'] = random.choice(self.USER_AGENT_LIST)\n",
    "        response = session.get(url)  \n",
    "        return response.headers['X-WP-TotalPages']"
   ]
  },
  {
   "cell_type": "code",
   "execution_count": null,
   "metadata": {},
   "outputs": [],
   "source": [
    "crawler = Crawler()\n",
    "# Obtener el numero de paginas\n",
    "number_of_pages = crawler.get_number_of_pages(SEED_CRAWL)\n",
    "print(SEED_CRAWL, number_of_pages)"
   ]
  },
  {
   "cell_type": "code",
   "execution_count": null,
   "metadata": {},
   "outputs": [],
   "source": [
    "all_data_crawler = []"
   ]
  },
  {
   "cell_type": "code",
   "execution_count": null,
   "metadata": {},
   "outputs": [],
   "source": [
    "number_of_pages = 10\n",
    "for number_of_page in range(1, number_of_pages):\n",
    "    response = crawler.start_request(SEED_CRAWL+'?page='+str(number_of_page))\n",
    "    print('Se obtuvo la pagina '+str(number_of_page))\n",
    "    crawler.parse(response)\n",
    "    data_crawler = crawler.all_json_to_send\n",
    "    all_data_crawler = all_data_crawler + data_crawler"
   ]
  },
  {
   "cell_type": "code",
   "execution_count": null,
   "metadata": {},
   "outputs": [],
   "source": [
    "all_data_crawler"
   ]
  },
  {
   "cell_type": "code",
   "execution_count": null,
   "metadata": {},
   "outputs": [],
   "source": [
    "# Almacenar los datos en un archivo json\n",
    "with open('canada_global_news_links.json', 'w') as f:\n",
    "    json.dump(all_data_crawler, f)"
   ]
  },
  {
   "cell_type": "markdown",
   "metadata": {},
   "source": [
    "## Scrapper"
   ]
  },
  {
   "cell_type": "code",
   "execution_count": 4,
   "metadata": {},
   "outputs": [],
   "source": [
    "with open('canada_global_news_links.json') as json_file:\n",
    "    data = json.load(json_file)"
   ]
  },
  {
   "cell_type": "code",
   "execution_count": 5,
   "metadata": {},
   "outputs": [],
   "source": [
    "QUERY_CONTENT =  \"//article[contains(@class, 'l-article__text') and contains(@class, 'js-story-text')]/p\"\n",
    "\n",
    "QUERY_CONTENT_JOURNALIST =  \"//div[@class='c-byline__attribution']//span[@class='c-byline__name']\""
   ]
  },
  {
   "cell_type": "code",
   "execution_count": 6,
   "metadata": {},
   "outputs": [],
   "source": [
    "class Scraper:\n",
    "    \n",
    "    USER_AGENT_LIST = [\n",
    "        \"Mozilla/5.0 (Windows NT 6.1; WOW64) AppleWebKit/537.1 (KHTML, like Gecko) Chrome/22.0.1207.1 Safari/537.1\",\n",
    "        \"Mozilla/5.0 (X11; CrOS i686 2268.111.0) AppleWebKit/536.11 (KHTML, like Gecko) Chrome/20.0.1132.57 Safari/536.11\",\n",
    "        \"Mozilla/5.0 (Windows NT 6.1; WOW64) AppleWebKit/536.6 (KHTML, like Gecko) Chrome/20.0.1092.0 Safari/536.6\",\n",
    "        \"Mozilla/5.0 (Windows NT 6.2) AppleWebKit/536.6 (KHTML, like Gecko) Chrome/20.0.1090.0 Safari/536.6\",\n",
    "        \"Mozilla/5.0 (Windows NT 6.2; WOW64) AppleWebKit/537.1 (KHTML, like Gecko) Chrome/19.77.34.5 Safari/537.1\",\n",
    "        \"Mozilla/5.0 (X11; Linux x86_64) AppleWebKit/536.5 (KHTML, like Gecko) Chrome/19.0.1084.9 Safari/536.5\",\n",
    "        \"Mozilla/5.0 (Windows NT 6.0) AppleWebKit/536.5 (KHTML, like Gecko) Chrome/19.0.1084.36 Safari/536.5\",\n",
    "        \"Mozilla/5.0 (Windows NT 6.1; WOW64) AppleWebKit/536.3 (KHTML, like Gecko) Chrome/19.0.1063.0 Safari/536.3\",\n",
    "        \"Mozilla/5.0 (Windows NT 5.1) AppleWebKit/536.3 (KHTML, like Gecko) Chrome/19.0.1063.0 Safari/536.3\",\n",
    "        \"Mozilla/5.0 (Macintosh; Intel Mac OS X 10_8_0) AppleWebKit/536.3 (KHTML, like Gecko) Chrome/19.0.1063.0 Safari/536.3\",\n",
    "        \"Mozilla/5.0 (Windows NT 6.2) AppleWebKit/536.3 (KHTML, like Gecko) Chrome/19.0.1062.0 Safari/536.3\",\n",
    "        \"Mozilla/5.0 (Windows NT 6.1; WOW64) AppleWebKit/536.3 (KHTML, like Gecko) Chrome/19.0.1062.0 Safari/536.3\",\n",
    "        \"Mozilla/5.0 (Windows NT 6.2) AppleWebKit/536.3 (KHTML, like Gecko) Chrome/19.0.1061.1 Safari/536.3\",\n",
    "        \"Mozilla/5.0 (Windows NT 6.1; WOW64) AppleWebKit/536.3 (KHTML, like Gecko) Chrome/19.0.1061.1 Safari/536.3\",\n",
    "        \"Mozilla/5.0 (Windows NT 6.1) AppleWebKit/536.3 (KHTML, like Gecko) Chrome/19.0.1061.1 Safari/536.3\",\n",
    "        \"Mozilla/5.0 (Windows NT 6.2) AppleWebKit/536.3 (KHTML, like Gecko) Chrome/19.0.1061.0 Safari/536.3\",\n",
    "        \"Mozilla/5.0 (X11; Linux x86_64) AppleWebKit/535.24 (KHTML, like Gecko) Chrome/19.0.1055.1 Safari/535.24\",\n",
    "        \"Mozilla/5.0 (Windows NT 6.2; WOW64) AppleWebKit/535.24 (KHTML, like Gecko) Chrome/19.0.1055.1 Safari/535.24\"\n",
    "    ]\n",
    "\n",
    "\n",
    "    query_extract_text =  QUERY_CONTENT\n",
    "    query_extract_journalist = QUERY_CONTENT_JOURNALIST\n",
    "\n",
    "    '''news_title = TITLE\n",
    "    date = DATE'''\n",
    "\n",
    "    def _init_(self):\n",
    "        pass\n",
    "    \n",
    "    \n",
    "\n",
    "    def clean_text(self, html_text):\n",
    "        text_without_tags = w3lib.html.remove_tags(html_text)\n",
    "        text_without_escape_chars = w3lib.html.replace_escape_chars(text_without_tags)\n",
    "        text_without_escape_chars = html.unescape(text_without_escape_chars)\n",
    "        text_without_whitespace = text_without_escape_chars.strip()\n",
    "        return text_without_whitespace\n",
    "\n",
    "    def replace_month_name_to_number(self,date_string):\n",
    "        lower_string = date_string.lower()\n",
    "        for month_id in range(1, 13):\n",
    "            if(lower_string.find(calendar.month_name[month_id].lower())!=-1):\n",
    "                if(month_id>=10):\n",
    "                    return (lower_string.replace(calendar.month_name[month_id].lower(),str(month_id)))\n",
    "                else:\n",
    "                    return (lower_string.replace(calendar.month_name[month_id].lower(),\"0\"+str(month_id)))\n",
    "            if(lower_string.find(calendar.month_abbr[month_id].lower())!=-1):\n",
    "                if(month_id>=10):\n",
    "                    return (lower_string.replace(calendar.month_abbr[month_id].lower(),str(month_id)))\n",
    "                else:\n",
    "                    return (lower_string.replace(calendar.month_abbr[month_id].lower(),\"0\"+str(month_id)))\n",
    "                    \n",
    "    #Se puede modificar\n",
    "    def format_date(self,date):\n",
    "        date = date.split(\"T\")[0]\n",
    "        return(date)\n",
    "\n",
    "    #Se puede modificar\n",
    "    def parse(self, response):\n",
    "        self.news_text = []\n",
    "        self.journalist = []\n",
    "        self.message_to_send = []\n",
    "        self.scraped_url = response.url\n",
    "        \n",
    "        print(response.html)\n",
    "        \n",
    "        news_text_extracted_response = response.html.xpath(self.query_extract_text) \n",
    "        journalist_extracted_response = response.html.xpath(self.query_extract_journalist) \n",
    "        \n",
    "        \n",
    "        for journalists in journalist_extracted_response:\n",
    "            stripped_html_tags = w3lib.html.remove_tags(journalists.text)\n",
    "            #print(stripped_html_tags)\n",
    "            self.journalist.append(stripped_html_tags)\n",
    "\n",
    "        \n",
    "        for part_of_body in news_text_extracted_response:\n",
    "            stripped_html_tags = w3lib.html.remove_tags(part_of_body.text)\n",
    "            text_cleaned = self.clean_text(stripped_html_tags)\n",
    "            self.news_text.append(text_cleaned)\n",
    "\n",
    "    def start_request(self,url):\n",
    "        headers = {'user-agent':random.choice(self.USER_AGENT_LIST) }\n",
    "        session = HTMLSession()\n",
    "        response = session.get(url,headers=headers)        \n",
    "        return response      "
   ]
  },
  {
   "cell_type": "code",
   "execution_count": null,
   "metadata": {},
   "outputs": [],
   "source": [
    "## el 10 de abajo deberia ser len(data)"
   ]
  },
  {
   "cell_type": "code",
   "execution_count": 16,
   "metadata": {},
   "outputs": [
    {
     "name": "stdout",
     "output_type": "stream",
     "text": [
      "obteniendo la noticia Verdict expected in trial of man who threw trailer hitch at Indigenous woman in Thunder Bay, Ont.\n",
      "<HTML url='https://globalnews.ca/news/7519604/verdict-in-trial-of-man-who-threw-trailer-hitch-at-indigenous-woman-thunder-bay/'>\n",
      "obteniendo la noticia Single-digit increases in COVID cases continue Sunday in Atlantic Canada\n",
      "<HTML url='https://globalnews.ca/news/7519547/covid-cases-sunday-atlantic-canada/'>\n",
      "obteniendo la noticia &#8216;Violent&#8217; arrest of Black SFU alumnus at Burnaby campus draws fire\n",
      "<HTML url='https://globalnews.ca/news/7519374/violent-arrest-of-black-sfu-alumnus-at-burnaby-campus-draws-fire/'>\n",
      "obteniendo la noticia Organizer of Kelowna’s anti-COVID-19 restriction protest fined: police\n",
      "<HTML url='https://globalnews.ca/news/7519551/kelowna-covid-protest-organizer-fined/'>\n",
      "obteniendo la noticia Alfonso Gagliano, former Liberal cabinet minister, dies at 78\n",
      "<HTML url='https://globalnews.ca/news/7519550/alfonso-gagliano-dies-former-liberal-cabinet-minister/'>\n",
      "obteniendo la noticia 5 new coronavirus cases linked to schools in London and Middlesex\n",
      "<HTML url='https://globalnews.ca/news/7519406/5-coronavirus-cases-schools-london-middlesex/'>\n",
      "obteniendo la noticia Coronavirus: Latest developments in the Greater Toronto Area on Dec. 13\n",
      "<HTML url='https://globalnews.ca/news/7519329/coronavirus-toronto-peel-york-durham-december-13-covid-19/#038;preview=true&%23038;preview_id=7519329'>\n",
      "obteniendo la noticia Death linked to UH outbreak, 23 new coronavirus cases reported in London and Middlesex\n",
      "<HTML url='https://globalnews.ca/news/7519295/coronavirus-london-middlesex-dec-13/'>\n",
      "obteniendo la noticia Recipe: Boursin cocktail biscuits\n",
      "<HTML url='https://globalnews.ca/news/7519528/recipe-boursin-cocktail-biscuits/'>\n",
      "obteniendo la noticia A look at how many coronavirus vaccines Canada will receive, and when\n",
      "<HTML url='https://globalnews.ca/news/7519279/coronavirus-vaccine-canada-numbers/#038;preview=true&%23038;preview_id=7519279'>\n"
     ]
    }
   ],
   "source": [
    "for i in range (10):\n",
    "    scraper = Scraper()\n",
    "    print('obteniendo la noticia '+data[i]['title'])\n",
    "    SEED_SCRAP = data[i]['url']\n",
    "    response =scraper.start_request(SEED_SCRAP)\n",
    "    scraper.parse(response)\n",
    "    #falta añadir el nombre del periodsita y texto\n",
    "    data[i]['text'] = scraper.news_text\n",
    "    data[i]['journalist'] = scraper.journalist"
   ]
  },
  {
   "cell_type": "code",
   "execution_count": 19,
   "metadata": {},
   "outputs": [
    {
     "data": {
      "text/plain": [
       "{'url': 'https://globalnews.ca/?p=7519551',\n",
       " 'title': 'Organizer of Kelowna’s anti-COVID-19 restriction protest fined: police',\n",
       " 'date': '2020-12-13T19:23:05',\n",
       " 'text': ['RCMP say they have fined an organizer of the large anti-COVID_19 restriction protest that marched through the downtown streets of Kelowna on Saturday.',\n",
       "  '“We would like to remind the public that if they are engaging in activities contrary to the provincial public health order, they could be issued a ticket,” wrote Cpl. Jocelyn Noseworthy\\xa0in an email.',\n",
       "  '“At this time, I can advise that a ticket was issued to one of the organizers of this gathering for violating the provincial public health order.”',\n",
       "  'The organizer self-identified themselves to police, which led to a ticket being issued for the fine of $2,300.',\n",
       "  'Kelowna RCMP acknowledged that people in Canada have the democratic right to peaceful protest.',\n",
       "  'However, police say it is up to their discretion to balance a citizen’s rights with the current potential health risks associated with large public gatherings.',\n",
       "  '“We all have a key role to play during this health emergency, and there are many members of the public respecting the prevention orders from the public health authorities that are not optional,” Noseworthy said.',\n",
       "  '“Public safety is a priority for the RCMP and we encourage everyone to adhere to the orders being implemented to keep everyone safe and reduce the risks.”',\n",
       "  'Protesters by the hundreds gathered in Kelowna’s downtown core for an anti-COVID-19-restriction rally on Saturday.',\n",
       "  'Protests against provincial health orders have been happening regularly in Kelowna, but this rally was by far the largest to date.',\n",
       "  'Global News was on scene, with one male protester saying “the fake news is here,” then later adding “you’re not welcome here,” though the rally was being held on public land.'],\n",
       " 'journalist': ['Darrian Matassa-Fung']}"
      ]
     },
     "execution_count": 19,
     "metadata": {},
     "output_type": "execute_result"
    }
   ],
   "source": [
    "data[3]"
   ]
  },
  {
   "cell_type": "code",
   "execution_count": 20,
   "metadata": {},
   "outputs": [],
   "source": [
    "# Almacenar los datos en un archivo json\n",
    "with open('canada_global_news.json', 'w') as f:\n",
    "    json.dump(data, f)"
   ]
  },
  {
   "cell_type": "code",
   "execution_count": null,
   "metadata": {},
   "outputs": [],
   "source": []
  }
 ],
 "metadata": {
  "kernelspec": {
   "display_name": "Python 3",
   "language": "python",
   "name": "python3"
  },
  "language_info": {
   "codemirror_mode": {
    "name": "ipython",
    "version": 3
   },
   "file_extension": ".py",
   "mimetype": "text/x-python",
   "name": "python",
   "nbconvert_exporter": "python",
   "pygments_lexer": "ipython3",
   "version": "3.8.5"
  }
 },
 "nbformat": 4,
 "nbformat_minor": 4
}
