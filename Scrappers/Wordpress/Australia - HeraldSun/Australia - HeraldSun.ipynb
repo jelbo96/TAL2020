{
 "cells": [
  {
   "cell_type": "code",
   "execution_count": 1,
   "metadata": {},
   "outputs": [],
   "source": [
    "SEED_CRAWL = 'https://www.heraldsun.com.au/wp-json/wp/v2/posts?page=1'"
   ]
  },
  {
   "cell_type": "code",
   "execution_count": 2,
   "metadata": {},
   "outputs": [],
   "source": [
    "import random\n",
    "import requests\n",
    "from requests_html import HTMLSession\n",
    "from requests_html import HTML\n",
    "import os\n",
    "import json\n",
    "import validators"
   ]
  },
  {
   "cell_type": "code",
   "execution_count": 3,
   "metadata": {},
   "outputs": [],
   "source": [
    "class Crawler:\n",
    "    \n",
    "    USER_AGENT_LIST = [\n",
    "        \"Mozilla/5.0 (Windows NT 6.1; WOW64) AppleWebKit/537.1 (KHTML, like Gecko) Chrome/22.0.1207.1 Safari/537.1\",\n",
    "        \"Mozilla/5.0 (X11; CrOS i686 2268.111.0) AppleWebKit/536.11 (KHTML, like Gecko) Chrome/20.0.1132.57 Safari/536.11\",\n",
    "        \"Mozilla/5.0 (Windows NT 6.1; WOW64) AppleWebKit/536.6 (KHTML, like Gecko) Chrome/20.0.1092.0 Safari/536.6\",\n",
    "        \"Mozilla/5.0 (Windows NT 6.2) AppleWebKit/536.6 (KHTML, like Gecko) Chrome/20.0.1090.0 Safari/536.6\",\n",
    "        \"Mozilla/5.0 (Windows NT 6.2; WOW64) AppleWebKit/537.1 (KHTML, like Gecko) Chrome/19.77.34.5 Safari/537.1\",\n",
    "        \"Mozilla/5.0 (X11; Linux x86_64) AppleWebKit/536.5 (KHTML, like Gecko) Chrome/19.0.1084.9 Safari/536.5\",\n",
    "        \"Mozilla/5.0 (Windows NT 6.0) AppleWebKit/536.5 (KHTML, like Gecko) Chrome/19.0.1084.36 Safari/536.5\",\n",
    "        \"Mozilla/5.0 (Windows NT 6.1; WOW64) AppleWebKit/536.3 (KHTML, like Gecko) Chrome/19.0.1063.0 Safari/536.3\",\n",
    "        \"Mozilla/5.0 (Windows NT 5.1) AppleWebKit/536.3 (KHTML, like Gecko) Chrome/19.0.1063.0 Safari/536.3\",\n",
    "        \"Mozilla/5.0 (Macintosh; Intel Mac OS X 10_8_0) AppleWebKit/536.3 (KHTML, like Gecko) Chrome/19.0.1063.0 Safari/536.3\",\n",
    "        \"Mozilla/5.0 (Windows NT 6.2) AppleWebKit/536.3 (KHTML, like Gecko) Chrome/19.0.1062.0 Safari/536.3\",\n",
    "        \"Mozilla/5.0 (Windows NT 6.1; WOW64) AppleWebKit/536.3 (KHTML, like Gecko) Chrome/19.0.1062.0 Safari/536.3\",\n",
    "        \"Mozilla/5.0 (Windows NT 6.2) AppleWebKit/536.3 (KHTML, like Gecko) Chrome/19.0.1061.1 Safari/536.3\",\n",
    "        \"Mozilla/5.0 (Windows NT 6.1; WOW64) AppleWebKit/536.3 (KHTML, like Gecko) Chrome/19.0.1061.1 Safari/536.3\",\n",
    "        \"Mozilla/5.0 (Windows NT 6.1) AppleWebKit/536.3 (KHTML, like Gecko) Chrome/19.0.1061.1 Safari/536.3\",\n",
    "        \"Mozilla/5.0 (Windows NT 6.2) AppleWebKit/536.3 (KHTML, like Gecko) Chrome/19.0.1061.0 Safari/536.3\",\n",
    "        \"Mozilla/5.0 (X11; Linux x86_64) AppleWebKit/535.24 (KHTML, like Gecko) Chrome/19.0.1055.1 Safari/535.24\",\n",
    "        \"Mozilla/5.0 (Windows NT 6.2; WOW64) AppleWebKit/535.24 (KHTML, like Gecko) Chrome/19.0.1055.1 Safari/535.24\"\n",
    "]\n",
    "\n",
    "\n",
    "\n",
    "    all_json_to_send = []\n",
    "    \n",
    "    \n",
    "    def _init_(self):\n",
    "        pass\n",
    "    \n",
    "    \n",
    "    def start_request(self,url):\n",
    "        session = HTMLSession()\n",
    "        header = dict()\n",
    "        header['user-agent'] = random.choice(self.USER_AGENT_LIST)\n",
    "        response = session.get(url,headers=header)        \n",
    "        return response\n",
    "    \n",
    "    \n",
    "    def parse(self, response):\n",
    "        self.all_json_to_send = []\n",
    "        json_data = json.loads(response.html.html)\n",
    "        for url_data in json_data: \n",
    "            json_to_send = {}\n",
    "            json_to_send[\"url\"] = url_data[\"link\"]\n",
    "            self.all_json_to_send.append(json_to_send)  "
   ]
  },
  {
   "cell_type": "code",
   "execution_count": 4,
   "metadata": {},
   "outputs": [],
   "source": [
    "crawler = Crawler()\n",
    "\n",
    "response = crawler.start_request(SEED_CRAWL)"
   ]
  },
  {
   "cell_type": "code",
   "execution_count": 5,
   "metadata": {},
   "outputs": [
    {
     "data": {
      "text/plain": [
       "'[{\"id\":28816,\"date\":\"2021-01-05T07:14:41\",\"date_gmt\":\"2021-01-04T20:14:41\",\"guid\":{\"rendered\":\"https:\\\\/\\\\/www.realestate.com.au\\\\/news\\\\/wallabies-star-michael-hooper-buys-fourbedroom-home-in-manly\\\\/?rsf=syn:news:nca:news:spa:strap\"},\"modified\":\"2021-01-05T07:14:41\",\"modified_gmt\":\"2021-01-04T20:14:41\",\"slug\":\"4a4b0a2a0750ba85d8b6875b8584ab27\",\"status\":\"publish\",\"type\":\"post\",\"link\":\"https:\\\\/\\\\/www.realestate.com.au\\\\/news\\\\/nsw-real-estate-spending-hit-new-heights-in-2020-as-covid-spurred-home-buying-frenzy\\\\/?rsf=syn:news:nca:news:spa:strap\",\"title\":{\"rendered\":\"COVID-effect coaxing buyers to spend more\"},\"content\":{\"rendered\":\"\",\"protected\":false},\"excerpt\":{\"rendered\":\"\",\"protected\":false},\"author\":0,\"featured_media\":0,\"comment_status\":\"open\",\"ping_status\":\"open\",\"sticky\":false,\"template\":\"\",\"format\":\"standard\",\"meta\":{\"spay_email\":\"\"},\"categories\":[1],\"tags\":[],\"topics\":[],\"jetpack_featured_media_url\":\"\",\"_links\":{\"self\":[{\"href\":\"https:\\\\/\\\\/www.heraldsun.com.au\\\\/wp-json\\\\/wp\\\\/v2\\\\/posts\\\\/28816\"}],\"collection\":[{\"href\":\"https:\\\\/\\\\/www.heraldsun.com.au\\\\/wp-json\\\\/wp\\\\/v2\\\\/posts\"}],\"about\":[{\"href\":\"https:\\\\/\\\\/www.heraldsun.com.au\\\\/wp-json\\\\/wp\\\\/v2\\\\/types\\\\/post\"}],\"replies\":[{\"embeddable\":true,\"href\":\"https:\\\\/\\\\/www.heraldsun.com.au\\\\/wp-json\\\\/wp\\\\/v2\\\\/comments?post=28816\"}],\"version-history\":[{\"count\":1,\"href\":\"https:\\\\/\\\\/www.heraldsun.com.au\\\\/wp-json\\\\/wp\\\\/v2\\\\/posts\\\\/28816\\\\/revisions\"}],\"predecessor-version\":[{\"id\":28897,\"href\":\"https:\\\\/\\\\/www.heraldsun.com.au\\\\/wp-json\\\\/wp\\\\/v2\\\\/posts\\\\/28816\\\\/revisions\\\\/28897\"}],\"wp:attachment\":[{\"href\":\"https:\\\\/\\\\/www.heraldsun.com.au\\\\/wp-json\\\\/wp\\\\/v2\\\\/media?parent=28816\"}],\"wp:term\":[{\"taxonomy\":\"category\",\"embeddable\":true,\"href\":\"https:\\\\/\\\\/www.heraldsun.com.au\\\\/wp-json\\\\/wp\\\\/v2\\\\/categories?post=28816\"},{\"taxonomy\":\"post_tag\",\"embeddable\":true,\"href\":\"https:\\\\/\\\\/www.heraldsun.com.au\\\\/wp-json\\\\/wp\\\\/v2\\\\/tags?post=28816\"},{\"taxonomy\":\"topics\",\"embeddable\":true,\"href\":\"https:\\\\/\\\\/www.heraldsun.com.au\\\\/wp-json\\\\/wp\\\\/v2\\\\/topics?post=28816\"}],\"curies\":[{\"name\":\"wp\",\"href\":\"https:\\\\/\\\\/api.w.org\\\\/{rel}\",\"templated\":true}]}},{\"id\":11712326,\"date\":\"2021-01-05T07:10:05\",\"date_gmt\":\"2021-01-04T20:10:05\",\"guid\":{\"rendered\":\"https:\\\\/\\\\/origin.go.heraldsun.com.au\\\\/news\\\\/national\\\\/ash-spews-from-mexicos-popocatepetl-volcano\\\\/video\\\\/5d90678dd6d86b265606d6a0561e0cce\"},\"modified\":\"2021-01-05T07:10:55\",\"modified_gmt\":\"2021-01-04T20:10:55\",\"slug\":\"5d90678dd6d86b265606d6a0561e0cce\",\"status\":\"publish\",\"type\":\"post\",\"link\":\"https:\\\\/\\\\/www.heraldsun.com.au\\\\/news\\\\/national\\\\/ash-spews-from-mexicos-popocatepetl-volcano\\\\/video\\\\/5d90678dd6d86b265606d6a0561e0cce\",\"title\":{\"rendered\":\"Ash Spews From Mexico&#8217;s Popocatepetl Volcano\"},\"content\":{\"rendered\":\"\",\"protected\":false},\"excerpt\":{\"rendered\":\"\",\"protected\":false},\"author\":0,\"featured_media\":0,\"comment_status\":\"open\",\"ping_status\":\"open\",\"sticky\":false,\"template\":\"\",\"format\":\"standard\",\"meta\":{\"spay_email\":\"\"},\"categories\":[1833],\"tags\":[],\"topics\":[],\"jetpack_featured_media_url\":\"\",\"_links\":{\"self\":[{\"href\":\"https:\\\\/\\\\/www.heraldsun.com.au\\\\/wp-json\\\\/wp\\\\/v2\\\\/posts\\\\/11712326\"}],\"collection\":[{\"href\":\"https:\\\\/\\\\/www.heraldsun.com.au\\\\/wp-json\\\\/wp\\\\/v2\\\\/posts\"}],\"about\":[{\"href\":\"https:\\\\/\\\\/www.heraldsun.com.au\\\\/wp-json\\\\/wp\\\\/v2\\\\/types\\\\/post\"}],\"replies\":[{\"embeddable\":true,\"href\":\"https:\\\\/\\\\/www.heraldsun.com.au\\\\/wp-json\\\\/wp\\\\/v2\\\\/comments?post=11712326\"}],\"version-history\":[{\"count\":0,\"href\":\"https:\\\\/\\\\/www.heraldsun.com.au\\\\/wp-json\\\\/wp\\\\/v2\\\\/posts\\\\/11712326\\\\/revisions\"}],\"wp:attachment\":[{\"href\":\"https:\\\\/\\\\/www.heraldsun.com.au\\\\/wp-json\\\\/wp\\\\/v2\\\\/media?parent=11712326\"}],\"wp:term\":[{\"taxonomy\":\"category\",\"embeddable\":true,\"href\":\"https:\\\\/\\\\/www.heraldsun.com.au\\\\/wp-json\\\\/wp\\\\/v2\\\\/categories?post=11712326\"},{\"taxonomy\":\"post_tag\",\"embeddable\":true,\"href\":\"https:\\\\/\\\\/www.heraldsun.com.au\\\\/wp-json\\\\/wp\\\\/v2\\\\/tags?post=11712326\"},{\"taxonomy\":\"topics\",\"embeddable\":true,\"href\":\"https:\\\\/\\\\/www.heraldsun.com.au\\\\/wp-json\\\\/wp\\\\/v2\\\\/topics?post=11712326\"}],\"curies\":[{\"name\":\"wp\",\"href\":\"https:\\\\/\\\\/api.w.org\\\\/{rel}\",\"templated\":true}]}},{\"id\":29201,\"date\":\"2021-01-05T07:08:31\",\"date_gmt\":\"2021-01-04T20:08:31\",\"guid\":{\"rendered\":\"https:\\\\/\\\\/www.realestate.com.au\\\\/news\\\\/real-estate-recovery-begins-according-to-new-sales-data\\\\/?rsf=syn:news:nca:news:spa:strap\"},\"modified\":\"2021-01-05T07:08:31\",\"modified_gmt\":\"2021-01-04T20:08:31\",\"slug\":\"1f6481efbd607ebd8a409eacad64761d\",\"status\":\"publish\",\"type\":\"post\",\"link\":\"https:\\\\/\\\\/www.realestate.com.au\\\\/news\\\\/got-star-sells-swish-la-home-at-a-substantial-loss\\\\/?rsf=syn:news:nca:news:spa:strap\",\"title\":{\"rendered\":\"GoT star\\\\u2019s latest project makes big loss\"},\"content\":{\"rendered\":\"\",\"protected\":false},\"excerpt\":{\"rendered\":\"\",\"protected\":false},\"author\":0,\"featured_media\":0,\"comment_status\":\"open\",\"ping_status\":\"open\",\"sticky\":false,\"template\":\"\",\"format\":\"standard\",\"meta\":{\"spay_email\":\"\"},\"categories\":[1],\"tags\":[],\"topics\":[],\"jetpack_featured_media_url\":\"\",\"_links\":{\"self\":[{\"href\":\"https:\\\\/\\\\/www.heraldsun.com.au\\\\/wp-json\\\\/wp\\\\/v2\\\\/posts\\\\/29201\"}],\"collection\":[{\"href\":\"https:\\\\/\\\\/www.heraldsun.com.au\\\\/wp-json\\\\/wp\\\\/v2\\\\/posts\"}],\"about\":[{\"href\":\"https:\\\\/\\\\/www.heraldsun.com.au\\\\/wp-json\\\\/wp\\\\/v2\\\\/types\\\\/post\"}],\"replies\":[{\"embeddable\":true,\"href\":\"https:\\\\/\\\\/www.heraldsun.com.au\\\\/wp-json\\\\/wp\\\\/v2\\\\/comments?post=29201\"}],\"version-history\":[{\"count\":1,\"href\":\"https:\\\\/\\\\/www.heraldsun.com.au\\\\/wp-json\\\\/wp\\\\/v2\\\\/posts\\\\/29201\\\\/revisions\"}],\"predecessor-version\":[{\"id\":29203,\"href\":\"https:\\\\/\\\\/www.heraldsun.com.au\\\\/wp-json\\\\/wp\\\\/v2\\\\/posts\\\\/29201\\\\/revisions\\\\/29203\"}],\"wp:attachment\":[{\"href\":\"https:\\\\/\\\\/www.heraldsun.com.au\\\\/wp-json\\\\/wp\\\\/v2\\\\/media?parent=29201\"}],\"wp:term\":[{\"taxonomy\":\"category\",\"embeddable\":true,\"href\":\"https:\\\\/\\\\/www.heraldsun.com.au\\\\/wp-json\\\\/wp\\\\/v2\\\\/categories?post=29201\"},{\"taxonomy\":\"post_tag\",\"embeddable\":true,\"href\":\"https:\\\\/\\\\/www.heraldsun.com.au\\\\/wp-json\\\\/wp\\\\/v2\\\\/tags?post=29201\"},{\"taxonomy\":\"topics\",\"embeddable\":true,\"href\":\"https:\\\\/\\\\/www.heraldsun.com.au\\\\/wp-json\\\\/wp\\\\/v2\\\\/topics?post=29201\"}],\"curies\":[{\"name\":\"wp\",\"href\":\"https:\\\\/\\\\/api.w.org\\\\/{rel}\",\"templated\":true}]}},{\"id\":476,\"date\":\"2021-01-05T07:06:26\",\"date_gmt\":\"2021-01-04T20:06:26\",\"guid\":{\"rendered\":\"https:\\\\/\\\\/origin.go.heraldsun.com.au\\\\/news\\\\/nnrecsportmastheadshstopsport-045552\\\\/collection\\\\/41d2ad34cdd0cd7eac9a6b725ea825ae\"},\"modified\":\"2021-01-05T07:06:26\",\"modified_gmt\":\"2021-01-04T20:06:26\",\"slug\":\"41d2ad34cdd0cd7eac9a6b725ea825ae\",\"status\":\"publish\",\"type\":\"post\",\"link\":\"https:\\\\/\\\\/www.heraldsun.com.au\\\\/news\\\\/nnrecsportmastheadshstopsport-045552\\\\/collection\\\\/41d2ad34cdd0cd7eac9a6b725ea825ae\",\"title\":{\"rendered\":\"NN-REC\\\\/SPORT\\\\/MASTHEADS\\\\/HS-TOP-SPORT (045552)\"},\"content\":{\"rendered\":\"\",\"protected\":false},\"excerpt\":{\"rendered\":\"\",\"protected\":false},\"author\":0,\"featured_media\":0,\"comment_status\":\"open\",\"ping_status\":\"open\",\"sticky\":false,\"template\":\"\",\"format\":\"standard\",\"meta\":{\"spay_email\":\"\"},\"categories\":[1],\"tags\":[],\"topics\":[],\"jetpack_featured_media_url\":\"\",\"_links\":{\"self\":[{\"href\":\"https:\\\\/\\\\/www.heraldsun.com.au\\\\/wp-json\\\\/wp\\\\/v2\\\\/posts\\\\/476\"}],\"collection\":[{\"href\":\"https:\\\\/\\\\/www.heraldsun.com.au\\\\/wp-json\\\\/wp\\\\/v2\\\\/posts\"}],\"about\":[{\"href\":\"https:\\\\/\\\\/www.heraldsun.com.au\\\\/wp-json\\\\/wp\\\\/v2\\\\/types\\\\/post\"}],\"replies\":[{\"embeddable\":true,\"href\":\"https:\\\\/\\\\/www.heraldsun.com.au\\\\/wp-json\\\\/wp\\\\/v2\\\\/comments?post=476\"}],\"version-history\":[{\"count\":10,\"href\":\"https:\\\\/\\\\/www.heraldsun.com.au\\\\/wp-json\\\\/wp\\\\/v2\\\\/posts\\\\/476\\\\/revisions\"}],\"predecessor-version\":[{\"id\":11712307,\"href\":\"https:\\\\/\\\\/www.heraldsun.com.au\\\\/wp-json\\\\/wp\\\\/v2\\\\/posts\\\\/476\\\\/revisions\\\\/11712307\"}],\"wp:attachment\":[{\"href\":\"https:\\\\/\\\\/www.heraldsun.com.au\\\\/wp-json\\\\/wp\\\\/v2\\\\/media?parent=476\"}],\"wp:term\":[{\"taxonomy\":\"category\",\"embeddable\":true,\"href\":\"https:\\\\/\\\\/www.heraldsun.com.au\\\\/wp-json\\\\/wp\\\\/v2\\\\/categories?post=476\"},{\"taxonomy\":\"post_tag\",\"embeddable\":true,\"href\":\"https:\\\\/\\\\/www.heraldsun.com.au\\\\/wp-json\\\\/wp\\\\/v2\\\\/tags?post=476\"},{\"taxonomy\":\"topics\",\"embeddable\":true,\"href\":\"https:\\\\/\\\\/www.heraldsun.com.au\\\\/wp-json\\\\/wp\\\\/v2\\\\/topics?post=476\"}],\"curies\":[{\"name\":\"wp\",\"href\":\"https:\\\\/\\\\/api.w.org\\\\/{rel}\",\"templated\":true}]}},{\"id\":11712287,\"date\":\"2021-01-05T07:02:34\",\"date_gmt\":\"2021-01-04T20:02:34\",\"guid\":{\"rendered\":\"https:\\\\/\\\\/origin.go.heraldsun.com.au\\\\/leader\\\\/hyperlocal\\\\/everybody-appearing-in-criminal-matters-at-court-county-court-date\\\\/news-story\\\\/50107fd1603abfa0ddeedb73a109c076\"},\"modified\":\"2021-01-05T07:02:34\",\"modified_gmt\":\"2021-01-04T20:02:34\",\"slug\":\"50107fd1603abfa0ddeedb73a109c076\",\"status\":\"publish\",\"type\":\"post\",\"link\":\"https:\\\\/\\\\/www.heraldsun.com.au\\\\/leader\\\\/hyperlocal\\\\/everybody-appearing-in-criminal-matters-at-court-county-court-date\\\\/news-story\\\\/50107fd1603abfa0ddeedb73a109c076\",\"title\":{\"rendered\":\"Everybody appearing at [court] county court, [date]\"},\"content\":{\"rendered\":\"<p>[courtlist]<\\\\/p>\\\\n\",\"protected\":false},\"excerpt\":{\"rendered\":\"<p><b>These matters will be heard in [court] county court today:<\\\\/b><\\\\/p>\\\\n\",\"protected\":false},\"author\":0,\"featured_media\":0,\"comment_status\":\"open\",\"ping_status\":\"open\",\"sticky\":false,\"template\":\"\",\"format\":\"standard\",\"meta\":{\"spay_email\":\"\"},\"categories\":[1988],\"tags\":[],\"topics\":[],\"jetpack_featured_media_url\":\"\",\"_links\":{\"self\":[{\"href\":\"https:\\\\/\\\\/www.heraldsun.com.au\\\\/wp-json\\\\/wp\\\\/v2\\\\/posts\\\\/11712287\"}],\"collection\":[{\"href\":\"https:\\\\/\\\\/www.heraldsun.com.au\\\\/wp-json\\\\/wp\\\\/v2\\\\/posts\"}],\"about\":[{\"href\":\"https:\\\\/\\\\/www.heraldsun.com.au\\\\/wp-json\\\\/wp\\\\/v2\\\\/types\\\\/post\"}],\"replies\":[{\"embeddable\":true,\"href\":\"https:\\\\/\\\\/www.heraldsun.com.au\\\\/wp-json\\\\/wp\\\\/v2\\\\/comments?post=11712287\"}],\"version-history\":[{\"count\":0,\"href\":\"https:\\\\/\\\\/www.heraldsun.com.au\\\\/wp-json\\\\/wp\\\\/v2\\\\/posts\\\\/11712287\\\\/revisions\"}],\"wp:attachment\":[{\"href\":\"https:\\\\/\\\\/www.heraldsun.com.au\\\\/wp-json\\\\/wp\\\\/v2\\\\/media?parent=11712287\"}],\"wp:term\":[{\"taxonomy\":\"category\",\"embeddable\":true,\"href\":\"https:\\\\/\\\\/www.heraldsun.com.au\\\\/wp-json\\\\/wp\\\\/v2\\\\/categories?post=11712287\"},{\"taxonomy\":\"post_tag\",\"embeddable\":true,\"href\":\"https:\\\\/\\\\/www.heraldsun.com.au\\\\/wp-json\\\\/wp\\\\/v2\\\\/tags?post=11712287\"},{\"taxonomy\":\"topics\",\"embeddable\":true,\"href\":\"https:\\\\/\\\\/www.heraldsun.com.au\\\\/wp-json\\\\/wp\\\\/v2\\\\/topics?post=11712287\"}],\"curies\":[{\"name\":\"wp\",\"href\":\"https:\\\\/\\\\/api.w.org\\\\/{rel}\",\"templated\":true}]}},{\"id\":11712274,\"date\":\"2021-01-05T07:02:34\",\"date_gmt\":\"2021-01-04T20:02:34\",\"guid\":{\"rendered\":\"https:\\\\/\\\\/origin.go.heraldsun.com.au\\\\/leader\\\\/wyndham\\\\/hyperlocal\\\\/everybody-appearing-in-civil-matters-at-sunshine-magistrates-court-local-court-tuesday-january-5\\\\/news-story\\\\/b17e45c43692e050ac4c252ae2b2b2b2\"},\"modified\":\"2021-01-05T07:02:34\",\"modified_gmt\":\"2021-01-04T20:02:34\",\"slug\":\"b17e45c43692e050ac4c252ae2b2b2b2\",\"status\":\"publish\",\"type\":\"post\",\"link\":\"https:\\\\/\\\\/www.heraldsun.com.au\\\\/leader\\\\/wyndham\\\\/hyperlocal\\\\/everybody-appearing-in-civil-matters-at-sunshine-magistrates-court-local-court-tuesday-january-5\\\\/news-story\\\\/b17e45c43692e050ac4c252ae2b2b2b2\",\"title\":{\"rendered\":\"Everybody appearing in civil matters at Sunshine Magistrates&#8217; Court, Tuesday, January 5\"},\"content\":{\"rendered\":\"<p>Kocheski, Hristijan<\\\\/p>\\\\n<p>Ibrahimovic, Sabhaz<\\\\/p>\\\\n<p>Hassan, Yasir Ismail<\\\\/p>\\\\n<p>Sakaio, Tausagafou<\\\\/p>\\\\n\",\"protected\":false},\"excerpt\":{\"rendered\":\"<p><b>These civil matters will be heard in Sunshine Magistrates&#8217; Court today:<\\\\/b><\\\\/p>\\\\n\",\"protected\":false},\"author\":0,\"featured_media\":0,\"comment_status\":\"open\",\"ping_status\":\"open\",\"sticky\":false,\"template\":\"\",\"format\":\"standard\",\"meta\":{\"spay_email\":\"\"},\"categories\":[2087],\"tags\":[],\"topics\":[],\"jetpack_featured_media_url\":\"\",\"_links\":{\"self\":[{\"href\":\"https:\\\\/\\\\/www.heraldsun.com.au\\\\/wp-json\\\\/wp\\\\/v2\\\\/posts\\\\/11712274\"}],\"collection\":[{\"href\":\"https:\\\\/\\\\/www.heraldsun.com.au\\\\/wp-json\\\\/wp\\\\/v2\\\\/posts\"}],\"about\":[{\"href\":\"https:\\\\/\\\\/www.heraldsun.com.au\\\\/wp-json\\\\/wp\\\\/v2\\\\/types\\\\/post\"}],\"replies\":[{\"embeddable\":true,\"href\":\"https:\\\\/\\\\/www.heraldsun.com.au\\\\/wp-json\\\\/wp\\\\/v2\\\\/comments?post=11712274\"}],\"version-history\":[{\"count\":0,\"href\":\"https:\\\\/\\\\/www.heraldsun.com.au\\\\/wp-json\\\\/wp\\\\/v2\\\\/posts\\\\/11712274\\\\/revisions\"}],\"wp:attachment\":[{\"href\":\"https:\\\\/\\\\/www.heraldsun.com.au\\\\/wp-json\\\\/wp\\\\/v2\\\\/media?parent=11712274\"}],\"wp:term\":[{\"taxonomy\":\"category\",\"embeddable\":true,\"href\":\"https:\\\\/\\\\/www.heraldsun.com.au\\\\/wp-json\\\\/wp\\\\/v2\\\\/categories?post=11712274\"},{\"taxonomy\":\"post_tag\",\"embeddable\":true,\"href\":\"https:\\\\/\\\\/www.heraldsun.com.au\\\\/wp-json\\\\/wp\\\\/v2\\\\/tags?post=11712274\"},{\"taxonomy\":\"topics\",\"embeddable\":true,\"href\":\"https:\\\\/\\\\/www.heraldsun.com.au\\\\/wp-json\\\\/wp\\\\/v2\\\\/topics?post=11712274\"}],\"curies\":[{\"name\":\"wp\",\"href\":\"https:\\\\/\\\\/api.w.org\\\\/{rel}\",\"templated\":true}]}},{\"id\":11712273,\"date\":\"2021-01-05T07:02:34\",\"date_gmt\":\"2021-01-04T20:02:34\",\"guid\":{\"rendered\":\"https:\\\\/\\\\/origin.go.heraldsun.com.au\\\\/leader\\\\/wyndham\\\\/hyperlocal\\\\/everybody-appearing-in-civil-matters-at-werribee-magistrates-court-local-court-tuesday-january-5\\\\/news-story\\\\/5af66230593fbe461a79ed25a9a278d1\"},\"modified\":\"2021-01-05T07:02:34\",\"modified_gmt\":\"2021-01-04T20:02:34\",\"slug\":\"5af66230593fbe461a79ed25a9a278d1\",\"status\":\"publish\",\"type\":\"post\",\"link\":\"https:\\\\/\\\\/www.heraldsun.com.au\\\\/leader\\\\/wyndham\\\\/hyperlocal\\\\/everybody-appearing-in-civil-matters-at-werribee-magistrates-court-local-court-tuesday-january-5\\\\/news-story\\\\/5af66230593fbe461a79ed25a9a278d1\",\"title\":{\"rendered\":\"Everybody appearing in civil matters at Werribee Magistrates&#8217; Court, Tuesday, January 5\"},\"content\":{\"rendered\":\"<p>Apera, Maurice<\\\\/p>\\\\n<p>Mathiganesh, Gunalan<\\\\/p>\\\\n<p>Veljanoski, Vlatko<\\\\/p>\\\\n\",\"protected\":false},\"excerpt\":{\"rendered\":\"<p><b>These civil matters will be heard in Werribee Magistrates&#8217; Court today:<\\\\/b><\\\\/p>\\\\n\",\"protected\":false},\"author\":0,\"featured_media\":0,\"comment_status\":\"open\",\"ping_status\":\"open\",\"sticky\":false,\"template\":\"\",\"format\":\"standard\",\"meta\":{\"spay_email\":\"\"},\"categories\":[2087],\"tags\":[],\"topics\":[],\"jetpack_featured_media_url\":\"\",\"_links\":{\"self\":[{\"href\":\"https:\\\\/\\\\/www.heraldsun.com.au\\\\/wp-json\\\\/wp\\\\/v2\\\\/posts\\\\/11712273\"}],\"collection\":[{\"href\":\"https:\\\\/\\\\/www.heraldsun.com.au\\\\/wp-json\\\\/wp\\\\/v2\\\\/posts\"}],\"about\":[{\"href\":\"https:\\\\/\\\\/www.heraldsun.com.au\\\\/wp-json\\\\/wp\\\\/v2\\\\/types\\\\/post\"}],\"replies\":[{\"embeddable\":true,\"href\":\"https:\\\\/\\\\/www.heraldsun.com.au\\\\/wp-json\\\\/wp\\\\/v2\\\\/comments?post=11712273\"}],\"version-history\":[{\"count\":0,\"href\":\"https:\\\\/\\\\/www.heraldsun.com.au\\\\/wp-json\\\\/wp\\\\/v2\\\\/posts\\\\/11712273\\\\/revisions\"}],\"wp:attachment\":[{\"href\":\"https:\\\\/\\\\/www.heraldsun.com.au\\\\/wp-json\\\\/wp\\\\/v2\\\\/media?parent=11712273\"}],\"wp:term\":[{\"taxonomy\":\"category\",\"embeddable\":true,\"href\":\"https:\\\\/\\\\/www.heraldsun.com.au\\\\/wp-json\\\\/wp\\\\/v2\\\\/categories?post=11712273\"},{\"taxonomy\":\"post_tag\",\"embeddable\":true,\"href\":\"https:\\\\/\\\\/www.heraldsun.com.au\\\\/wp-json\\\\/wp\\\\/v2\\\\/tags?post=11712273\"},{\"taxonomy\":\"topics\",\"embeddable\":true,\"href\":\"https:\\\\/\\\\/www.heraldsun.com.au\\\\/wp-json\\\\/wp\\\\/v2\\\\/topics?post=11712273\"}],\"curies\":[{\"name\":\"wp\",\"href\":\"https:\\\\/\\\\/api.w.org\\\\/{rel}\",\"templated\":true}]}},{\"id\":11712272,\"date\":\"2021-01-05T07:02:34\",\"date_gmt\":\"2021-01-04T20:02:34\",\"guid\":{\"rendered\":\"https:\\\\/\\\\/origin.go.heraldsun.com.au\\\\/leader\\\\/melbourne-city\\\\/hyperlocal\\\\/everybody-appearing-in-civil-matters-at-melbourne-magistrates-court-workcover-local-court-tuesday-january-5\\\\/news-story\\\\/e1f18409d9f4a7f8cd1612dafb3e14f1\"},\"modified\":\"2021-01-05T07:02:34\",\"modified_gmt\":\"2021-01-04T20:02:34\",\"slug\":\"e1f18409d9f4a7f8cd1612dafb3e14f1\",\"status\":\"publish\",\"type\":\"post\",\"link\":\"https:\\\\/\\\\/www.heraldsun.com.au\\\\/leader\\\\/melbourne-city\\\\/hyperlocal\\\\/everybody-appearing-in-civil-matters-at-melbourne-magistrates-court-workcover-local-court-tuesday-january-5\\\\/news-story\\\\/e1f18409d9f4a7f8cd1612dafb3e14f1\",\"title\":{\"rendered\":\"Everybody appearing in civil matters at Melbourne Magistrates&#8217; Court (Workcover), Tuesday, January 5\"},\"content\":{\"rendered\":\"<p>Woolworths Group Limited<\\\\/p>\\\\n<p>Woolworths Group Limited<\\\\/p>\\\\n<p>Woolworths Group Ltd<\\\\/p>\\\\n<p>Department Of Health And Human Services<\\\\/p>\\\\n<p>Certis Security Australia (Victoria) Pty<\\\\/p>\\\\n<p>Arcare Pty Ltd<\\\\/p>\\\\n<p>State Of Victoria<\\\\/p>\\\\n<p>Australian Lamb (Colac) Pty Ltd<\\\\/p>\\\\n<p>Eire Group Pty Ltd<\\\\/p>\\\\n<p>Group Resources Pty Ltd<\\\\/p>\\\\n<p>Bity-Mill Services Pty Ltd<\\\\/p>\\\\n<p>Monash Health<\\\\/p>\\\\n<p>Australia And New Zealand Banking Group<\\\\/p>\\\\n<p>Com 1 International Pty Ltd<\\\\/p>\\\\n\",\"protected\":false},\"excerpt\":{\"rendered\":\"<p><b>These civil matters will be heard in Melbourne Magistrates&#8217; Court (Workcover) today:<\\\\/b><\\\\/p>\\\\n\",\"protected\":false},\"author\":0,\"featured_media\":0,\"comment_status\":\"open\",\"ping_status\":\"open\",\"sticky\":false,\"template\":\"\",\"format\":\"standard\",\"meta\":{\"spay_email\":\"\"},\"categories\":[2178],\"tags\":[],\"topics\":[],\"jetpack_featured_media_url\":\"\",\"_links\":{\"self\":[{\"href\":\"https:\\\\/\\\\/www.heraldsun.com.au\\\\/wp-json\\\\/wp\\\\/v2\\\\/posts\\\\/11712272\"}],\"collection\":[{\"href\":\"https:\\\\/\\\\/www.heraldsun.com.au\\\\/wp-json\\\\/wp\\\\/v2\\\\/posts\"}],\"about\":[{\"href\":\"https:\\\\/\\\\/www.heraldsun.com.au\\\\/wp-json\\\\/wp\\\\/v2\\\\/types\\\\/post\"}],\"replies\":[{\"embeddable\":true,\"href\":\"https:\\\\/\\\\/www.heraldsun.com.au\\\\/wp-json\\\\/wp\\\\/v2\\\\/comments?post=11712272\"}],\"version-history\":[{\"count\":0,\"href\":\"https:\\\\/\\\\/www.heraldsun.com.au\\\\/wp-json\\\\/wp\\\\/v2\\\\/posts\\\\/11712272\\\\/revisions\"}],\"wp:attachment\":[{\"href\":\"https:\\\\/\\\\/www.heraldsun.com.au\\\\/wp-json\\\\/wp\\\\/v2\\\\/media?parent=11712272\"}],\"wp:term\":[{\"taxonomy\":\"category\",\"embeddable\":true,\"href\":\"https:\\\\/\\\\/www.heraldsun.com.au\\\\/wp-json\\\\/wp\\\\/v2\\\\/categories?post=11712272\"},{\"taxonomy\":\"post_tag\",\"embeddable\":true,\"href\":\"https:\\\\/\\\\/www.heraldsun.com.au\\\\/wp-json\\\\/wp\\\\/v2\\\\/tags?post=11712272\"},{\"taxonomy\":\"topics\",\"embeddable\":true,\"href\":\"https:\\\\/\\\\/www.heraldsun.com.au\\\\/wp-json\\\\/wp\\\\/v2\\\\/topics?post=11712272\"}],\"curies\":[{\"name\":\"wp\",\"href\":\"https:\\\\/\\\\/api.w.org\\\\/{rel}\",\"templated\":true}]}},{\"id\":11712271,\"date\":\"2021-01-05T07:02:34\",\"date_gmt\":\"2021-01-04T20:02:34\",\"guid\":{\"rendered\":\"https:\\\\/\\\\/origin.go.heraldsun.com.au\\\\/leader\\\\/inner-south\\\\/hyperlocal\\\\/everybody-appearing-in-civil-matters-at-moorabbin-magistrates-court-local-court-tuesday-january-5\\\\/news-story\\\\/d67bd8c46f071e33d3ec1dff8b876ded\"},\"modified\":\"2021-01-05T07:02:34\",\"modified_gmt\":\"2021-01-04T20:02:34\",\"slug\":\"d67bd8c46f071e33d3ec1dff8b876ded\",\"status\":\"publish\",\"type\":\"post\",\"link\":\"https:\\\\/\\\\/www.heraldsun.com.au\\\\/leader\\\\/inner-south\\\\/hyperlocal\\\\/everybody-appearing-in-civil-matters-at-moorabbin-magistrates-court-local-court-tuesday-january-5\\\\/news-story\\\\/d67bd8c46f071e33d3ec1dff8b876ded\",\"title\":{\"rendered\":\"Everybody appearing in civil matters at Moorabbin Magistrates&#8217; Court, Tuesday, January 5\"},\"content\":{\"rendered\":\"<p>Black Cabs Combined Pty Ltd<\\\\/p>\\\\n\",\"protected\":false},\"excerpt\":{\"rendered\":\"<p><b>These civil matters will be heard in Moorabbin Magistrates&#8217; Court today:<\\\\/b><\\\\/p>\\\\n\",\"protected\":false},\"author\":0,\"featured_media\":0,\"comment_status\":\"open\",\"ping_status\":\"open\",\"sticky\":false,\"template\":\"\",\"format\":\"standard\",\"meta\":{\"spay_email\":\"\"},\"categories\":[2088],\"tags\":[],\"topics\":[],\"jetpack_featured_media_url\":\"\",\"_links\":{\"self\":[{\"href\":\"https:\\\\/\\\\/www.heraldsun.com.au\\\\/wp-json\\\\/wp\\\\/v2\\\\/posts\\\\/11712271\"}],\"collection\":[{\"href\":\"https:\\\\/\\\\/www.heraldsun.com.au\\\\/wp-json\\\\/wp\\\\/v2\\\\/posts\"}],\"about\":[{\"href\":\"https:\\\\/\\\\/www.heraldsun.com.au\\\\/wp-json\\\\/wp\\\\/v2\\\\/types\\\\/post\"}],\"replies\":[{\"embeddable\":true,\"href\":\"https:\\\\/\\\\/www.heraldsun.com.au\\\\/wp-json\\\\/wp\\\\/v2\\\\/comments?post=11712271\"}],\"version-history\":[{\"count\":0,\"href\":\"https:\\\\/\\\\/www.heraldsun.com.au\\\\/wp-json\\\\/wp\\\\/v2\\\\/posts\\\\/11712271\\\\/revisions\"}],\"wp:attachment\":[{\"href\":\"https:\\\\/\\\\/www.heraldsun.com.au\\\\/wp-json\\\\/wp\\\\/v2\\\\/media?parent=11712271\"}],\"wp:term\":[{\"taxonomy\":\"category\",\"embeddable\":true,\"href\":\"https:\\\\/\\\\/www.heraldsun.com.au\\\\/wp-json\\\\/wp\\\\/v2\\\\/categories?post=11712271\"},{\"taxonomy\":\"post_tag\",\"embeddable\":true,\"href\":\"https:\\\\/\\\\/www.heraldsun.com.au\\\\/wp-json\\\\/wp\\\\/v2\\\\/tags?post=11712271\"},{\"taxonomy\":\"topics\",\"embeddable\":true,\"href\":\"https:\\\\/\\\\/www.heraldsun.com.au\\\\/wp-json\\\\/wp\\\\/v2\\\\/topics?post=11712271\"}],\"curies\":[{\"name\":\"wp\",\"href\":\"https:\\\\/\\\\/api.w.org\\\\/{rel}\",\"templated\":true}]}},{\"id\":11712270,\"date\":\"2021-01-05T07:02:34\",\"date_gmt\":\"2021-01-04T20:02:34\",\"guid\":{\"rendered\":\"https:\\\\/\\\\/origin.go.heraldsun.com.au\\\\/leader\\\\/east\\\\/hyperlocal\\\\/everybody-appearing-in-civil-matters-at-heidelberg-magistrates-court-local-court-tuesday-january-5\\\\/news-story\\\\/9f46f7a5b3021ccee093c002ab7a86ff\"},\"modified\":\"2021-01-05T07:02:34\",\"modified_gmt\":\"2021-01-04T20:02:34\",\"slug\":\"9f46f7a5b3021ccee093c002ab7a86ff\",\"status\":\"publish\",\"type\":\"post\",\"link\":\"https:\\\\/\\\\/www.heraldsun.com.au\\\\/leader\\\\/east\\\\/hyperlocal\\\\/everybody-appearing-in-civil-matters-at-heidelberg-magistrates-court-local-court-tuesday-january-5\\\\/news-story\\\\/9f46f7a5b3021ccee093c002ab7a86ff\",\"title\":{\"rendered\":\"Everybody appearing in civil matters at Heidelberg Magistrates&#8217; Court, Tuesday, January 5\"},\"content\":{\"rendered\":\"<p>Toma, Ghanim<\\\\/p>\\\\n<p>Ker, Jacquelyn L<\\\\/p>\\\\n<p>Karalis, Nicolaos<\\\\/p>\\\\n<p>Jackson, Lucy R<\\\\/p>\\\\n\",\"protected\":false},\"excerpt\":{\"rendered\":\"<p><b>These civil matters will be heard in Heidelberg Magistrates&#8217; Court today:<\\\\/b><\\\\/p>\\\\n\",\"protected\":false},\"author\":0,\"featured_media\":0,\"comment_status\":\"open\",\"ping_status\":\"open\",\"sticky\":false,\"template\":\"\",\"format\":\"standard\",\"meta\":{\"spay_email\":\"\"},\"categories\":[2127],\"tags\":[],\"topics\":[],\"jetpack_featured_media_url\":\"\",\"_links\":{\"self\":[{\"href\":\"https:\\\\/\\\\/www.heraldsun.com.au\\\\/wp-json\\\\/wp\\\\/v2\\\\/posts\\\\/11712270\"}],\"collection\":[{\"href\":\"https:\\\\/\\\\/www.heraldsun.com.au\\\\/wp-json\\\\/wp\\\\/v2\\\\/posts\"}],\"about\":[{\"href\":\"https:\\\\/\\\\/www.heraldsun.com.au\\\\/wp-json\\\\/wp\\\\/v2\\\\/types\\\\/post\"}],\"replies\":[{\"embeddable\":true,\"href\":\"https:\\\\/\\\\/www.heraldsun.com.au\\\\/wp-json\\\\/wp\\\\/v2\\\\/comments?post=11712270\"}],\"version-history\":[{\"count\":0,\"href\":\"https:\\\\/\\\\/www.heraldsun.com.au\\\\/wp-json\\\\/wp\\\\/v2\\\\/posts\\\\/11712270\\\\/revisions\"}],\"wp:attachment\":[{\"href\":\"https:\\\\/\\\\/www.heraldsun.com.au\\\\/wp-json\\\\/wp\\\\/v2\\\\/media?parent=11712270\"}],\"wp:term\":[{\"taxonomy\":\"category\",\"embeddable\":true,\"href\":\"https:\\\\/\\\\/www.heraldsun.com.au\\\\/wp-json\\\\/wp\\\\/v2\\\\/categories?post=11712270\"},{\"taxonomy\":\"post_tag\",\"embeddable\":true,\"href\":\"https:\\\\/\\\\/www.heraldsun.com.au\\\\/wp-json\\\\/wp\\\\/v2\\\\/tags?post=11712270\"},{\"taxonomy\":\"topics\",\"embeddable\":true,\"href\":\"https:\\\\/\\\\/www.heraldsun.com.au\\\\/wp-json\\\\/wp\\\\/v2\\\\/topics?post=11712270\"}],\"curies\":[{\"name\":\"wp\",\"href\":\"https:\\\\/\\\\/api.w.org\\\\/{rel}\",\"templated\":true}]}}]'"
      ]
     },
     "execution_count": 5,
     "metadata": {},
     "output_type": "execute_result"
    }
   ],
   "source": [
    "response.html.html"
   ]
  },
  {
   "cell_type": "code",
   "execution_count": 6,
   "metadata": {},
   "outputs": [],
   "source": [
    "crawler.parse(response)"
   ]
  },
  {
   "cell_type": "code",
   "execution_count": 7,
   "metadata": {},
   "outputs": [
    {
     "data": {
      "text/plain": [
       "[{'url': 'https://www.realestate.com.au/news/nsw-real-estate-spending-hit-new-heights-in-2020-as-covid-spurred-home-buying-frenzy/?rsf=syn:news:nca:news:spa:strap'},\n",
       " {'url': 'https://www.heraldsun.com.au/news/national/ash-spews-from-mexicos-popocatepetl-volcano/video/5d90678dd6d86b265606d6a0561e0cce'},\n",
       " {'url': 'https://www.realestate.com.au/news/got-star-sells-swish-la-home-at-a-substantial-loss/?rsf=syn:news:nca:news:spa:strap'},\n",
       " {'url': 'https://www.heraldsun.com.au/news/nnrecsportmastheadshstopsport-045552/collection/41d2ad34cdd0cd7eac9a6b725ea825ae'},\n",
       " {'url': 'https://www.heraldsun.com.au/leader/hyperlocal/everybody-appearing-in-criminal-matters-at-court-county-court-date/news-story/50107fd1603abfa0ddeedb73a109c076'},\n",
       " {'url': 'https://www.heraldsun.com.au/leader/wyndham/hyperlocal/everybody-appearing-in-civil-matters-at-sunshine-magistrates-court-local-court-tuesday-january-5/news-story/b17e45c43692e050ac4c252ae2b2b2b2'},\n",
       " {'url': 'https://www.heraldsun.com.au/leader/wyndham/hyperlocal/everybody-appearing-in-civil-matters-at-werribee-magistrates-court-local-court-tuesday-january-5/news-story/5af66230593fbe461a79ed25a9a278d1'},\n",
       " {'url': 'https://www.heraldsun.com.au/leader/melbourne-city/hyperlocal/everybody-appearing-in-civil-matters-at-melbourne-magistrates-court-workcover-local-court-tuesday-january-5/news-story/e1f18409d9f4a7f8cd1612dafb3e14f1'},\n",
       " {'url': 'https://www.heraldsun.com.au/leader/inner-south/hyperlocal/everybody-appearing-in-civil-matters-at-moorabbin-magistrates-court-local-court-tuesday-january-5/news-story/d67bd8c46f071e33d3ec1dff8b876ded'},\n",
       " {'url': 'https://www.heraldsun.com.au/leader/east/hyperlocal/everybody-appearing-in-civil-matters-at-heidelberg-magistrates-court-local-court-tuesday-january-5/news-story/9f46f7a5b3021ccee093c002ab7a86ff'}]"
      ]
     },
     "execution_count": 7,
     "metadata": {},
     "output_type": "execute_result"
    }
   ],
   "source": [
    "crawler.all_json_to_send"
   ]
  },
  {
   "cell_type": "code",
   "execution_count": 8,
   "metadata": {},
   "outputs": [],
   "source": [
    "assert(len(crawler.all_json_to_send)>0) "
   ]
  },
  {
   "cell_type": "code",
   "execution_count": 9,
   "metadata": {},
   "outputs": [],
   "source": [
    "assert validators.url(crawler.all_json_to_send[0][\"url\"])"
   ]
  },
  {
   "cell_type": "code",
   "execution_count": 10,
   "metadata": {},
   "outputs": [],
   "source": [
    "SEED_SCRAP = 'https://www.heraldsun.com.au/lifestyle/home-garden/how-20000-could-make-a-small-yet-mighty-difference-to-your-home/news-story/72d3e7942acde127887f41fd8faf9538'\n"
   ]
  },
  {
   "cell_type": "code",
   "execution_count": 11,
   "metadata": {},
   "outputs": [],
   "source": [
    "QUERY_TITLE = \"//h1[@id='story-headline']\"\n",
    "QUERY_CONTENT =  \"//div[@id='story-body']/p\"\n",
    "QUERY_DATE = \"//div[@id='publish-date']\""
   ]
  },
  {
   "cell_type": "code",
   "execution_count": 12,
   "metadata": {},
   "outputs": [],
   "source": [
    "import json\n",
    "import w3lib.html\n",
    "import random\n",
    "import os\n",
    "import datetime\n",
    "import requests\n",
    "import string\n",
    "import calendar\n",
    "import html\n",
    "import locale \n",
    "import datefinder\n",
    "from requests_html import HTMLSession\n",
    "import re"
   ]
  },
  {
   "cell_type": "code",
   "execution_count": 13,
   "metadata": {},
   "outputs": [],
   "source": [
    "class Scraper:\n",
    "    \n",
    "    USER_AGENT_LIST = [\n",
    "        \"Mozilla/5.0 (Windows NT 6.1; WOW64) AppleWebKit/537.1 (KHTML, like Gecko) Chrome/22.0.1207.1 Safari/537.1\",\n",
    "        \"Mozilla/5.0 (X11; CrOS i686 2268.111.0) AppleWebKit/536.11 (KHTML, like Gecko) Chrome/20.0.1132.57 Safari/536.11\",\n",
    "        \"Mozilla/5.0 (Windows NT 6.1; WOW64) AppleWebKit/536.6 (KHTML, like Gecko) Chrome/20.0.1092.0 Safari/536.6\",\n",
    "        \"Mozilla/5.0 (Windows NT 6.2) AppleWebKit/536.6 (KHTML, like Gecko) Chrome/20.0.1090.0 Safari/536.6\",\n",
    "        \"Mozilla/5.0 (Windows NT 6.2; WOW64) AppleWebKit/537.1 (KHTML, like Gecko) Chrome/19.77.34.5 Safari/537.1\",\n",
    "        \"Mozilla/5.0 (X11; Linux x86_64) AppleWebKit/536.5 (KHTML, like Gecko) Chrome/19.0.1084.9 Safari/536.5\",\n",
    "        \"Mozilla/5.0 (Windows NT 6.0) AppleWebKit/536.5 (KHTML, like Gecko) Chrome/19.0.1084.36 Safari/536.5\",\n",
    "        \"Mozilla/5.0 (Windows NT 6.1; WOW64) AppleWebKit/536.3 (KHTML, like Gecko) Chrome/19.0.1063.0 Safari/536.3\",\n",
    "        \"Mozilla/5.0 (Windows NT 5.1) AppleWebKit/536.3 (KHTML, like Gecko) Chrome/19.0.1063.0 Safari/536.3\",\n",
    "        \"Mozilla/5.0 (Macintosh; Intel Mac OS X 10_8_0) AppleWebKit/536.3 (KHTML, like Gecko) Chrome/19.0.1063.0 Safari/536.3\",\n",
    "        \"Mozilla/5.0 (Windows NT 6.2) AppleWebKit/536.3 (KHTML, like Gecko) Chrome/19.0.1062.0 Safari/536.3\",\n",
    "        \"Mozilla/5.0 (Windows NT 6.1; WOW64) AppleWebKit/536.3 (KHTML, like Gecko) Chrome/19.0.1062.0 Safari/536.3\",\n",
    "        \"Mozilla/5.0 (Windows NT 6.2) AppleWebKit/536.3 (KHTML, like Gecko) Chrome/19.0.1061.1 Safari/536.3\",\n",
    "        \"Mozilla/5.0 (Windows NT 6.1; WOW64) AppleWebKit/536.3 (KHTML, like Gecko) Chrome/19.0.1061.1 Safari/536.3\",\n",
    "        \"Mozilla/5.0 (Windows NT 6.1) AppleWebKit/536.3 (KHTML, like Gecko) Chrome/19.0.1061.1 Safari/536.3\",\n",
    "        \"Mozilla/5.0 (Windows NT 6.2) AppleWebKit/536.3 (KHTML, like Gecko) Chrome/19.0.1061.0 Safari/536.3\",\n",
    "        \"Mozilla/5.0 (X11; Linux x86_64) AppleWebKit/535.24 (KHTML, like Gecko) Chrome/19.0.1055.1 Safari/535.24\",\n",
    "        \"Mozilla/5.0 (Windows NT 6.2; WOW64) AppleWebKit/535.24 (KHTML, like Gecko) Chrome/19.0.1055.1 Safari/535.24\"\n",
    "    ]\n",
    "\n",
    "    query_extract_title = QUERY_TITLE\n",
    "    query_extract_text =  QUERY_CONTENT\n",
    "    query_extract_date = QUERY_DATE\n",
    "\n",
    "    \n",
    "    def _init_(self):\n",
    "        pass\n",
    "\n",
    "  \n",
    "    def start_request(self,url):\n",
    "        headers = {'user-agent':random.choice(self.USER_AGENT_LIST) }\n",
    "        session = HTMLSession()\n",
    "        response = session.get(url,headers=headers)  \n",
    "        return response\n",
    "    \n",
    "\n",
    "    def clean_text(self, html_text):\n",
    "        text_without_tags = w3lib.html.remove_tags(html_text)\n",
    "        text_without_escape_chars = w3lib.html.replace_escape_chars(text_without_tags)\n",
    "        text_without_escape_chars = html.unescape(text_without_escape_chars)\n",
    "        text_without_whitespace = text_without_escape_chars.strip()\n",
    "        return text_without_whitespace\n",
    "\n",
    "\n",
    "    def replace_month_name_to_number(self,date_string):\n",
    "        lower_string = date_string.lower()\n",
    "        for month_id in range(1, 13):\n",
    "            if(lower_string.find(calendar.month_name[month_id].lower())!=-1):\n",
    "                if(month_id>=10):\n",
    "                    return (lower_string.replace(calendar.month_name[month_id].lower(),str(month_id)))\n",
    "                else:\n",
    "                    return (lower_string.replace(calendar.month_name[month_id].lower(),\"0\"+str(month_id)))\n",
    "            if(lower_string.find(calendar.month_abbr[month_id].lower())!=-1):\n",
    "                if(month_id>=10):\n",
    "                    return (lower_string.replace(calendar.month_abbr[month_id].lower(),str(month_id)))\n",
    "                else:\n",
    "                    return (lower_string.replace(calendar.month_abbr[month_id].lower(),\"0\"+str(month_id)))\n",
    "                    \n",
    "\n",
    "    def format_date(self,date):\n",
    "        matches = datefinder.find_dates(date)\n",
    "        for match in matches:\n",
    "            return (match.strftime(\"%Y-%m-%d\"))\n",
    "\n",
    "\n",
    "    def parse(self, response):\n",
    "        self.news_text = []\n",
    "        self.message_to_send = []\n",
    "        self.scraped_url = response.url\n",
    "        self.news_title = response.html.xpath(self.query_extract_title)[0].text\n",
    "        self.date = response.html.xpath(self.query_extract_date)[0]\n",
    "        self.news_title = self.clean_text(self.news_title)\n",
    "        self.date = self.clean_text(self.date.text)\n",
    "        self.date = self.format_date(self.date)    \n",
    "        news_text_extracted_response = response.html.xpath(self.query_extract_text)\n",
    "        for part_of_body in news_text_extracted_response:\n",
    "            stripped_html_tags = w3lib.html.remove_tags(part_of_body.text)\n",
    "            text_cleaned = self.clean_text(stripped_html_tags)\n",
    "            self.news_text.append(text_cleaned) "
   ]
  },
  {
   "cell_type": "code",
   "execution_count": 14,
   "metadata": {},
   "outputs": [],
   "source": [
    "scraper = Scraper()\n",
    "response =scraper.start_request(SEED_SCRAP)"
   ]
  },
  {
   "cell_type": "code",
   "execution_count": 15,
   "metadata": {},
   "outputs": [],
   "source": [
    "scraper.parse(response)"
   ]
  },
  {
   "cell_type": "code",
   "execution_count": 16,
   "metadata": {},
   "outputs": [
    {
     "data": {
      "text/plain": [
       "'How $20,000 could make a big difference to your home'"
      ]
     },
     "execution_count": 16,
     "metadata": {},
     "output_type": "execute_result"
    }
   ],
   "source": [
    "scraper.news_title"
   ]
  },
  {
   "cell_type": "code",
   "execution_count": 17,
   "metadata": {},
   "outputs": [
    {
     "data": {
      "text/plain": [
       "'2020-10-20'"
      ]
     },
     "execution_count": 17,
     "metadata": {},
     "output_type": "execute_result"
    }
   ],
   "source": [
    "scraper.date"
   ]
  },
  {
   "cell_type": "code",
   "execution_count": 18,
   "metadata": {
    "scrolled": true
   },
   "outputs": [
    {
     "data": {
      "text/plain": [
       "['This content is created in partnership with Set for Life.',\n",
       " 'Renovating or refreshing your home doesn’t have to cost hundreds of thousands of dollars. In fact, with a relatively modest amount you can make some long-lasting changes to your home. Not sure where to start? Here’s how five interiors experts would spend a $20k budget.',\n",
       " 'THE DECORATOR',\n",
       " 'According to interior designer and decorator, Denby Dowling, the best way to spend $20k is to update all the outdated walls and floors.',\n",
       " '“If you haven’t updated your home in a long time, then painting can make a really big difference,” she explains. “My advice is to stick to neutral colours.”',\n",
       " 'Ms Dowling recommends painting walls, doors, timber work and wall features as well, so the rooms feel fresh. Next, she suggests replacing the flooring.',\n",
       " '“If you’re after carpets, choose a woollen blend loop pile as it doesn’t tend to date as fast as the plush piles. If you’ve got existing wooden floors, get the professionals to sand them back and stain or wax.”',\n",
       " 'But, she says, if you don’t have wood floors and don’t want damage existing flooring, then you could choose vinyl.',\n",
       " '“Over the past five years, vinyl has evolved so much that the timber-look patterns are very convincing,” she says. “You don’t need to rip up the floor and you can play with designs like chevron and herringbone patterns. A lot of vinyl these days is even made from recycled materials.”',\n",
       " 'If you have money left over, Ms Dowling says to also update your window furnishings, blinds, curtains and frames.',\n",
       " '“There are some great services out there that will help you update your windows; even aluminium frames can be painted now. This can completely change the feel of your home for not much money.”',\n",
       " 'THE RENOVATOR',\n",
       " 'With a budget of $20k, Sophie McLean, director of Your Property Profits says the best way to improve your home, especially if you’re not thinking of selling, is to focus on the entertaining areas.',\n",
       " '“I would look at the flow of the living and entertaining areas,” she says. “Could these spaces be used more efficiently in your home?”',\n",
       " 'If the answer is yes, Ms McLean says an effective way to improve these rooms is to consider connecting the outside areas to the living and entertaining areas by using a sliding stacker door, which concertinas when open.',\n",
       " \"“That way you can bring the outside inside and double the space where you can entertain,” she explains. “It's all about usability and lifestyle when it comes to refreshing your home.”\",\n",
       " 'If you have space and budget, Ms McLean says to also consider building or redoing your deck area.',\n",
       " '“Australia’s climate means we can live outside for the great majority of the year, so incorporating a deck into your home’s footprint is a great way to enjoy your home all year round,” she says.',\n",
       " 'THE BUILDER',\n",
       " 'Builder Dominique Gil says another way to spend $20k is to invest in a DA approval for your home. Why? Well, if you’re wanting to sell at some point, having this will increase the value of your home substantially. But if you’re not planning to put your home on the market, Gil, who is the founder and CEO of Urban Fitouts, says to focus on the kitchen.',\n",
       " '“I see it as an investment in the heart for the house; a place where we spend the most time,” she says. “This kind of budget is enough for new fixtures, more efficient appliances, perhaps a new countertop, or even new joinery.”',\n",
       " 'However, if you’re tempted to make your money go further, Ms Gil says to avoid spreading it too thinly as it’s more effective to choose high-quality materials and brands instead.',\n",
       " '“It’s always better to invest in nice finishes and high-quality appliances,” she advises. “If your kitchen refresh is not up to standard for heavy usage or high moisture resistance, then it’s not worth investing your money in. You want something long-lasting, so you don’t have to redo your renovation in three to four years. Do it once, do it right.”',\n",
       " 'THE INTERIORS EXPERT',\n",
       " 'When it comes to renovations, TV personality and director of The Interiors Edit, Wendy Moore, says that unless you have one massive eyesore in your home that just has to be fixed, it’s best to focus on one or two areas to spend the bulk of your money on.',\n",
       " '“For instance, if the bathroom is a mess, but the plumbing is generally in the right place, then $20k can actually make for a pretty successful makeover,” she says, “and you’d probably have some room in your budget for a paint job for the rest of the house.”',\n",
       " 'Moore says if you’re careful with your funds you could fit in re-tiling the bathroom, adding new flooring, updating the vanity, tapware and even installing a bath.',\n",
       " 'If your bathroom and kitchen don’t need attention, your investment might be better spent in areas that are under-utilised, with the aim of making them better suited to your life.',\n",
       " '“A junk room indicates the need for a good clean out and some clever storage!” says Moore. “In that case, your money could be best spent on good cabinetry so you can get much better use of that spare room. It could actually be a fabulous home office, or an indulgent library.”',\n",
       " 'THE TECH SPECIALIST',\n",
       " 'While updating your interiors is one way to spend $20k, Guy Holden, from Smart Homeworks recommends bringing your home into the digital age instead.',\n",
       " '“Technology is not going away,” he says, “so I’d recommend turning your house into a fully integrated smart home.”',\n",
       " 'The first step is to avoid the various unreliable smart apps out there, which Mr Holden calls ‘dad tech’, and instead approach it with a professional, who can help you create an overall plan for how your house will function.',\n",
       " '“The main areas we recommend smart technology are security, lighting and access control,” he says. “That means you can have keyless entry at the front door, where for example, you can open it remotely from your phone or you can give a cleaner access to your house with a code that only works between three and five on Saturday afternoon.”',\n",
       " 'Another ‘sexy’ function Mr Holden says to consider is a light switch at the front door which will turn on all the lights, the heater, the radio and disarm the security, the moment you walk in. These kinds of functions, as well as the ability to call the police or ambulance via a shout for help, can be especially useful for elderly or disabled people.',\n",
       " 'Lastly, he points out that a well-documented smart home is a good investment.',\n",
       " \"“You'll probably get somewhere between four to 10 times the investment back for your home’s resale with these systems,” Mr Holden estimates.\",\n",
       " 'This content is created in partnership with Set for Life.']"
      ]
     },
     "execution_count": 18,
     "metadata": {},
     "output_type": "execute_result"
    }
   ],
   "source": [
    "scraper.news_text"
   ]
  },
  {
   "cell_type": "code",
   "execution_count": 19,
   "metadata": {},
   "outputs": [],
   "source": [
    "def validate(date_text):\n",
    "    try:\n",
    "        datetime.datetime.strptime(date_text, \"%Y-%m-%d\")\n",
    "        return True\n",
    "    except:\n",
    "        print(\"La fecha no tiene el formato correcto, año-mes-dia\")\n",
    "        return False\n",
    "\n",
    "    \n",
    "def test_news_title_has_text(news_title):\n",
    "    regex_string_only_numbers = r'^[0-9\\.\\ ]*$'\n",
    "    news_text_is_only_number_query = re.match(regex_string_only_numbers,news_title)\n",
    "    if(news_text_is_only_number_query is None):\n",
    "        return True\n",
    "    else:\n",
    "        return False\n",
    "\n",
    "    \n",
    "def test_news_text_has_text(news_text):\n",
    "    joined_text =   \" \".join(news_text)\n",
    "    regex_string_only_numbers = r'^[0-9\\.\\ ]*$'\n",
    "    news_text_is_only_number_query = re.match(regex_string_only_numbers,joined_text)\n",
    "    if(news_text_is_only_number_query is None):\n",
    "        return True\n",
    "    else:\n",
    "        return False\n",
    "\n",
    "        \n",
    "def test_news_title_length(news_title):\n",
    "    words_of_news_title = news_title.split(\" \")\n",
    "    len_of_each_news_title_word = list(map(len,words_of_news_title))\n",
    "    avg_of_news_words = sum(len_of_each_news_title_word)/len(len_of_each_news_title_word)\n",
    "    if(avg_of_news_words >= 1.5):\n",
    "        return True\n",
    "    else:\n",
    "        return False\n",
    "\n",
    "    \n",
    "def test_news_text_length(news_text):\n",
    "    len_of_each_news_text_words = []\n",
    "    for paragraph in news_text:\n",
    "        splited_words = paragraph.split(\" \")\n",
    "        len_of_each_news_text_words.extend(list(map(len,splited_words)))\n",
    "    avg_of_news_words = sum(len_of_each_news_text_words)/len(len_of_each_news_text_words)\n",
    "    if(avg_of_news_words >= 1.5):\n",
    "        return True\n",
    "    else:\n",
    "        return False"
   ]
  },
  {
   "cell_type": "code",
   "execution_count": 20,
   "metadata": {},
   "outputs": [],
   "source": [
    "assert(len(scraper.news_title)>0)\n",
    "assert(len(scraper.news_text)>0)\n",
    "assert(validate(scraper.date))\n",
    "assert(isinstance(scraper.news_title,str))\n",
    "assert(isinstance(scraper.news_text,list)) \n",
    "assert(scraper.news_title.find(\"<script>\")==-1)\n",
    "assert(scraper.news_title.find(\"</script>\")==-1)\n",
    "for text_piece in scraper.news_text:\n",
    "    assert(text_piece.find(\"<script>\")==-1)\n",
    "    assert(text_piece.find(\"</script>\")==-1)\n",
    "assert(test_news_title_has_text(scraper.news_title))\n",
    "assert(test_news_text_has_text(scraper.news_text))\n",
    "assert(test_news_title_length(scraper.news_title))\n",
    "assert(test_news_text_length(scraper.news_text))  "
   ]
  },
  {
   "cell_type": "code",
   "execution_count": null,
   "metadata": {},
   "outputs": [],
   "source": []
  }
 ],
 "metadata": {
  "kernelspec": {
   "display_name": "Python 3",
   "language": "python",
   "name": "python3"
  },
  "language_info": {
   "codemirror_mode": {
    "name": "ipython",
    "version": 3
   },
   "file_extension": ".py",
   "mimetype": "text/x-python",
   "name": "python",
   "nbconvert_exporter": "python",
   "pygments_lexer": "ipython3",
   "version": "3.8.5"
  }
 },
 "nbformat": 4,
 "nbformat_minor": 4
}
