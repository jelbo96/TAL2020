{
 "cells": [
  {
   "cell_type": "code",
   "execution_count": 29,
   "metadata": {},
   "outputs": [],
   "source": [
    "SEED_CRAWL = 'https://www.news.com.au/wp-json/wp/v2/posts?page=5'"
   ]
  },
  {
   "cell_type": "code",
   "execution_count": 30,
   "metadata": {},
   "outputs": [],
   "source": [
    "import random\n",
    "import requests\n",
    "from requests_html import HTMLSession\n",
    "from requests_html import HTML\n",
    "import os\n",
    "import json\n",
    "import validators"
   ]
  },
  {
   "cell_type": "code",
   "execution_count": 58,
   "metadata": {},
   "outputs": [],
   "source": [
    "class Crawler:\n",
    "    \n",
    "    USER_AGENT_LIST = [\n",
    "        \"Mozilla/5.0 (Windows NT 6.1; WOW64) AppleWebKit/537.1 (KHTML, like Gecko) Chrome/22.0.1207.1 Safari/537.1\",\n",
    "        \"Mozilla/5.0 (X11; CrOS i686 2268.111.0) AppleWebKit/536.11 (KHTML, like Gecko) Chrome/20.0.1132.57 Safari/536.11\",\n",
    "        \"Mozilla/5.0 (Windows NT 6.1; WOW64) AppleWebKit/536.6 (KHTML, like Gecko) Chrome/20.0.1092.0 Safari/536.6\",\n",
    "        \"Mozilla/5.0 (Windows NT 6.2) AppleWebKit/536.6 (KHTML, like Gecko) Chrome/20.0.1090.0 Safari/536.6\",\n",
    "        \"Mozilla/5.0 (Windows NT 6.2; WOW64) AppleWebKit/537.1 (KHTML, like Gecko) Chrome/19.77.34.5 Safari/537.1\",\n",
    "        \"Mozilla/5.0 (X11; Linux x86_64) AppleWebKit/536.5 (KHTML, like Gecko) Chrome/19.0.1084.9 Safari/536.5\",\n",
    "        \"Mozilla/5.0 (Windows NT 6.0) AppleWebKit/536.5 (KHTML, like Gecko) Chrome/19.0.1084.36 Safari/536.5\",\n",
    "        \"Mozilla/5.0 (Windows NT 6.1; WOW64) AppleWebKit/536.3 (KHTML, like Gecko) Chrome/19.0.1063.0 Safari/536.3\",\n",
    "        \"Mozilla/5.0 (Windows NT 5.1) AppleWebKit/536.3 (KHTML, like Gecko) Chrome/19.0.1063.0 Safari/536.3\",\n",
    "        \"Mozilla/5.0 (Macintosh; Intel Mac OS X 10_8_0) AppleWebKit/536.3 (KHTML, like Gecko) Chrome/19.0.1063.0 Safari/536.3\",\n",
    "        \"Mozilla/5.0 (Windows NT 6.2) AppleWebKit/536.3 (KHTML, like Gecko) Chrome/19.0.1062.0 Safari/536.3\",\n",
    "        \"Mozilla/5.0 (Windows NT 6.1; WOW64) AppleWebKit/536.3 (KHTML, like Gecko) Chrome/19.0.1062.0 Safari/536.3\",\n",
    "        \"Mozilla/5.0 (Windows NT 6.2) AppleWebKit/536.3 (KHTML, like Gecko) Chrome/19.0.1061.1 Safari/536.3\",\n",
    "        \"Mozilla/5.0 (Windows NT 6.1; WOW64) AppleWebKit/536.3 (KHTML, like Gecko) Chrome/19.0.1061.1 Safari/536.3\",\n",
    "        \"Mozilla/5.0 (Windows NT 6.1) AppleWebKit/536.3 (KHTML, like Gecko) Chrome/19.0.1061.1 Safari/536.3\",\n",
    "        \"Mozilla/5.0 (Windows NT 6.2) AppleWebKit/536.3 (KHTML, like Gecko) Chrome/19.0.1061.0 Safari/536.3\",\n",
    "        \"Mozilla/5.0 (X11; Linux x86_64) AppleWebKit/535.24 (KHTML, like Gecko) Chrome/19.0.1055.1 Safari/535.24\",\n",
    "        \"Mozilla/5.0 (Windows NT 6.2; WOW64) AppleWebKit/535.24 (KHTML, like Gecko) Chrome/19.0.1055.1 Safari/535.24\"\n",
    "]\n",
    "\n",
    "\n",
    "\n",
    "    all_json_to_send = []\n",
    "    \n",
    "    \n",
    "    def _init_(self):\n",
    "        pass\n",
    "    \n",
    "    \n",
    "    def start_request(self,url):\n",
    "        session = HTMLSession()\n",
    "        header = dict()\n",
    "        header['user-agent'] = random.choice(self.USER_AGENT_LIST)\n",
    "        response = session.get(url,headers=header)        \n",
    "        return response\n",
    "    \n",
    "    \n",
    "    def parse(self, response):\n",
    "        self.all_json_to_send = []\n",
    "        json_data = json.loads(response.html.html)\n",
    "        for url_data in json_data: \n",
    "            if 'www.news.com.au' in url_data[\"link\"]:\n",
    "                json_to_send = {}\n",
    "                json_to_send[\"url\"] = url_data[\"link\"]\n",
    "                self.all_json_to_send.append(json_to_send)  "
   ]
  },
  {
   "cell_type": "code",
   "execution_count": 59,
   "metadata": {},
   "outputs": [],
   "source": [
    "crawler = Crawler()\n",
    "\n",
    "response = crawler.start_request(SEED_CRAWL)"
   ]
  },
  {
   "cell_type": "code",
   "execution_count": 60,
   "metadata": {},
   "outputs": [
    {
     "data": {
      "text/plain": [
       "'[{\"id\":4068031,\"date\":\"2020-12-19T10:56:02\",\"date_gmt\":\"2020-12-18T23:56:02\",\"guid\":{\"rendered\":\"https:\\\\/\\\\/classic.go.news.com.au\\\\/sport\\\\/cricket\\\\/aus-v-ind-day-2-wrap\\\\/video\\\\/aa6210b6b01dfafb5fab6f4bfc227300\"},\"modified\":\"2020-12-19T10:56:22\",\"modified_gmt\":\"2020-12-18T23:56:22\",\"slug\":\"aa6210b6b01dfafb5fab6f4bfc227300\",\"status\":\"publish\",\"type\":\"post\",\"link\":\"https:\\\\/\\\\/www.news.com.au\\\\/sport\\\\/cricket\\\\/aus-v-ind-day-2-wrap\\\\/video\\\\/aa6210b6b01dfafb5fab6f4bfc227300\",\"title\":{\"rendered\":\"AUS v IND: Day 2 wrap\"},\"content\":{\"rendered\":\"\",\"protected\":false},\"excerpt\":{\"rendered\":\"\",\"protected\":false},\"author\":0,\"featured_media\":0,\"comment_status\":\"closed\",\"ping_status\":\"open\",\"sticky\":false,\"template\":\"\",\"format\":\"standard\",\"meta\":{\"amp_status\":\"\",\"spay_email\":\"\"},\"categories\":[2368309],\"tags\":[],\"topics\":[],\"jetpack_featured_media_url\":\"\",\"_links\":{\"self\":[{\"href\":\"https:\\\\/\\\\/www.news.com.au\\\\/wp-json\\\\/wp\\\\/v2\\\\/posts\\\\/4068031\"}],\"collection\":[{\"href\":\"https:\\\\/\\\\/www.news.com.au\\\\/wp-json\\\\/wp\\\\/v2\\\\/posts\"}],\"about\":[{\"href\":\"https:\\\\/\\\\/www.news.com.au\\\\/wp-json\\\\/wp\\\\/v2\\\\/types\\\\/post\"}],\"replies\":[{\"embeddable\":true,\"href\":\"https:\\\\/\\\\/www.news.com.au\\\\/wp-json\\\\/wp\\\\/v2\\\\/comments?post=4068031\"}],\"version-history\":[{\"count\":0,\"href\":\"https:\\\\/\\\\/www.news.com.au\\\\/wp-json\\\\/wp\\\\/v2\\\\/posts\\\\/4068031\\\\/revisions\"}],\"wp:attachment\":[{\"href\":\"https:\\\\/\\\\/www.news.com.au\\\\/wp-json\\\\/wp\\\\/v2\\\\/media?parent=4068031\"}],\"wp:term\":[{\"taxonomy\":\"category\",\"embeddable\":true,\"href\":\"https:\\\\/\\\\/www.news.com.au\\\\/wp-json\\\\/wp\\\\/v2\\\\/categories?post=4068031\"},{\"taxonomy\":\"post_tag\",\"embeddable\":true,\"href\":\"https:\\\\/\\\\/www.news.com.au\\\\/wp-json\\\\/wp\\\\/v2\\\\/tags?post=4068031\"},{\"taxonomy\":\"topics\",\"embeddable\":true,\"href\":\"https:\\\\/\\\\/www.news.com.au\\\\/wp-json\\\\/wp\\\\/v2\\\\/topics?post=4068031\"}],\"curies\":[{\"name\":\"wp\",\"href\":\"https:\\\\/\\\\/api.w.org\\\\/{rel}\",\"templated\":true}]}},{\"id\":4068029,\"date\":\"2020-12-19T10:50:41\",\"date_gmt\":\"2020-12-18T23:50:41\",\"guid\":{\"rendered\":\"https:\\\\/\\\\/classic.go.news.com.au\\\\/national\\\\/two-found-dead-in-suspicious-melbourne-housefire\\\\/video\\\\/f9d282c6d5852c64df33d62507c40666\"},\"modified\":\"2020-12-19T10:51:14\",\"modified_gmt\":\"2020-12-18T23:51:14\",\"slug\":\"f9d282c6d5852c64df33d62507c40666\",\"status\":\"publish\",\"type\":\"post\",\"link\":\"https:\\\\/\\\\/www.news.com.au\\\\/national\\\\/two-found-dead-in-suspicious-melbourne-housefire\\\\/video\\\\/f9d282c6d5852c64df33d62507c40666\",\"title\":{\"rendered\":\"Two found dead in suspicious Melbourne housefire\"},\"content\":{\"rendered\":\"\",\"protected\":false},\"excerpt\":{\"rendered\":\"\",\"protected\":false},\"author\":0,\"featured_media\":0,\"comment_status\":\"closed\",\"ping_status\":\"open\",\"sticky\":false,\"template\":\"\",\"format\":\"standard\",\"meta\":{\"amp_status\":\"\",\"spay_email\":\"\"},\"categories\":[648468],\"tags\":[],\"topics\":[],\"jetpack_featured_media_url\":\"\",\"_links\":{\"self\":[{\"href\":\"https:\\\\/\\\\/www.news.com.au\\\\/wp-json\\\\/wp\\\\/v2\\\\/posts\\\\/4068029\"}],\"collection\":[{\"href\":\"https:\\\\/\\\\/www.news.com.au\\\\/wp-json\\\\/wp\\\\/v2\\\\/posts\"}],\"about\":[{\"href\":\"https:\\\\/\\\\/www.news.com.au\\\\/wp-json\\\\/wp\\\\/v2\\\\/types\\\\/post\"}],\"replies\":[{\"embeddable\":true,\"href\":\"https:\\\\/\\\\/www.news.com.au\\\\/wp-json\\\\/wp\\\\/v2\\\\/comments?post=4068029\"}],\"version-history\":[{\"count\":0,\"href\":\"https:\\\\/\\\\/www.news.com.au\\\\/wp-json\\\\/wp\\\\/v2\\\\/posts\\\\/4068029\\\\/revisions\"}],\"wp:attachment\":[{\"href\":\"https:\\\\/\\\\/www.news.com.au\\\\/wp-json\\\\/wp\\\\/v2\\\\/media?parent=4068029\"}],\"wp:term\":[{\"taxonomy\":\"category\",\"embeddable\":true,\"href\":\"https:\\\\/\\\\/www.news.com.au\\\\/wp-json\\\\/wp\\\\/v2\\\\/categories?post=4068029\"},{\"taxonomy\":\"post_tag\",\"embeddable\":true,\"href\":\"https:\\\\/\\\\/www.news.com.au\\\\/wp-json\\\\/wp\\\\/v2\\\\/tags?post=4068029\"},{\"taxonomy\":\"topics\",\"embeddable\":true,\"href\":\"https:\\\\/\\\\/www.news.com.au\\\\/wp-json\\\\/wp\\\\/v2\\\\/topics?post=4068029\"}],\"curies\":[{\"name\":\"wp\",\"href\":\"https:\\\\/\\\\/api.w.org\\\\/{rel}\",\"templated\":true}]}},{\"id\":4068022,\"date\":\"2020-12-19T10:47:00\",\"date_gmt\":\"2020-12-18T23:47:00\",\"guid\":{\"rendered\":\"https:\\\\/\\\\/classic.go.news.com.au\\\\/sport\\\\/cricket\\\\/cameron-green-explains-brutal-tim-paine-pat-cummins-bowling-snub-in-first-test-vs-india\\\\/news-story\\\\/33f87ce0a7977bc2dc27b636114484fe\"},\"modified\":\"2020-12-19T10:47:19\",\"modified_gmt\":\"2020-12-18T23:47:19\",\"slug\":\"33f87ce0a7977bc2dc27b636114484fe\",\"status\":\"publish\",\"type\":\"post\",\"link\":\"https:\\\\/\\\\/www.news.com.au\\\\/sport\\\\/cricket\\\\/cameron-green-explains-brutal-tim-paine-pat-cummins-bowling-snub-in-first-test-vs-india\\\\/news-story\\\\/33f87ce0a7977bc2dc27b636114484fe\",\"title\":{\"rendered\":\"Why teammates snubbed Aussie debutant\"},\"content\":{\"rendered\":\"<p class=\\\\\"capi-html\\\\\">The 21-year-old is making his debut in Adelaide and thought he&rsquo;d been given the green light to roll his arm over for the first time representing his country in the five-day format.<\\\\/p>\\\\n<p class=\\\\\"capi-html\\\\\"> <i><b>Watch Australia v India Test Series Live &amp; Ad-Break Free During Play with the Fox Cricket commentary team. New to Kayo? <a href=\\\\\"https:\\\\/\\\\/kayosports.com.au\\\\/\\\\\" target=\\\\\"_blank\\\\\" rel=\\\\\"noopener\\\\\">Get your free trial now &amp; start streaming instantly &gt;<\\\\/a><\\\\/b><\\\\/i><\\\\/p>\\\\n<p class=\\\\\"capi-html\\\\\">Green took off his cap, grabbed the pink ball, headed to the top of his bowling mark and started limbering up in preparation to try and dislodge Cheteshwar Pujara in the first session on Thursday.<\\\\/p>\\\\n<p class=\\\\\"capi-html\\\\\">But the young gun quickly learnt his place in the pecking order. Pat Cummins went up to him, signalled to captain Tim Paine, then promptly took the ball back off Green and continued his spell, relegating the West Australian back to his fielding position.<\\\\/p>\\\\n<p class=\\\\\"capi-html\\\\\">The Adelaide crowd had started cheering in anticipation of welcoming Green to the bowling crease but was forced to hold its applause until later in the day.<\\\\/p>\\\\n<blockquote class=\\\\\"twitter-tweet capi-custom-html\\\\\">\\\\n<p lang=\\\\\"en\\\\\" dir=\\\\\"ltr\\\\\">A false alarm for the debutant Green! Cummins continues <a href=\\\\\"https:\\\\/\\\\/twitter.com\\\\/hashtag\\\\/AUSvIND?src=hash&amp;ref_src=twsrc%5Etfw\\\\\">#AUSvIND<\\\\/a> <a href=\\\\\"https:\\\\/\\\\/t.co\\\\/mwKDXLf7vh\\\\\">pic.twitter.com\\\\/mwKDXLf7vh<\\\\/a><\\\\/p>\\\\n<p>&mdash; cricket.com.au (@cricketcomau) <a href=\\\\\"https:\\\\/\\\\/twitter.com\\\\/cricketcomau\\\\/status\\\\/1339441383736705026?ref_src=twsrc%5Etfw\\\\\">December 17, 2020<\\\\/a><script async src=\\\\\"https:\\\\/\\\\/platform.twitter.com\\\\/widgets.js\\\\\" charset=\\\\\"utf-8\\\\\"><\\\\/script><\\\\/p><\\\\/blockquote>\\\\n<p class=\\\\\"capi-html\\\\\">It turns out it was a simple misunderstanding. Explaining his snub on day two, Green told Fox Cricket the instructions from his skipper were misinterpreted.<\\\\/p>\\\\n<p class=\\\\\"capi-html\\\\\">&ldquo;Tim Paine said, &lsquo;You&rsquo;ve got five minutes to get ready&rsquo; and Patty hadn&rsquo;t even started his over beforehand,&rdquo; Green said.<\\\\/p>\\\\n<p class=\\\\\"capi-html\\\\\">&ldquo;Overs normally take three or four minutes so in my head I&rsquo;m doing the math and thinking I&rsquo;ve got the next one.<\\\\/p>\\\\n<p class=\\\\\"capi-html\\\\\">&ldquo;Then he might have said five overs&rsquo; time instead of five minutes. There were a few things going through my head so I wasn&rsquo;t thinking too clearly.&rdquo;<\\\\/p>\\\\n<p class=\\\\\"capi-html\\\\\">The Fox Cricket commentators certainly saw the funny side to it.<\\\\/p>\\\\n<p class=\\\\\"capi-html\\\\\">&ldquo;We were starting to get excited. He had the ball in hand and then Patty said, &lsquo;Sorry mate&rsquo;,&rdquo; Mark Howard said.<\\\\/p>\\\\n<p class=\\\\\"capi-html\\\\\">&ldquo;Just establishing the order there, was Patty.&rdquo;<\\\\/p>\\\\n<p class=\\\\\"capi-html\\\\\">Shane Warne added: &ldquo;Jeez. Tell you what, Test debut, bit of nerves, tell him he&rsquo;s bowling then take it out of his hand and say, &lsquo;Nah just kidding, I&rsquo;m having one more&rsquo;.&rdquo;<\\\\/p>\\\\n<p class=\\\\\"capi-html\\\\\">Green eventually bowled nine wicketless innings in India&rsquo;s first innings, and made 11 with the bat on day two before miscuing a pull shot that was snaffled by a diving Virat Kohli at mid-wicket.<\\\\/p>\\\\n<p class=\\\\\"capi-html\\\\\">Australia was bowled out for 191 in response to India&rsquo;s 24. The tourists will resume their second innings today at 1\\\\/9.<\\\\/p>\\\\n<p class=\\\\\"capi-html\\\\\"> <b>RELATED: <a href=\\\\\"https:\\\\/\\\\/www.news.com.au\\\\/sport\\\\/cricket\\\\/mitchell-starc-reportedly-avoids-dramatic-exit-after-cricket-australia-masterstroke\\\\/news-story\\\\/7807dd92483bd117638ab06b104f5882\\\\\" target=\\\\\"_blank\\\\\" rel=\\\\\"noopener\\\\\">Aussie superstar avoids dramatic exit<\\\\/a><\\\\/b><\\\\/p>\\\\n<p class=\\\\\"capi-html\\\\\"> <b>RELATED:<a href=\\\\\"https:\\\\/\\\\/www.news.com.au\\\\/sport\\\\/cricket\\\\/australia-vs-india-live-day-2-updates-of-first-test-at-adelaide-oval\\\\/live-coverage\\\\/1f130bf83c063e2828c4b66d34581b56\\\\\" target=\\\\\"_blank\\\\\" rel=\\\\\"noopener\\\\\"> &lsquo;Garbage&rsquo; change exposed in Aussie carnage<\\\\/a><\\\\/b><\\\\/p>\\\\n<div class=\\\\\"image media w1024 h768\\\\\">\\\\n<div class=\\\\\"image-wrapper\\\\\"> \\\\t\\\\t<img \\\\t\\\\t\\\\tsrc=\\\\\"https:\\\\/\\\\/content.api.news\\\\/v3\\\\/images\\\\/bin\\\\/a4cb8a45f54a1223c604b671afb64833\\\\\" \\\\t\\\\t\\\\talt=\\\\\"Australia v India: 1st Test - Day 2\\\\\" \\\\t\\\\t\\\\twidth=\\\\\"1024\\\\\" \\\\t\\\\t\\\\theight=\\\\\"768\\\\\" \\\\/> \\\\t<\\\\/div><figcaption class=\\\\\"caption\\\\\">Pat Cummins picked up three wickets.<\\\\/figcaption><\\\\/div>\\\\n\",\"protected\":false},\"excerpt\":{\"rendered\":\"<p>Cameron Green has enjoyed a rapid rise but he was forced to wait his turn on day one of the first Test against India.<\\\\/p>\\\\n\",\"protected\":false},\"author\":0,\"featured_media\":0,\"comment_status\":\"closed\",\"ping_status\":\"open\",\"sticky\":false,\"template\":\"\",\"format\":\"standard\",\"meta\":{\"amp_status\":\"\",\"spay_email\":\"\"},\"categories\":[2368309,1310739572],\"tags\":[],\"topics\":[],\"jetpack_featured_media_url\":\"\",\"_links\":{\"self\":[{\"href\":\"https:\\\\/\\\\/www.news.com.au\\\\/wp-json\\\\/wp\\\\/v2\\\\/posts\\\\/4068022\"}],\"collection\":[{\"href\":\"https:\\\\/\\\\/www.news.com.au\\\\/wp-json\\\\/wp\\\\/v2\\\\/posts\"}],\"about\":[{\"href\":\"https:\\\\/\\\\/www.news.com.au\\\\/wp-json\\\\/wp\\\\/v2\\\\/types\\\\/post\"}],\"replies\":[{\"embeddable\":true,\"href\":\"https:\\\\/\\\\/www.news.com.au\\\\/wp-json\\\\/wp\\\\/v2\\\\/comments?post=4068022\"}],\"version-history\":[{\"count\":1,\"href\":\"https:\\\\/\\\\/www.news.com.au\\\\/wp-json\\\\/wp\\\\/v2\\\\/posts\\\\/4068022\\\\/revisions\"}],\"predecessor-version\":[{\"id\":4068028,\"href\":\"https:\\\\/\\\\/www.news.com.au\\\\/wp-json\\\\/wp\\\\/v2\\\\/posts\\\\/4068022\\\\/revisions\\\\/4068028\"}],\"wp:attachment\":[{\"href\":\"https:\\\\/\\\\/www.news.com.au\\\\/wp-json\\\\/wp\\\\/v2\\\\/media?parent=4068022\"}],\"wp:term\":[{\"taxonomy\":\"category\",\"embeddable\":true,\"href\":\"https:\\\\/\\\\/www.news.com.au\\\\/wp-json\\\\/wp\\\\/v2\\\\/categories?post=4068022\"},{\"taxonomy\":\"post_tag\",\"embeddable\":true,\"href\":\"https:\\\\/\\\\/www.news.com.au\\\\/wp-json\\\\/wp\\\\/v2\\\\/tags?post=4068022\"},{\"taxonomy\":\"topics\",\"embeddable\":true,\"href\":\"https:\\\\/\\\\/www.news.com.au\\\\/wp-json\\\\/wp\\\\/v2\\\\/topics?post=4068022\"}],\"curies\":[{\"name\":\"wp\",\"href\":\"https:\\\\/\\\\/api.w.org\\\\/{rel}\",\"templated\":true}]}},{\"id\":4068023,\"date\":\"2020-12-19T10:34:00\",\"date_gmt\":\"2020-12-18T23:34:00\",\"guid\":{\"rendered\":\"https:\\\\/\\\\/classic.go.news.com.au\\\\/finance\\\\/real-estate\\\\/adelaide-sa\\\\/sittin-on-top-of-the-world-with-a-view\\\\/news-story\\\\/53234f77c0f277a4916333ba3d26677c\"},\"modified\":\"2020-12-19T11:00:02\",\"modified_gmt\":\"2020-12-19T00:00:02\",\"slug\":\"53234f77c0f277a4916333ba3d26677c\",\"status\":\"publish\",\"type\":\"post\",\"link\":\"https:\\\\/\\\\/www.news.com.au\\\\/finance\\\\/real-estate\\\\/adelaide-sa\\\\/sittin-on-top-of-the-world-with-a-view\\\\/news-story\\\\/53234f77c0f277a4916333ba3d26677c\",\"title\":{\"rendered\":\"Sittin\\\\u2019 on top of the world with a view\"},\"content\":{\"rendered\":\"<p class=\\\\\"capi-html\\\\\">Set on a 1333sqm allotment, the home offers some 980sqm of living space over two luxurious levels. <\\\\/p>\\\\n<div class=\\\\\"image media w1280 h720\\\\\">\\\\n<div class=\\\\\"image-wrapper\\\\\"> \\\\t\\\\t<img \\\\t\\\\t\\\\tsrc=\\\\\"https:\\\\/\\\\/content.api.news\\\\/v3\\\\/images\\\\/bin\\\\/1d56ea6d0e0a35bc37a2e04bc94c7f69\\\\\" \\\\t\\\\t\\\\talt=\\\\\"\\\\\" \\\\t\\\\t\\\\twidth=\\\\\"1280\\\\\" \\\\t\\\\t\\\\theight=\\\\\"720\\\\\" \\\\/> \\\\t<\\\\/div><figcaption class=\\\\\"caption\\\\\">5 Tregenza Close, Beaumont. Supplied by Jonathan Kissock<\\\\/figcaption><\\\\/div>\\\\n<div class=\\\\\"image media w1280 h720\\\\\">\\\\n<div class=\\\\\"image-wrapper\\\\\"> \\\\t\\\\t<img \\\\t\\\\t\\\\tsrc=\\\\\"https:\\\\/\\\\/content.api.news\\\\/v3\\\\/images\\\\/bin\\\\/1214180246d0c1646a57806a4b3040d8\\\\\" \\\\t\\\\t\\\\talt=\\\\\"\\\\\" \\\\t\\\\t\\\\twidth=\\\\\"1280\\\\\" \\\\t\\\\t\\\\theight=\\\\\"720\\\\\" \\\\/> \\\\t<\\\\/div><figcaption class=\\\\\"caption\\\\\">5 Tregenza Close, Beaumont. Supplied by Jonathan Kissock<\\\\/figcaption><\\\\/div>\\\\n<div class=\\\\\"image media w1280 h720\\\\\">\\\\n<div class=\\\\\"image-wrapper\\\\\"> \\\\t\\\\t<img \\\\t\\\\t\\\\tsrc=\\\\\"https:\\\\/\\\\/content.api.news\\\\/v3\\\\/images\\\\/bin\\\\/1c8cd251b00bffed08d52a52b2334d47\\\\\" \\\\t\\\\t\\\\talt=\\\\\"\\\\\" \\\\t\\\\t\\\\twidth=\\\\\"1280\\\\\" \\\\t\\\\t\\\\theight=\\\\\"720\\\\\" \\\\/> \\\\t<\\\\/div><figcaption class=\\\\\"caption\\\\\">5 Tregenza Close, Beaumont. Supplied by Jonathan Kissock<\\\\/figcaption><\\\\/div>\\\\n<div class=\\\\\"image media w1280 h720\\\\\">\\\\n<div class=\\\\\"image-wrapper\\\\\"> \\\\t\\\\t<img \\\\t\\\\t\\\\tsrc=\\\\\"https:\\\\/\\\\/content.api.news\\\\/v3\\\\/images\\\\/bin\\\\/6bcb8637afd5bea24cb3b37e30309564\\\\\" \\\\t\\\\t\\\\talt=\\\\\"\\\\\" \\\\t\\\\t\\\\twidth=\\\\\"1280\\\\\" \\\\t\\\\t\\\\theight=\\\\\"720\\\\\" \\\\/> \\\\t<\\\\/div><figcaption class=\\\\\"caption\\\\\">5 Tregenza Close, Beaumont. Supplied by Jonathan Kissock<\\\\/figcaption><\\\\/div>\\\\n<p class=\\\\\"capi-html\\\\\">The ground floor comprises two double garages, a grand entry foyer, two bedrooms flanking a bathroom with a separate bath and shower; a music room, a workshop, a study, and a gym with a bathroom and sauna. <\\\\/p>\\\\n<p class=\\\\\"capi-html\\\\\">An open-plan home theatre, billiards and family room form the heart of this level.<\\\\/p>\\\\n<p class=\\\\\"capi-html\\\\\">Upstairs you&rsquo;ll find two more bedrooms, including the master suite, which is complete with a walk-in robe and an ensuite.<\\\\/p>\\\\n<div class=\\\\\"image media w1280 h720\\\\\">\\\\n<div class=\\\\\"image-wrapper\\\\\"> \\\\t\\\\t<img \\\\t\\\\t\\\\tsrc=\\\\\"https:\\\\/\\\\/content.api.news\\\\/v3\\\\/images\\\\/bin\\\\/f901fadbf99091eaf5a2e6b6295f0d85\\\\\" \\\\t\\\\t\\\\talt=\\\\\"\\\\\" \\\\t\\\\t\\\\twidth=\\\\\"1280\\\\\" \\\\t\\\\t\\\\theight=\\\\\"720\\\\\" \\\\/> \\\\t<\\\\/div><figcaption class=\\\\\"caption\\\\\">5 Tregenza Close, Beaumont. Supplied by Jonathan Kissock<\\\\/figcaption><\\\\/div>\\\\n<p class=\\\\\"capi-html\\\\\">An open-plan kitchen, dining, sitting and casual living room is the heart of the home and opens out to a terrace for seamless indoor to outdoor entertaining. A formal living room is nearby, also opening to the terrace. <\\\\/p>\\\\n<p class=\\\\\"capi-html\\\\\">The home features quality fixtures and fittings throughout, including Corian benchtops and splashbacks, and inbuilt speakers.<\\\\/p>\\\\n<div class=\\\\\"image media w1280 h720\\\\\">\\\\n<div class=\\\\\"image-wrapper\\\\\"> \\\\t\\\\t<img \\\\t\\\\t\\\\tsrc=\\\\\"https:\\\\/\\\\/content.api.news\\\\/v3\\\\/images\\\\/bin\\\\/f60874f1052dff422499cf0bde3d4cbf\\\\\" \\\\t\\\\t\\\\talt=\\\\\"\\\\\" \\\\t\\\\t\\\\twidth=\\\\\"1280\\\\\" \\\\t\\\\t\\\\theight=\\\\\"720\\\\\" \\\\/> \\\\t<\\\\/div><figcaption class=\\\\\"caption\\\\\">5 Tregenza Close, Beaumont. Supplied by Jonathan Kissock<\\\\/figcaption><\\\\/div>\\\\n<div class=\\\\\"image media w1280 h720\\\\\">\\\\n<div class=\\\\\"image-wrapper\\\\\"> \\\\t\\\\t<img \\\\t\\\\t\\\\tsrc=\\\\\"https:\\\\/\\\\/content.api.news\\\\/v3\\\\/images\\\\/bin\\\\/49cc78ae3efbcd6b422a5f7cc7790096\\\\\" \\\\t\\\\t\\\\talt=\\\\\"\\\\\" \\\\t\\\\t\\\\twidth=\\\\\"1280\\\\\" \\\\t\\\\t\\\\theight=\\\\\"720\\\\\" \\\\/> \\\\t<\\\\/div><figcaption class=\\\\\"caption\\\\\">5 Tregenza Close, Beaumont. Supplied by Jonathan Kissock<\\\\/figcaption><\\\\/div>\\\\n<div class=\\\\\"image media w1280 h720\\\\\">\\\\n<div class=\\\\\"image-wrapper\\\\\"> \\\\t\\\\t<img \\\\t\\\\t\\\\tsrc=\\\\\"https:\\\\/\\\\/content.api.news\\\\/v3\\\\/images\\\\/bin\\\\/f92f3612c03aa2282d1add86d6051bc2\\\\\" \\\\t\\\\t\\\\talt=\\\\\"\\\\\" \\\\t\\\\t\\\\twidth=\\\\\"1280\\\\\" \\\\t\\\\t\\\\theight=\\\\\"720\\\\\" \\\\/> \\\\t<\\\\/div><figcaption class=\\\\\"caption\\\\\">5 Tregenza Close, Beaumont. Supplied by Jonathan Kissock<\\\\/figcaption><\\\\/div>\\\\n<p class=\\\\\"capi-html\\\\\"> <b>5 Tregenza Close, Beaumont<\\\\/b><\\\\/p>\\\\n<p class=\\\\\"capi-html\\\\\"> <b>$3.1 million to $3.35 million<\\\\/b><\\\\/p>\\\\n<p class=\\\\\"capi-html\\\\\"> <b>Agent:<\\\\/b> Booth &amp; Booth Real Estate, Jamie Brown 0413 000 887.<\\\\/p>\\\\n<p class=\\\\\"capi-html\\\\\"> <b>Land size:<\\\\/b> 1333sqm.<\\\\/p>\\\\n<p class=\\\\\"capi-html\\\\\"> <b>Open:<\\\\/b> By appointment.<\\\\/p>\\\\n<p class=\\\\\"capi-html\\\\\"> <b>MORE NEWS<\\\\/b><\\\\/p>\\\\n<p class=\\\\\"capi-html\\\\\"> <b><a href=\\\\\"https:\\\\/\\\\/www.realestate.com.au\\\\/news\\\\/escape-the-mundane-in-this-unique-cherry-gardens-home\\\\/?rsf=syn:news:nca:aa:socref\\\\\" title=\\\\\"www.realestate.com.au\\\\\">The Cherry Gardens home with a Disneyland-style layout<\\\\/a><\\\\/b><\\\\/p>\\\\n<p class=\\\\\"capi-html\\\\\"> <b><a href=\\\\\"https:\\\\/\\\\/www.realestate.com.au\\\\/news\\\\/bidding-war-pushes-price-100k-above-reserve\\\\/?rsf=syn:news:nca:aa:socref\\\\\" title=\\\\\"www.realestate.com.au\\\\\">Why this house auction went &lsquo;nuts&rsquo;<\\\\/a><\\\\/b><\\\\/p>\\\\n<p class=\\\\\"capi-html\\\\\"> <b><a href=\\\\\"https:\\\\/\\\\/www.realestate.com.au\\\\/news\\\\/love-wine-this-skillogalee-sale-is-for-you\\\\/?rsf=syn:news:nca:aa:socref\\\\\" title=\\\\\"www.realestate.com.au\\\\\">Love wine? Buy this iconic SA winery<\\\\/a><\\\\/b><\\\\/p>\\\\n<div class=\\\\\"capi-video capi-print-hide-element video media\\\\\">\\\\n<div vms-embedcode=\\\\\"5348771529001-6104070157001\\\\\" class=\\\\\"vms module \\\\\">\\\\n<div class=\\\\\"module-header vms-header\\\\\">\\\\n<h3 class=\\\\\"heading\\\\\">How to pick an up and coming suburb<\\\\/h3>\\\\n<\\\\/div>\\\\n<div class=\\\\\"module-content\\\\\">\\\\n<div class=\\\\\"poster\\\\\"><img src=\\\\\"\\\\\" alt=\\\\\"\\\\\"\\\\/><\\\\/div>\\\\n<\\\\/p><\\\\/div>\\\\n<\\\\/p><\\\\/div>\\\\n<\\\\/p><\\\\/div>\\\\n\",\"protected\":false},\"excerpt\":{\"rendered\":\"<p>Live your best life in a hillside Beaumont home with uninterrupted views over the city and suburbs to the sea beyond.<\\\\/p>\\\\n\",\"protected\":false},\"author\":0,\"featured_media\":0,\"comment_status\":\"closed\",\"ping_status\":\"open\",\"sticky\":false,\"template\":\"\",\"format\":\"standard\",\"meta\":{\"amp_status\":\"\",\"spay_email\":\"\"},\"categories\":[41961070],\"tags\":[],\"topics\":[],\"jetpack_featured_media_url\":\"\",\"_links\":{\"self\":[{\"href\":\"https:\\\\/\\\\/www.news.com.au\\\\/wp-json\\\\/wp\\\\/v2\\\\/posts\\\\/4068023\"}],\"collection\":[{\"href\":\"https:\\\\/\\\\/www.news.com.au\\\\/wp-json\\\\/wp\\\\/v2\\\\/posts\"}],\"about\":[{\"href\":\"https:\\\\/\\\\/www.news.com.au\\\\/wp-json\\\\/wp\\\\/v2\\\\/types\\\\/post\"}],\"replies\":[{\"embeddable\":true,\"href\":\"https:\\\\/\\\\/www.news.com.au\\\\/wp-json\\\\/wp\\\\/v2\\\\/comments?post=4068023\"}],\"version-history\":[{\"count\":1,\"href\":\"https:\\\\/\\\\/www.news.com.au\\\\/wp-json\\\\/wp\\\\/v2\\\\/posts\\\\/4068023\\\\/revisions\"}],\"predecessor-version\":[{\"id\":4068032,\"href\":\"https:\\\\/\\\\/www.news.com.au\\\\/wp-json\\\\/wp\\\\/v2\\\\/posts\\\\/4068023\\\\/revisions\\\\/4068032\"}],\"wp:attachment\":[{\"href\":\"https:\\\\/\\\\/www.news.com.au\\\\/wp-json\\\\/wp\\\\/v2\\\\/media?parent=4068023\"}],\"wp:term\":[{\"taxonomy\":\"category\",\"embeddable\":true,\"href\":\"https:\\\\/\\\\/www.news.com.au\\\\/wp-json\\\\/wp\\\\/v2\\\\/categories?post=4068023\"},{\"taxonomy\":\"post_tag\",\"embeddable\":true,\"href\":\"https:\\\\/\\\\/www.news.com.au\\\\/wp-json\\\\/wp\\\\/v2\\\\/tags?post=4068023\"},{\"taxonomy\":\"topics\",\"embeddable\":true,\"href\":\"https:\\\\/\\\\/www.news.com.au\\\\/wp-json\\\\/wp\\\\/v2\\\\/topics?post=4068023\"}],\"curies\":[{\"name\":\"wp\",\"href\":\"https:\\\\/\\\\/api.w.org\\\\/{rel}\",\"templated\":true}]}},{\"id\":4068076,\"date\":\"2020-12-19T10:33:00\",\"date_gmt\":\"2020-12-18T23:33:00\",\"guid\":{\"rendered\":\"https:\\\\/\\\\/classic.go.news.com.au\\\\/entertainment\\\\/celebrity-life\\\\/royals\\\\/royal-weddings\\\\/kate-middleton-meghan-markles-royal-wedding-dressmaker-now-on-the-brink-of-homelessness\\\\/news-story\\\\/4df19de3419ce93c5fa29df1c232e165\"},\"modified\":\"2020-12-19T11:44:18\",\"modified_gmt\":\"2020-12-19T00:44:18\",\"slug\":\"4df19de3419ce93c5fa29df1c232e165\",\"status\":\"publish\",\"type\":\"post\",\"link\":\"https:\\\\/\\\\/www.news.com.au\\\\/entertainment\\\\/celebrity-life\\\\/royals\\\\/royal-weddings\\\\/kate-middleton-meghan-markles-royal-wedding-dressmaker-now-on-the-brink-of-homelessness\\\\/news-story\\\\/4df19de3419ce93c5fa29df1c232e165\",\"title\":{\"rendered\":\"Sad story behind royal wedding dresses\"},\"content\":{\"rendered\":\"<p class=\\\\\"capi-html\\\\\">Chloe Savage was once a revered embroiderer who was responsible for the glittering finishing touches on both the Duchesses&rsquo; wedding dresses &ndash; but now her trade has entirely dried up.<\\\\/p>\\\\n<p class=\\\\\"capi-html\\\\\">Speaking to <a href=\\\\\"https:\\\\/\\\\/people.com\\\\/royals\\\\/kate-middleton-meghan-markle-wedding-gown-maker-struggling\\\\/\\\\\" target=\\\\\"_blank\\\\\" rel=\\\\\"noopener\\\\\">People Magazine, <\\\\/a>she said: &ldquo;It&rsquo;s been horrific. We&rsquo;ve had all our work literally dry up. My 14-year-old daughter is skipping meals to save on the food budget. The stress is getting to her.&rdquo;<\\\\/p>\\\\n<p class=\\\\\"capi-html\\\\\">Despite also working as a conservator for The National Trust, where she&rsquo;s responsible for 40,000 historic textile items at Tyntesfield house in North Somerset, Chloe&rsquo;s line of work has been greatly impacted by the pandemic.<\\\\/p>\\\\n<div class=\\\\\"image media w1280 h720\\\\\">\\\\n<div class=\\\\\"image-wrapper\\\\\"> \\\\t\\\\t<img \\\\t\\\\t\\\\tsrc=\\\\\"https:\\\\/\\\\/content.api.news\\\\/v3\\\\/images\\\\/bin\\\\/625bdb86ec1b2018d731a52ca9ea9655\\\\\" \\\\t\\\\t\\\\talt=\\\\\"\\\\\" \\\\t\\\\t\\\\twidth=\\\\\"1280\\\\\" \\\\t\\\\t\\\\theight=\\\\\"720\\\\\" \\\\/> \\\\t<\\\\/div><figcaption class=\\\\\"caption\\\\\">Kate and Wills\\\\u2019 2011 wedding. Picture: Paul ELLIS \\\\/ AFP<\\\\/figcaption><\\\\/div>\\\\n<p class=\\\\\"capi-html\\\\\">The 43-year-old continued: &ldquo;In January and February, we started seeing a lot of our international contracts getting put on hold.<\\\\/p>\\\\n<p class=\\\\\"capi-html\\\\\">&ldquo;Work just disappeared. People like the National Trust very quickly said they would have to postpone our projects because they knew they were going to have a massive hole in their budget.&rdquo;<\\\\/p>\\\\n<p class=\\\\\"capi-html\\\\\">Struggling to stay afloat, mum-of-three Chloe shut down her embroidery studio, laid off her apprentices and gladly accepted a government loan.<\\\\/p>\\\\n<p class=\\\\\"capi-html\\\\\">Sadly this was not enough to keep her out of the red, and she is struggling as a result.<\\\\/p>\\\\n<p class=\\\\\"capi-html\\\\\">She said: &ldquo;We are now in the position where we have to actually not pay our bills for the first time ever.<\\\\/p>\\\\n<div class=\\\\\"image media w1280 h720\\\\\">\\\\n<div class=\\\\\"image-wrapper\\\\\"> \\\\t\\\\t<img \\\\t\\\\t\\\\tsrc=\\\\\"https:\\\\/\\\\/content.api.news\\\\/v3\\\\/images\\\\/bin\\\\/ec6be7809e2d37958f4b4fbc3c75d91a\\\\\" \\\\t\\\\t\\\\talt=\\\\\"\\\\\" \\\\t\\\\t\\\\twidth=\\\\\"1280\\\\\" \\\\t\\\\t\\\\theight=\\\\\"720\\\\\" \\\\/> \\\\t<\\\\/div><figcaption class=\\\\\"caption\\\\\">Meghan and Harry get hitched in 2018. Picture: Ben STANSALL \\\\/ POOL \\\\/ AFP<\\\\/figcaption><\\\\/div>\\\\n<p class=\\\\\"capi-html\\\\\">&ldquo;Well, what else do you do? You spend half the time phoning up agencies trying to grovel your way into reducing your bill or putting it on a monthly payment or spreading it over, just so you don&rsquo;t get hit by the whole thing.<\\\\/p>\\\\n<p class=\\\\\"capi-html\\\\\">&ldquo;We might make it through to the New Year but we&rsquo;ll then have to sit down and try and grovel with our landlord and go into rent arrears until he decides to start removal procedures.&rdquo;<\\\\/p>\\\\n<p class=\\\\\"capi-html\\\\\">Chloe&rsquo;s current reality is worlds away from her life before the pandemic hit.<\\\\/p>\\\\n<p class=\\\\\"capi-html\\\\\">The talented embroiderer worked on Kate&rsquo;s wedding dress in 2011 followed by <a href=\\\\\"https:\\\\/\\\\/www.news.com.au\\\\/topics\\\\/meghan-markle\\\\\" target=\\\\\"_blank\\\\\" rel=\\\\\"noopener\\\\\">Meghan&rsquo;s<\\\\/a> in 2018.<\\\\/p>\\\\n<div class=\\\\\"image media w1280 h720\\\\\">\\\\n<div class=\\\\\"image-wrapper\\\\\"> \\\\t\\\\t<img \\\\t\\\\t\\\\tsrc=\\\\\"https:\\\\/\\\\/content.api.news\\\\/v3\\\\/images\\\\/bin\\\\/e52d47e63e96332292d3d568ee39a432\\\\\" \\\\t\\\\t\\\\talt=\\\\\"\\\\\" \\\\t\\\\t\\\\twidth=\\\\\"1280\\\\\" \\\\t\\\\t\\\\theight=\\\\\"720\\\\\" \\\\/> \\\\t<\\\\/div><figcaption class=\\\\\"caption\\\\\">Meghan\\\\u2019s dress was simple yet stylish. Picture: Ben STANSALL \\\\/ AFP<\\\\/figcaption><\\\\/div>\\\\n<p class=\\\\\"capi-html\\\\\"> <b>RELATED: <a href=\\\\\"https:\\\\/\\\\/www.news.com.au\\\\/entertainment\\\\/celebrity-life\\\\/royals\\\\/how-cashin-couple-meghan-markle-prince-harry-are-raking-in-a-fortune-from-198m-netflix-deal-to-13m-per-speech\\\\/news-story\\\\/b8cac58ddd4c71581d546e1782edecf9\\\\\" target=\\\\\"_blank\\\\\" rel=\\\\\"noopener\\\\\">Harry and Meghan&rsquo;s strict speech demands<\\\\/a><\\\\/b><\\\\/p>\\\\n<p class=\\\\\"capi-html\\\\\">Describing working on Kate&rsquo;s stunning Alexander McQueen gown, she said: &ldquo;We appliqu&eacute;d all the lace to her gown and shoes.<\\\\/p>\\\\n<p class=\\\\\"capi-html\\\\\">She added that she also worked on her &ldquo;elasticated blue silk and white lace garter,&rdquo; joking, &ldquo;All of the things that you don&rsquo;t get to see!&rdquo;<\\\\/p>\\\\n<p class=\\\\\"capi-html\\\\\">Chloe continued: &ldquo;Kate came in a few times. She was lovely. The usual blushing bride.<\\\\/p>\\\\n<p class=\\\\\"capi-html\\\\\">&ldquo;She was excited about the dress, nervous about the day, questioning what we were doing &hellip; all that sort of stuff.&rdquo;<\\\\/p>\\\\n<div class=\\\\\"image media w1280 h720\\\\\">\\\\n<div class=\\\\\"image-wrapper\\\\\"> \\\\t\\\\t<img \\\\t\\\\t\\\\tsrc=\\\\\"https:\\\\/\\\\/content.api.news\\\\/v3\\\\/images\\\\/bin\\\\/9fae1cb345abd2cccfa14b529c683872\\\\\" \\\\t\\\\t\\\\talt=\\\\\"FILE: Pippa Middleton Engaged To James Matthews\\\\\" \\\\t\\\\t\\\\twidth=\\\\\"1280\\\\\" \\\\t\\\\t\\\\theight=\\\\\"720\\\\\" \\\\/> \\\\t<\\\\/div><figcaption class=\\\\\"caption\\\\\">Kate\\\\u2019s sister Pippa helps with her train. Picture: Pascal Le Segretain\\\\/Getty<\\\\/figcaption><\\\\/div>\\\\n<p class=\\\\\"capi-html\\\\\"> <b>RELATED:<a href=\\\\\"https:\\\\/\\\\/www.news.com.au\\\\/entertainment\\\\/celebrity-life\\\\/royals\\\\/meghan-and-harrys-183-million-spotify-and-netflix-deals-are-problematic\\\\/news-story\\\\/2d999661b7cf180020b9c3d3c370912c\\\\\" target=\\\\\"_blank\\\\\" rel=\\\\\"noopener\\\\\"> Big problem with Meghan&rsquo;s latest move<\\\\/a><\\\\/b><\\\\/p>\\\\n<p class=\\\\\"capi-html\\\\\">Meanwhile, Chloe never came face-to-face with the Duchess of Sussex, she did work on the famous 16-foot veil that Markle wore with her Givenchy gown.<\\\\/p>\\\\n<p class=\\\\\"capi-html\\\\\">Since falling on hardship, Chloe claims she&rsquo;s tried to claim benefits four times but had been denied.<\\\\/p>\\\\n<p class=\\\\\"capi-html\\\\\">Her hopes are now pinned on getting some work designing costumes for the US television network HBO.<\\\\/p>\\\\n<p class=\\\\\"capi-html\\\\\">&ldquo;It might just keep us vaguely floating,&rdquo; she said. &ldquo;As long as nothing goes wrong.&rdquo;<\\\\/p>\\\\n<div class=\\\\\"nca-et-embed capi-custom-html\\\\\" data-type=\\\\\"imageslideshow\\\\\" data-id=\\\\\"1608252645292\\\\\"><script> !function(d,s){ var j=d.createElement(s); j.type=\\\\\"text\\\\/javascript\\\\\";  j.src=\\\\\"https:\\\\/\\\\/multitools.newscdn.com.au\\\\/editorialtools\\\\/build\\\\/static\\\\/js\\\\/loader.js?v=1608252714519\\\\\"; d.getElementsByTagName(\\\\\"head\\\\\")[0].appendChild(j); }(document, \\\\\"script\\\\\");<\\\\/script><\\\\/div>\\\\n<p class=\\\\\"capi-html\\\\\"> <i>This story originally appeared on <a href=\\\\\"https:\\\\/\\\\/www.thesun.co.uk\\\\/fabulous\\\\/13517438\\\\/kate-middleton-meghan-markle-dress-designer-struggling-homeless\\\\/\\\\\" target=\\\\\"_blank\\\\\" rel=\\\\\"noopener\\\\\">The Sun <\\\\/a>and is republished here with permission. <\\\\/i><\\\\/p>\\\\n\",\"protected\":false},\"excerpt\":{\"rendered\":\"<p>The mastermind behind Kate Middleton and Meghan Markle\\\\u2019s wedding dresses is said to be on the brink of homelessness after falling on hard times during the coronavirus pandemic.<\\\\/p>\\\\n\",\"protected\":false},\"author\":0,\"featured_media\":0,\"comment_status\":\"closed\",\"ping_status\":\"open\",\"sticky\":false,\"template\":\"\",\"format\":\"standard\",\"meta\":{\"amp_status\":\"\",\"spay_email\":\"\"},\"categories\":[1310739575,1310739566,1310970085,34620455],\"tags\":[],\"topics\":[1310973220,1310973226],\"jetpack_featured_media_url\":\"\",\"_links\":{\"self\":[{\"href\":\"https:\\\\/\\\\/www.news.com.au\\\\/wp-json\\\\/wp\\\\/v2\\\\/posts\\\\/4068076\"}],\"collection\":[{\"href\":\"https:\\\\/\\\\/www.news.com.au\\\\/wp-json\\\\/wp\\\\/v2\\\\/posts\"}],\"about\":[{\"href\":\"https:\\\\/\\\\/www.news.com.au\\\\/wp-json\\\\/wp\\\\/v2\\\\/types\\\\/post\"}],\"replies\":[{\"embeddable\":true,\"href\":\"https:\\\\/\\\\/www.news.com.au\\\\/wp-json\\\\/wp\\\\/v2\\\\/comments?post=4068076\"}],\"version-history\":[{\"count\":0,\"href\":\"https:\\\\/\\\\/www.news.com.au\\\\/wp-json\\\\/wp\\\\/v2\\\\/posts\\\\/4068076\\\\/revisions\"}],\"wp:attachment\":[{\"href\":\"https:\\\\/\\\\/www.news.com.au\\\\/wp-json\\\\/wp\\\\/v2\\\\/media?parent=4068076\"}],\"wp:term\":[{\"taxonomy\":\"category\",\"embeddable\":true,\"href\":\"https:\\\\/\\\\/www.news.com.au\\\\/wp-json\\\\/wp\\\\/v2\\\\/categories?post=4068076\"},{\"taxonomy\":\"post_tag\",\"embeddable\":true,\"href\":\"https:\\\\/\\\\/www.news.com.au\\\\/wp-json\\\\/wp\\\\/v2\\\\/tags?post=4068076\"},{\"taxonomy\":\"topics\",\"embeddable\":true,\"href\":\"https:\\\\/\\\\/www.news.com.au\\\\/wp-json\\\\/wp\\\\/v2\\\\/topics?post=4068076\"}],\"curies\":[{\"name\":\"wp\",\"href\":\"https:\\\\/\\\\/api.w.org\\\\/{rel}\",\"templated\":true}]}},{\"id\":4068079,\"date\":\"2020-12-19T10:30:00\",\"date_gmt\":\"2020-12-18T23:30:00\",\"guid\":{\"rendered\":\"https:\\\\/\\\\/classic.go.news.com.au\\\\/lifestyle\\\\/real-life\\\\/news-life\\\\/son-42-wins-lawsuit-against-his-parents-for-throwing-away-his-25000-porn-collection\\\\/news-story\\\\/ab3fb298517eef7e2ed90d990c079e99\"},\"modified\":\"2020-12-19T11:49:04\",\"modified_gmt\":\"2020-12-19T00:49:04\",\"slug\":\"ab3fb298517eef7e2ed90d990c079e99\",\"status\":\"publish\",\"type\":\"post\",\"link\":\"https:\\\\/\\\\/www.news.com.au\\\\/lifestyle\\\\/real-life\\\\/news-life\\\\/son-42-wins-lawsuit-against-his-parents-for-throwing-away-his-25000-porn-collection\\\\/news-story\\\\/ab3fb298517eef7e2ed90d990c079e99\",\"title\":{\"rendered\":\"Son sues parents over $25k porn stash\"},\"content\":{\"rendered\":\"<p class=\\\\\"capi-html\\\\\">District Judge Paul Maloney ruled in favour of David Werking, 42, who said his parents had no right to get rid of his X-rated collection, <i><a href=\\\\\"thesun.co.uk\\\\/news\\\\/13517135\\\\/randy-bloke-wins-lawsuit-parents-throwing-porn-sex-toys\\\\/\\\\\" target=\\\\\"_blank\\\\\" rel=\\\\\"noopener\\\\\">The Sun<\\\\/a><\\\\/i> <a href=\\\\\"thesun.co.uk\\\\/news\\\\/13517135\\\\/randy-bloke-wins-lawsuit-parents-throwing-porn-sex-toys\\\\/\\\\\" target=\\\\\"_blank\\\\\" rel=\\\\\"noopener\\\\\"> reports<\\\\/a>.<\\\\/p>\\\\n<p class=\\\\\"capi-html\\\\\">The porn addict was left fuming at discovering 12 boxes of his prized stash had been tossed out, including his beloved flicks &lsquo;Frisky Business&rsquo; and &lsquo;Big Bad Grannys&rsquo;.<\\\\/p>\\\\n<p class=\\\\\"capi-html\\\\\">But David Werking&rsquo;s mum and dad were shocked by the depictions of sexual assault, slavery, incestuous relationships and sex with minors, writes <i>The Holland Sentinel<\\\\/i> in Michigan.<\\\\/p>\\\\n<div class=\\\\\"image media w1280 h720\\\\\">\\\\n<div class=\\\\\"image-wrapper\\\\\"> \\\\t\\\\t<img \\\\t\\\\t\\\\tsrc=\\\\\"https:\\\\/\\\\/content.api.news\\\\/v3\\\\/images\\\\/bin\\\\/77c8f5b50a059385a4a560547e1fd6a7\\\\\" \\\\t\\\\t\\\\talt=\\\\\"Close up of Male lawyer or judge hand&#039;s striking the gavel on sounding block, working with Law books, report the case on table in modern office, Law and justice concept\\\\\" \\\\t\\\\t\\\\twidth=\\\\\"1280\\\\\" \\\\t\\\\t\\\\theight=\\\\\"720\\\\\" \\\\/> \\\\t<\\\\/div><figcaption class=\\\\\"caption\\\\\">Parents have lost a lawsuit over destruction of their son\\\\u2019s porn stash. Picture: istock<\\\\/figcaption><\\\\/div>\\\\n<p class=\\\\\"capi-html\\\\\">A list of the haul revealed he had collected 1,605 porn DVDs and VHS tapes, plus about 50 sex toys and paraphernalia.<\\\\/p>\\\\n<p class=\\\\\"capi-html\\\\\">His disgusted dad, Paul Werking, ranted: &ldquo;That you would buy and watch films depicting such violence is beyond the pale.<\\\\/p>\\\\n<p class=\\\\\"capi-html\\\\\">&ldquo;I have no words to express the depth of my shock and disappointment.<\\\\/p>\\\\n<p class=\\\\\"capi-html\\\\\">&ldquo;One reason I destroyed your porn was for your own mental and emotional health. I would have done the same if I had found a kilo of crack cocaine.&rdquo;<\\\\/p>\\\\n<p class=\\\\\"capi-html\\\\\">His son&rsquo;s win in western Michigan means the porn fanatic can also seek compensation for his missing collection.<\\\\/p>\\\\n<p class=\\\\\"capi-html\\\\\">His attorney, Miles Greengard, said, &ldquo;we have asked the court for treble damages, which we believe are warranted given the wanton destruction.<\\\\/p>\\\\n<p class=\\\\\"capi-html\\\\\">&ldquo;This was a collection of often irreplaceable items and property.&rdquo;<\\\\/p>\\\\n<div class=\\\\\"image media w1024 h768\\\\\">\\\\n<div class=\\\\\"image-wrapper\\\\\"> \\\\t\\\\t<img \\\\t\\\\t\\\\tsrc=\\\\\"https:\\\\/\\\\/content.api.news\\\\/v3\\\\/images\\\\/bin\\\\/55f3d382dcf81f5cc6387fcbe25146ea\\\\\" \\\\t\\\\t\\\\talt=\\\\\"\\\\\" \\\\t\\\\t\\\\twidth=\\\\\"1024\\\\\" \\\\t\\\\t\\\\theight=\\\\\"768\\\\\" \\\\/> \\\\t<\\\\/div><figcaption class=\\\\\"caption\\\\\">The son\\\\u2019s attorney says his client should receive treble damages for the collection, which he is entitled do under his claim of conversion of property. Picture: istock<\\\\/figcaption><\\\\/div>\\\\n<p class=\\\\\"capi-html\\\\\">Werking had been living at his folks&rsquo; Grand Haven home for ten months after a divorce, before moving to Muncie, Indiana.<\\\\/p>\\\\n<p class=\\\\\"capi-html\\\\\">But tempers flared when he discovered that boxes of his explicit films and mags worth an estimated $25,000 were missing.<\\\\/p>\\\\n<p class=\\\\\"capi-html\\\\\">When he asked his parents where the dozen boxes had gone, his dad replied in an email: &ldquo;Frankly, David, I did you a big favour getting rid of all this stuff,&ldquo; reports <a href=\\\\\"https:\\\\/\\\\/www.mlive.com\\\\/news\\\\/grand-rapids\\\\/2020\\\\/12\\\\/son-wins-lawsuit-after-mom-throws-away-his-best-porno-mags.html\\\\\" target=\\\\\"_blank\\\\\" rel=\\\\\"noopener\\\\\">MLive<\\\\/a>.<\\\\/p>\\\\n<p class=\\\\\"capi-html\\\\\">Werking replied: &ldquo;I would like it back, along with the sex toys &hellip; [and] one long container of smutty magazines.&rdquo;<\\\\/p>\\\\n<p class=\\\\\"capi-html\\\\\">The judge in Kalamazoo called it a &ldquo;trove of pornography and an array of sex toys&rdquo;.<\\\\/p>\\\\n<p class=\\\\\"capi-html\\\\\">&ldquo;There is no question that the destroyed property was David&rsquo;s property,&rdquo; Judge Maloney said on Monday.<\\\\/p>\\\\n<p class=\\\\\"capi-html\\\\\">He added that the &ldquo;defendants [had] repeatedly admitted they destroyed the property&rdquo;.<\\\\/p>\\\\n<div class=\\\\\"image media w768 h1024\\\\\">\\\\n<div class=\\\\\"image-wrapper\\\\\"> \\\\t\\\\t<img \\\\t\\\\t\\\\tsrc=\\\\\"https:\\\\/\\\\/content.api.news\\\\/v3\\\\/images\\\\/bin\\\\/60bc9aa42ea605bbacd009c7dfa01fc7\\\\\" \\\\t\\\\t\\\\talt=\\\\\"In one email to his son, Paul Werking (pictured) argued about some of the content he found and said &#039;it was not natural or normal&#039;. Picture: Facebook\\\\\" \\\\t\\\\t\\\\twidth=\\\\\"768\\\\\" \\\\t\\\\t\\\\theight=\\\\\"1024\\\\\" \\\\/> \\\\t<\\\\/div><figcaption class=\\\\\"caption\\\\\">In one email to his son, Paul Werking (pictured) argued about some of the content he found and said &#039;it was not natural or normal&#039;. Picture: Facebook<\\\\/figcaption><\\\\/div>\\\\n<div class=\\\\\"image media w768 h1024\\\\\">\\\\n<div class=\\\\\"image-wrapper\\\\\"> \\\\t\\\\t<img \\\\t\\\\t\\\\tsrc=\\\\\"https:\\\\/\\\\/content.api.news\\\\/v3\\\\/images\\\\/bin\\\\/3b32800ec74a1679c359cab5f2f3ae64\\\\\" \\\\t\\\\t\\\\talt=\\\\\"Mother, Beth Werking. Picture: Facebook.\\\\\" \\\\t\\\\t\\\\twidth=\\\\\"768\\\\\" \\\\t\\\\t\\\\theight=\\\\\"1024\\\\\" \\\\/> \\\\t<\\\\/div><figcaption class=\\\\\"caption\\\\\">Mother, Beth Werking. Picture: Facebook.<\\\\/figcaption><\\\\/div>\\\\n<p class=\\\\\"capi-html\\\\\"> <b>HARDCORE PORN LOCKED AWAY<\\\\/b><\\\\/p>\\\\n<p class=\\\\\"capi-html\\\\\">In their defence, Beth and Paul Werking were adamant they had a right to act as his landlords and get rid of the offensive material.<\\\\/p>\\\\n<p class=\\\\\"capi-html\\\\\">But this was rejected by the judge who said there was a lack of case law to support their reasoning that &ldquo;landlords can destroy property that they dislike&rdquo;.<\\\\/p>\\\\n<p class=\\\\\"capi-html\\\\\">His parents had laid down the rules before he returned home to temporarily live with them after his divorce, telling him his porn stash was banned.<\\\\/p>\\\\n<p class=\\\\\"capi-html\\\\\">They also warned him it would be destroyed if it was stored in their home.<\\\\/p>\\\\n<p class=\\\\\"capi-html\\\\\">The court also heard that the family had clashed in 2017, with cops called over a mystery &lsquo;incident&rsquo;, when Werking was asked to leave.<\\\\/p>\\\\n<p class=\\\\\"capi-html\\\\\">According to MLive, his parents were so concerned about the legality of some of the hardcore material &ndash; deemed the &ldquo;worst of the worst&rdquo; &ndash; that they locked it up in a safety deposit box.<\\\\/p>\\\\n<p class=\\\\\"capi-html\\\\\">However, when the Ottawa County Sheriff&lsquo;s Department checked the porn, the cops found no child abuse videos.<\\\\/p>\\\\n<p class=\\\\\"capi-html\\\\\">Maloney told both sides to file briefs on the financial value of the collection.<\\\\/p>\\\\n<p class=\\\\\"capi-html\\\\\">They have until mid-February to file written submissions on damages.<\\\\/p>\\\\n<p class=\\\\\"capi-html\\\\\"> <i>This article originally appeared on <a href=\\\\\"https:\\\\/\\\\/www.thesun.co.uk\\\\/news\\\\/13517135\\\\/randy-bloke-wins-lawsuit-parents-throwing-porn-sex-toys\\\\/\\\\\" target=\\\\\"_blank\\\\\" rel=\\\\\"noopener\\\\\">The Sun<\\\\/a> and was reproduced here with permission<\\\\/i><\\\\/p>\\\\n\",\"protected\":false},\"excerpt\":{\"rendered\":\"<p>A divorced bloke has won a lawsuit against his parents for throwing out his $25,000 stash of porn and sex toys.<\\\\/p>\\\\n\",\"protected\":false},\"author\":0,\"featured_media\":0,\"comment_status\":\"closed\",\"ping_status\":\"open\",\"sticky\":false,\"template\":\"\",\"format\":\"standard\",\"meta\":{\"amp_status\":\"\",\"spay_email\":\"\"},\"categories\":[5679,1310972400,785228,1310972399,782659],\"tags\":[],\"topics\":[],\"jetpack_featured_media_url\":\"\",\"_links\":{\"self\":[{\"href\":\"https:\\\\/\\\\/www.news.com.au\\\\/wp-json\\\\/wp\\\\/v2\\\\/posts\\\\/4068079\"}],\"collection\":[{\"href\":\"https:\\\\/\\\\/www.news.com.au\\\\/wp-json\\\\/wp\\\\/v2\\\\/posts\"}],\"about\":[{\"href\":\"https:\\\\/\\\\/www.news.com.au\\\\/wp-json\\\\/wp\\\\/v2\\\\/types\\\\/post\"}],\"replies\":[{\"embeddable\":true,\"href\":\"https:\\\\/\\\\/www.news.com.au\\\\/wp-json\\\\/wp\\\\/v2\\\\/comments?post=4068079\"}],\"version-history\":[{\"count\":0,\"href\":\"https:\\\\/\\\\/www.news.com.au\\\\/wp-json\\\\/wp\\\\/v2\\\\/posts\\\\/4068079\\\\/revisions\"}],\"wp:attachment\":[{\"href\":\"https:\\\\/\\\\/www.news.com.au\\\\/wp-json\\\\/wp\\\\/v2\\\\/media?parent=4068079\"}],\"wp:term\":[{\"taxonomy\":\"category\",\"embeddable\":true,\"href\":\"https:\\\\/\\\\/www.news.com.au\\\\/wp-json\\\\/wp\\\\/v2\\\\/categories?post=4068079\"},{\"taxonomy\":\"post_tag\",\"embeddable\":true,\"href\":\"https:\\\\/\\\\/www.news.com.au\\\\/wp-json\\\\/wp\\\\/v2\\\\/tags?post=4068079\"},{\"taxonomy\":\"topics\",\"embeddable\":true,\"href\":\"https:\\\\/\\\\/www.news.com.au\\\\/wp-json\\\\/wp\\\\/v2\\\\/topics?post=4068079\"}],\"curies\":[{\"name\":\"wp\",\"href\":\"https:\\\\/\\\\/api.w.org\\\\/{rel}\",\"templated\":true}]}},{\"id\":4068019,\"date\":\"2020-12-19T10:29:19\",\"date_gmt\":\"2020-12-18T23:29:19\",\"guid\":{\"rendered\":\"https:\\\\/\\\\/classic.go.news.com.au\\\\/national\\\\/december-auction-numbers-unprecedented\\\\/video\\\\/7bc5a40315373b09b0ef1fd81fe2d761\"},\"modified\":\"2020-12-19T10:29:51\",\"modified_gmt\":\"2020-12-18T23:29:51\",\"slug\":\"7bc5a40315373b09b0ef1fd81fe2d761\",\"status\":\"publish\",\"type\":\"post\",\"link\":\"https:\\\\/\\\\/www.news.com.au\\\\/national\\\\/december-auction-numbers-unprecedented\\\\/video\\\\/7bc5a40315373b09b0ef1fd81fe2d761\",\"title\":{\"rendered\":\"December auction numbers &#8216;unprecedented&#8217;\"},\"content\":{\"rendered\":\"\",\"protected\":false},\"excerpt\":{\"rendered\":\"\",\"protected\":false},\"author\":0,\"featured_media\":0,\"comment_status\":\"closed\",\"ping_status\":\"open\",\"sticky\":false,\"template\":\"\",\"format\":\"standard\",\"meta\":{\"amp_status\":\"\",\"spay_email\":\"\"},\"categories\":[648468],\"tags\":[],\"topics\":[],\"jetpack_featured_media_url\":\"\",\"_links\":{\"self\":[{\"href\":\"https:\\\\/\\\\/www.news.com.au\\\\/wp-json\\\\/wp\\\\/v2\\\\/posts\\\\/4068019\"}],\"collection\":[{\"href\":\"https:\\\\/\\\\/www.news.com.au\\\\/wp-json\\\\/wp\\\\/v2\\\\/posts\"}],\"about\":[{\"href\":\"https:\\\\/\\\\/www.news.com.au\\\\/wp-json\\\\/wp\\\\/v2\\\\/types\\\\/post\"}],\"replies\":[{\"embeddable\":true,\"href\":\"https:\\\\/\\\\/www.news.com.au\\\\/wp-json\\\\/wp\\\\/v2\\\\/comments?post=4068019\"}],\"version-history\":[{\"count\":0,\"href\":\"https:\\\\/\\\\/www.news.com.au\\\\/wp-json\\\\/wp\\\\/v2\\\\/posts\\\\/4068019\\\\/revisions\"}],\"wp:attachment\":[{\"href\":\"https:\\\\/\\\\/www.news.com.au\\\\/wp-json\\\\/wp\\\\/v2\\\\/media?parent=4068019\"}],\"wp:term\":[{\"taxonomy\":\"category\",\"embeddable\":true,\"href\":\"https:\\\\/\\\\/www.news.com.au\\\\/wp-json\\\\/wp\\\\/v2\\\\/categories?post=4068019\"},{\"taxonomy\":\"post_tag\",\"embeddable\":true,\"href\":\"https:\\\\/\\\\/www.news.com.au\\\\/wp-json\\\\/wp\\\\/v2\\\\/tags?post=4068019\"},{\"taxonomy\":\"topics\",\"embeddable\":true,\"href\":\"https:\\\\/\\\\/www.news.com.au\\\\/wp-json\\\\/wp\\\\/v2\\\\/topics?post=4068019\"}],\"curies\":[{\"name\":\"wp\",\"href\":\"https:\\\\/\\\\/api.w.org\\\\/{rel}\",\"templated\":true}]}},{\"id\":4068011,\"date\":\"2020-12-19T10:22:00\",\"date_gmt\":\"2020-12-18T23:22:00\",\"guid\":{\"rendered\":\"https:\\\\/\\\\/classic.go.news.com.au\\\\/sport\\\\/american-sports\\\\/nba\\\\/not-here-to-take-photos-aussie-billionaire-buys-an-nba-team\\\\/news-story\\\\/a30634592fec09afa030fac0c0b5b347\"},\"modified\":\"2020-12-19T10:22:50\",\"modified_gmt\":\"2020-12-18T23:22:50\",\"slug\":\"a30634592fec09afa030fac0c0b5b347\",\"status\":\"publish\",\"type\":\"post\",\"link\":\"https:\\\\/\\\\/www.news.com.au\\\\/sport\\\\/american-sports\\\\/nba\\\\/not-here-to-take-photos-aussie-billionaire-buys-an-nba-team\\\\/news-story\\\\/a30634592fec09afa030fac0c0b5b347\",\"title\":{\"rendered\":\"Aussie billionaire buys an NBA team\"},\"content\":{\"rendered\":\"<p class=\\\\\"capi-html\\\\\">Tech billionaire Mike Cannon-Brookes has become the first Australian to become a minority owner of an NBA franchise after the Jazz were sold for $1.66 billion this week.<\\\\/p>\\\\n<p class=\\\\\"capi-html\\\\\">Cannon-Brookes, who has an estimated net worth of $15 billion based on the $60 billion value of Atlassian, the project management software business he started in Sydney, is one of two minority owners brought in by Ryan Smith.<\\\\/p>\\\\n<p class=\\\\\"capi-html\\\\\">Smith, the founder of survey software company Qualtrics, has fulfilled a long-held dream by purchasing his favourite team from longtime owners the Miller family.<\\\\/p>\\\\n<p class=\\\\\"capi-html\\\\\">Smith and Cannon-Brookes are joined by Accel investor Ryan Sweeney. Sweeney&rsquo;s company was an early investor in Atlassian and Qualtrics. <\\\\/p>\\\\n<p class=\\\\\"capi-html\\\\\">The trio are all in their early 40s and will retain their full-time jobs but are committed to continue the Jazz&rsquo;s long history of winning.<\\\\/p>\\\\n<p class=\\\\\"capi-html\\\\\">&ldquo;We&rsquo;re three pretty competitive dudes,&rdquo; Cannon-Brookes told Forbes. &ldquo;We&rsquo;re not here to take photos.&rdquo;<\\\\/p>\\\\n<div class=\\\\\"image media w1024 h768\\\\\">\\\\n<div class=\\\\\"image-wrapper\\\\\"> \\\\t\\\\t<img \\\\t\\\\t\\\\tsrc=\\\\\"https:\\\\/\\\\/content.api.news\\\\/v3\\\\/images\\\\/bin\\\\/fe572351db3eca31b6216172de8c865c\\\\\" \\\\t\\\\t\\\\talt=\\\\\"Mike Cannon-Brookes (right) with Ryan Smith at a Jazz game.\\\\\" \\\\t\\\\t\\\\twidth=\\\\\"1024\\\\\" \\\\t\\\\t\\\\theight=\\\\\"768\\\\\" \\\\/> \\\\t<\\\\/div><figcaption class=\\\\\"caption\\\\\">Mike Cannon-Brookes (right) with Ryan Smith at a Jazz game.<\\\\/figcaption><\\\\/div>\\\\n<p class=\\\\\"capi-html\\\\\">&ldquo;The NBA is very technology-centric and has a long history of entrepreneurial owners; just in the last decade the major transactions have all been done by tech entrepreneurs, so that reflects the way the league runs,&rdquo; he added in an interview with Nine newspapers.<\\\\/p>\\\\n<p class=\\\\\"capi-html\\\\\">The NBA&rsquo;s Board of Governors formally approved the sale on Saturday, Smith as a &ldquo;fantastic addition&rdquo; to the league.<\\\\/p>\\\\n<p class=\\\\\"capi-html\\\\\">&ldquo;Ryan Smith is a forward-thinking, community-minded entrepreneur and business leader who will be a fantastic addition to our league,&rdquo; NBA Commissioner Adam Silver said in a statement.<\\\\/p>\\\\n<p class=\\\\\"capi-html\\\\\">&ldquo;As a lifelong fan of the Utah Jazz and more recently as one of their key marketing partners, Ryan has demonstrated his deep commitment to the Jazz and the Utah community and there&rsquo;s no doubt he will bring that same level of dedication to the operation of the team.&rdquo; <\\\\/p>\\\\n<p class=\\\\\"capi-html\\\\\">Forbes magazine ranked the Jazz at 21st in value among the NBA&rsquo;s 30 clubs earlier this year at $1.55 billion<\\\\/p>\\\\n<p class=\\\\\"capi-html\\\\\">The sale brings Smith a majority interest in the team, the Jazz&rsquo;s home, Vivint Arena, plus developmental basketball and baseball clubs in Salt Lake City.<\\\\/p>\\\\n<div class=\\\\\"image media w1024 h768\\\\\">\\\\n<div class=\\\\\"image-wrapper\\\\\"> \\\\t\\\\t<img \\\\t\\\\t\\\\tsrc=\\\\\"https:\\\\/\\\\/content.api.news\\\\/v3\\\\/images\\\\/bin\\\\/6332352061690986fca314c036097a67\\\\\" \\\\t\\\\t\\\\talt=\\\\\"LAKE BUENA VISTA, FLORIDA - AUGUST 23: Joe Ingles #2 of the Utah Jazz and Donovan Mitchell #45 of the Utah Jazz talk during the fourth quarter in Game Four of the Western Conference First Round against the Denver Nuggets during the 2020 NBA Playoffs at AdventHealth Arena at ESPN Wide World Of Sports Complex on August 23, 2020 in Lake Buena Vista, Florida. NOTE TO USER: User expressly acknowledges and agrees that, by downloading and or using this photograph, User is consenting to the terms and conditions of the Getty Images License Agreement.  (Photo by Kevin C. Cox\\\\/Getty Images)\\\\\" \\\\t\\\\t\\\\twidth=\\\\\"1024\\\\\" \\\\t\\\\t\\\\theight=\\\\\"768\\\\\" \\\\/> \\\\t<\\\\/div><figcaption class=\\\\\"caption\\\\\">Donovan Mitchell and Joe Ingles. (Photo by Kevin C. Cox\\\\/Getty Images)<\\\\/figcaption><\\\\/div>\\\\n<p class=\\\\\"capi-html\\\\\">Smith, a lifelong Utah resident, has been a corporate partner of the Jazz for many years, including a philanthropic patch that has raised $25 million in recent years.<\\\\/p>\\\\n<p class=\\\\\"capi-html\\\\\">The Miller family will retain a minority interest in the Jazz, who went 44-28 last season and lost to Denver in the first round of the playoffs.<\\\\/p>\\\\n<p class=\\\\\"capi-html\\\\\">&ldquo;We all owe a great debt to the Miller family for the amazing stewardship they have had over this asset for the past 35 years,&rdquo; Smith said earlier this year.<\\\\/p>\\\\n<p class=\\\\\"capi-html\\\\\">&ldquo;My wife and I are absolutely humbled and excited about the opportunity to take the team forward far into the future, especially with the greatest fans in the NBA &hellip; We look forward to building upon their lifelong work.&rdquo;<\\\\/p>\\\\n<p class=\\\\\"capi-html\\\\\">&ndash; with AFP<\\\\/p>\\\\n\",\"protected\":false},\"excerpt\":{\"rendered\":\"<p>If Joe Ingles wasn\\\\u2019t reason enough, Australian fans now have an added reason to make the Utah Jazz our country\\\\u2019s favourite NBA team.<\\\\/p>\\\\n\",\"protected\":false},\"author\":0,\"featured_media\":0,\"comment_status\":\"closed\",\"ping_status\":\"open\",\"sticky\":false,\"template\":\"\",\"format\":\"standard\",\"meta\":{\"amp_status\":\"\",\"spay_email\":\"\"},\"categories\":[193651,1310687581,1310739572],\"tags\":[],\"topics\":[],\"jetpack_featured_media_url\":\"\",\"_links\":{\"self\":[{\"href\":\"https:\\\\/\\\\/www.news.com.au\\\\/wp-json\\\\/wp\\\\/v2\\\\/posts\\\\/4068011\"}],\"collection\":[{\"href\":\"https:\\\\/\\\\/www.news.com.au\\\\/wp-json\\\\/wp\\\\/v2\\\\/posts\"}],\"about\":[{\"href\":\"https:\\\\/\\\\/www.news.com.au\\\\/wp-json\\\\/wp\\\\/v2\\\\/types\\\\/post\"}],\"replies\":[{\"embeddable\":true,\"href\":\"https:\\\\/\\\\/www.news.com.au\\\\/wp-json\\\\/wp\\\\/v2\\\\/comments?post=4068011\"}],\"version-history\":[{\"count\":0,\"href\":\"https:\\\\/\\\\/www.news.com.au\\\\/wp-json\\\\/wp\\\\/v2\\\\/posts\\\\/4068011\\\\/revisions\"}],\"wp:attachment\":[{\"href\":\"https:\\\\/\\\\/www.news.com.au\\\\/wp-json\\\\/wp\\\\/v2\\\\/media?parent=4068011\"}],\"wp:term\":[{\"taxonomy\":\"category\",\"embeddable\":true,\"href\":\"https:\\\\/\\\\/www.news.com.au\\\\/wp-json\\\\/wp\\\\/v2\\\\/categories?post=4068011\"},{\"taxonomy\":\"post_tag\",\"embeddable\":true,\"href\":\"https:\\\\/\\\\/www.news.com.au\\\\/wp-json\\\\/wp\\\\/v2\\\\/tags?post=4068011\"},{\"taxonomy\":\"topics\",\"embeddable\":true,\"href\":\"https:\\\\/\\\\/www.news.com.au\\\\/wp-json\\\\/wp\\\\/v2\\\\/topics?post=4068011\"}],\"curies\":[{\"name\":\"wp\",\"href\":\"https:\\\\/\\\\/api.w.org\\\\/{rel}\",\"templated\":true}]}},{\"id\":4068021,\"date\":\"2020-12-19T10:21:00\",\"date_gmt\":\"2020-12-18T23:21:00\",\"guid\":{\"rendered\":\"https:\\\\/\\\\/classic.go.news.com.au\\\\/finance\\\\/work\\\\/at-work\\\\/worker-found-dead-on-shopping-centre-roof-in-suspected-electrocution\\\\/news-story\\\\/fee35d2f1b22b91f4fe5327183af1d68\"},\"modified\":\"2020-12-19T10:31:19\",\"modified_gmt\":\"2020-12-18T23:31:19\",\"slug\":\"fee35d2f1b22b91f4fe5327183af1d68\",\"status\":\"publish\",\"type\":\"post\",\"link\":\"https:\\\\/\\\\/www.news.com.au\\\\/finance\\\\/work\\\\/at-work\\\\/worker-found-dead-on-shopping-centre-roof-in-suspected-electrocution\\\\/news-story\\\\/fee35d2f1b22b91f4fe5327183af1d68\",\"title\":{\"rendered\":\"Man found dead on shopping centre roof\"},\"content\":{\"rendered\":\"<p class=\\\\\"capi-html\\\\\">The 48-year-old man, from Morphettville, was found unresponsive on the roof of the Aberfoyle Hub Shopping Centre, in Adelaide&rsquo;s south, just before 10pm Friday.<\\\\/p>\\\\n<p class=\\\\\"capi-html\\\\\">Paramedics tried to save him but he died at the scene.<\\\\/p>\\\\n<p class=\\\\\"capi-html\\\\\">Police declined to comment any further but confirmed the death was not suspicious. <\\\\/p>\\\\n<p class=\\\\\"capi-html\\\\\">Early reports suggest the man, believed to be a worker, may have been electrocuted. <\\\\/p>\\\\n<p class=\\\\\"capi-html\\\\\">A report will be prepared for the coroner.<\\\\/p>\\\\n<p class=\\\\\"capi-html\\\\\">NCA NewsWire has contacted SafeWork SA for comment. <\\\\/p>\\\\n\",\"protected\":false},\"excerpt\":{\"rendered\":\"<p>A man has died in a tragic workplace accident at a shopping complex in South Australia.<\\\\/p>\\\\n\",\"protected\":false},\"author\":0,\"featured_media\":0,\"comment_status\":\"closed\",\"ping_status\":\"open\",\"sticky\":false,\"template\":\"\",\"format\":\"standard\",\"meta\":{\"amp_status\":\"\",\"spay_email\":\"\"},\"categories\":[1310972432,44883863,88291,54489680,1310973281,21823773,1310972403],\"tags\":[],\"topics\":[1310973533],\"jetpack_featured_media_url\":\"\",\"_links\":{\"self\":[{\"href\":\"https:\\\\/\\\\/www.news.com.au\\\\/wp-json\\\\/wp\\\\/v2\\\\/posts\\\\/4068021\"}],\"collection\":[{\"href\":\"https:\\\\/\\\\/www.news.com.au\\\\/wp-json\\\\/wp\\\\/v2\\\\/posts\"}],\"about\":[{\"href\":\"https:\\\\/\\\\/www.news.com.au\\\\/wp-json\\\\/wp\\\\/v2\\\\/types\\\\/post\"}],\"replies\":[{\"embeddable\":true,\"href\":\"https:\\\\/\\\\/www.news.com.au\\\\/wp-json\\\\/wp\\\\/v2\\\\/comments?post=4068021\"}],\"version-history\":[{\"count\":0,\"href\":\"https:\\\\/\\\\/www.news.com.au\\\\/wp-json\\\\/wp\\\\/v2\\\\/posts\\\\/4068021\\\\/revisions\"}],\"wp:attachment\":[{\"href\":\"https:\\\\/\\\\/www.news.com.au\\\\/wp-json\\\\/wp\\\\/v2\\\\/media?parent=4068021\"}],\"wp:term\":[{\"taxonomy\":\"category\",\"embeddable\":true,\"href\":\"https:\\\\/\\\\/www.news.com.au\\\\/wp-json\\\\/wp\\\\/v2\\\\/categories?post=4068021\"},{\"taxonomy\":\"post_tag\",\"embeddable\":true,\"href\":\"https:\\\\/\\\\/www.news.com.au\\\\/wp-json\\\\/wp\\\\/v2\\\\/tags?post=4068021\"},{\"taxonomy\":\"topics\",\"embeddable\":true,\"href\":\"https:\\\\/\\\\/www.news.com.au\\\\/wp-json\\\\/wp\\\\/v2\\\\/topics?post=4068021\"}],\"curies\":[{\"name\":\"wp\",\"href\":\"https:\\\\/\\\\/api.w.org\\\\/{rel}\",\"templated\":true}]}},{\"id\":4009559,\"date\":\"2020-12-19T10:17:56\",\"date_gmt\":\"2020-12-18T23:17:56\",\"guid\":{\"rendered\":\"https:\\\\/\\\\/www.adelaidenow.com.au\\\\/messenger\\\\/east-hills\\\\/sas-best-schnitzel-winner-parkside-pub-earl-of-leicester-tops-voting\\\\/news-story\\\\/87799bdb0db8c11d7b232bc4ad33613a\"},\"modified\":\"2020-12-19T10:17:56\",\"modified_gmt\":\"2020-12-18T23:17:56\",\"slug\":\"85eed8e2f3e2181e7eafee5f7de45547\",\"status\":\"publish\",\"type\":\"post\",\"link\":\"https:\\\\/\\\\/www.adelaidenow.com.au\\\\/lifestyle\\\\/sa-weekend\\\\/test-your-knowledge-of-news-sport-and-pop-culture-in-brainwaves-the-sa-weekend-quiz\\\\/news-story\\\\/60d3cfc05ae63febbb741d80fdb6783d\",\"title\":{\"rendered\":\"Brainwaves quiz: What\\\\u2019s your score?\"},\"content\":{\"rendered\":\"\",\"protected\":false},\"excerpt\":{\"rendered\":\"\",\"protected\":false},\"author\":0,\"featured_media\":0,\"comment_status\":\"closed\",\"ping_status\":\"open\",\"sticky\":false,\"template\":\"\",\"format\":\"standard\",\"meta\":{\"amp_status\":\"\",\"spay_email\":\"\"},\"categories\":[1],\"tags\":[],\"topics\":[],\"jetpack_featured_media_url\":\"\",\"_links\":{\"self\":[{\"href\":\"https:\\\\/\\\\/www.news.com.au\\\\/wp-json\\\\/wp\\\\/v2\\\\/posts\\\\/4009559\"}],\"collection\":[{\"href\":\"https:\\\\/\\\\/www.news.com.au\\\\/wp-json\\\\/wp\\\\/v2\\\\/posts\"}],\"about\":[{\"href\":\"https:\\\\/\\\\/www.news.com.au\\\\/wp-json\\\\/wp\\\\/v2\\\\/types\\\\/post\"}],\"replies\":[{\"embeddable\":true,\"href\":\"https:\\\\/\\\\/www.news.com.au\\\\/wp-json\\\\/wp\\\\/v2\\\\/comments?post=4009559\"}],\"version-history\":[{\"count\":1,\"href\":\"https:\\\\/\\\\/www.news.com.au\\\\/wp-json\\\\/wp\\\\/v2\\\\/posts\\\\/4009559\\\\/revisions\"}],\"predecessor-version\":[{\"id\":4009608,\"href\":\"https:\\\\/\\\\/www.news.com.au\\\\/wp-json\\\\/wp\\\\/v2\\\\/posts\\\\/4009559\\\\/revisions\\\\/4009608\"}],\"wp:attachment\":[{\"href\":\"https:\\\\/\\\\/www.news.com.au\\\\/wp-json\\\\/wp\\\\/v2\\\\/media?parent=4009559\"}],\"wp:term\":[{\"taxonomy\":\"category\",\"embeddable\":true,\"href\":\"https:\\\\/\\\\/www.news.com.au\\\\/wp-json\\\\/wp\\\\/v2\\\\/categories?post=4009559\"},{\"taxonomy\":\"post_tag\",\"embeddable\":true,\"href\":\"https:\\\\/\\\\/www.news.com.au\\\\/wp-json\\\\/wp\\\\/v2\\\\/tags?post=4009559\"},{\"taxonomy\":\"topics\",\"embeddable\":true,\"href\":\"https:\\\\/\\\\/www.news.com.au\\\\/wp-json\\\\/wp\\\\/v2\\\\/topics?post=4009559\"}],\"curies\":[{\"name\":\"wp\",\"href\":\"https:\\\\/\\\\/api.w.org\\\\/{rel}\",\"templated\":true}]}}]'"
      ]
     },
     "execution_count": 60,
     "metadata": {},
     "output_type": "execute_result"
    }
   ],
   "source": [
    "response.html.html"
   ]
  },
  {
   "cell_type": "code",
   "execution_count": 61,
   "metadata": {},
   "outputs": [],
   "source": [
    "crawler.parse(response)"
   ]
  },
  {
   "cell_type": "code",
   "execution_count": 62,
   "metadata": {},
   "outputs": [
    {
     "data": {
      "text/plain": [
       "[{'url': 'https://www.news.com.au/sport/cricket/aus-v-ind-day-2-wrap/video/aa6210b6b01dfafb5fab6f4bfc227300'},\n",
       " {'url': 'https://www.news.com.au/national/two-found-dead-in-suspicious-melbourne-housefire/video/f9d282c6d5852c64df33d62507c40666'},\n",
       " {'url': 'https://www.news.com.au/sport/cricket/cameron-green-explains-brutal-tim-paine-pat-cummins-bowling-snub-in-first-test-vs-india/news-story/33f87ce0a7977bc2dc27b636114484fe'},\n",
       " {'url': 'https://www.news.com.au/finance/real-estate/adelaide-sa/sittin-on-top-of-the-world-with-a-view/news-story/53234f77c0f277a4916333ba3d26677c'},\n",
       " {'url': 'https://www.news.com.au/entertainment/celebrity-life/royals/royal-weddings/kate-middleton-meghan-markles-royal-wedding-dressmaker-now-on-the-brink-of-homelessness/news-story/4df19de3419ce93c5fa29df1c232e165'},\n",
       " {'url': 'https://www.news.com.au/lifestyle/real-life/news-life/son-42-wins-lawsuit-against-his-parents-for-throwing-away-his-25000-porn-collection/news-story/ab3fb298517eef7e2ed90d990c079e99'},\n",
       " {'url': 'https://www.news.com.au/national/december-auction-numbers-unprecedented/video/7bc5a40315373b09b0ef1fd81fe2d761'},\n",
       " {'url': 'https://www.news.com.au/sport/american-sports/nba/not-here-to-take-photos-aussie-billionaire-buys-an-nba-team/news-story/a30634592fec09afa030fac0c0b5b347'},\n",
       " {'url': 'https://www.news.com.au/finance/work/at-work/worker-found-dead-on-shopping-centre-roof-in-suspected-electrocution/news-story/fee35d2f1b22b91f4fe5327183af1d68'}]"
      ]
     },
     "execution_count": 62,
     "metadata": {},
     "output_type": "execute_result"
    }
   ],
   "source": [
    "crawler.all_json_to_send"
   ]
  },
  {
   "cell_type": "code",
   "execution_count": 63,
   "metadata": {},
   "outputs": [],
   "source": [
    "assert(len(crawler.all_json_to_send)>0) "
   ]
  },
  {
   "cell_type": "code",
   "execution_count": 64,
   "metadata": {},
   "outputs": [],
   "source": [
    "assert validators.url(crawler.all_json_to_send[0][\"url\"])"
   ]
  },
  {
   "cell_type": "code",
   "execution_count": 75,
   "metadata": {},
   "outputs": [],
   "source": [
    "SEED_SCRAP = 'https://www.news.com.au/sport/cricket/cameron-green-explains-brutal-tim-paine-pat-cummins-bowling-snub-in-first-test-vs-india/news-story/33f87ce0a7977bc2dc27b636114484fe'\n"
   ]
  },
  {
   "cell_type": "code",
   "execution_count": 76,
   "metadata": {},
   "outputs": [],
   "source": [
    "QUERY_TITLE = \"//h1[@class='story-headline']\"\n",
    "QUERY_CONTENT =  \"//article[@id='story']//p\"\n",
    "QUERY_DATE = \"//span[@class='datestamp']/span[@class='date']\""
   ]
  },
  {
   "cell_type": "code",
   "execution_count": 90,
   "metadata": {},
   "outputs": [],
   "source": [
    "import json\n",
    "import w3lib.html\n",
    "import random\n",
    "import os\n",
    "import datetime\n",
    "import requests\n",
    "import string\n",
    "import calendar\n",
    "import html\n",
    "import locale \n",
    "import datefinder\n",
    "from requests_html import HTMLSession\n",
    "import re"
   ]
  },
  {
   "cell_type": "code",
   "execution_count": 87,
   "metadata": {},
   "outputs": [],
   "source": [
    "class Scraper:\n",
    "    \n",
    "    USER_AGENT_LIST = [\n",
    "        \"Mozilla/5.0 (Windows NT 6.1; WOW64) AppleWebKit/537.1 (KHTML, like Gecko) Chrome/22.0.1207.1 Safari/537.1\",\n",
    "        \"Mozilla/5.0 (X11; CrOS i686 2268.111.0) AppleWebKit/536.11 (KHTML, like Gecko) Chrome/20.0.1132.57 Safari/536.11\",\n",
    "        \"Mozilla/5.0 (Windows NT 6.1; WOW64) AppleWebKit/536.6 (KHTML, like Gecko) Chrome/20.0.1092.0 Safari/536.6\",\n",
    "        \"Mozilla/5.0 (Windows NT 6.2) AppleWebKit/536.6 (KHTML, like Gecko) Chrome/20.0.1090.0 Safari/536.6\",\n",
    "        \"Mozilla/5.0 (Windows NT 6.2; WOW64) AppleWebKit/537.1 (KHTML, like Gecko) Chrome/19.77.34.5 Safari/537.1\",\n",
    "        \"Mozilla/5.0 (X11; Linux x86_64) AppleWebKit/536.5 (KHTML, like Gecko) Chrome/19.0.1084.9 Safari/536.5\",\n",
    "        \"Mozilla/5.0 (Windows NT 6.0) AppleWebKit/536.5 (KHTML, like Gecko) Chrome/19.0.1084.36 Safari/536.5\",\n",
    "        \"Mozilla/5.0 (Windows NT 6.1; WOW64) AppleWebKit/536.3 (KHTML, like Gecko) Chrome/19.0.1063.0 Safari/536.3\",\n",
    "        \"Mozilla/5.0 (Windows NT 5.1) AppleWebKit/536.3 (KHTML, like Gecko) Chrome/19.0.1063.0 Safari/536.3\",\n",
    "        \"Mozilla/5.0 (Macintosh; Intel Mac OS X 10_8_0) AppleWebKit/536.3 (KHTML, like Gecko) Chrome/19.0.1063.0 Safari/536.3\",\n",
    "        \"Mozilla/5.0 (Windows NT 6.2) AppleWebKit/536.3 (KHTML, like Gecko) Chrome/19.0.1062.0 Safari/536.3\",\n",
    "        \"Mozilla/5.0 (Windows NT 6.1; WOW64) AppleWebKit/536.3 (KHTML, like Gecko) Chrome/19.0.1062.0 Safari/536.3\",\n",
    "        \"Mozilla/5.0 (Windows NT 6.2) AppleWebKit/536.3 (KHTML, like Gecko) Chrome/19.0.1061.1 Safari/536.3\",\n",
    "        \"Mozilla/5.0 (Windows NT 6.1; WOW64) AppleWebKit/536.3 (KHTML, like Gecko) Chrome/19.0.1061.1 Safari/536.3\",\n",
    "        \"Mozilla/5.0 (Windows NT 6.1) AppleWebKit/536.3 (KHTML, like Gecko) Chrome/19.0.1061.1 Safari/536.3\",\n",
    "        \"Mozilla/5.0 (Windows NT 6.2) AppleWebKit/536.3 (KHTML, like Gecko) Chrome/19.0.1061.0 Safari/536.3\",\n",
    "        \"Mozilla/5.0 (X11; Linux x86_64) AppleWebKit/535.24 (KHTML, like Gecko) Chrome/19.0.1055.1 Safari/535.24\",\n",
    "        \"Mozilla/5.0 (Windows NT 6.2; WOW64) AppleWebKit/535.24 (KHTML, like Gecko) Chrome/19.0.1055.1 Safari/535.24\"\n",
    "    ]\n",
    "\n",
    "    query_extract_title = QUERY_TITLE\n",
    "    query_extract_text =  QUERY_CONTENT\n",
    "    query_extract_date = QUERY_DATE\n",
    "\n",
    "    \n",
    "    def _init_(self):\n",
    "        pass\n",
    "\n",
    "  \n",
    "    def start_request(self,url):\n",
    "        headers = {'user-agent':random.choice(self.USER_AGENT_LIST) }\n",
    "        session = HTMLSession()\n",
    "        response = session.get(url,headers=headers)  \n",
    "        return response\n",
    "    \n",
    "\n",
    "    def clean_text(self, html_text):\n",
    "        text_without_tags = w3lib.html.remove_tags(html_text)\n",
    "        text_without_escape_chars = w3lib.html.replace_escape_chars(text_without_tags)\n",
    "        text_without_escape_chars = html.unescape(text_without_escape_chars)\n",
    "        text_without_whitespace = text_without_escape_chars.strip()\n",
    "        return text_without_whitespace\n",
    "\n",
    "\n",
    "    def replace_month_name_to_number(self,date_string):\n",
    "        lower_string = date_string.lower()\n",
    "        for month_id in range(1, 13):\n",
    "            if(lower_string.find(calendar.month_name[month_id].lower())!=-1):\n",
    "                if(month_id>=10):\n",
    "                    return (lower_string.replace(calendar.month_name[month_id].lower(),str(month_id)))\n",
    "                else:\n",
    "                    return (lower_string.replace(calendar.month_name[month_id].lower(),\"0\"+str(month_id)))\n",
    "            if(lower_string.find(calendar.month_abbr[month_id].lower())!=-1):\n",
    "                if(month_id>=10):\n",
    "                    return (lower_string.replace(calendar.month_abbr[month_id].lower(),str(month_id)))\n",
    "                else:\n",
    "                    return (lower_string.replace(calendar.month_abbr[month_id].lower(),\"0\"+str(month_id)))\n",
    "                    \n",
    "\n",
    "    def format_date(self,date):\n",
    "        matches = datefinder.find_dates(date)\n",
    "        for match in matches:\n",
    "            return (match.strftime(\"%Y-%m-%d\"))\n",
    "\n",
    "\n",
    "    def parse(self, response):\n",
    "        self.news_text = []\n",
    "        self.message_to_send = []\n",
    "        self.scraped_url = response.url\n",
    "        self.news_title = response.html.xpath(self.query_extract_title)[0].text\n",
    "        self.date = response.html.xpath(self.query_extract_date)[0]\n",
    "        self.news_title = self.clean_text(self.news_title)\n",
    "        self.date = self.clean_text(self.date.text)\n",
    "        self.date = self.format_date(self.date)    \n",
    "        news_text_extracted_response = response.html.xpath(self.query_extract_text)\n",
    "        for part_of_body in news_text_extracted_response:\n",
    "            stripped_html_tags = w3lib.html.remove_tags(part_of_body.text)\n",
    "            text_cleaned = self.clean_text(stripped_html_tags)\n",
    "            self.news_text.append(text_cleaned) "
   ]
  },
  {
   "cell_type": "code",
   "execution_count": 88,
   "metadata": {},
   "outputs": [],
   "source": [
    "scraper = Scraper()\n",
    "response =scraper.start_request(SEED_SCRAP)"
   ]
  },
  {
   "cell_type": "code",
   "execution_count": 91,
   "metadata": {},
   "outputs": [],
   "source": [
    "scraper.parse(response)"
   ]
  },
  {
   "cell_type": "code",
   "execution_count": 92,
   "metadata": {},
   "outputs": [
    {
     "data": {
      "text/plain": [
       "'Cameron Green explains brutal Tim Paine, Pat Cummins bowling snub in first Test vs India'"
      ]
     },
     "execution_count": 92,
     "metadata": {},
     "output_type": "execute_result"
    }
   ],
   "source": [
    "scraper.news_title"
   ]
  },
  {
   "cell_type": "code",
   "execution_count": 93,
   "metadata": {},
   "outputs": [
    {
     "data": {
      "text/plain": [
       "'2020-12-19'"
      ]
     },
     "execution_count": 93,
     "metadata": {},
     "output_type": "execute_result"
    }
   ],
   "source": [
    "scraper.date"
   ]
  },
  {
   "cell_type": "code",
   "execution_count": 94,
   "metadata": {
    "scrolled": true
   },
   "outputs": [
    {
     "data": {
      "text/plain": [
       "['Cricket: India finished the first innings well on top of Australia, however they may live to regret dropping several key wickets on the way.',\n",
       " 'Cameron Green had to wait his turn.Source:FOX SPORTS',\n",
       " 'Cameron Green has enjoyed a rapid rise but he was forced to wait his turn on day one of the first Test against India.',\n",
       " 'The 21-year-old is making his debut in Adelaide and thought he’d been given the green light to roll his arm over for the first time representing his country in the five-day format.',\n",
       " 'Watch Australia v India Test Series Live & Ad-Break Free During Play with the Fox Cricket commentary team. New to Kayo? Get your free trial now & start streaming instantly >',\n",
       " 'Green took off his cap, grabbed the pink ball, headed to the top of his bowling mark and started limbering up in preparation to try and dislodge Cheteshwar Pujara in the first session on Thursday.',\n",
       " 'But the young gun quickly learnt his place in the pecking order. Pat Cummins went up to him, signalled to captain Tim Paine, then promptly took the ball back off Green and continued his spell, relegating the West Australian back to his fielding position.',\n",
       " 'The Adelaide crowd had started cheering in anticipation of welcoming Green to the bowling crease but was forced to hold its applause until later in the day.',\n",
       " 'A false alarm for the debutant Green! Cummins continues #AUSvIND pic.twitter.com/mwKDXLf7vh',\n",
       " 'It turns out it was a simple misunderstanding. Explaining his snub on day two, Green told Fox Cricket the instructions from his skipper were misinterpreted.',\n",
       " '“Tim Paine said, ‘You’ve got five minutes to get ready’ and Patty hadn’t even started his over beforehand,” Green said.',\n",
       " '“Overs normally take three or four minutes so in my head I’m doing the math and thinking I’ve got the next one.',\n",
       " '“Then he might have said five overs’ time instead of five minutes. There were a few things going through my head so I wasn’t thinking too clearly.”',\n",
       " 'The Fox Cricket commentators certainly saw the funny side to it.',\n",
       " '“We were starting to get excited. He had the ball in hand and then Patty said, ‘Sorry mate’,” Mark Howard said.',\n",
       " '“Just establishing the order there, was Patty.”',\n",
       " 'Shane Warne added: “Jeez. Tell you what, Test debut, bit of nerves, tell him he’s bowling then take it out of his hand and say, ‘Nah just kidding, I’m having one more’.”',\n",
       " 'Green eventually bowled nine wicketless innings in India’s first innings, and made 11 with the bat on day two before miscuing a pull shot that was snaffled by a diving Virat Kohli at mid-wicket.',\n",
       " 'Australia was bowled out for 191 in response to India’s 24. The tourists will resume their second innings today at 1/9.',\n",
       " 'RELATED: Aussie superstar avoids dramatic exit',\n",
       " 'RELATED: ‘Garbage’ change exposed in Aussie carnage',\n",
       " 'Pat Cummins picked up three wickets.Source:Getty Images']"
      ]
     },
     "execution_count": 94,
     "metadata": {},
     "output_type": "execute_result"
    }
   ],
   "source": [
    "scraper.news_text"
   ]
  },
  {
   "cell_type": "code",
   "execution_count": 95,
   "metadata": {},
   "outputs": [],
   "source": [
    "def validate(date_text):\n",
    "    try:\n",
    "        datetime.datetime.strptime(date_text, \"%Y-%m-%d\")\n",
    "        return True\n",
    "    except:\n",
    "        print(\"La fecha no tiene el formato correcto, año-mes-dia\")\n",
    "        return False\n",
    "\n",
    "    \n",
    "def test_news_title_has_text(news_title):\n",
    "    regex_string_only_numbers = r'^[0-9\\.\\ ]*$'\n",
    "    news_text_is_only_number_query = re.match(regex_string_only_numbers,news_title)\n",
    "    if(news_text_is_only_number_query is None):\n",
    "        return True\n",
    "    else:\n",
    "        return False\n",
    "\n",
    "    \n",
    "def test_news_text_has_text(news_text):\n",
    "    joined_text =   \" \".join(news_text)\n",
    "    regex_string_only_numbers = r'^[0-9\\.\\ ]*$'\n",
    "    news_text_is_only_number_query = re.match(regex_string_only_numbers,joined_text)\n",
    "    if(news_text_is_only_number_query is None):\n",
    "        return True\n",
    "    else:\n",
    "        return False\n",
    "\n",
    "        \n",
    "def test_news_title_length(news_title):\n",
    "    words_of_news_title = news_title.split(\" \")\n",
    "    len_of_each_news_title_word = list(map(len,words_of_news_title))\n",
    "    avg_of_news_words = sum(len_of_each_news_title_word)/len(len_of_each_news_title_word)\n",
    "    if(avg_of_news_words >= 1.5):\n",
    "        return True\n",
    "    else:\n",
    "        return False\n",
    "\n",
    "    \n",
    "def test_news_text_length(news_text):\n",
    "    len_of_each_news_text_words = []\n",
    "    for paragraph in news_text:\n",
    "        splited_words = paragraph.split(\" \")\n",
    "        len_of_each_news_text_words.extend(list(map(len,splited_words)))\n",
    "    avg_of_news_words = sum(len_of_each_news_text_words)/len(len_of_each_news_text_words)\n",
    "    if(avg_of_news_words >= 1.5):\n",
    "        return True\n",
    "    else:\n",
    "        return False"
   ]
  },
  {
   "cell_type": "code",
   "execution_count": 96,
   "metadata": {},
   "outputs": [],
   "source": [
    "assert(len(scraper.news_title)>0)\n",
    "assert(len(scraper.news_text)>0)\n",
    "assert(validate(scraper.date))\n",
    "assert(isinstance(scraper.news_title,str))\n",
    "assert(isinstance(scraper.news_text,list)) \n",
    "assert(scraper.news_title.find(\"<script>\")==-1)\n",
    "assert(scraper.news_title.find(\"</script>\")==-1)\n",
    "for text_piece in scraper.news_text:\n",
    "    assert(text_piece.find(\"<script>\")==-1)\n",
    "    assert(text_piece.find(\"</script>\")==-1)\n",
    "assert(test_news_title_has_text(scraper.news_title))\n",
    "assert(test_news_text_has_text(scraper.news_text))\n",
    "assert(test_news_title_length(scraper.news_title))\n",
    "assert(test_news_text_length(scraper.news_text))  "
   ]
  },
  {
   "cell_type": "code",
   "execution_count": null,
   "metadata": {},
   "outputs": [],
   "source": []
  }
 ],
 "metadata": {
  "kernelspec": {
   "display_name": "Python 3",
   "language": "python",
   "name": "python3"
  },
  "language_info": {
   "codemirror_mode": {
    "name": "ipython",
    "version": 3
   },
   "file_extension": ".py",
   "mimetype": "text/x-python",
   "name": "python",
   "nbconvert_exporter": "python",
   "pygments_lexer": "ipython3",
   "version": "3.8.5"
  }
 },
 "nbformat": 4,
 "nbformat_minor": 4
}
