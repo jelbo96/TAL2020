{
 "cells": [
  {
   "cell_type": "code",
   "execution_count": 1,
   "metadata": {},
   "outputs": [],
   "source": [
    "SEED_CRAWL = 'https://www.theglobeandmail.com/pb/api/v2/render/feature/global/story-feed?wrap=false&service=story-feed-query&contentConfig=%7B%22q%22%3A%22(taxonomy.sites.path%253A%255C%252Fworld*)%22%2C%22from%22%3A%2241%22%2C%22size%22%3A%2226%22%7D&customFields=%7B%22linkTrackFeatureItemsContainerName%22%3A%22view%20more%20articles%22%2C%22end%22%3A%2220%22%2C%22listDisplayType%22%3A%22standard%22%2C%22showSectionTitle%22%3Afalse%2C%22loadMore%22%3Atrue%2C%22noInlineAds%22%3Atrue%2C%22feedType%22%3A%22automatedFeed%22%2C%22excludeDuplicates%22%3A%22%5B%5C%22%2Fworld%2Farticle-environmental-hero-brings-back-fish-to-a-barren-turkish-sea%2F%5C%22%2C%5C%22%2Fworld%2Fus-politics%2Farticle-us-congress-inches-closer-to-trump-veto-override-as-republican%2F%5C%22%2C%5C%22%2Fworld%2Farticle-britain-first-to-approve-oxford-astrazenecas-covid-19-vaccine-rollout%2F%5C%22%2C%5C%22%2Fworld%2Farticle-at-least-five-killed-in-blast-gunfire-at-yemens-aden-airport-after%2F%5C%22%2C%5C%22%2Fworld%2Farticle-britain-reports-record-53135-new-covid-19-cases-prompting-extreme%2F%5C%22%5D%22%7D'"
   ]
  },
  {
   "cell_type": "code",
   "execution_count": 16,
   "metadata": {},
   "outputs": [],
   "source": [
    "QUERY_URL = \"//a/@href\""
   ]
  },
  {
   "cell_type": "code",
   "execution_count": 46,
   "metadata": {},
   "outputs": [],
   "source": [
    "import random\n",
    "import requests\n",
    "from requests_html import HTMLSession\n",
    "from requests_html import HTML\n",
    "from lxml import html\n",
    "import os\n",
    "import json\n",
    "import validators"
   ]
  },
  {
   "cell_type": "code",
   "execution_count": 63,
   "metadata": {},
   "outputs": [],
   "source": [
    "class Crawler:\n",
    "    \n",
    "    USER_AGENT_LIST = [\n",
    "        \"Mozilla/5.0 (Windows NT 6.1; WOW64) AppleWebKit/537.1 (KHTML, like Gecko) Chrome/22.0.1207.1 Safari/537.1\",\n",
    "        \"Mozilla/5.0 (X11; CrOS i686 2268.111.0) AppleWebKit/536.11 (KHTML, like Gecko) Chrome/20.0.1132.57 Safari/536.11\",\n",
    "        \"Mozilla/5.0 (Windows NT 6.1; WOW64) AppleWebKit/536.6 (KHTML, like Gecko) Chrome/20.0.1092.0 Safari/536.6\",\n",
    "        \"Mozilla/5.0 (Windows NT 6.2) AppleWebKit/536.6 (KHTML, like Gecko) Chrome/20.0.1090.0 Safari/536.6\",\n",
    "        \"Mozilla/5.0 (Windows NT 6.2; WOW64) AppleWebKit/537.1 (KHTML, like Gecko) Chrome/19.77.34.5 Safari/537.1\",\n",
    "        \"Mozilla/5.0 (X11; Linux x86_64) AppleWebKit/536.5 (KHTML, like Gecko) Chrome/19.0.1084.9 Safari/536.5\",\n",
    "        \"Mozilla/5.0 (Windows NT 6.0) AppleWebKit/536.5 (KHTML, like Gecko) Chrome/19.0.1084.36 Safari/536.5\",\n",
    "        \"Mozilla/5.0 (Windows NT 6.1; WOW64) AppleWebKit/536.3 (KHTML, like Gecko) Chrome/19.0.1063.0 Safari/536.3\",\n",
    "        \"Mozilla/5.0 (Windows NT 5.1) AppleWebKit/536.3 (KHTML, like Gecko) Chrome/19.0.1063.0 Safari/536.3\",\n",
    "        \"Mozilla/5.0 (Macintosh; Intel Mac OS X 10_8_0) AppleWebKit/536.3 (KHTML, like Gecko) Chrome/19.0.1063.0 Safari/536.3\",\n",
    "        \"Mozilla/5.0 (Windows NT 6.2) AppleWebKit/536.3 (KHTML, like Gecko) Chrome/19.0.1062.0 Safari/536.3\",\n",
    "        \"Mozilla/5.0 (Windows NT 6.1; WOW64) AppleWebKit/536.3 (KHTML, like Gecko) Chrome/19.0.1062.0 Safari/536.3\",\n",
    "        \"Mozilla/5.0 (Windows NT 6.2) AppleWebKit/536.3 (KHTML, like Gecko) Chrome/19.0.1061.1 Safari/536.3\",\n",
    "        \"Mozilla/5.0 (Windows NT 6.1; WOW64) AppleWebKit/536.3 (KHTML, like Gecko) Chrome/19.0.1061.1 Safari/536.3\",\n",
    "        \"Mozilla/5.0 (Windows NT 6.1) AppleWebKit/536.3 (KHTML, like Gecko) Chrome/19.0.1061.1 Safari/536.3\",\n",
    "        \"Mozilla/5.0 (Windows NT 6.2) AppleWebKit/536.3 (KHTML, like Gecko) Chrome/19.0.1061.0 Safari/536.3\",\n",
    "        \"Mozilla/5.0 (X11; Linux x86_64) AppleWebKit/535.24 (KHTML, like Gecko) Chrome/19.0.1055.1 Safari/535.24\",\n",
    "        \"Mozilla/5.0 (Windows NT 6.2; WOW64) AppleWebKit/535.24 (KHTML, like Gecko) Chrome/19.0.1055.1 Safari/535.24\"\n",
    "]\n",
    "\n",
    "    query_extract_all_href=QUERY_URL\n",
    "\n",
    "\n",
    "    all_json_to_send = []\n",
    "    \n",
    "    \n",
    "    def _init_(self):\n",
    "        pass\n",
    "    \n",
    "    \n",
    "    def start_request(self,url):\n",
    "        session = HTMLSession()\n",
    "        header = dict()\n",
    "        header['user-agent'] = random.choice(self.USER_AGENT_LIST)\n",
    "        response = session.get(url,headers=header)        \n",
    "        return response\n",
    "    \n",
    "    \n",
    "    def parse(self, response):\n",
    "        self.all_json_to_send = []\n",
    "        json_data = json.loads(response.html.html)['rendering']\n",
    "        root = html.fromstring(json_data)\n",
    "        all_extracted_href = root.xpath(self.query_extract_all_href)\n",
    "        for href in all_extracted_href:  \n",
    "            json_to_send= dict()\n",
    "            json_to_send[\"url\"]= \"https://www.theglobeandmail.com\" + href\n",
    "            self.all_json_to_send.append(json_to_send)"
   ]
  },
  {
   "cell_type": "code",
   "execution_count": 64,
   "metadata": {},
   "outputs": [],
   "source": [
    "crawler = Crawler()\n",
    "\n",
    "response = crawler.start_request(SEED_CRAWL)"
   ]
  },
  {
   "cell_type": "code",
   "execution_count": 65,
   "metadata": {},
   "outputs": [
    {
     "data": {
      "text/plain": [
       "'{\"rendering\":\"<div class=\\\\\"u-wrapper pb-feature pb-layout-item pb-f-global-story-feed\\\\\" id=\\\\\"\\\\\"> <div class=\\\\\"l-row\\\\\"> <div class=\\\\\"l-col-1 l-section-col-card-story\\\\\"> <div class=\\\\\"c-card\\\\\"> <a href=\\\\\"/world/us-politics/article-trump-on-tape-presses-georgia-official-to-find-trump-votes/\\\\\" class=\\\\\"c-card__grid c-card__link\\\\\" data-sophi=\\\\\"RXQJY4E2D5H63OCLL25H5PYAWM\\\\\" data-analyticsclick=\\'{\\\\\"feature\\\\\":\\\\\"latest\\\\\",\\\\\"hierarchy\\\\\":1,\\\\\"contentId\\\\\":\\\\\"RXQJY4E2D5H63OCLL25H5PYAWM\\\\\",\\\\\"label\\\\\":\\\\\"president recorded on tape pressing georgia official to ‘find’ trump votes\\\\\",\\\\\"page\\\\\":\\\\\"sec::view more articles\\\\\",\\\\\"position\\\\\":1,\\\\\"type\\\\\":\\\\\"link\\\\\"}\\' data-lt-pos=\\\\\"sec::view more articles\\\\\" data-lt-lid=\\\\\"Headline.1\\\\\"> <div class=\\\\\"c-card__content\\\\\"> <span class=\\\\\"c-card__label c-card__label--muted\\\\\"> u.s. politics</span> <div class=\\\\\"c-card__hed\\\\\"> <div class=\\\\\"c-card__hed-text\\\\\"> President recorded on tape pressing Georgia official to ‘find’ Trump votes</div> <span class=\\\\\"c-indicator-icon c-indicator-icon--key\\\\\" aria-label=\\\\\"Subscriber content\\\\\"> <span class=\\\\\"u-visually-hidden\\\\\">Subscriber content</span> <svg class=\\\\\"c-indicator-icon__art c-indicator-icon__art--key\\\\\" role=\\\\\"img\\\\\" pointer-events=\\\\\"none\\\\\" focusable=\\\\\"false\\\\\" aria-hidden=\\\\\"true\\\\\"> <use xlink:href=\\\\\"/pb/resources/assets/panther/sprites/sprite.704b8c4470a2ec10e4747b9d7eca7b0c.svg#icon-key\\\\\"></use> </svg> </span> </div> <div class=\\\\\"c-card__meta\\\\\"> <time class=\\\\\"c-timestamp u-no-wrap js-story-moment\\\\\" data-unixtime=\\\\\"1609703469\\\\\" data-moment-preface=\\\\\"\\\\\" datetime=\\\\\"2021-01-03T19:51:09.510Z\\\\\"> January 3 </time> <time class=\\\\\"c-timestamp u-no-wrap c-timestamp--updated\\\\\" data-unixtime=\\\\\"1609765477\\\\\" data-moment-preface=\\\\\"Updated\\\\\" datetime=\\\\\"2021-01-04T13:04:37.901Z\\\\\"> Updated </time> </div> </div> <div class=\\\\\"c-card__media\\\\\"> <div class=\\\\\"c-image-container c-image-container--lazy\\\\\" style=\\\\\"padding-bottom: 66.66666666666666%\\\\\"> <div class=\\\\\"c-image-container--lazy__wrapper\\\\\"> <img class=\\\\\"c-image js-lazyimage\\\\\" src=\\\\\"data:image/gif;base64,R0lGODlhAQABAIAAAAAAAP///yH5BAEAAAAALAAAAAABAAEAAAIBRAA7\\\\\" data-src=\\\\\"https://www.theglobeandmail.com/resizer/vU_gISoOjUs67UlELrCsXTCswZ4=/0x0:4305x2870/200x0/filters:quality(80)/cloudfront-us-east-1.images.arcpublishing.com/tgam/V7HRVP3YYNKGFE4NSIIL6EQ5PU.jpg\\\\\" data-sizes=\\\\\"auto\\\\\" data-srcset=\\\\\"https://www.theglobeandmail.com/resizer/vU_gISoOjUs67UlELrCsXTCswZ4=/0x0:4305x2870/200x0/filters:quality(80)/cloudfront-us-east-1.images.arcpublishing.com/tgam/V7HRVP3YYNKGFE4NSIIL6EQ5PU.jpg 200w, https://www.theglobeandmail.com/resizer/hHgqs_qTmieYobkl8jxYu23gl7Y=/0x0:4305x2870/400x0/filters:quality(80)/cloudfront-us-east-1.images.arcpublishing.com/tgam/V7HRVP3YYNKGFE4NSIIL6EQ5PU.jpg 400w\\\\\" data-aspect-ratio=\\\\\"1.5\\\\\" data-photo=\\\\\"story\\\\\" alt=\\\\\"\\\\\"> <noscript> <img src=\\\\\"https://www.theglobeandmail.com/resizer/vU_gISoOjUs67UlELrCsXTCswZ4=/0x0:4305x2870/200x0/filters:quality(80)/cloudfront-us-east-1.images.arcpublishing.com/tgam/V7HRVP3YYNKGFE4NSIIL6EQ5PU.jpg\\\\\" alt=\\\\\"\\\\\"> </noscript> </div> </div> </div> </a> </div> </div> <div class=\\\\\"l-col-1 l-section-col-card-story\\\\\"> <div class=\\\\\"c-card\\\\\"> <a href=\\\\\"/world/article-israeli-prosecutors-spell-out-allegations-against-pm-benjamin/\\\\\" class=\\\\\"c-card__grid c-card__link\\\\\" data-sophi=\\\\\"RABNKP2BSVDYPO76DTIUMNWLGM\\\\\" data-analyticsclick=\\'{\\\\\"feature\\\\\":\\\\\"latest\\\\\",\\\\\"hierarchy\\\\\":1,\\\\\"contentId\\\\\":\\\\\"RABNKP2BSVDYPO76DTIUMNWLGM\\\\\",\\\\\"label\\\\\":\\\\\"prosecutors release more details on allegations against israeli pm\\\\\",\\\\\"page\\\\\":\\\\\"sec::view more articles\\\\\",\\\\\"position\\\\\":2,\\\\\"type\\\\\":\\\\\"link\\\\\"}\\' data-lt-pos=\\\\\"sec::view more articles\\\\\" data-lt-lid=\\\\\"Headline.2\\\\\"> <div class=\\\\\"c-card__content\\\\\"> <span class=\\\\\"c-card__label c-card__label--muted\\\\\"> world</span> <div class=\\\\\"c-card__hed\\\\\"> <div class=\\\\\"c-card__hed-text\\\\\"> Prosecutors release more details on allegations against Israeli PM</div> <span class=\\\\\"c-indicator-icon c-indicator-icon--key\\\\\" aria-label=\\\\\"Subscriber content\\\\\"> <span class=\\\\\"u-visually-hidden\\\\\">Subscriber content</span> <svg class=\\\\\"c-indicator-icon__art c-indicator-icon__art--key\\\\\" role=\\\\\"img\\\\\" pointer-events=\\\\\"none\\\\\" focusable=\\\\\"false\\\\\" aria-hidden=\\\\\"true\\\\\"> <use xlink:href=\\\\\"/pb/resources/assets/panther/sprites/sprite.704b8c4470a2ec10e4747b9d7eca7b0c.svg#icon-key\\\\\"></use> </svg> </span> </div> <div class=\\\\\"c-card__meta\\\\\"> <time class=\\\\\"c-timestamp u-no-wrap js-story-moment\\\\\" data-unixtime=\\\\\"1609699210\\\\\" data-moment-preface=\\\\\"\\\\\" datetime=\\\\\"2021-01-03T18:40:10.436Z\\\\\"> January 3 </time> <time class=\\\\\"c-timestamp u-no-wrap u-visually-hidden c-timestamp--updated\\\\\" data-unixtime=\\\\\"1609713506\\\\\" data-moment-preface=\\\\\"Updated\\\\\" datetime=\\\\\"2021-01-03T22:38:26.484Z\\\\\"> Updated </time> </div> </div> <div class=\\\\\"c-card__media\\\\\"> <div class=\\\\\"c-image-container c-image-container--lazy\\\\\" style=\\\\\"padding-bottom: 66.66666666666666%\\\\\"> <div class=\\\\\"c-image-container--lazy__wrapper\\\\\"> <img class=\\\\\"c-image js-lazyimage\\\\\" src=\\\\\"data:image/gif;base64,R0lGODlhAQABAIAAAAAAAP///yH5BAEAAAAALAAAAAABAAEAAAIBRAA7\\\\\" data-src=\\\\\"https://www.theglobeandmail.com/resizer/SXYKC9KnopemRhgYVb5bBu2uKzw=/0x0:6336x4224/200x0/filters:quality(80)/cloudfront-us-east-1.images.arcpublishing.com/tgam/4Q7JNTVDZNP4FCM5LY2X7YUYGM.jpg\\\\\" data-sizes=\\\\\"auto\\\\\" data-srcset=\\\\\"https://www.theglobeandmail.com/resizer/SXYKC9KnopemRhgYVb5bBu2uKzw=/0x0:6336x4224/200x0/filters:quality(80)/cloudfront-us-east-1.images.arcpublishing.com/tgam/4Q7JNTVDZNP4FCM5LY2X7YUYGM.jpg 200w, https://www.theglobeandmail.com/resizer/LnuRgcNq24N-bLsyyVGItcqlU4A=/0x0:6336x4224/400x0/filters:quality(80)/cloudfront-us-east-1.images.arcpublishing.com/tgam/4Q7JNTVDZNP4FCM5LY2X7YUYGM.jpg 400w\\\\\" data-aspect-ratio=\\\\\"1.5\\\\\" data-photo=\\\\\"story\\\\\" alt=\\\\\"\\\\\"> <noscript> <img src=\\\\\"https://www.theglobeandmail.com/resizer/SXYKC9KnopemRhgYVb5bBu2uKzw=/0x0:6336x4224/200x0/filters:quality(80)/cloudfront-us-east-1.images.arcpublishing.com/tgam/4Q7JNTVDZNP4FCM5LY2X7YUYGM.jpg\\\\\" alt=\\\\\"\\\\\"> </noscript> </div> </div> </div> </a> </div> </div> <div class=\\\\\"l-col-1 l-section-col-card-story\\\\\"> <div class=\\\\\"c-card\\\\\"> <a href=\\\\\"/world/article-egypt-ethiopia-sudan-resume-talks-over-disputed-dam-3/\\\\\" class=\\\\\"c-card__grid c-card__link\\\\\" data-sophi=\\\\\"RF4XR3OJ5FHTZKZC7E4VGU35NQ\\\\\" data-analyticsclick=\\'{\\\\\"feature\\\\\":\\\\\"latest\\\\\",\\\\\"hierarchy\\\\\":1,\\\\\"contentId\\\\\":\\\\\"RF4XR3OJ5FHTZKZC7E4VGU35NQ\\\\\",\\\\\"label\\\\\":\\\\\"egypt, ethiopia, sudan resume talks over disputed dam\\\\\",\\\\\"page\\\\\":\\\\\"sec::view more articles\\\\\",\\\\\"position\\\\\":3,\\\\\"type\\\\\":\\\\\"link\\\\\"}\\' data-lt-pos=\\\\\"sec::view more articles\\\\\" data-lt-lid=\\\\\"Headline.3\\\\\"> <div class=\\\\\"c-card__content\\\\\"> <span class=\\\\\"c-card__label c-card__label--muted\\\\\"> world</span> <div class=\\\\\"c-card__hed\\\\\"> <div class=\\\\\"c-card__hed-text\\\\\"> Egypt, Ethiopia, Sudan resume talks over disputed dam</div> <span class=\\\\\"c-indicator-icon c-indicator-icon--key\\\\\" aria-label=\\\\\"Subscriber content\\\\\"> <span class=\\\\\"u-visually-hidden\\\\\">Subscriber content</span> <svg class=\\\\\"c-indicator-icon__art c-indicator-icon__art--key\\\\\" role=\\\\\"img\\\\\" pointer-events=\\\\\"none\\\\\" focusable=\\\\\"false\\\\\" aria-hidden=\\\\\"true\\\\\"> <use xlink:href=\\\\\"/pb/resources/assets/panther/sprites/sprite.704b8c4470a2ec10e4747b9d7eca7b0c.svg#icon-key\\\\\"></use> </svg> </span> </div> <div class=\\\\\"c-card__meta\\\\\"> <time class=\\\\\"c-timestamp u-no-wrap js-story-moment\\\\\" data-unixtime=\\\\\"1609694893\\\\\" data-moment-preface=\\\\\"\\\\\" datetime=\\\\\"2021-01-03T17:28:13.064Z\\\\\"> January 3 </time> <time class=\\\\\"c-timestamp u-no-wrap u-visually-hidden c-timestamp--updated\\\\\" data-unixtime=\\\\\"1609695486\\\\\" data-moment-preface=\\\\\"Updated\\\\\" datetime=\\\\\"2021-01-03T17:38:06.843Z\\\\\"> Updated </time> </div> </div> <div class=\\\\\"c-card__media\\\\\"> <div class=\\\\\"c-image-container c-image-container--lazy\\\\\" style=\\\\\"padding-bottom: 66.66666666666666%\\\\\"> <div class=\\\\\"c-image-container--lazy__wrapper\\\\\"> <img class=\\\\\"c-image js-lazyimage\\\\\" src=\\\\\"data:image/gif;base64,R0lGODlhAQABAIAAAAAAAP///yH5BAEAAAAALAAAAAABAAEAAAIBRAA7\\\\\" data-src=\\\\\"https://www.theglobeandmail.com/resizer/EurawIVdUYm3Kah-qeNHJLDnHTU=/6x0:3357x2234/200x0/filters:quality(80)/cloudfront-us-east-1.images.arcpublishing.com/tgam/TIOILRESHBOJZBVZ4CCOD6I3AA.jpg\\\\\" data-sizes=\\\\\"auto\\\\\" data-srcset=\\\\\"https://www.theglobeandmail.com/resizer/EurawIVdUYm3Kah-qeNHJLDnHTU=/6x0:3357x2234/200x0/filters:quality(80)/cloudfront-us-east-1.images.arcpublishing.com/tgam/TIOILRESHBOJZBVZ4CCOD6I3AA.jpg 200w, https://www.theglobeandmail.com/resizer/HZL7iFtzQxRePQG19Qg-yilvoBQ=/6x0:3357x2234/400x0/filters:quality(80)/cloudfront-us-east-1.images.arcpublishing.com/tgam/TIOILRESHBOJZBVZ4CCOD6I3AA.jpg 400w\\\\\" data-aspect-ratio=\\\\\"1.5\\\\\" data-photo=\\\\\"story\\\\\" alt=\\\\\"\\\\\"> <noscript> <img src=\\\\\"https://www.theglobeandmail.com/resizer/EurawIVdUYm3Kah-qeNHJLDnHTU=/6x0:3357x2234/200x0/filters:quality(80)/cloudfront-us-east-1.images.arcpublishing.com/tgam/TIOILRESHBOJZBVZ4CCOD6I3AA.jpg\\\\\" alt=\\\\\"\\\\\"> </noscript> </div> </div> </div> </a> </div> </div> <div class=\\\\\"l-col-1 l-section-col-card-story\\\\\"> <div class=\\\\\"c-card\\\\\"> <a href=\\\\\"/world/article-islamic-state-gunmen-kill-11-minority-shiite-hazara-coal-miners-in/\\\\\" class=\\\\\"c-card__grid c-card__link\\\\\" data-sophi=\\\\\"WXPXGOO5YNAUXNGMLNK4ZXDAEM\\\\\" data-analyticsclick=\\'{\\\\\"feature\\\\\":\\\\\"latest\\\\\",\\\\\"hierarchy\\\\\":1,\\\\\"contentId\\\\\":\\\\\"WXPXGOO5YNAUXNGMLNK4ZXDAEM\\\\\",\\\\\"label\\\\\":\\\\\"islamic state gunmen kill 11 minority shiite hazara coal miners in pakistan\\\\\",\\\\\"page\\\\\":\\\\\"sec::view more articles\\\\\",\\\\\"position\\\\\":4,\\\\\"type\\\\\":\\\\\"link\\\\\"}\\' data-lt-pos=\\\\\"sec::view more articles\\\\\" data-lt-lid=\\\\\"Headline.4\\\\\"> <div class=\\\\\"c-card__content\\\\\"> <span class=\\\\\"c-card__label c-card__label--muted\\\\\"> world</span> <div class=\\\\\"c-card__hed\\\\\"> <div class=\\\\\"c-card__hed-text\\\\\"> Islamic State gunmen kill 11 minority Shiite Hazara coal miners in Pakistan</div> <span class=\\\\\"c-indicator-icon c-indicator-icon--key\\\\\" aria-label=\\\\\"Subscriber content\\\\\"> <span class=\\\\\"u-visually-hidden\\\\\">Subscriber content</span> <svg class=\\\\\"c-indicator-icon__art c-indicator-icon__art--key\\\\\" role=\\\\\"img\\\\\" pointer-events=\\\\\"none\\\\\" focusable=\\\\\"false\\\\\" aria-hidden=\\\\\"true\\\\\"> <use xlink:href=\\\\\"/pb/resources/assets/panther/sprites/sprite.704b8c4470a2ec10e4747b9d7eca7b0c.svg#icon-key\\\\\"></use> </svg> </span> </div> <div class=\\\\\"c-card__meta\\\\\"> <time class=\\\\\"c-timestamp u-no-wrap js-story-moment\\\\\" data-unixtime=\\\\\"1609693478\\\\\" data-moment-preface=\\\\\"\\\\\" datetime=\\\\\"2021-01-03T17:04:38.334Z\\\\\"> January 3 </time> <time class=\\\\\"c-timestamp u-no-wrap u-visually-hidden c-timestamp--updated\\\\\" data-unixtime=\\\\\"1609693567\\\\\" data-moment-preface=\\\\\"Updated\\\\\" datetime=\\\\\"2021-01-03T17:06:07.153Z\\\\\"> Updated </time> </div> </div> <div class=\\\\\"c-card__media\\\\\"> <div class=\\\\\"c-image-container c-image-container--lazy\\\\\" style=\\\\\"padding-bottom: 66.66666666666666%\\\\\"> <div class=\\\\\"c-image-container--lazy__wrapper\\\\\"> <img class=\\\\\"c-image js-lazyimage\\\\\" src=\\\\\"data:image/gif;base64,R0lGODlhAQABAIAAAAAAAP///yH5BAEAAAAALAAAAAABAAEAAAIBRAA7\\\\\" data-src=\\\\\"https://www.theglobeandmail.com/resizer/mHS41fC_hLXYQWZeFoFTKaFP0us=/4x0:4924x3280/200x0/filters:quality(80)/cloudfront-us-east-1.images.arcpublishing.com/tgam/O5A42ZC2DVMFZKPIGVFTFKCQBM.jpg\\\\\" data-sizes=\\\\\"auto\\\\\" data-srcset=\\\\\"https://www.theglobeandmail.com/resizer/mHS41fC_hLXYQWZeFoFTKaFP0us=/4x0:4924x3280/200x0/filters:quality(80)/cloudfront-us-east-1.images.arcpublishing.com/tgam/O5A42ZC2DVMFZKPIGVFTFKCQBM.jpg 200w, https://www.theglobeandmail.com/resizer/fkmxLG6N4G8lOfM3tsXGvX6HYrs=/4x0:4924x3280/400x0/filters:quality(80)/cloudfront-us-east-1.images.arcpublishing.com/tgam/O5A42ZC2DVMFZKPIGVFTFKCQBM.jpg 400w\\\\\" data-aspect-ratio=\\\\\"1.5\\\\\" data-photo=\\\\\"story\\\\\" alt=\\\\\"\\\\\"> <noscript> <img src=\\\\\"https://www.theglobeandmail.com/resizer/mHS41fC_hLXYQWZeFoFTKaFP0us=/4x0:4924x3280/200x0/filters:quality(80)/cloudfront-us-east-1.images.arcpublishing.com/tgam/O5A42ZC2DVMFZKPIGVFTFKCQBM.jpg\\\\\" alt=\\\\\"\\\\\"> </noscript> </div> </div> </div> </a> </div> </div> <div class=\\\\\"l-col-1 l-section-col-card-story\\\\\"> <div class=\\\\\"c-card\\\\\"> <a href=\\\\\"/world/article-india-bars-astrazeneca-from-exporting-covid-19-vaccines-for-several/\\\\\" class=\\\\\"c-card__grid c-card__link\\\\\" data-sophi=\\\\\"RQICKEC6NFE4PAOEQ7BXWKNDB4\\\\\" data-analyticsclick=\\'{\\\\\"feature\\\\\":\\\\\"latest\\\\\",\\\\\"hierarchy\\\\\":1,\\\\\"contentId\\\\\":\\\\\"RQICKEC6NFE4PAOEQ7BXWKNDB4\\\\\",\\\\\"label\\\\\":\\\\\"india bars export of oxford university-astrazeneca covid-19 vaccines for several months, serum institute ceo says\\\\\",\\\\\"page\\\\\":\\\\\"sec::view more articles\\\\\",\\\\\"position\\\\\":5,\\\\\"type\\\\\":\\\\\"link\\\\\"}\\' data-lt-pos=\\\\\"sec::view more articles\\\\\" data-lt-lid=\\\\\"Headline.5\\\\\"> <div class=\\\\\"c-card__content\\\\\"> <span class=\\\\\"c-card__label c-card__label--muted\\\\\"> world</span> <div class=\\\\\"c-card__hed\\\\\"> <div class=\\\\\"c-card__hed-text\\\\\"> India bars export of Oxford University-AstraZeneca COVID-19 vaccines for several months, Serum Institute CEO says</div> </div> <div class=\\\\\"c-card__meta\\\\\"> <time class=\\\\\"c-timestamp u-no-wrap js-story-moment\\\\\" data-unixtime=\\\\\"1609688805\\\\\" data-moment-preface=\\\\\"\\\\\" datetime=\\\\\"2021-01-03T15:46:45.573Z\\\\\"> January 3 </time> <time class=\\\\\"c-timestamp u-no-wrap u-visually-hidden c-timestamp--updated\\\\\" data-unixtime=\\\\\"1609699581\\\\\" data-moment-preface=\\\\\"Updated\\\\\" datetime=\\\\\"2021-01-03T18:46:21.134Z\\\\\"> Updated </time> </div> </div> <div class=\\\\\"c-card__media\\\\\"> <div class=\\\\\"c-image-container c-image-container--lazy\\\\\" style=\\\\\"padding-bottom: 66.66666666666666%\\\\\"> <div class=\\\\\"c-image-container--lazy__wrapper\\\\\"> <img class=\\\\\"c-image js-lazyimage\\\\\" src=\\\\\"data:image/gif;base64,R0lGODlhAQABAIAAAAAAAP///yH5BAEAAAAALAAAAAABAAEAAAIBRAA7\\\\\" data-src=\\\\\"https://www.theglobeandmail.com/resizer/IKsDEXaMcF-J3NDRC-106Xyg-rs=/1x0:799x532/200x0/filters:quality(80)/cloudfront-us-east-1.images.arcpublishing.com/tgam/5XYI27GONBMRZNPBRNBIZJMS5E.JPG\\\\\" data-sizes=\\\\\"auto\\\\\" data-srcset=\\\\\"https://www.theglobeandmail.com/resizer/IKsDEXaMcF-J3NDRC-106Xyg-rs=/1x0:799x532/200x0/filters:quality(80)/cloudfront-us-east-1.images.arcpublishing.com/tgam/5XYI27GONBMRZNPBRNBIZJMS5E.JPG 200w, https://www.theglobeandmail.com/resizer/H0wZEQJ472uVDz-yWMCUvkgDbtw=/1x0:799x532/400x0/filters:quality(80)/cloudfront-us-east-1.images.arcpublishing.com/tgam/5XYI27GONBMRZNPBRNBIZJMS5E.JPG 400w\\\\\" data-aspect-ratio=\\\\\"1.5\\\\\" data-photo=\\\\\"story\\\\\" alt=\\\\\"\\\\\"> <noscript> <img src=\\\\\"https://www.theglobeandmail.com/resizer/IKsDEXaMcF-J3NDRC-106Xyg-rs=/1x0:799x532/200x0/filters:quality(80)/cloudfront-us-east-1.images.arcpublishing.com/tgam/5XYI27GONBMRZNPBRNBIZJMS5E.JPG\\\\\" alt=\\\\\"\\\\\"> </noscript> </div> </div> </div> </a> </div> </div> <div class=\\\\\"l-col-1 l-section-col-card-story\\\\\"> <div class=\\\\\"c-card\\\\\"> <a href=\\\\\"/world/article-spanish-flagged-boat-rescues-265-migrants-in-mediterranean-2/\\\\\" class=\\\\\"c-card__grid c-card__link\\\\\" data-sophi=\\\\\"GIN36K2UP5CN3HM7Z5LBOW6U7Q\\\\\" data-analyticsclick=\\'{\\\\\"feature\\\\\":\\\\\"latest\\\\\",\\\\\"hierarchy\\\\\":1,\\\\\"contentId\\\\\":\\\\\"GIN36K2UP5CN3HM7Z5LBOW6U7Q\\\\\",\\\\\"label\\\\\":\\\\\"spanish-flagged boat rescues 265 migrants in mediterranean\\\\\",\\\\\"page\\\\\":\\\\\"sec::view more articles\\\\\",\\\\\"position\\\\\":6,\\\\\"type\\\\\":\\\\\"link\\\\\"}\\' data-lt-pos=\\\\\"sec::view more articles\\\\\" data-lt-lid=\\\\\"Headline.6\\\\\"> <div class=\\\\\"c-card__content\\\\\"> <span class=\\\\\"c-card__label c-card__label--muted\\\\\"> world</span> <div class=\\\\\"c-card__hed\\\\\"> <div class=\\\\\"c-card__hed-text\\\\\"> Spanish-flagged boat rescues 265 migrants in Mediterranean</div> </div> <div class=\\\\\"c-card__meta\\\\\"> <time class=\\\\\"c-timestamp u-no-wrap js-story-moment\\\\\" data-unixtime=\\\\\"1609687760\\\\\" data-moment-preface=\\\\\"\\\\\" datetime=\\\\\"2021-01-03T15:29:20.744Z\\\\\"> January 3 </time> <time class=\\\\\"c-timestamp u-no-wrap u-visually-hidden c-timestamp--updated\\\\\" data-unixtime=\\\\\"1609687760\\\\\" data-moment-preface=\\\\\"Updated\\\\\" datetime=\\\\\"2021-01-03T15:29:20.744Z\\\\\"> Updated </time> </div> </div> <div class=\\\\\"c-card__media\\\\\"> <div class=\\\\\"c-image-container c-image-container--lazy\\\\\" style=\\\\\"padding-bottom: 66.66666666666666%\\\\\"> <div class=\\\\\"c-image-container--lazy__wrapper\\\\\"> <img class=\\\\\"c-image js-lazyimage\\\\\" src=\\\\\"data:image/gif;base64,R0lGODlhAQABAIAAAAAAAP///yH5BAEAAAAALAAAAAABAAEAAAIBRAA7\\\\\" data-src=\\\\\"https://www.theglobeandmail.com/resizer/psWj06IkxNW6W9OkqmnTirIVRbQ=/0x0:4000x2666/200x0/filters:quality(80)/cloudfront-us-east-1.images.arcpublishing.com/tgam/RPLWZJQHGRJUBBTIOJRTIJHE6M.jpg\\\\\" data-sizes=\\\\\"auto\\\\\" data-srcset=\\\\\"https://www.theglobeandmail.com/resizer/psWj06IkxNW6W9OkqmnTirIVRbQ=/0x0:4000x2666/200x0/filters:quality(80)/cloudfront-us-east-1.images.arcpublishing.com/tgam/RPLWZJQHGRJUBBTIOJRTIJHE6M.jpg 200w, https://www.theglobeandmail.com/resizer/e3Sn1VakE8Q-MSUiEVnxxh6zB-0=/0x0:4000x2666/400x0/filters:quality(80)/cloudfront-us-east-1.images.arcpublishing.com/tgam/RPLWZJQHGRJUBBTIOJRTIJHE6M.jpg 400w\\\\\" data-aspect-ratio=\\\\\"1.5\\\\\" data-photo=\\\\\"story\\\\\" alt=\\\\\"\\\\\"> <noscript> <img src=\\\\\"https://www.theglobeandmail.com/resizer/psWj06IkxNW6W9OkqmnTirIVRbQ=/0x0:4000x2666/200x0/filters:quality(80)/cloudfront-us-east-1.images.arcpublishing.com/tgam/RPLWZJQHGRJUBBTIOJRTIJHE6M.jpg\\\\\" alt=\\\\\"\\\\\"> </noscript> </div> </div> </div> </a> </div> </div> <div class=\\\\\"l-col-1 l-section-col-card-story\\\\\"> <div class=\\\\\"c-card\\\\\"> <a href=\\\\\"/world/article-three-killed-when-plane-crashes-into-michigan-house-authorities-say/\\\\\" class=\\\\\"c-card__grid c-card__link\\\\\" data-sophi=\\\\\"D3WGD7YBGREQRPAFVWRTU5PBWQ\\\\\" data-analyticsclick=\\'{\\\\\"feature\\\\\":\\\\\"latest\\\\\",\\\\\"hierarchy\\\\\":1,\\\\\"contentId\\\\\":\\\\\"D3WGD7YBGREQRPAFVWRTU5PBWQ\\\\\",\\\\\"label\\\\\":\\\\\"businessman and family die when plane hits michigan house\\\\\",\\\\\"page\\\\\":\\\\\"sec::view more articles\\\\\",\\\\\"position\\\\\":7,\\\\\"type\\\\\":\\\\\"link\\\\\"}\\' data-lt-pos=\\\\\"sec::view more articles\\\\\" data-lt-lid=\\\\\"Headline.7\\\\\"> <div class=\\\\\"c-card__content\\\\\"> <span class=\\\\\"c-card__label c-card__label--muted\\\\\"> world</span> <div class=\\\\\"c-card__hed\\\\\"> <div class=\\\\\"c-card__hed-text\\\\\"> Businessman and family die when plane hits Michigan house</div> </div> <div class=\\\\\"c-card__meta\\\\\"> <time class=\\\\\"c-timestamp u-no-wrap js-story-moment\\\\\" data-unixtime=\\\\\"1609685982\\\\\" data-moment-preface=\\\\\"\\\\\" datetime=\\\\\"2021-01-03T14:59:42.505Z\\\\\"> January 3 </time> <time class=\\\\\"c-timestamp u-no-wrap u-visually-hidden c-timestamp--updated\\\\\" data-unixtime=\\\\\"1609708621\\\\\" data-moment-preface=\\\\\"Updated\\\\\" datetime=\\\\\"2021-01-03T21:17:01.375Z\\\\\"> Updated </time> </div> </div> <div class=\\\\\"c-card__media\\\\\"> <div class=\\\\\"c-image-container c-image-container--lazy\\\\\" style=\\\\\"padding-bottom: 66.66666666666666%\\\\\"> <div class=\\\\\"c-image-container--lazy__wrapper\\\\\"> <img class=\\\\\"c-image js-lazyimage\\\\\" src=\\\\\"data:image/gif;base64,R0lGODlhAQABAIAAAAAAAP///yH5BAEAAAAALAAAAAABAAEAAAIBRAA7\\\\\" data-src=\\\\\"https://www.theglobeandmail.com/resizer/rMf7B8DhTYxN-y2NJOEMXrIixUI=/172x0:4186x2676/200x0/filters:quality(80)/cloudfront-us-east-1.images.arcpublishing.com/tgam/BMJNWFXIMRNATKA4N2TWCMZETI.jpg\\\\\" data-sizes=\\\\\"auto\\\\\" data-srcset=\\\\\"https://www.theglobeandmail.com/resizer/rMf7B8DhTYxN-y2NJOEMXrIixUI=/172x0:4186x2676/200x0/filters:quality(80)/cloudfront-us-east-1.images.arcpublishing.com/tgam/BMJNWFXIMRNATKA4N2TWCMZETI.jpg 200w, https://www.theglobeandmail.com/resizer/AU-aIGH6dxw1OywD-UzC2RBTJ3Y=/172x0:4186x2676/400x0/filters:quality(80)/cloudfront-us-east-1.images.arcpublishing.com/tgam/BMJNWFXIMRNATKA4N2TWCMZETI.jpg 400w\\\\\" data-aspect-ratio=\\\\\"1.5\\\\\" data-photo=\\\\\"story\\\\\" alt=\\\\\"\\\\\"> <noscript> <img src=\\\\\"https://www.theglobeandmail.com/resizer/rMf7B8DhTYxN-y2NJOEMXrIixUI=/172x0:4186x2676/200x0/filters:quality(80)/cloudfront-us-east-1.images.arcpublishing.com/tgam/BMJNWFXIMRNATKA4N2TWCMZETI.jpg\\\\\" alt=\\\\\"\\\\\"> </noscript> </div> </div> </div> </a> </div> </div> <div class=\\\\\"l-col-1 l-section-col-card-story\\\\\"> <div class=\\\\\"c-card\\\\\"> <a href=\\\\\"/world/article-uks-boris-johnson-warns-of-more-lockdown-measures-as-covid-19-soars/\\\\\" class=\\\\\"c-card__grid c-card__link\\\\\" data-sophi=\\\\\"AZINUC4ZSJCHXC7DGIQZUXIZZA\\\\\" data-analyticsclick=\\'{\\\\\"feature\\\\\":\\\\\"latest\\\\\",\\\\\"hierarchy\\\\\":1,\\\\\"contentId\\\\\":\\\\\"AZINUC4ZSJCHXC7DGIQZUXIZZA\\\\\",\\\\\"label\\\\\":\\\\\"u.k.’s boris johnson warns of more lockdown measures as covid-19 soars\\\\\",\\\\\"page\\\\\":\\\\\"sec::view more articles\\\\\",\\\\\"position\\\\\":8,\\\\\"type\\\\\":\\\\\"link\\\\\"}\\' data-lt-pos=\\\\\"sec::view more articles\\\\\" data-lt-lid=\\\\\"Headline.8\\\\\"> <div class=\\\\\"c-card__content\\\\\"> <span class=\\\\\"c-card__label c-card__label--muted\\\\\"> world</span> <div class=\\\\\"c-card__hed\\\\\"> <div class=\\\\\"c-card__hed-text\\\\\"> U.K.’s Boris Johnson warns of more lockdown measures as COVID-19 soars</div> </div> <div class=\\\\\"c-card__meta\\\\\"> <time class=\\\\\"c-timestamp u-no-wrap js-story-moment\\\\\" data-unixtime=\\\\\"1609682880\\\\\" data-moment-preface=\\\\\"\\\\\" datetime=\\\\\"2021-01-03T14:08:00.708Z\\\\\"> January 3 </time> <time class=\\\\\"c-timestamp u-no-wrap u-visually-hidden c-timestamp--updated\\\\\" data-unixtime=\\\\\"1609693589\\\\\" data-moment-preface=\\\\\"Updated\\\\\" datetime=\\\\\"2021-01-03T17:06:29.051Z\\\\\"> Updated </time> </div> </div> <div class=\\\\\"c-card__media\\\\\"> <div class=\\\\\"c-image-container c-image-container--lazy\\\\\" style=\\\\\"padding-bottom: 66.66666666666666%\\\\\"> <div class=\\\\\"c-image-container--lazy__wrapper\\\\\"> <img class=\\\\\"c-image js-lazyimage\\\\\" src=\\\\\"data:image/gif;base64,R0lGODlhAQABAIAAAAAAAP///yH5BAEAAAAALAAAAAABAAEAAAIBRAA7\\\\\" data-src=\\\\\"https://www.theglobeandmail.com/resizer/EvMizppM_-JBrZsBSE5y4gIRMds=/0x0:6000x4000/200x0/filters:quality(80)/cloudfront-us-east-1.images.arcpublishing.com/tgam/Z66NT74CM5OQ3NG44DKPUM4XUY.jpg\\\\\" data-sizes=\\\\\"auto\\\\\" data-srcset=\\\\\"https://www.theglobeandmail.com/resizer/EvMizppM_-JBrZsBSE5y4gIRMds=/0x0:6000x4000/200x0/filters:quality(80)/cloudfront-us-east-1.images.arcpublishing.com/tgam/Z66NT74CM5OQ3NG44DKPUM4XUY.jpg 200w, https://www.theglobeandmail.com/resizer/uhBBcO7PDavtXZb3Wd_EMuhAS3M=/0x0:6000x4000/400x0/filters:quality(80)/cloudfront-us-east-1.images.arcpublishing.com/tgam/Z66NT74CM5OQ3NG44DKPUM4XUY.jpg 400w\\\\\" data-aspect-ratio=\\\\\"1.5\\\\\" data-photo=\\\\\"story\\\\\" alt=\\\\\"\\\\\"> <noscript> <img src=\\\\\"https://www.theglobeandmail.com/resizer/EvMizppM_-JBrZsBSE5y4gIRMds=/0x0:6000x4000/200x0/filters:quality(80)/cloudfront-us-east-1.images.arcpublishing.com/tgam/Z66NT74CM5OQ3NG44DKPUM4XUY.jpg\\\\\" alt=\\\\\"\\\\\"> </noscript> </div> </div> </div> </a> </div> </div> <div class=\\\\\"l-col-1 l-section-col-card-story\\\\\"> <div class=\\\\\"c-card\\\\\"> <a href=\\\\\"/world/us-politics/article-pelosi-narrowly-reelected-speaker-faces-difficult-2021/\\\\\" class=\\\\\"c-card__grid c-card__link\\\\\" data-sophi=\\\\\"B4O5OO6MTVECZHKQ25R2XSKRMU\\\\\" data-analyticsclick=\\'{\\\\\"feature\\\\\":\\\\\"latest\\\\\",\\\\\"hierarchy\\\\\":1,\\\\\"contentId\\\\\":\\\\\"B4O5OO6MTVECZHKQ25R2XSKRMU\\\\\",\\\\\"label\\\\\":\\\\\"pelosi narrowly reelected speaker, faces difficult 2021\\\\\",\\\\\"page\\\\\":\\\\\"sec::view more articles\\\\\",\\\\\"position\\\\\":9,\\\\\"type\\\\\":\\\\\"link\\\\\"}\\' data-lt-pos=\\\\\"sec::view more articles\\\\\" data-lt-lid=\\\\\"Headline.9\\\\\"> <div class=\\\\\"c-card__content\\\\\"> <span class=\\\\\"c-card__label c-card__label--muted\\\\\"> u.s. politics</span> <div class=\\\\\"c-card__hed\\\\\"> <div class=\\\\\"c-card__hed-text\\\\\"> Pelosi narrowly reelected speaker, faces difficult 2021</div> <span class=\\\\\"c-indicator-icon c-indicator-icon--key\\\\\" aria-label=\\\\\"Subscriber content\\\\\"> <span class=\\\\\"u-visually-hidden\\\\\">Subscriber content</span> <svg class=\\\\\"c-indicator-icon__art c-indicator-icon__art--key\\\\\" role=\\\\\"img\\\\\" pointer-events=\\\\\"none\\\\\" focusable=\\\\\"false\\\\\" aria-hidden=\\\\\"true\\\\\"> <use xlink:href=\\\\\"/pb/resources/assets/panther/sprites/sprite.704b8c4470a2ec10e4747b9d7eca7b0c.svg#icon-key\\\\\"></use> </svg> </span> </div> <div class=\\\\\"c-card__meta\\\\\"> <time class=\\\\\"c-timestamp u-no-wrap js-story-moment\\\\\" data-unixtime=\\\\\"1609682329\\\\\" data-moment-preface=\\\\\"\\\\\" datetime=\\\\\"2021-01-03T13:58:49.750Z\\\\\"> January 3 </time> <time class=\\\\\"c-timestamp u-no-wrap c-timestamp--updated\\\\\" data-unixtime=\\\\\"1609723209\\\\\" data-moment-preface=\\\\\"Updated\\\\\" datetime=\\\\\"2021-01-04T01:20:09.770Z\\\\\"> Updated </time> </div> </div> <div class=\\\\\"c-card__media\\\\\"> <div class=\\\\\"c-image-container c-image-container--lazy\\\\\" style=\\\\\"padding-bottom: 66.66666666666666%\\\\\"> <div class=\\\\\"c-image-container--lazy__wrapper\\\\\"> <img class=\\\\\"c-image js-lazyimage\\\\\" src=\\\\\"data:image/gif;base64,R0lGODlhAQABAIAAAAAAAP///yH5BAEAAAAALAAAAAABAAEAAAIBRAA7\\\\\" data-src=\\\\\"https://www.theglobeandmail.com/resizer/eeCz_vDcQ6tIoYe0mVjyfMpVUWo=/0x0:3600x2400/200x0/filters:quality(80)/cloudfront-us-east-1.images.arcpublishing.com/tgam/LPHB2KPDRROJTNIISMXRY37RCY.JPG\\\\\" data-sizes=\\\\\"auto\\\\\" data-srcset=\\\\\"https://www.theglobeandmail.com/resizer/eeCz_vDcQ6tIoYe0mVjyfMpVUWo=/0x0:3600x2400/200x0/filters:quality(80)/cloudfront-us-east-1.images.arcpublishing.com/tgam/LPHB2KPDRROJTNIISMXRY37RCY.JPG 200w, https://www.theglobeandmail.com/resizer/XzmfIyDUIq1-PD7OZIJowKVW4IM=/0x0:3600x2400/400x0/filters:quality(80)/cloudfront-us-east-1.images.arcpublishing.com/tgam/LPHB2KPDRROJTNIISMXRY37RCY.JPG 400w\\\\\" data-aspect-ratio=\\\\\"1.5\\\\\" data-photo=\\\\\"story\\\\\" alt=\\\\\"\\\\\"> <noscript> <img src=\\\\\"https://www.theglobeandmail.com/resizer/eeCz_vDcQ6tIoYe0mVjyfMpVUWo=/0x0:3600x2400/200x0/filters:quality(80)/cloudfront-us-east-1.images.arcpublishing.com/tgam/LPHB2KPDRROJTNIISMXRY37RCY.JPG\\\\\" alt=\\\\\"\\\\\"> </noscript> </div> </div> </div> </a> </div> </div> <div class=\\\\\"l-col-1 l-section-col-card-story\\\\\"> <div class=\\\\\"c-card\\\\\"> <a href=\\\\\"/politics/article-inside-elections-canada-after-trumps-tweet-on-voting-machines/\\\\\" class=\\\\\"c-card__grid c-card__link\\\\\" data-sophi=\\\\\"F4NAC62KINBUJNWXE2R2GW3JTU\\\\\" data-analyticsclick=\\'{\\\\\"feature\\\\\":\\\\\"latest\\\\\",\\\\\"hierarchy\\\\\":1,\\\\\"contentId\\\\\":\\\\\"F4NAC62KINBUJNWXE2R2GW3JTU\\\\\",\\\\\"label\\\\\":\\\\\"inside elections canada after trump’s tweet on voting machines\\\\\",\\\\\"page\\\\\":\\\\\"sec::view more articles\\\\\",\\\\\"position\\\\\":10,\\\\\"type\\\\\":\\\\\"link\\\\\"}\\' data-lt-pos=\\\\\"sec::view more articles\\\\\" data-lt-lid=\\\\\"Headline.10\\\\\"> <div class=\\\\\"c-card__content\\\\\"> <span class=\\\\\"c-card__label c-card__label--muted\\\\\"> politics</span> <div class=\\\\\"c-card__hed\\\\\"> <div class=\\\\\"c-card__hed-text\\\\\"> Inside Elections Canada after Trump’s tweet on voting machines</div> </div> <div class=\\\\\"c-card__meta\\\\\"> <time class=\\\\\"c-timestamp u-no-wrap js-story-moment\\\\\" data-unixtime=\\\\\"1609682052\\\\\" data-moment-preface=\\\\\"\\\\\" datetime=\\\\\"2021-01-03T13:54:12.651Z\\\\\"> January 3 </time> <time class=\\\\\"c-timestamp u-no-wrap u-visually-hidden c-timestamp--updated\\\\\" data-unixtime=\\\\\"1609682466\\\\\" data-moment-preface=\\\\\"Updated\\\\\" datetime=\\\\\"2021-01-03T14:01:06.485Z\\\\\"> Updated </time> </div> </div> <div class=\\\\\"c-card__media\\\\\"> <div class=\\\\\"c-image-container c-image-container--lazy\\\\\" style=\\\\\"padding-bottom: 66.66666666666666%\\\\\"> <div class=\\\\\"c-image-container--lazy__wrapper\\\\\"> <img class=\\\\\"c-image js-lazyimage\\\\\" src=\\\\\"data:image/gif;base64,R0lGODlhAQABAIAAAAAAAP///yH5BAEAAAAALAAAAAABAAEAAAIBRAA7\\\\\" data-src=\\\\\"https://www.theglobeandmail.com/resizer/jtNmki8ZxNEh3Giyc04Sf2ISi2s=/0x3:3000x2003/200x0/filters:quality(80)/cloudfront-us-east-1.images.arcpublishing.com/tgam/QWBZ5EYOWJLRPO3TNS2CTMOKRA.jpg\\\\\" data-sizes=\\\\\"auto\\\\\" data-srcset=\\\\\"https://www.theglobeandmail.com/resizer/jtNmki8ZxNEh3Giyc04Sf2ISi2s=/0x3:3000x2003/200x0/filters:quality(80)/cloudfront-us-east-1.images.arcpublishing.com/tgam/QWBZ5EYOWJLRPO3TNS2CTMOKRA.jpg 200w, https://www.theglobeandmail.com/resizer/RJv3mTFcbwA8yXOT-QHriuKQksM=/0x3:3000x2003/400x0/filters:quality(80)/cloudfront-us-east-1.images.arcpublishing.com/tgam/QWBZ5EYOWJLRPO3TNS2CTMOKRA.jpg 400w\\\\\" data-aspect-ratio=\\\\\"1.5\\\\\" data-photo=\\\\\"story\\\\\" alt=\\\\\"\\\\\"> <noscript> <img src=\\\\\"https://www.theglobeandmail.com/resizer/jtNmki8ZxNEh3Giyc04Sf2ISi2s=/0x3:3000x2003/200x0/filters:quality(80)/cloudfront-us-east-1.images.arcpublishing.com/tgam/QWBZ5EYOWJLRPO3TNS2CTMOKRA.jpg\\\\\" alt=\\\\\"\\\\\"> </noscript> </div> </div> </div> </a> </div> </div> <div class=\\\\\"l-col-1 l-section-col-card-story\\\\\"> <div class=\\\\\"c-card\\\\\"> <a href=\\\\\"/world/article-pope-criticises-people-going-on-holiday-to-flee-covid-19-lockdowns/\\\\\" class=\\\\\"c-card__grid c-card__link\\\\\" data-sophi=\\\\\"T7V6GBBXQNG7XFIWCQ27UXYEUQ\\\\\" data-analyticsclick=\\'{\\\\\"feature\\\\\":\\\\\"latest\\\\\",\\\\\"hierarchy\\\\\":1,\\\\\"contentId\\\\\":\\\\\"T7V6GBBXQNG7XFIWCQ27UXYEUQ\\\\\",\\\\\"label\\\\\":\\\\\"pope criticizes people going on holiday to flee covid-19 lockdowns\\\\\",\\\\\"page\\\\\":\\\\\"sec::view more articles\\\\\",\\\\\"position\\\\\":11,\\\\\"type\\\\\":\\\\\"link\\\\\"}\\' data-lt-pos=\\\\\"sec::view more articles\\\\\" data-lt-lid=\\\\\"Headline.11\\\\\"> <div class=\\\\\"c-card__content\\\\\"> <span class=\\\\\"c-card__label c-card__label--muted\\\\\"> world</span> <div class=\\\\\"c-card__hed\\\\\"> <div class=\\\\\"c-card__hed-text\\\\\"> Pope criticizes people going on holiday to flee COVID-19 lockdowns</div> </div> <div class=\\\\\"c-card__meta\\\\\"> <time class=\\\\\"c-timestamp u-no-wrap js-story-moment\\\\\" data-unixtime=\\\\\"1609681364\\\\\" data-moment-preface=\\\\\"\\\\\" datetime=\\\\\"2021-01-03T13:42:44.383Z\\\\\"> January 3 </time> <time class=\\\\\"c-timestamp u-no-wrap c-timestamp--updated\\\\\" data-unixtime=\\\\\"1609765489\\\\\" data-moment-preface=\\\\\"Updated\\\\\" datetime=\\\\\"2021-01-04T13:04:49.856Z\\\\\"> Updated </time> </div> </div> <div class=\\\\\"c-card__media\\\\\"> <div class=\\\\\"c-image-container c-image-container--lazy\\\\\" style=\\\\\"padding-bottom: 66.66666666666666%\\\\\"> <div class=\\\\\"c-image-container--lazy__wrapper\\\\\"> <img class=\\\\\"c-image js-lazyimage\\\\\" src=\\\\\"data:image/gif;base64,R0lGODlhAQABAIAAAAAAAP///yH5BAEAAAAALAAAAAABAAEAAAIBRAA7\\\\\" data-src=\\\\\"https://www.theglobeandmail.com/resizer/dGBrs9slxeQ1qln1WjpwuH5Kn8o=/0x0:4251x2834/200x0/filters:quality(80)/cloudfront-us-east-1.images.arcpublishing.com/tgam/6PEBB2GPGVORDLTUG5DDHE4V2Y.JPG\\\\\" data-sizes=\\\\\"auto\\\\\" data-srcset=\\\\\"https://www.theglobeandmail.com/resizer/dGBrs9slxeQ1qln1WjpwuH5Kn8o=/0x0:4251x2834/200x0/filters:quality(80)/cloudfront-us-east-1.images.arcpublishing.com/tgam/6PEBB2GPGVORDLTUG5DDHE4V2Y.JPG 200w, https://www.theglobeandmail.com/resizer/IXju5qGltZVzFw1IJWp-vnA8wrs=/0x0:4251x2834/400x0/filters:quality(80)/cloudfront-us-east-1.images.arcpublishing.com/tgam/6PEBB2GPGVORDLTUG5DDHE4V2Y.JPG 400w\\\\\" data-aspect-ratio=\\\\\"1.5\\\\\" data-photo=\\\\\"story\\\\\" alt=\\\\\"\\\\\"> <noscript> <img src=\\\\\"https://www.theglobeandmail.com/resizer/dGBrs9slxeQ1qln1WjpwuH5Kn8o=/0x0:4251x2834/200x0/filters:quality(80)/cloudfront-us-east-1.images.arcpublishing.com/tgam/6PEBB2GPGVORDLTUG5DDHE4V2Y.JPG\\\\\" alt=\\\\\"\\\\\"> </noscript> </div> </div> </div> </a> </div> </div> <div class=\\\\\"l-col-1 l-section-col-card-story\\\\\"> <div class=\\\\\"c-card\\\\\"> <a href=\\\\\"/world/article-baghdad-rally-marks-one-year-since-iran-generals-slaying/\\\\\" class=\\\\\"c-card__grid c-card__link\\\\\" data-sophi=\\\\\"HYY7GGMO7FC43JHE2M6QIOTXGI\\\\\" data-analyticsclick=\\'{\\\\\"feature\\\\\":\\\\\"latest\\\\\",\\\\\"hierarchy\\\\\":1,\\\\\"contentId\\\\\":\\\\\"HYY7GGMO7FC43JHE2M6QIOTXGI\\\\\",\\\\\"label\\\\\":\\\\\"baghdad rally marks one year since iran general’s slaying\\\\\",\\\\\"page\\\\\":\\\\\"sec::view more articles\\\\\",\\\\\"position\\\\\":12,\\\\\"type\\\\\":\\\\\"link\\\\\"}\\' data-lt-pos=\\\\\"sec::view more articles\\\\\" data-lt-lid=\\\\\"Headline.12\\\\\"> <div class=\\\\\"c-card__content\\\\\"> <span class=\\\\\"c-card__label c-card__label--muted\\\\\"> world</span> <div class=\\\\\"c-card__hed\\\\\"> <div class=\\\\\"c-card__hed-text\\\\\"> Baghdad rally marks one year since Iran general’s slaying</div> </div> <div class=\\\\\"c-card__meta\\\\\"> <time class=\\\\\"c-timestamp u-no-wrap js-story-moment\\\\\" data-unixtime=\\\\\"1609681103\\\\\" data-moment-preface=\\\\\"\\\\\" datetime=\\\\\"2021-01-03T13:38:23.565Z\\\\\"> January 3 </time> <time class=\\\\\"c-timestamp u-no-wrap u-visually-hidden c-timestamp--updated\\\\\" data-unixtime=\\\\\"1609693134\\\\\" data-moment-preface=\\\\\"Updated\\\\\" datetime=\\\\\"2021-01-03T16:58:54.894Z\\\\\"> Updated </time> </div> </div> <div class=\\\\\"c-card__media\\\\\"> <div class=\\\\\"c-image-container c-image-container--lazy\\\\\" style=\\\\\"padding-bottom: 66.66666666666666%\\\\\"> <div class=\\\\\"c-image-container--lazy__wrapper\\\\\"> <img class=\\\\\"c-image js-lazyimage\\\\\" src=\\\\\"data:image/gif;base64,R0lGODlhAQABAIAAAAAAAP///yH5BAEAAAAALAAAAAABAAEAAAIBRAA7\\\\\" data-src=\\\\\"https://www.theglobeandmail.com/resizer/gb24GGKl1d2e0qRHxeoUhoGHjfQ=/0x2:4440x2962/200x0/filters:quality(80)/cloudfront-us-east-1.images.arcpublishing.com/tgam/R3NDD6ADLJNXDJHFZ2WEHJQR54.jpg\\\\\" data-sizes=\\\\\"auto\\\\\" data-srcset=\\\\\"https://www.theglobeandmail.com/resizer/gb24GGKl1d2e0qRHxeoUhoGHjfQ=/0x2:4440x2962/200x0/filters:quality(80)/cloudfront-us-east-1.images.arcpublishing.com/tgam/R3NDD6ADLJNXDJHFZ2WEHJQR54.jpg 200w, https://www.theglobeandmail.com/resizer/iHWiPvxTXS9xQZCOhG7aa-TbWVw=/0x2:4440x2962/400x0/filters:quality(80)/cloudfront-us-east-1.images.arcpublishing.com/tgam/R3NDD6ADLJNXDJHFZ2WEHJQR54.jpg 400w\\\\\" data-aspect-ratio=\\\\\"1.5\\\\\" data-photo=\\\\\"story\\\\\" alt=\\\\\"\\\\\"> <noscript> <img src=\\\\\"https://www.theglobeandmail.com/resizer/gb24GGKl1d2e0qRHxeoUhoGHjfQ=/0x2:4440x2962/200x0/filters:quality(80)/cloudfront-us-east-1.images.arcpublishing.com/tgam/R3NDD6ADLJNXDJHFZ2WEHJQR54.jpg\\\\\" alt=\\\\\"\\\\\"> </noscript> </div> </div> </div> </a> </div> </div> <div class=\\\\\"l-col-1 l-section-col-card-story\\\\\"> <div class=\\\\\"c-card\\\\\"> <a href=\\\\\"/world/article-former-talk-show-host-larry-king-hospitalized-with-covid-19-cnn/\\\\\" class=\\\\\"c-card__grid c-card__link\\\\\" data-sophi=\\\\\"VGZHIZ5ZDFCIBGGK732I2FMCNY\\\\\" data-analyticsclick=\\'{\\\\\"feature\\\\\":\\\\\"latest\\\\\",\\\\\"hierarchy\\\\\":1,\\\\\"contentId\\\\\":\\\\\"VGZHIZ5ZDFCIBGGK732I2FMCNY\\\\\",\\\\\"label\\\\\":\\\\\"former talk show host larry king hospitalized with covid-19, cnn reports\\\\\",\\\\\"page\\\\\":\\\\\"sec::view more articles\\\\\",\\\\\"position\\\\\":13,\\\\\"type\\\\\":\\\\\"link\\\\\"}\\' data-lt-pos=\\\\\"sec::view more articles\\\\\" data-lt-lid=\\\\\"Headline.13\\\\\"> <div class=\\\\\"c-card__content\\\\\"> <span class=\\\\\"c-card__label c-card__label--muted\\\\\"> world</span> <div class=\\\\\"c-card__hed\\\\\"> <div class=\\\\\"c-card__hed-text\\\\\"> Former talk show host Larry King hospitalized with COVID-19, CNN reports</div> </div> <div class=\\\\\"c-card__meta\\\\\"> <time class=\\\\\"c-timestamp u-no-wrap js-story-moment\\\\\" data-unixtime=\\\\\"1609679792\\\\\" data-moment-preface=\\\\\"\\\\\" datetime=\\\\\"2021-01-03T13:16:32.309Z\\\\\"> January 3 </time> <time class=\\\\\"c-timestamp u-no-wrap u-visually-hidden c-timestamp--updated\\\\\" data-unixtime=\\\\\"1609690553\\\\\" data-moment-preface=\\\\\"Updated\\\\\" datetime=\\\\\"2021-01-03T16:15:53.340Z\\\\\"> Updated </time> </div> </div> <div class=\\\\\"c-card__media\\\\\"> <div class=\\\\\"c-image-container c-image-container--lazy\\\\\" style=\\\\\"padding-bottom: 66.66666666666666%\\\\\"> <div class=\\\\\"c-image-container--lazy__wrapper\\\\\"> <img class=\\\\\"c-image js-lazyimage\\\\\" src=\\\\\"data:image/gif;base64,R0lGODlhAQABAIAAAAAAAP///yH5BAEAAAAALAAAAAABAAEAAAIBRAA7\\\\\" data-src=\\\\\"https://www.theglobeandmail.com/resizer/bUbUiM6H_RibvuRjbVdawnULjTo=/0x175:4220x2989/200x0/filters:quality(80)/cloudfront-us-east-1.images.arcpublishing.com/tgam/N4FBVHFFFFNODMGO6LZYX7USAI.jpg\\\\\" data-sizes=\\\\\"auto\\\\\" data-srcset=\\\\\"https://www.theglobeandmail.com/resizer/bUbUiM6H_RibvuRjbVdawnULjTo=/0x175:4220x2989/200x0/filters:quality(80)/cloudfront-us-east-1.images.arcpublishing.com/tgam/N4FBVHFFFFNODMGO6LZYX7USAI.jpg 200w, https://www.theglobeandmail.com/resizer/kZjkzFKujQSHjwSzXX9QNrhIzhM=/0x175:4220x2989/400x0/filters:quality(80)/cloudfront-us-east-1.images.arcpublishing.com/tgam/N4FBVHFFFFNODMGO6LZYX7USAI.jpg 400w\\\\\" data-aspect-ratio=\\\\\"1.5\\\\\" data-photo=\\\\\"story\\\\\" alt=\\\\\"\\\\\"> <noscript> <img src=\\\\\"https://www.theglobeandmail.com/resizer/bUbUiM6H_RibvuRjbVdawnULjTo=/0x175:4220x2989/200x0/filters:quality(80)/cloudfront-us-east-1.images.arcpublishing.com/tgam/N4FBVHFFFFNODMGO6LZYX7USAI.jpg\\\\\" alt=\\\\\"\\\\\"> </noscript> </div> </div> </div> </a> </div> </div> <div class=\\\\\"l-col-1 l-section-col-card-story\\\\\"> <div class=\\\\\"c-card\\\\\"> <a href=\\\\\"/world/article-memorial-held-for-louisiana-congressman-elect-luke-letlow-who-died/\\\\\" class=\\\\\"c-card__grid c-card__link\\\\\" data-sophi=\\\\\"UWKJ26DQTJEPZLMNV4G6V6AXNA\\\\\" data-analyticsclick=\\'{\\\\\"feature\\\\\":\\\\\"latest\\\\\",\\\\\"hierarchy\\\\\":1,\\\\\"contentId\\\\\":\\\\\"UWKJ26DQTJEPZLMNV4G6V6AXNA\\\\\",\\\\\"label\\\\\":\\\\\"memorial held for louisiana congressman-elect luke letlow who died from covid-19\\\\\",\\\\\"page\\\\\":\\\\\"sec::view more articles\\\\\",\\\\\"position\\\\\":14,\\\\\"type\\\\\":\\\\\"link\\\\\"}\\' data-lt-pos=\\\\\"sec::view more articles\\\\\" data-lt-lid=\\\\\"Headline.14\\\\\"> <div class=\\\\\"c-card__content\\\\\"> <span class=\\\\\"c-card__label c-card__label--muted\\\\\"> world</span> <div class=\\\\\"c-card__hed\\\\\"> <div class=\\\\\"c-card__hed-text\\\\\"> Memorial held for Louisiana congressman-elect Luke Letlow who died from COVID-19</div> </div> <div class=\\\\\"c-card__meta\\\\\"> <time class=\\\\\"c-timestamp u-no-wrap js-story-moment\\\\\" data-unixtime=\\\\\"1609646430\\\\\" data-moment-preface=\\\\\"\\\\\" datetime=\\\\\"2021-01-03T04:00:30.647Z\\\\\"> January 2 </time> <time class=\\\\\"c-timestamp u-no-wrap c-timestamp--updated\\\\\" data-unixtime=\\\\\"1609656354\\\\\" data-moment-preface=\\\\\"Updated\\\\\" datetime=\\\\\"2021-01-03T06:45:54.747Z\\\\\"> Updated </time> </div> </div> <div class=\\\\\"c-card__media\\\\\"> <div class=\\\\\"c-image-container c-image-container--lazy\\\\\" style=\\\\\"padding-bottom: 66.66666666666666%\\\\\"> <div class=\\\\\"c-image-container--lazy__wrapper\\\\\"> <img class=\\\\\"c-image js-lazyimage\\\\\" src=\\\\\"data:image/gif;base64,R0lGODlhAQABAIAAAAAAAP///yH5BAEAAAAALAAAAAABAAEAAAIBRAA7\\\\\" data-src=\\\\\"https://www.theglobeandmail.com/resizer/40qbHozfMTM9fPHagAKmdZOv91I=/0x152:3648x2584/200x0/filters:quality(80)/cloudfront-us-east-1.images.arcpublishing.com/tgam/CGOZXLZDLNNJHLPTOLU4P4UFWQ.jpg\\\\\" data-sizes=\\\\\"auto\\\\\" data-srcset=\\\\\"https://www.theglobeandmail.com/resizer/40qbHozfMTM9fPHagAKmdZOv91I=/0x152:3648x2584/200x0/filters:quality(80)/cloudfront-us-east-1.images.arcpublishing.com/tgam/CGOZXLZDLNNJHLPTOLU4P4UFWQ.jpg 200w, https://www.theglobeandmail.com/resizer/4qioI4vvQVZYVPfm_Db76vtAK-A=/0x152:3648x2584/400x0/filters:quality(80)/cloudfront-us-east-1.images.arcpublishing.com/tgam/CGOZXLZDLNNJHLPTOLU4P4UFWQ.jpg 400w\\\\\" data-aspect-ratio=\\\\\"1.5\\\\\" data-photo=\\\\\"story\\\\\" alt=\\\\\"\\\\\"> <noscript> <img src=\\\\\"https://www.theglobeandmail.com/resizer/40qbHozfMTM9fPHagAKmdZOv91I=/0x152:3648x2584/200x0/filters:quality(80)/cloudfront-us-east-1.images.arcpublishing.com/tgam/CGOZXLZDLNNJHLPTOLU4P4UFWQ.jpg\\\\\" alt=\\\\\"\\\\\"> </noscript> </div> </div> </div> </a> </div> </div> <div class=\\\\\"l-col-1 l-section-col-card-story\\\\\"> <div class=\\\\\"c-card\\\\\"> <a href=\\\\\"/world/article-nashville-bomber-sent-material-espousing-his-views-to-acquaintances/\\\\\" class=\\\\\"c-card__grid c-card__link\\\\\" data-sophi=\\\\\"Z4JFN4OZ6RHNZL442H5FQMSH4U\\\\\" data-analyticsclick=\\'{\\\\\"feature\\\\\":\\\\\"latest\\\\\",\\\\\"hierarchy\\\\\":1,\\\\\"contentId\\\\\":\\\\\"Z4JFN4OZ6RHNZL442H5FQMSH4U\\\\\",\\\\\"label\\\\\":\\\\\"nashville bomber sent material espousing his views to ‘acquaintances,’ fbi says\\\\\",\\\\\"page\\\\\":\\\\\"sec::view more articles\\\\\",\\\\\"position\\\\\":15,\\\\\"type\\\\\":\\\\\"link\\\\\"}\\' data-lt-pos=\\\\\"sec::view more articles\\\\\" data-lt-lid=\\\\\"Headline.15\\\\\"> <div class=\\\\\"c-card__content\\\\\"> <span class=\\\\\"c-card__label c-card__label--muted\\\\\"> world</span> <div class=\\\\\"c-card__hed\\\\\"> <div class=\\\\\"c-card__hed-text\\\\\"> Nashville bomber sent material espousing his views to ‘acquaintances,’ FBI says</div> </div> <div class=\\\\\"c-card__meta\\\\\"> <time class=\\\\\"c-timestamp u-no-wrap js-story-moment\\\\\" data-unixtime=\\\\\"1609633192\\\\\" data-moment-preface=\\\\\"\\\\\" datetime=\\\\\"2021-01-03T00:19:52.723Z\\\\\"> January 2 </time> <time class=\\\\\"c-timestamp u-no-wrap u-visually-hidden c-timestamp--updated\\\\\" data-unixtime=\\\\\"1609633192\\\\\" data-moment-preface=\\\\\"Updated\\\\\" datetime=\\\\\"2021-01-03T00:19:52.723Z\\\\\"> Updated </time> </div> </div> <div class=\\\\\"c-card__media\\\\\"> <div class=\\\\\"c-image-container c-image-container--lazy\\\\\" style=\\\\\"padding-bottom: 66.66666666666666%\\\\\"> <div class=\\\\\"c-image-container--lazy__wrapper\\\\\"> <img class=\\\\\"c-image js-lazyimage\\\\\" src=\\\\\"data:image/gif;base64,R0lGODlhAQABAIAAAAAAAP///yH5BAEAAAAALAAAAAABAAEAAAIBRAA7\\\\\" data-src=\\\\\"https://www.theglobeandmail.com/resizer/rjz7ZO_W4Jg_r9i_iU0Px0MIkBY=/0x0:3148x2099/200x0/filters:quality(80)/cloudfront-us-east-1.images.arcpublishing.com/tgam/BUTDMBZKBBPHJMQSYCFKS5P3L4.jpg\\\\\" data-sizes=\\\\\"auto\\\\\" data-srcset=\\\\\"https://www.theglobeandmail.com/resizer/rjz7ZO_W4Jg_r9i_iU0Px0MIkBY=/0x0:3148x2099/200x0/filters:quality(80)/cloudfront-us-east-1.images.arcpublishing.com/tgam/BUTDMBZKBBPHJMQSYCFKS5P3L4.jpg 200w, https://www.theglobeandmail.com/resizer/Fv_JvC-mDFgZMvxo3XDY4puS38w=/0x0:3148x2099/400x0/filters:quality(80)/cloudfront-us-east-1.images.arcpublishing.com/tgam/BUTDMBZKBBPHJMQSYCFKS5P3L4.jpg 400w\\\\\" data-aspect-ratio=\\\\\"1.5\\\\\" data-photo=\\\\\"story\\\\\" alt=\\\\\"\\\\\"> <noscript> <img src=\\\\\"https://www.theglobeandmail.com/resizer/rjz7ZO_W4Jg_r9i_iU0Px0MIkBY=/0x0:3148x2099/200x0/filters:quality(80)/cloudfront-us-east-1.images.arcpublishing.com/tgam/BUTDMBZKBBPHJMQSYCFKS5P3L4.jpg\\\\\" alt=\\\\\"\\\\\"> </noscript> </div> </div> </div> </a> </div> </div> <div class=\\\\\"l-col-1 l-section-col-card-story\\\\\"> <div class=\\\\\"c-card\\\\\"> <a href=\\\\\"/world/us-politics/article-biden-flexes-campaigning-muscle-ahead-of-crucial-senate-runoffs-in/\\\\\" class=\\\\\"c-card__grid c-card__link\\\\\" data-sophi=\\\\\"VWZM3WF6UZEERI3IWI7E34S6OE\\\\\" data-analyticsclick=\\'{\\\\\"feature\\\\\":\\\\\"latest\\\\\",\\\\\"hierarchy\\\\\":1,\\\\\"contentId\\\\\":\\\\\"VWZM3WF6UZEERI3IWI7E34S6OE\\\\\",\\\\\"label\\\\\":\\\\\"biden flexes campaigning muscle ahead of crucial senate runoffs in georgia\\\\\",\\\\\"page\\\\\":\\\\\"sec::view more articles\\\\\",\\\\\"position\\\\\":16,\\\\\"type\\\\\":\\\\\"link\\\\\"}\\' data-lt-pos=\\\\\"sec::view more articles\\\\\" data-lt-lid=\\\\\"Headline.16\\\\\"> <div class=\\\\\"c-card__content\\\\\"> <span class=\\\\\"c-card__label c-card__label--muted\\\\\"> u.s. politics</span> <div class=\\\\\"c-card__hed\\\\\"> <div class=\\\\\"c-card__hed-text\\\\\"> Biden flexes campaigning muscle ahead of crucial Senate runoffs in Georgia</div> <span class=\\\\\"c-indicator-icon c-indicator-icon--key\\\\\" aria-label=\\\\\"Subscriber content\\\\\"> <span class=\\\\\"u-visually-hidden\\\\\">Subscriber content</span> <svg class=\\\\\"c-indicator-icon__art c-indicator-icon__art--key\\\\\" role=\\\\\"img\\\\\" pointer-events=\\\\\"none\\\\\" focusable=\\\\\"false\\\\\" aria-hidden=\\\\\"true\\\\\"> <use xlink:href=\\\\\"/pb/resources/assets/panther/sprites/sprite.704b8c4470a2ec10e4747b9d7eca7b0c.svg#icon-key\\\\\"></use> </svg> </span> </div> <div class=\\\\\"c-card__meta\\\\\"> <time class=\\\\\"c-timestamp u-no-wrap js-story-moment\\\\\" data-unixtime=\\\\\"1609628484\\\\\" data-moment-preface=\\\\\"\\\\\" datetime=\\\\\"2021-01-02T23:01:24.356Z\\\\\"> January 2 </time> <time class=\\\\\"c-timestamp u-no-wrap u-visually-hidden c-timestamp--updated\\\\\" data-unixtime=\\\\\"1609642422\\\\\" data-moment-preface=\\\\\"Updated\\\\\" datetime=\\\\\"2021-01-03T02:53:42.591Z\\\\\"> Updated </time> </div> </div> <div class=\\\\\"c-card__media\\\\\"> <div class=\\\\\"c-image-container c-image-container--lazy\\\\\" style=\\\\\"padding-bottom: 66.66666666666666%\\\\\"> <div class=\\\\\"c-image-container--lazy__wrapper\\\\\"> <img class=\\\\\"c-image js-lazyimage\\\\\" src=\\\\\"data:image/gif;base64,R0lGODlhAQABAIAAAAAAAP///yH5BAEAAAAALAAAAAABAAEAAAIBRAA7\\\\\" data-src=\\\\\"https://www.theglobeandmail.com/resizer/mLd-BQlBxNAngl9vvlacN9N3_Rc=/0x0:4956x3304/200x0/filters:quality(80)/cloudfront-us-east-1.images.arcpublishing.com/tgam/GMIJ7VWEZBLFDBEOZ3CWQJWQV4.jpg\\\\\" data-sizes=\\\\\"auto\\\\\" data-srcset=\\\\\"https://www.theglobeandmail.com/resizer/mLd-BQlBxNAngl9vvlacN9N3_Rc=/0x0:4956x3304/200x0/filters:quality(80)/cloudfront-us-east-1.images.arcpublishing.com/tgam/GMIJ7VWEZBLFDBEOZ3CWQJWQV4.jpg 200w, https://www.theglobeandmail.com/resizer/37IXy5sJtKE91c6_ssI_3z-cAbc=/0x0:4956x3304/400x0/filters:quality(80)/cloudfront-us-east-1.images.arcpublishing.com/tgam/GMIJ7VWEZBLFDBEOZ3CWQJWQV4.jpg 400w\\\\\" data-aspect-ratio=\\\\\"1.5\\\\\" data-photo=\\\\\"story\\\\\" alt=\\\\\"\\\\\"> <noscript> <img src=\\\\\"https://www.theglobeandmail.com/resizer/mLd-BQlBxNAngl9vvlacN9N3_Rc=/0x0:4956x3304/200x0/filters:quality(80)/cloudfront-us-east-1.images.arcpublishing.com/tgam/GMIJ7VWEZBLFDBEOZ3CWQJWQV4.jpg\\\\\" alt=\\\\\"\\\\\"> </noscript> </div> </div> </div> </a> </div> </div> <div class=\\\\\"l-col-1 l-section-col-card-story\\\\\"> <div class=\\\\\"c-card\\\\\"> <a href=\\\\\"/world/us-politics/article-mcconnell-pelosi-homes-vandalized-after-push-for-2000-covid-19-relief/\\\\\" class=\\\\\"c-card__grid c-card__link\\\\\" data-sophi=\\\\\"GHGNRJGY5VAJ5JM6DQ66SNI5O4\\\\\" data-analyticsclick=\\'{\\\\\"feature\\\\\":\\\\\"latest\\\\\",\\\\\"hierarchy\\\\\":1,\\\\\"contentId\\\\\":\\\\\"GHGNRJGY5VAJ5JM6DQ66SNI5O4\\\\\",\\\\\"label\\\\\":\\\\\"mcconnell, pelosi homes vandalized after push for $2,000 covid-19 relief check fails\\\\\",\\\\\"page\\\\\":\\\\\"sec::view more articles\\\\\",\\\\\"position\\\\\":17,\\\\\"type\\\\\":\\\\\"link\\\\\"}\\' data-lt-pos=\\\\\"sec::view more articles\\\\\" data-lt-lid=\\\\\"Headline.17\\\\\"> <div class=\\\\\"c-card__content\\\\\"> <span class=\\\\\"c-card__label c-card__label--muted\\\\\"> u.s. politics</span> <div class=\\\\\"c-card__hed\\\\\"> <div class=\\\\\"c-card__hed-text\\\\\"> McConnell, Pelosi homes vandalized after push for $2,000 COVID-19 relief check fails</div> <span class=\\\\\"c-indicator-icon c-indicator-icon--key\\\\\" aria-label=\\\\\"Subscriber content\\\\\"> <span class=\\\\\"u-visually-hidden\\\\\">Subscriber content</span> <svg class=\\\\\"c-indicator-icon__art c-indicator-icon__art--key\\\\\" role=\\\\\"img\\\\\" pointer-events=\\\\\"none\\\\\" focusable=\\\\\"false\\\\\" aria-hidden=\\\\\"true\\\\\"> <use xlink:href=\\\\\"/pb/resources/assets/panther/sprites/sprite.704b8c4470a2ec10e4747b9d7eca7b0c.svg#icon-key\\\\\"></use> </svg> </span> </div> <div class=\\\\\"c-card__meta\\\\\"> <time class=\\\\\"c-timestamp u-no-wrap js-story-moment\\\\\" data-unixtime=\\\\\"1609625276\\\\\" data-moment-preface=\\\\\"\\\\\" datetime=\\\\\"2021-01-02T22:07:56.773Z\\\\\"> January 2 </time> <time class=\\\\\"c-timestamp u-no-wrap u-visually-hidden c-timestamp--updated\\\\\" data-unixtime=\\\\\"1609625996\\\\\" data-moment-preface=\\\\\"Updated\\\\\" datetime=\\\\\"2021-01-02T22:19:56.382Z\\\\\"> Updated </time> </div> </div> <div class=\\\\\"c-card__media\\\\\"> <div class=\\\\\"c-image-container c-image-container--lazy\\\\\" style=\\\\\"padding-bottom: 66.66666666666666%\\\\\"> <div class=\\\\\"c-image-container--lazy__wrapper\\\\\"> <img class=\\\\\"c-image js-lazyimage\\\\\" src=\\\\\"data:image/gif;base64,R0lGODlhAQABAIAAAAAAAP///yH5BAEAAAAALAAAAAABAAEAAAIBRAA7\\\\\" data-src=\\\\\"https://www.theglobeandmail.com/resizer/LpSwo6TO_G1HTjdmEFNUEbjz_tM=/311x0:4232x2614/200x0/filters:quality(80)/cloudfront-us-east-1.images.arcpublishing.com/tgam/KDJE42J5GBIDDCTFKPW2SG5F44.jpg\\\\\" data-sizes=\\\\\"auto\\\\\" data-srcset=\\\\\"https://www.theglobeandmail.com/resizer/LpSwo6TO_G1HTjdmEFNUEbjz_tM=/311x0:4232x2614/200x0/filters:quality(80)/cloudfront-us-east-1.images.arcpublishing.com/tgam/KDJE42J5GBIDDCTFKPW2SG5F44.jpg 200w, https://www.theglobeandmail.com/resizer/tJgGBBWgZng_doIVHl3bxmXpdtY=/311x0:4232x2614/400x0/filters:quality(80)/cloudfront-us-east-1.images.arcpublishing.com/tgam/KDJE42J5GBIDDCTFKPW2SG5F44.jpg 400w\\\\\" data-aspect-ratio=\\\\\"1.5\\\\\" data-photo=\\\\\"story\\\\\" alt=\\\\\"\\\\\"> <noscript> <img src=\\\\\"https://www.theglobeandmail.com/resizer/LpSwo6TO_G1HTjdmEFNUEbjz_tM=/311x0:4232x2614/200x0/filters:quality(80)/cloudfront-us-east-1.images.arcpublishing.com/tgam/KDJE42J5GBIDDCTFKPW2SG5F44.jpg\\\\\" alt=\\\\\"\\\\\"> </noscript> </div> </div> </div> </a> </div> </div> <div class=\\\\\"l-col-1 l-section-col-card-story\\\\\"> <div class=\\\\\"c-card\\\\\"> <a href=\\\\\"/world/article-us-aquarium-agrees-to-delay-beluga-whale-delivery-from-marineland-amid/\\\\\" class=\\\\\"c-card__grid c-card__link\\\\\" data-sophi=\\\\\"OE7JYSI6XRFEVNAYFAJMVN7R2Q\\\\\" data-analyticsclick=\\'{\\\\\"feature\\\\\":\\\\\"latest\\\\\",\\\\\"hierarchy\\\\\":1,\\\\\"contentId\\\\\":\\\\\"OE7JYSI6XRFEVNAYFAJMVN7R2Q\\\\\",\\\\\"label\\\\\":\\\\\"u.s. aquarium agrees to delay beluga whale delivery from marineland amid lawsuit\\\\\",\\\\\"page\\\\\":\\\\\"sec::view more articles\\\\\",\\\\\"position\\\\\":18,\\\\\"type\\\\\":\\\\\"link\\\\\"}\\' data-lt-pos=\\\\\"sec::view more articles\\\\\" data-lt-lid=\\\\\"Headline.18\\\\\"> <div class=\\\\\"c-card__content\\\\\"> <span class=\\\\\"c-card__label c-card__label--muted\\\\\"> world</span> <div class=\\\\\"c-card__hed\\\\\"> <div class=\\\\\"c-card__hed-text\\\\\"> U.S. aquarium agrees to delay beluga whale delivery from Marineland amid lawsuit</div> </div> <div class=\\\\\"c-card__meta\\\\\"> <time class=\\\\\"c-timestamp u-no-wrap js-story-moment\\\\\" data-unixtime=\\\\\"1609624081\\\\\" data-moment-preface=\\\\\"\\\\\" datetime=\\\\\"2021-01-02T21:48:01.555Z\\\\\"> January 2 </time> <time class=\\\\\"c-timestamp u-no-wrap c-timestamp--updated\\\\\" data-unixtime=\\\\\"1609653655\\\\\" data-moment-preface=\\\\\"Updated\\\\\" datetime=\\\\\"2021-01-03T06:00:55.352Z\\\\\"> Updated </time> </div> </div> <div class=\\\\\"c-card__media\\\\\"> <div class=\\\\\"c-image-container c-image-container--lazy\\\\\" style=\\\\\"padding-bottom: 66.66666666666666%\\\\\"> <div class=\\\\\"c-image-container--lazy__wrapper\\\\\"> <img class=\\\\\"c-image js-lazyimage\\\\\" src=\\\\\"data:image/gif;base64,R0lGODlhAQABAIAAAAAAAP///yH5BAEAAAAALAAAAAABAAEAAAIBRAA7\\\\\" data-src=\\\\\"https://www.theglobeandmail.com/resizer/Fp1sKKwpW0ljjwSZCHBU9GQWiXc=/0x140:3600x2540/200x0/filters:quality(80)/cloudfront-us-east-1.images.arcpublishing.com/tgam/4YFAF2YZUZIAJNWGWYBXJVHZEU.jpg\\\\\" data-sizes=\\\\\"auto\\\\\" data-srcset=\\\\\"https://www.theglobeandmail.com/resizer/Fp1sKKwpW0ljjwSZCHBU9GQWiXc=/0x140:3600x2540/200x0/filters:quality(80)/cloudfront-us-east-1.images.arcpublishing.com/tgam/4YFAF2YZUZIAJNWGWYBXJVHZEU.jpg 200w, https://www.theglobeandmail.com/resizer/JXs0GxiEOdYAHgso-Th6uFqurYw=/0x140:3600x2540/400x0/filters:quality(80)/cloudfront-us-east-1.images.arcpublishing.com/tgam/4YFAF2YZUZIAJNWGWYBXJVHZEU.jpg 400w\\\\\" data-aspect-ratio=\\\\\"1.5\\\\\" data-photo=\\\\\"story\\\\\" alt=\\\\\"\\\\\"> <noscript> <img src=\\\\\"https://www.theglobeandmail.com/resizer/Fp1sKKwpW0ljjwSZCHBU9GQWiXc=/0x140:3600x2540/200x0/filters:quality(80)/cloudfront-us-east-1.images.arcpublishing.com/tgam/4YFAF2YZUZIAJNWGWYBXJVHZEU.jpg\\\\\" alt=\\\\\"\\\\\"> </noscript> </div> </div> </div> </a> </div> </div> <div class=\\\\\"l-col-1 l-section-col-card-story\\\\\"> <div class=\\\\\"c-card\\\\\"> <a href=\\\\\"/world/article-new-governor-sworn-in-as-a-wary-puerto-rico-demands-changes-2/\\\\\" class=\\\\\"c-card__grid c-card__link\\\\\" data-sophi=\\\\\"JA5H4QLLGBFNNIHZE2BAFY7B74\\\\\" data-analyticsclick=\\'{\\\\\"feature\\\\\":\\\\\"latest\\\\\",\\\\\"hierarchy\\\\\":1,\\\\\"contentId\\\\\":\\\\\"JA5H4QLLGBFNNIHZE2BAFY7B74\\\\\",\\\\\"label\\\\\":\\\\\"new governor sworn in as a wary puerto rico demands changes\\\\\",\\\\\"page\\\\\":\\\\\"sec::view more articles\\\\\",\\\\\"position\\\\\":19,\\\\\"type\\\\\":\\\\\"link\\\\\"}\\' data-lt-pos=\\\\\"sec::view more articles\\\\\" data-lt-lid=\\\\\"Headline.19\\\\\"> <div class=\\\\\"c-card__content\\\\\"> <span class=\\\\\"c-card__label c-card__label--muted\\\\\"> world</span> <div class=\\\\\"c-card__hed\\\\\"> <div class=\\\\\"c-card__hed-text\\\\\"> New governor sworn in as a wary Puerto Rico demands changes</div> <span class=\\\\\"c-indicator-icon c-indicator-icon--key\\\\\" aria-label=\\\\\"Subscriber content\\\\\"> <span class=\\\\\"u-visually-hidden\\\\\">Subscriber content</span> <svg class=\\\\\"c-indicator-icon__art c-indicator-icon__art--key\\\\\" role=\\\\\"img\\\\\" pointer-events=\\\\\"none\\\\\" focusable=\\\\\"false\\\\\" aria-hidden=\\\\\"true\\\\\"> <use xlink:href=\\\\\"/pb/resources/assets/panther/sprites/sprite.704b8c4470a2ec10e4747b9d7eca7b0c.svg#icon-key\\\\\"></use> </svg> </span> </div> <div class=\\\\\"c-card__meta\\\\\"> <time class=\\\\\"c-timestamp u-no-wrap js-story-moment\\\\\" data-unixtime=\\\\\"1609623624\\\\\" data-moment-preface=\\\\\"\\\\\" datetime=\\\\\"2021-01-02T21:40:24.331Z\\\\\"> January 2 </time> <time class=\\\\\"c-timestamp u-no-wrap u-visually-hidden c-timestamp--updated\\\\\" data-unixtime=\\\\\"1609623732\\\\\" data-moment-preface=\\\\\"Updated\\\\\" datetime=\\\\\"2021-01-02T21:42:12.547Z\\\\\"> Updated </time> </div> </div> <div class=\\\\\"c-card__media\\\\\"> <div class=\\\\\"c-image-container c-image-container--lazy\\\\\" style=\\\\\"padding-bottom: 66.66666666666666%\\\\\"> <div class=\\\\\"c-image-container--lazy__wrapper\\\\\"> <img class=\\\\\"c-image js-lazyimage\\\\\" src=\\\\\"data:image/gif;base64,R0lGODlhAQABAIAAAAAAAP///yH5BAEAAAAALAAAAAABAAEAAAIBRAA7\\\\\" data-src=\\\\\"https://www.theglobeandmail.com/resizer/sKJJRx7AW05375R1vOcNm8VIT5A=/6x0:6042x4024/200x0/filters:quality(80)/cloudfront-us-east-1.images.arcpublishing.com/tgam/OT7EH6IULNMVBCX3VOS5NXVOWE.jpg\\\\\" data-sizes=\\\\\"auto\\\\\" data-srcset=\\\\\"https://www.theglobeandmail.com/resizer/sKJJRx7AW05375R1vOcNm8VIT5A=/6x0:6042x4024/200x0/filters:quality(80)/cloudfront-us-east-1.images.arcpublishing.com/tgam/OT7EH6IULNMVBCX3VOS5NXVOWE.jpg 200w, https://www.theglobeandmail.com/resizer/VhAs1xN31frPcoznoONSozgDbeM=/6x0:6042x4024/400x0/filters:quality(80)/cloudfront-us-east-1.images.arcpublishing.com/tgam/OT7EH6IULNMVBCX3VOS5NXVOWE.jpg 400w\\\\\" data-aspect-ratio=\\\\\"1.5\\\\\" data-photo=\\\\\"story\\\\\" alt=\\\\\"\\\\\"> <noscript> <img src=\\\\\"https://www.theglobeandmail.com/resizer/sKJJRx7AW05375R1vOcNm8VIT5A=/6x0:6042x4024/200x0/filters:quality(80)/cloudfront-us-east-1.images.arcpublishing.com/tgam/OT7EH6IULNMVBCX3VOS5NXVOWE.jpg\\\\\" alt=\\\\\"\\\\\"> </noscript> </div> </div> </div> </a> </div> </div> <div class=\\\\\"l-col-1 l-section-col-card-story\\\\\"> <div class=\\\\\"c-card\\\\\"> <a href=\\\\\"/world/us-politics/article-republican-senators-led-by-cruz-plan-to-object-to-bidens-victory/\\\\\" class=\\\\\"c-card__grid c-card__link\\\\\" data-sophi=\\\\\"2LPINUWJOREJRLQHEK7NY6TY2I\\\\\" data-analyticsclick=\\'{\\\\\"feature\\\\\":\\\\\"latest\\\\\",\\\\\"hierarchy\\\\\":1,\\\\\"contentId\\\\\":\\\\\"2LPINUWJOREJRLQHEK7NY6TY2I\\\\\",\\\\\"label\\\\\":\\\\\"republican senators, led by cruz, plan to object to biden’s victory\\\\\",\\\\\"page\\\\\":\\\\\"sec::view more articles\\\\\",\\\\\"position\\\\\":20,\\\\\"type\\\\\":\\\\\"link\\\\\"}\\' data-lt-pos=\\\\\"sec::view more articles\\\\\" data-lt-lid=\\\\\"Headline.20\\\\\"> <div class=\\\\\"c-card__content\\\\\"> <span class=\\\\\"c-card__label c-card__label--muted\\\\\"> u.s. politics</span> <div class=\\\\\"c-card__hed\\\\\"> <div class=\\\\\"c-card__hed-text\\\\\"> Republican senators, led by Cruz, plan to object to Biden’s victory</div> <span class=\\\\\"c-indicator-icon c-indicator-icon--key\\\\\" aria-label=\\\\\"Subscriber content\\\\\"> <span class=\\\\\"u-visually-hidden\\\\\">Subscriber content</span> <svg class=\\\\\"c-indicator-icon__art c-indicator-icon__art--key\\\\\" role=\\\\\"img\\\\\" pointer-events=\\\\\"none\\\\\" focusable=\\\\\"false\\\\\" aria-hidden=\\\\\"true\\\\\"> <use xlink:href=\\\\\"/pb/resources/assets/panther/sprites/sprite.704b8c4470a2ec10e4747b9d7eca7b0c.svg#icon-key\\\\\"></use> </svg> </span> </div> <div class=\\\\\"c-card__meta\\\\\"> <time class=\\\\\"c-timestamp u-no-wrap js-story-moment\\\\\" data-unixtime=\\\\\"1609612316\\\\\" data-moment-preface=\\\\\"\\\\\" datetime=\\\\\"2021-01-02T18:31:56.123Z\\\\\"> January 2 </time> <time class=\\\\\"c-timestamp u-no-wrap u-visually-hidden c-timestamp--updated\\\\\" data-unixtime=\\\\\"1609642953\\\\\" data-moment-preface=\\\\\"Updated\\\\\" datetime=\\\\\"2021-01-03T03:02:33.196Z\\\\\"> Updated </time> </div> </div> <div class=\\\\\"c-card__media\\\\\"> <div class=\\\\\"c-image-container c-image-container--lazy\\\\\" style=\\\\\"padding-bottom: 66.66666666666666%\\\\\"> <div class=\\\\\"c-image-container--lazy__wrapper\\\\\"> <img class=\\\\\"c-image js-lazyimage\\\\\" src=\\\\\"data:image/gif;base64,R0lGODlhAQABAIAAAAAAAP///yH5BAEAAAAALAAAAAABAAEAAAIBRAA7\\\\\" data-src=\\\\\"https://www.theglobeandmail.com/resizer/YDnpV-f8Dkb3YP0h2vW8nxJi8wk=/0x0:6000x4000/200x0/filters:quality(80)/cloudfront-us-east-1.images.arcpublishing.com/tgam/VIDSF3MBXZIP7ASHGJLKNXFE4A.jpg\\\\\" data-sizes=\\\\\"auto\\\\\" data-srcset=\\\\\"https://www.theglobeandmail.com/resizer/YDnpV-f8Dkb3YP0h2vW8nxJi8wk=/0x0:6000x4000/200x0/filters:quality(80)/cloudfront-us-east-1.images.arcpublishing.com/tgam/VIDSF3MBXZIP7ASHGJLKNXFE4A.jpg 200w, https://www.theglobeandmail.com/resizer/gex9G73eVzGdwr_TvIk7o76N_OE=/0x0:6000x4000/400x0/filters:quality(80)/cloudfront-us-east-1.images.arcpublishing.com/tgam/VIDSF3MBXZIP7ASHGJLKNXFE4A.jpg 400w\\\\\" data-aspect-ratio=\\\\\"1.5\\\\\" data-photo=\\\\\"story\\\\\" alt=\\\\\"\\\\\"> <noscript> <img src=\\\\\"https://www.theglobeandmail.com/resizer/YDnpV-f8Dkb3YP0h2vW8nxJi8wk=/0x0:6000x4000/200x0/filters:quality(80)/cloudfront-us-east-1.images.arcpublishing.com/tgam/VIDSF3MBXZIP7ASHGJLKNXFE4A.jpg\\\\\" alt=\\\\\"\\\\\"> </noscript> </div> </div> </div> </a> </div> </div> </div><div class=\\\\\"js-sf-automated-data\\\\\" data-start-index=\\\\\"61\\\\\" data-query-count=\\\\\"26\\\\\" data-display-count=\\\\\"20\\\\\" data-query-string=\\\\\"(taxonomy.sites.path%3A%5C%2Fworld*)\\\\\" data-duplicate-array=\\'[\\\\\"/world/article-environmental-hero-brings-back-fish-to-a-barren-turkish-sea/\\\\\",\\\\\"/world/us-politics/article-us-congress-inches-closer-to-trump-veto-override-as-republican/\\\\\",\\\\\"/world/article-britain-first-to-approve-oxford-astrazenecas-covid-19-vaccine-rollout/\\\\\",\\\\\"/world/article-at-least-five-killed-in-blast-gunfire-at-yemens-aden-airport-after/\\\\\",\\\\\"/world/article-britain-reports-record-53135-new-covid-19-cases-prompting-extreme/\\\\\"]\\'> </div> </div>\",\"encoding\":\"UTF-8\",\"contentType\":\"text/html\",\"pageResources\":{},\"externalResources\":{\"charttoolv1-js-bottom\":[\"https://www.theglobeandmail.com/legacy/static/templates/tools/charts/1.0.2/scripts/d3.min.js\",\"https://www.theglobeandmail.com/legacy/static/templates/tools/charts/1.0.2/scripts/gm-chart-lib.js\"],\"financial-css\":[\"/pb/resources/styles/non-critical/financial/financial.css?v=436\"],\"head-css\":[],\"head-js\":[],\"charttoolv1-js-top\":[\"https://www.theglobeandmail.com/legacy/static/templates/tools/charts/1.0.2/scripts/gm-chart-loader.js\"],\"head-no-script-css\":[\"/pb/resources/styles/noscript.css?v=436\"],\"embeddable-featurebuilder-js\":[\"https://www.theglobeandmail.com/legacy/static/templates/libraries/bootstrap/bootstrap-custom/bootstrap.min.js\",\"https://www.theglobeandmail.com/legacy/static/templates/interactives/feature-article/feature-article.v2.js\"],\"tablesaw-js\":[\"https://www.theglobeandmail.com/legacy/static/templates/table-d-hote/scripts/tablesaw.min.v1.js\"],\"embeddable-datatable-css\":[\"https://www.theglobeandmail.com/legacy/static/templates/interactives/datatables/bootstrap-core-custom.css\",\"https://cdn.datatables.net/1.10.2/css/jquery.dataTables.min.css\",\"https://cdn.datatables.net/fixedcolumns/3.0.0/css/dataTables.fixedColumns.min.css\",\"https://www.theglobeandmail.com/legacy/static/templates/interactives/datatables/datatable.v1.css\"],\"static-bundle-css\":[\"/pb/resources/styles/non-critical/sections/static.css?v=436\"],\"charttoolv2-js-top\":[\"https://www.theglobeandmail.com/legacy/static/templates/tools/charts/1.0.2/scripts/gm-chart-loader.js\"],\"embeddable-datatable-js\":[\"https://netdna.bootstrapcdn.com/bootstrap/3.0.2/js/bootstrap.min.js\",\"https://cdn.datatables.net/1.10.2/js/jquery.dataTables.min.js\",\"https://datatables.net/release-datatables/extensions/FixedColumns/js/dataTables.fixedColumns.js\",\"https://www.theglobeandmail.com/legacy/static/templates/interactives/datatables/datatable.v2.js\"],\"charttoolv2-css\":[\"https://www.theglobeandmail.com/legacy/static/templates/tools/chart-tool/1.1.0/bundle.min.css\"],\"charttoolv2-js-bottom\":[\"https://www.theglobeandmail.com/legacy/static/templates/tools/chart-tool/1.1.0/d3.min.js\",\"https://www.theglobeandmail.com/legacy/static/templates/tools/chart-tool/1.1.0/bundle.min.js\"],\"embeddable-imagelist-css\":[],\"embeddable-featurebuilder-css\":[\"https://www.theglobeandmail.com/legacy/static/templates/libraries/bootstrap/bootstrap-custom/bootstrap.min.css\"],\"tablesaw-css\":[\"https://www.theglobeandmail.com/legacy/static/templates/table-d-hote/style/tablesaw.min.v1.css\"],\"embeddable-imagelist-js\":[\"https://www.theglobeandmail.com/legacy/static/templates/interactives/imagelist/imagelist.v4.js\"],\"foot-js\":[],\"section-bundle-css\":[\"/pb/resources/styles/non-critical/sections/section.css?v=436\"],\"charttoolv1-css\":[\"https://www.theglobeandmail.com/legacy/static/templates/tools/charts/1.0.2/css/gm-chart-lib.css\"]},\"httpHeaders\":{}}'"
      ]
     },
     "execution_count": 65,
     "metadata": {},
     "output_type": "execute_result"
    }
   ],
   "source": [
    "\n",
    "response.html.html\n"
   ]
  },
  {
   "cell_type": "code",
   "execution_count": 66,
   "metadata": {},
   "outputs": [],
   "source": [
    "crawler.parse(response)"
   ]
  },
  {
   "cell_type": "code",
   "execution_count": 67,
   "metadata": {},
   "outputs": [
    {
     "data": {
      "text/plain": [
       "[{'url': 'https://www.theglobeandmail.com/world/us-politics/article-trump-on-tape-presses-georgia-official-to-find-trump-votes/'},\n",
       " {'url': 'https://www.theglobeandmail.com/world/article-israeli-prosecutors-spell-out-allegations-against-pm-benjamin/'},\n",
       " {'url': 'https://www.theglobeandmail.com/world/article-egypt-ethiopia-sudan-resume-talks-over-disputed-dam-3/'},\n",
       " {'url': 'https://www.theglobeandmail.com/world/article-islamic-state-gunmen-kill-11-minority-shiite-hazara-coal-miners-in/'},\n",
       " {'url': 'https://www.theglobeandmail.com/world/article-india-bars-astrazeneca-from-exporting-covid-19-vaccines-for-several/'},\n",
       " {'url': 'https://www.theglobeandmail.com/world/article-spanish-flagged-boat-rescues-265-migrants-in-mediterranean-2/'},\n",
       " {'url': 'https://www.theglobeandmail.com/world/article-three-killed-when-plane-crashes-into-michigan-house-authorities-say/'},\n",
       " {'url': 'https://www.theglobeandmail.com/world/article-uks-boris-johnson-warns-of-more-lockdown-measures-as-covid-19-soars/'},\n",
       " {'url': 'https://www.theglobeandmail.com/world/us-politics/article-pelosi-narrowly-reelected-speaker-faces-difficult-2021/'},\n",
       " {'url': 'https://www.theglobeandmail.com/politics/article-inside-elections-canada-after-trumps-tweet-on-voting-machines/'},\n",
       " {'url': 'https://www.theglobeandmail.com/world/article-pope-criticises-people-going-on-holiday-to-flee-covid-19-lockdowns/'},\n",
       " {'url': 'https://www.theglobeandmail.com/world/article-baghdad-rally-marks-one-year-since-iran-generals-slaying/'},\n",
       " {'url': 'https://www.theglobeandmail.com/world/article-former-talk-show-host-larry-king-hospitalized-with-covid-19-cnn/'},\n",
       " {'url': 'https://www.theglobeandmail.com/world/article-memorial-held-for-louisiana-congressman-elect-luke-letlow-who-died/'},\n",
       " {'url': 'https://www.theglobeandmail.com/world/article-nashville-bomber-sent-material-espousing-his-views-to-acquaintances/'},\n",
       " {'url': 'https://www.theglobeandmail.com/world/us-politics/article-biden-flexes-campaigning-muscle-ahead-of-crucial-senate-runoffs-in/'},\n",
       " {'url': 'https://www.theglobeandmail.com/world/us-politics/article-mcconnell-pelosi-homes-vandalized-after-push-for-2000-covid-19-relief/'},\n",
       " {'url': 'https://www.theglobeandmail.com/world/article-us-aquarium-agrees-to-delay-beluga-whale-delivery-from-marineland-amid/'},\n",
       " {'url': 'https://www.theglobeandmail.com/world/article-new-governor-sworn-in-as-a-wary-puerto-rico-demands-changes-2/'},\n",
       " {'url': 'https://www.theglobeandmail.com/world/us-politics/article-republican-senators-led-by-cruz-plan-to-object-to-bidens-victory/'}]"
      ]
     },
     "execution_count": 67,
     "metadata": {},
     "output_type": "execute_result"
    }
   ],
   "source": [
    "crawler.all_json_to_send"
   ]
  },
  {
   "cell_type": "code",
   "execution_count": 69,
   "metadata": {},
   "outputs": [],
   "source": [
    "assert(len(crawler.all_json_to_send)>0) "
   ]
  },
  {
   "cell_type": "code",
   "execution_count": 70,
   "metadata": {},
   "outputs": [],
   "source": [
    "\n",
    "assert validators.url(crawler.all_json_to_send[0][\"url\"])"
   ]
  },
  {
   "cell_type": "code",
   "execution_count": 71,
   "metadata": {},
   "outputs": [],
   "source": [
    "SEED_SCRAP = 'https://www.theglobeandmail.com/world/us-politics/article-trump-on-tape-presses-georgia-official-to-find-trump-votes/'\n"
   ]
  },
  {
   "cell_type": "code",
   "execution_count": 72,
   "metadata": {},
   "outputs": [],
   "source": [
    "QUERY_TITLE = \"//h1[@class='c-primary-title c-primary-title--news']\"\n",
    "QUERY_CONTENT =  \"//div[@class='c-article-body js-c-article-body c-article-body--subscribed u-clearfix']//p[@class='c-article-body__text']\"\n",
    "QUERY_DATE = \"//time[@class='c-timestamp js-story-moment']//@datetime\""
   ]
  },
  {
   "cell_type": "code",
   "execution_count": 73,
   "metadata": {},
   "outputs": [],
   "source": [
    "import json\n",
    "import w3lib.html\n",
    "import random\n",
    "import os\n",
    "import datetime\n",
    "import requests\n",
    "import string\n",
    "import calendar\n",
    "import html\n",
    "import locale \n",
    "from requests_html import HTMLSession\n",
    "import re"
   ]
  },
  {
   "cell_type": "code",
   "execution_count": 95,
   "metadata": {},
   "outputs": [],
   "source": [
    "class Scraper:\n",
    "    \n",
    "    USER_AGENT_LIST = [\n",
    "        \"Mozilla/5.0 (Windows NT 6.1; WOW64) AppleWebKit/537.1 (KHTML, like Gecko) Chrome/22.0.1207.1 Safari/537.1\",\n",
    "        \"Mozilla/5.0 (X11; CrOS i686 2268.111.0) AppleWebKit/536.11 (KHTML, like Gecko) Chrome/20.0.1132.57 Safari/536.11\",\n",
    "        \"Mozilla/5.0 (Windows NT 6.1; WOW64) AppleWebKit/536.6 (KHTML, like Gecko) Chrome/20.0.1092.0 Safari/536.6\",\n",
    "        \"Mozilla/5.0 (Windows NT 6.2) AppleWebKit/536.6 (KHTML, like Gecko) Chrome/20.0.1090.0 Safari/536.6\",\n",
    "        \"Mozilla/5.0 (Windows NT 6.2; WOW64) AppleWebKit/537.1 (KHTML, like Gecko) Chrome/19.77.34.5 Safari/537.1\",\n",
    "        \"Mozilla/5.0 (X11; Linux x86_64) AppleWebKit/536.5 (KHTML, like Gecko) Chrome/19.0.1084.9 Safari/536.5\",\n",
    "        \"Mozilla/5.0 (Windows NT 6.0) AppleWebKit/536.5 (KHTML, like Gecko) Chrome/19.0.1084.36 Safari/536.5\",\n",
    "        \"Mozilla/5.0 (Windows NT 6.1; WOW64) AppleWebKit/536.3 (KHTML, like Gecko) Chrome/19.0.1063.0 Safari/536.3\",\n",
    "        \"Mozilla/5.0 (Windows NT 5.1) AppleWebKit/536.3 (KHTML, like Gecko) Chrome/19.0.1063.0 Safari/536.3\",\n",
    "        \"Mozilla/5.0 (Macintosh; Intel Mac OS X 10_8_0) AppleWebKit/536.3 (KHTML, like Gecko) Chrome/19.0.1063.0 Safari/536.3\",\n",
    "        \"Mozilla/5.0 (Windows NT 6.2) AppleWebKit/536.3 (KHTML, like Gecko) Chrome/19.0.1062.0 Safari/536.3\",\n",
    "        \"Mozilla/5.0 (Windows NT 6.1; WOW64) AppleWebKit/536.3 (KHTML, like Gecko) Chrome/19.0.1062.0 Safari/536.3\",\n",
    "        \"Mozilla/5.0 (Windows NT 6.2) AppleWebKit/536.3 (KHTML, like Gecko) Chrome/19.0.1061.1 Safari/536.3\",\n",
    "        \"Mozilla/5.0 (Windows NT 6.1; WOW64) AppleWebKit/536.3 (KHTML, like Gecko) Chrome/19.0.1061.1 Safari/536.3\",\n",
    "        \"Mozilla/5.0 (Windows NT 6.1) AppleWebKit/536.3 (KHTML, like Gecko) Chrome/19.0.1061.1 Safari/536.3\",\n",
    "        \"Mozilla/5.0 (Windows NT 6.2) AppleWebKit/536.3 (KHTML, like Gecko) Chrome/19.0.1061.0 Safari/536.3\",\n",
    "        \"Mozilla/5.0 (X11; Linux x86_64) AppleWebKit/535.24 (KHTML, like Gecko) Chrome/19.0.1055.1 Safari/535.24\",\n",
    "        \"Mozilla/5.0 (Windows NT 6.2; WOW64) AppleWebKit/535.24 (KHTML, like Gecko) Chrome/19.0.1055.1 Safari/535.24\"\n",
    "    ]\n",
    "\n",
    "    query_extract_title = QUERY_TITLE\n",
    "    query_extract_text =  QUERY_CONTENT\n",
    "    query_extract_date = QUERY_DATE\n",
    "\n",
    "    \n",
    "    def _init_(self):\n",
    "        pass\n",
    "\n",
    "  \n",
    "    def start_request(self,url):\n",
    "        headers = {'user-agent':random.choice(self.USER_AGENT_LIST) }\n",
    "        session = HTMLSession()\n",
    "        response = session.get(url,headers=headers)  \n",
    "        return response\n",
    "    \n",
    "\n",
    "    def clean_text(self, html_text):\n",
    "        text_without_tags = w3lib.html.remove_tags(html_text)\n",
    "        text_without_escape_chars = w3lib.html.replace_escape_chars(text_without_tags)\n",
    "        text_without_escape_chars = html.unescape(text_without_escape_chars)\n",
    "        text_without_whitespace = text_without_escape_chars.strip()\n",
    "        return text_without_whitespace\n",
    "\n",
    "\n",
    "    def replace_month_name_to_number(self,date_string):\n",
    "        lower_string = date_string.lower()\n",
    "        for month_id in range(1, 13):\n",
    "            if(lower_string.find(calendar.month_name[month_id].lower())!=-1):\n",
    "                if(month_id>=10):\n",
    "                    return (lower_string.replace(calendar.month_name[month_id].lower(),str(month_id)))\n",
    "                else:\n",
    "                    return (lower_string.replace(calendar.month_name[month_id].lower(),\"0\"+str(month_id)))\n",
    "            if(lower_string.find(calendar.month_abbr[month_id].lower())!=-1):\n",
    "                if(month_id>=10):\n",
    "                    return (lower_string.replace(calendar.month_abbr[month_id].lower(),str(month_id)))\n",
    "                else:\n",
    "                    return (lower_string.replace(calendar.month_abbr[month_id].lower(),\"0\"+str(month_id)))\n",
    "                    \n",
    "\n",
    "    def format_date(self,date):\n",
    "        return date[0:10]\n",
    "        \n",
    "\n",
    "\n",
    "    def parse(self, response):\n",
    "        self.news_text = []\n",
    "        self.message_to_send = []\n",
    "        self.scraped_url = response.url\n",
    "        self.news_title = response.html.xpath(self.query_extract_title)[0].text\n",
    "        self.date = response.html.xpath(self.query_extract_date)[0]\n",
    "       \n",
    "        self.news_title = self.clean_text(self.news_title)\n",
    "        self.date = self.clean_text(self.date)\n",
    "        self.date = self.format_date(self.date)    \n",
    "        news_text_extracted_response = response.html.xpath(self.query_extract_text)\n",
    "        for part_of_body in news_text_extracted_response:\n",
    "            stripped_html_tags = w3lib.html.remove_tags(part_of_body.text)\n",
    "            text_cleaned = self.clean_text(stripped_html_tags)\n",
    "            self.news_text.append(text_cleaned) "
   ]
  },
  {
   "cell_type": "code",
   "execution_count": 96,
   "metadata": {},
   "outputs": [],
   "source": [
    "scraper = Scraper()\n",
    "response =scraper.start_request(SEED_SCRAP)"
   ]
  },
  {
   "cell_type": "code",
   "execution_count": 97,
   "metadata": {},
   "outputs": [],
   "source": [
    "scraper.parse(response)"
   ]
  },
  {
   "cell_type": "code",
   "execution_count": 98,
   "metadata": {},
   "outputs": [
    {
     "data": {
      "text/plain": [
       "'President recorded on tape pressing Georgia official to ‘find’ Trump votes'"
      ]
     },
     "execution_count": 98,
     "metadata": {},
     "output_type": "execute_result"
    }
   ],
   "source": [
    "scraper.news_title"
   ]
  },
  {
   "cell_type": "code",
   "execution_count": 99,
   "metadata": {},
   "outputs": [
    {
     "data": {
      "text/plain": [
       "'2021-01-04'"
      ]
     },
     "execution_count": 99,
     "metadata": {},
     "output_type": "execute_result"
    }
   ],
   "source": [
    "scraper.date"
   ]
  },
  {
   "cell_type": "code",
   "execution_count": 100,
   "metadata": {},
   "outputs": [
    {
     "data": {
      "text/plain": [
       "['U.S. President Donald Trump badgered and pleaded with Georgia’s election chief to overturn Joe Biden’s win in the state, suggesting in a telephone call that the official “find” enough votes to hand Mr. Trump the victory.',\n",
       " 'The conversation Saturday was the latest step in an unprecedented effort by a sitting president to pressure a state official to reverse the outcome of a free and fair election that he lost. The renewed intervention and the persistent and unfounded claims of fraud by the first president to lose re-election in almost 30 years come nearly two weeks before Mr. Trump leaves office and two days before twin runoffs in Georgia that will determine control of the Senate.',\n",
       " 'Mr. Trump confirmed in a tweet Sunday that he had spoken with Georgia’s Secretary of State, Republican Brad Raffensperger, a day earlier.',\n",
       " 'Audio snippets of the conversation were posted online by the Washington Post. A recording of the call was later obtained by the Associated Press from a person who was on the call.',\n",
       " 'The President, who has refused to accept his loss to the Democratic president-elect, is heard telling Mr. Raffensperger at one point: “All I want to do is this. I just want to find 11,780 votes, which is one more than we have. Because we won the state.”',\n",
       " 'Georgia’s certified election results show Mr. Biden won the state’s Nov. 3 election by 11,779 votes.',\n",
       " 'The White House referred questions to Mr. Trump’s re-election campaign, which did not respond Sunday to an e-mailed request for comment. Mr. Raffensperger’s office did not respond to a text message seeking comment.',\n",
       " 'Biden senior adviser Bob Bauer said the recording was “irrefutable proof” of Mr. Trump pressuring and threatening an official in his own party to “rescind a state’s lawful, certified vote count and fabricate another in its place.”',\n",
       " '“It captures the whole, disgraceful story about Donald Trump’s assault on American democracy,” Mr. Bauer said.',\n",
       " 'At another point in the conversation, Mr. Trump appeared to threaten Mr. Raffensperger and Ryan Germany, the Secretary of State’s legal counsel, by suggesting both could be criminally liable if they failed to find that thousands of ballots in Fulton County had been illegally destroyed. There is no evidence to support Mr. Trump’s claim.',\n",
       " '“That’s a criminal offence,” Mr. Trump says. “And you can’t let that happen.”',\n",
       " 'Mr. Trump has repeatedly attacked how Mr. Raffensperger ran Georgia’s elections, claiming without evidence that the state’s 16 electoral votes were wrongly given to Mr. Biden.',\n",
       " '“He has no clue!” Mr. Trump tweeted of Mr. Raffensperger, saying the state official “was unwilling, or unable” to answer questions about a series of claims about ballot handling and voters that have been debunked or shot down by judges and election authorities.',\n",
       " 'Mr. Raffensperger’s Twitter response: “Respectfully, President Trump: What you’re saying is not true. The truth will come out.”',\n",
       " 'There was no widespread fraud in the election, which a range of election officials across the country, as well as Mr. Trump’s former attorney-general, William Barr, have confirmed. Republican governors in Arizona and Georgia, key battleground states crucial to Mr. Biden’s victory, have also vouched for the integrity of the elections in their states. Nearly all the legal challenges from Mr. Trump and his allies have been dismissed by judges, including two tossed by the Supreme Court, which includes three Trump-nominated justices.',\n",
       " 'The Senate runoffs pit Senator Kelly Loeffler against Democrat Raphael Warnock and Senator David Perdue against Democrat Jon Ossoff. With the Senate up for grabs, the candidates and outside groups supporting them have spent hundreds of millions of dollars in the contests, deluging Georgia with television ads, mail, phone calls and door-knocking efforts.',\n",
       " 'Ms. Loeffler said she had not decided whether to join Republican colleagues in challenging the legitimacy of Mr. Biden’s victory over Mr. Trump. The Democratic candidates whose wins Tuesday would help clear roadblocks for the new administration’s agenda awaited a campaign visit from vice-president-elect Kamala Harris.',\n",
       " 'Mr. Trump has persisted in attacking top Georgia Republicans over his election loss in the state, raising fears that his words could cause some Republicans to stay away from the polls.',\n",
       " '“I believe that we [Democrats] will win on Tuesday because of the grassroots momentum, the unprecedented movement energy in Georgia right now,” Mr. Ossoff told CNN’s State of the Union. “It feels in Georgia like we are on the cusp of a historic victory.”',\n",
       " 'Ms. Loeffler, when asked about siding with the growing group of Senate Republicans seeking to contest the Electoral College count, said she was “looking very closely at it, and I’ve been one of the first to say, everything’s on the table.” She told Fox News Sunday that “I’m fighting for this President because he’s fought for us. He’s our President and we’re going to keep making sure that this is a fair election.”',\n",
       " 'Mr. Warnock, the senior pastor at Ebenezer Baptist Church in Atlanta who has continued to preach as he campaigns for office, seemed to allude to the runoff in a message delivered Sunday. He told viewers watching remotely due to the pandemic that they are “on the verge of victory” in their lives if they accept that God has already equipped them with the ability to overcome their adversaries.',\n",
       " '“When God is with you, you can defeat giants,” said Mr. Warnock, who ended the early morning service by encouraging Georgians to vote on Tuesday. “It’s so very important that your voice be heard in this defining moment in our country,” he said. “I would not be so presumptuous as to tell you who to vote for.”',\n",
       " 'Ms. Loeffler was appointed to fill a vacancy when Republican Johnny Isakson resigned his seat, and she will be in the Senate, win or lose this coming week, until the election is certified. Mr. Perdue’s seat will temporarily be vacant after his term expires Sunday at the end of six years.',\n",
       " 'Ms. Harris was scheduled to be in Savannah on Sunday afternoon. Mr. Trump and Mr. Biden plan last-minute, in-person efforts Monday to mobilize voters after more than three million people cast ballots early.',\n",
       " 'The President continues to create turbulence for Ms. Loeffler and Mr. Perdue by questioning Mr. Biden’s narrow victory in Georgia and the reliability of the state’s election systems.',\n",
       " 'Mr. Trump also tweeted that Georgia Governor Brian Kemp and Lieutenant-Governor Geoff Duncan, also Republicans, “have done less than nothing. They are a disgrace to the great people of Georgia!”',\n",
       " 'The President last week called on Mr. Kemp to resign; the Governor dismissed it as a “distraction.”',\n",
       " 'Despite the attacks, Ms. Loeffler said she believed voters would heed Mr. Trump’s expected plea during his upcoming visit that they should turn out.',\n",
       " '“He’s going to tell voters the same thing: You have to get out and vote Georgia, because this is too important,” Ms. Loeffler said.',\n",
       " 'Mr. Perdue, who is in quarantine after being exposed to a staff member with the coronavirus and won’t appear with Mr. Trump at Monday’s rally, said he would have joined the electoral challenge in the Senate if he had been in Washington. “I’m encouraging my colleagues to object. This is something that the American people demand right now,” he told Fox News Channel’s Sunday Morning Futures.',\n",
       " 'Our Morning Update and Evening Update newsletters are written by Globe editors, giving you a concise summary of the day’s most important headlines. Sign up today.']"
      ]
     },
     "execution_count": 100,
     "metadata": {},
     "output_type": "execute_result"
    }
   ],
   "source": [
    "scraper.news_text"
   ]
  },
  {
   "cell_type": "code",
   "execution_count": 101,
   "metadata": {},
   "outputs": [],
   "source": [
    "def validate(date_text):\n",
    "    try:\n",
    "        datetime.datetime.strptime(date_text, \"%Y-%m-%d\")\n",
    "        return True\n",
    "    except:\n",
    "        print(\"La fecha no tiene el formato correcto, año-mes-dia\")\n",
    "        return False\n",
    "\n",
    "    \n",
    "def test_news_title_has_text(news_title):\n",
    "    regex_string_only_numbers = r'^[0-9\\.\\ ]*$'\n",
    "    news_text_is_only_number_query = re.match(regex_string_only_numbers,news_title)\n",
    "    if(news_text_is_only_number_query is None):\n",
    "        return True\n",
    "    else:\n",
    "        return False\n",
    "\n",
    "    \n",
    "def test_news_text_has_text(news_text):\n",
    "    joined_text =   \" \".join(news_text)\n",
    "    regex_string_only_numbers = r'^[0-9\\.\\ ]*$'\n",
    "    news_text_is_only_number_query = re.match(regex_string_only_numbers,joined_text)\n",
    "    if(news_text_is_only_number_query is None):\n",
    "        return True\n",
    "    else:\n",
    "        return False\n",
    "\n",
    "        \n",
    "def test_news_title_length(news_title):\n",
    "    words_of_news_title = news_title.split(\" \")\n",
    "    len_of_each_news_title_word = list(map(len,words_of_news_title))\n",
    "    avg_of_news_words = sum(len_of_each_news_title_word)/len(len_of_each_news_title_word)\n",
    "    if(avg_of_news_words >= 1.5):\n",
    "        return True\n",
    "    else:\n",
    "        return False\n",
    "\n",
    "    \n",
    "def test_news_text_length(news_text):\n",
    "    len_of_each_news_text_words = []\n",
    "    for paragraph in news_text:\n",
    "        splited_words = paragraph.split(\" \")\n",
    "        len_of_each_news_text_words.extend(list(map(len,splited_words)))\n",
    "    avg_of_news_words = sum(len_of_each_news_text_words)/len(len_of_each_news_text_words)\n",
    "    if(avg_of_news_words >= 1.5):\n",
    "        return True\n",
    "    else:\n",
    "        return False"
   ]
  },
  {
   "cell_type": "code",
   "execution_count": 102,
   "metadata": {},
   "outputs": [],
   "source": [
    "assert(len(scraper.news_title)>0)\n",
    "assert(len(scraper.news_text)>0)\n",
    "assert(validate(scraper.date))\n",
    "assert(isinstance(scraper.news_title,str))\n",
    "assert(isinstance(scraper.news_text,list)) \n",
    "assert(scraper.news_title.find(\"<script>\")==-1)\n",
    "assert(scraper.news_title.find(\"</script>\")==-1)\n",
    "for text_piece in scraper.news_text:\n",
    "    assert(text_piece.find(\"<script>\")==-1)\n",
    "    assert(text_piece.find(\"</script>\")==-1)\n",
    "assert(test_news_title_has_text(scraper.news_title))\n",
    "assert(test_news_text_has_text(scraper.news_text))\n",
    "assert(test_news_title_length(scraper.news_title))\n",
    "assert(test_news_text_length(scraper.news_text))  "
   ]
  },
  {
   "cell_type": "code",
   "execution_count": null,
   "metadata": {},
   "outputs": [],
   "source": []
  },
  {
   "cell_type": "code",
   "execution_count": null,
   "metadata": {},
   "outputs": [],
   "source": []
  },
  {
   "cell_type": "code",
   "execution_count": null,
   "metadata": {},
   "outputs": [],
   "source": []
  },
  {
   "cell_type": "code",
   "execution_count": null,
   "metadata": {},
   "outputs": [],
   "source": []
  }
 ],
 "metadata": {
  "kernelspec": {
   "display_name": "Python 3",
   "language": "python",
   "name": "python3"
  },
  "language_info": {
   "codemirror_mode": {
    "name": "ipython",
    "version": 3
   },
   "file_extension": ".py",
   "mimetype": "text/x-python",
   "name": "python",
   "nbconvert_exporter": "python",
   "pygments_lexer": "ipython3",
   "version": "3.8.5"
  }
 },
 "nbformat": 4,
 "nbformat_minor": 4
}
