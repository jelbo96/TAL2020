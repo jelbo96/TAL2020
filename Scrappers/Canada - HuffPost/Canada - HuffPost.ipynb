{
 "cells": [
  {
   "cell_type": "code",
   "execution_count": 3,
   "metadata": {},
   "outputs": [],
   "source": [
    "SEED_CRAWL = 'https://www.huffingtonpost.ca/news/1/'"
   ]
  },
  {
   "cell_type": "code",
   "execution_count": 4,
   "metadata": {},
   "outputs": [],
   "source": [
    "import random\n",
    "import requests\n",
    "from requests_html import HTMLSession\n",
    "from requests_html import HTML\n",
    "import os\n",
    "import json\n",
    "import validators"
   ]
  },
  {
   "cell_type": "code",
   "execution_count": 15,
   "metadata": {},
   "outputs": [],
   "source": [
    "class Crawler:\n",
    "    \n",
    "    USER_AGENT_LIST = [\n",
    "        \"Mozilla/5.0 (Windows NT 6.1; WOW64) AppleWebKit/537.1 (KHTML, like Gecko) Chrome/22.0.1207.1 Safari/537.1\",\n",
    "        \"Mozilla/5.0 (X11; CrOS i686 2268.111.0) AppleWebKit/536.11 (KHTML, like Gecko) Chrome/20.0.1132.57 Safari/536.11\",\n",
    "        \"Mozilla/5.0 (Windows NT 6.1; WOW64) AppleWebKit/536.6 (KHTML, like Gecko) Chrome/20.0.1092.0 Safari/536.6\",\n",
    "        \"Mozilla/5.0 (Windows NT 6.2) AppleWebKit/536.6 (KHTML, like Gecko) Chrome/20.0.1090.0 Safari/536.6\",\n",
    "        \"Mozilla/5.0 (Windows NT 6.2; WOW64) AppleWebKit/537.1 (KHTML, like Gecko) Chrome/19.77.34.5 Safari/537.1\",\n",
    "        \"Mozilla/5.0 (X11; Linux x86_64) AppleWebKit/536.5 (KHTML, like Gecko) Chrome/19.0.1084.9 Safari/536.5\",\n",
    "        \"Mozilla/5.0 (Windows NT 6.0) AppleWebKit/536.5 (KHTML, like Gecko) Chrome/19.0.1084.36 Safari/536.5\",\n",
    "        \"Mozilla/5.0 (Windows NT 6.1; WOW64) AppleWebKit/536.3 (KHTML, like Gecko) Chrome/19.0.1063.0 Safari/536.3\",\n",
    "        \"Mozilla/5.0 (Windows NT 5.1) AppleWebKit/536.3 (KHTML, like Gecko) Chrome/19.0.1063.0 Safari/536.3\",\n",
    "        \"Mozilla/5.0 (Macintosh; Intel Mac OS X 10_8_0) AppleWebKit/536.3 (KHTML, like Gecko) Chrome/19.0.1063.0 Safari/536.3\",\n",
    "        \"Mozilla/5.0 (Windows NT 6.2) AppleWebKit/536.3 (KHTML, like Gecko) Chrome/19.0.1062.0 Safari/536.3\",\n",
    "        \"Mozilla/5.0 (Windows NT 6.1; WOW64) AppleWebKit/536.3 (KHTML, like Gecko) Chrome/19.0.1062.0 Safari/536.3\",\n",
    "        \"Mozilla/5.0 (Windows NT 6.2) AppleWebKit/536.3 (KHTML, like Gecko) Chrome/19.0.1061.1 Safari/536.3\",\n",
    "        \"Mozilla/5.0 (Windows NT 6.1; WOW64) AppleWebKit/536.3 (KHTML, like Gecko) Chrome/19.0.1061.1 Safari/536.3\",\n",
    "        \"Mozilla/5.0 (Windows NT 6.1) AppleWebKit/536.3 (KHTML, like Gecko) Chrome/19.0.1061.1 Safari/536.3\",\n",
    "        \"Mozilla/5.0 (Windows NT 6.2) AppleWebKit/536.3 (KHTML, like Gecko) Chrome/19.0.1061.0 Safari/536.3\",\n",
    "        \"Mozilla/5.0 (X11; Linux x86_64) AppleWebKit/535.24 (KHTML, like Gecko) Chrome/19.0.1055.1 Safari/535.24\",\n",
    "        \"Mozilla/5.0 (Windows NT 6.2; WOW64) AppleWebKit/535.24 (KHTML, like Gecko) Chrome/19.0.1055.1 Safari/535.24\"\n",
    "]\n",
    "\n",
    "\n",
    "    all_json_to_send = []\n",
    "    \n",
    "    \n",
    "    def _init_(self):\n",
    "        pass\n",
    "    \n",
    "    \n",
    "    def start_request(self,url):\n",
    "        session = HTMLSession()\n",
    "        header = dict()\n",
    "        data = \"\"\"cbc_privacy_notification=1; cbc_visitor=7472d71c-2df0-405a-8b28-8f34f2948e5c; s_ecid=MCMID%7C83434766441015208602588750493444837267; cX_P=kim4fjpmtbv1zyc4; _cb_ls=1; _cb=D-qG8RDIlWDpDEZmFC; _v__chartbeat3=wdI3zDL6jpxBMxkrA; cX_G=cx%3A26b2j46tcera1ilnod780e8yj%3A34bz52xebz5i7; _admrla=2.; _fbp=fb.1.1607803081655.1573896280; referrerPillar=feed; avcaff_volume=null; avcaff_captions=null; avcaff_autodockdisable=null; akaas_feed=2147483647~rv=29~id=f674f6623e1866cba409a3530e203964; AMCVS_951720B3535680CB0A490D45%40AdobeOrg=1; AMCV_951720B3535680CB0A490D45%40AdobeOrg=1585540135%7CMCIDTS%7C18633%7CMCMID%7C83434766441015208602588750493444837267%7CMCAAMLH-1610414577%7C4%7CMCAAMB-1610414577%7CRKhpRz8krg2tLO6pguXWp5olkAcUniQYPHaMWWgdJ3xzPWQmdj0y%7CMCOPTOUT-1609816977s%7CNONE%7CMCAID%7CNONE%7CMCSYNCSOP%7C411-18634%7CvVersion%7C4.4.0%7CMCCIDH%7C-82759145; ak_bmsc=53E564E84FE5ED75413B9CA0E58C0970170E5714897100006DBFF35F06DBB41A~plG4437Wcdo1DEsl8AaKpdRgI7TZsEYVxvt34GGvQ+YJHKaRJ4+SI/FrYAAWsB6mNDK5GjuNb/onD20Wl2JpDqYiO51YEuYuQ0uszUVEsL1AxrgRboY8wMBva7X2vZCr6568fUP1pNvHO2OV+xUEFl8pAxMU414QSKgTRmHFx675S/npjWatVQtvyvDGRwNm8rqHge0X4OIUlR6Vh3FOrw/bR8hdnpA0DAflNzVikd7DQrPp23vOASw+CMT/AZ+LsW; cbc-session=1609809780; NSC_mcwt-ttm-onxfcdbdif=ffffffff0983169445525d5f4f58455e445a4a423660; s_cc=true; cX_S=kjjb6gn6b4di1bl3; _cb_svref=null; _vfz=www%2Ecbc%2Eca.00000000-0000-4000-8000-082f79d5b829.1609809783.1.medium=direct|source=|sharer_uuid=|terms=; _vfa=www%2Ecbc%2Eca.00000000-0000-4000-8000-082f79d5b829.a5bb8c50-099a-4d63-a11c-e03b77fa2410.1607803064.1609370563.1609809783.13; _t_tests=eyJmQzRGYTNLS2tZaTJVIjp7ImNob3NlblZhcmlhbnQiOiJBIiwic3BlY2lmaWNMb2NhdGlvbiI6WyJCNGlZY0UiXX0sImxpZnRfZXhwIjoibSJ9; cbc_app_version=fe0aa1fcefe06dd1cf66073241eebf7b73f4228b; referringDepartment=noReferrer; _chartbeat2=.1607803063861.1609809806903.0000000001100001.BjNiOQDGDJRpBw1fyyMUM3OBA8py0.3; _chartbeat5=313,1,https%3A%2F%2Fwww.cbc.ca%2F,https%3A%2F%2Fwww.cbc.ca%2Fsitemap,DgCgXLDyMqzPD36EpEDT-mZABiTOV-,,c,BWAqGRuCNnKCcwHcvCKyj1CB5jfPV,cbc.ca,; amplitude_id_f5b7aa101ec24385b731affd4a2f5ed0_statscbc.ca=eyJkZXZpY2VJZCI6Ijc0NzJkNzFjLTJkZjAtNDA1YS04YjI4LThmMzRmMjk0OGU1YyIsInVzZXJJZCI6bnVsbCwib3B0T3V0IjpmYWxzZSwic2Vzc2lvbklkIjoxNjA5ODA5Nzc1MDg4LCJsYXN0RXZlbnRUaW1lIjoxNjA5ODA5ODA2OTI4LCJldmVudElkIjoxNjQsImlkZW50aWZ5SWQiOjM3NCwic2VxdWVuY2VOdW1iZXIiOjUzOH0=; _awl=2.1609809806.0.4-c7b73d29-feb29777b29e67a93b609e861026f884-6763652d75732d7765737431-5ff3bf8e-1; bm_sv=AEA8E1013B40E6FB463C39F2B4C9E71D~i38i6HFbQEoShaTibFapROXLO/2TaZvfSc6R/KTS30BQgcK5oeHxih6eBHp9mzoqbW9W9W/2VrY8TsCskP/3yFqZ30ZD0dQTBz0805jRe7TV8OpiQUepgL8irkfYAMBq1ddXoBEYsnaZ+a3TCfLnq6vz9PuK2CiqlLOV0M/y/vY=; _vfb=www%2Ecbc%2Eca.00000000-0000-4000-8000-082f79d5b829.6.10.1609809783....; RT=\"z=1&dm=cbc.ca&si=c8033304-ffe3-4f02-a504-cebdf515b60f&ss=kjjb6anc&sl=2&tt=8gi&bcn=%2F%2F17c8edc5.akstat.io%2F&ld=ur2&nu=14clweh9&cl=pmj\"; s_sq=cbc-production%3D%2526pid%253Dmisc%25253Athenational%2526pidt%253D1%2526oid%253Dfunctionfn%252528%252529%25257B%25257D%2526oidt%253D2%2526ot%253DSUBMIT\"\"\"\n",
    "        header['user-agent'] = random.choice(self.USER_AGENT_LIST)\n",
    "        \n",
    "        header['authority'] = \"www.cbc.ca\"\n",
    "        header['dnt'] = \"1\"\n",
    "        header['content-type'] =  \"application/json\"\n",
    "        header['accept'] = \"*/*\"\n",
    "        header['origin'] = \"https://www.cbc.ca\"\n",
    "        header['sec-fetch-site'] = \"same-origin\"\n",
    "        header['sec-fetch-mode'] = \"cors\"\n",
    "        header['sec-fetch-dest'] = \"empty\"\n",
    "        header['referer'] = \"https://www.cbc.ca/news/thenational\"\n",
    "        header['accept-language'] = \"es-US,es;q=0.9,en-US;q=0.8,en;q=0.7,es-419;q=0.6\"\n",
    "        header['cookie'] = \"\"\"cbc_privacy_notification=1; cbc_visitor=7472d71c-2df0-405a-8b28-8f34f2948e5c; s_ecid=MCMID%7C83434766441015208602588750493444837267; cX_P=kim4fjpmtbv1zyc4; _cb_ls=1; _cb=D-qG8RDIlWDpDEZmFC; _v__chartbeat3=wdI3zDL6jpxBMxkrA; cX_G=cx%3A26b2j46tcera1ilnod780e8yj%3A34bz52xebz5i7; _admrla=2.; _fbp=fb.1.1607803081655.1573896280; referrerPillar=feed; avcaff_volume=null; avcaff_captions=null; avcaff_autodockdisable=null; akaas_feed=2147483647~rv=29~id=f674f6623e1866cba409a3530e203964; AMCVS_951720B3535680CB0A490D45%40AdobeOrg=1; AMCV_951720B3535680CB0A490D45%40AdobeOrg=1585540135%7CMCIDTS%7C18633%7CMCMID%7C83434766441015208602588750493444837267%7CMCAAMLH-1610414577%7C4%7CMCAAMB-1610414577%7CRKhpRz8krg2tLO6pguXWp5olkAcUniQYPHaMWWgdJ3xzPWQmdj0y%7CMCOPTOUT-1609816977s%7CNONE%7CMCAID%7CNONE%7CMCSYNCSOP%7C411-18634%7CvVersion%7C4.4.0%7CMCCIDH%7C-82759145; ak_bmsc=53E564E84FE5ED75413B9CA0E58C0970170E5714897100006DBFF35F06DBB41A~plG4437Wcdo1DEsl8AaKpdRgI7TZsEYVxvt34GGvQ+YJHKaRJ4+SI/FrYAAWsB6mNDK5GjuNb/onD20Wl2JpDqYiO51YEuYuQ0uszUVEsL1AxrgRboY8wMBva7X2vZCr6568fUP1pNvHO2OV+xUEFl8pAxMU414QSKgTRmHFx675S/npjWatVQtvyvDGRwNm8rqHge0X4OIUlR6Vh3FOrw/bR8hdnpA0DAflNzVikd7DQrPp23vOASw+CMT/AZ+LsW; cbc-session=1609809780; NSC_mcwt-ttm-onxfcdbdif=ffffffff0983169445525d5f4f58455e445a4a423660; s_cc=true; cX_S=kjjb6gn6b4di1bl3; _cb_svref=null; _vfz=www%2Ecbc%2Eca.00000000-0000-4000-8000-082f79d5b829.1609809783.1.medium=direct|source=|sharer_uuid=|terms=; _vfa=www%2Ecbc%2Eca.00000000-0000-4000-8000-082f79d5b829.a5bb8c50-099a-4d63-a11c-e03b77fa2410.1607803064.1609370563.1609809783.13; _t_tests=eyJmQzRGYTNLS2tZaTJVIjp7ImNob3NlblZhcmlhbnQiOiJBIiwic3BlY2lmaWNMb2NhdGlvbiI6WyJCNGlZY0UiXX0sImxpZnRfZXhwIjoibSJ9; cbc_app_version=fe0aa1fcefe06dd1cf66073241eebf7b73f4228b; referringDepartment=noReferrer; _chartbeat2=.1607803063861.1609809806903.0000000001100001.BjNiOQDGDJRpBw1fyyMUM3OBA8py0.3; _chartbeat5=313,1,https%3A%2F%2Fwww.cbc.ca%2F,https%3A%2F%2Fwww.cbc.ca%2Fsitemap,DgCgXLDyMqzPD36EpEDT-mZABiTOV-,,c,BWAqGRuCNnKCcwHcvCKyj1CB5jfPV,cbc.ca,; amplitude_id_f5b7aa101ec24385b731affd4a2f5ed0_statscbc.ca=eyJkZXZpY2VJZCI6Ijc0NzJkNzFjLTJkZjAtNDA1YS04YjI4LThmMzRmMjk0OGU1YyIsInVzZXJJZCI6bnVsbCwib3B0T3V0IjpmYWxzZSwic2Vzc2lvbklkIjoxNjA5ODA5Nzc1MDg4LCJsYXN0RXZlbnRUaW1lIjoxNjA5ODA5ODA2OTI4LCJldmVudElkIjoxNjQsImlkZW50aWZ5SWQiOjM3NCwic2VxdWVuY2VOdW1iZXIiOjUzOH0=; _awl=2.1609809806.0.4-c7b73d29-feb29777b29e67a93b609e861026f884-6763652d75732d7765737431-5ff3bf8e-1; bm_sv=AEA8E1013B40E6FB463C39F2B4C9E71D~i38i6HFbQEoShaTibFapROXLO/2TaZvfSc6R/KTS30BQgcK5oeHxih6eBHp9mzoqbW9W9W/2VrY8TsCskP/3yFqZ30ZD0dQTBz0805jRe7TV8OpiQUepgL8irkfYAMBq1ddXoBEYsnaZ+a3TCfLnq6vz9PuK2CiqlLOV0M/y/vY=; _vfb=www%2Ecbc%2Eca.00000000-0000-4000-8000-082f79d5b829.6.10.1609809783....; RT=\"z=1&dm=cbc.ca&si=c8033304-ffe3-4f02-a504-cebdf515b60f&ss=kjjb6anc&sl=2&tt=8gi&bcn=%2F%2F17c8edc5.akstat.io%2F&ld=ur2&nu=14clweh9&cl=pmj\"; s_sq=cbc-production%3D%2526pid%253Dmisc%25253Athenational%2526pidt%253D1%2526oid%253Dfunctionfn%252528%252529%25257B%25257D%2526oidt%253D2%2526ot%253DSUBMIT\"\"\" \n",
    "                 \n",
    "        response = session.get(url,headers=header, data=data)        \n",
    "        return response\n",
    "    \n",
    "    \n",
    "    def parse(self, response):\n",
    "        self.all_json_to_send = []\n",
    "        all_extracted_href = response.html.xpath(self.query_extract_all_href)\n",
    "        for href in all_extracted_href:\n",
    "            json_to_send= dict()\n",
    "            json_to_send[\"url\"]= \"https://www.huffingtonpost.ca\" + href\n",
    "            self.all_json_to_send.append(json_to_send)"
   ]
  },
  {
   "cell_type": "code",
   "execution_count": 16,
   "metadata": {},
   "outputs": [],
   "source": [
    "crawler = Crawler()\n",
    "\n",
    "response = crawler.start_request(SEED_CRAWL)"
   ]
  },
  {
   "cell_type": "code",
   "execution_count": 17,
   "metadata": {},
   "outputs": [
    {
     "data": {
      "text/plain": [
       "'<?xml version=\"1.0\" encoding=\"iso-8859-1\"?>\\n<!DOCTYPE html PUBLIC \"-//W3C//DTD XHTML 1.0 Transitional//EN\"\\n         \"http://www.w3.org/TR/xhtml1/DTD/xhtml1-transitional.dtd\">\\n<html xmlns=\"http://www.w3.org/1999/xhtml\" xml:lang=\"en\" lang=\"en\">\\n\\t<head>\\n\\t\\t<title>400 - Bad Request</title>\\n\\t</head>\\n\\t<body>\\n\\t\\t<h1>400 - Bad Request</h1>\\n\\t</body>\\n</html>\\n'"
      ]
     },
     "execution_count": 17,
     "metadata": {},
     "output_type": "execute_result"
    }
   ],
   "source": [
    "\n",
    "response.html.html\n"
   ]
  },
  {
   "cell_type": "code",
   "execution_count": 7,
   "metadata": {},
   "outputs": [],
   "source": [
    "crawler.parse(response)"
   ]
  },
  {
   "cell_type": "code",
   "execution_count": 8,
   "metadata": {},
   "outputs": [
    {
     "data": {
      "text/plain": [
       "[{'url': 'https://www.huffingtonpost.ca/entry/canada-ban-gas-powered-cars_ca_5fdcb29ec5b610200989b58c?utm_hp_ref=ca-news'},\n",
       " {'url': 'https://www.huffingtonpost.ca/entry/ontario-covid-long-term-care-interventions_ca_5fdbaf74c5b650b99adaeeab?utm_hp_ref=ca-news'},\n",
       " {'url': 'https://www.huffingtonpost.ca/entry/ontario-remote-learning-2021_ca_5fdb53a0c5b650b99ada5d06?utm_hp_ref=ca-news'},\n",
       " {'url': 'https://www.huffingtonpost.ca/entry/house-prices-canada-crea_ca_5fda6269c5b6102009870fb4?utm_hp_ref=ca-news'},\n",
       " {'url': 'https://www.huffingtonpost.ca/entry/trudeau-speaking-moistly-covid_ca_5fda41bec5b6094c0fee8af7?utm_hp_ref=ca-news'},\n",
       " {'url': 'https://www.huffingtonpost.ca/entry/canada-us-mission-to-moon_ca_5fda29d3c5b6aa861e5acd9f?utm_hp_ref=ca-news'},\n",
       " {'url': 'https://www.huffingtonpost.ca/entry/canada-post-holiday-delivery-deadline_ca_5fda2574c5b6aa861e5ac4ed?utm_hp_ref=ca-news'},\n",
       " {'url': 'https://www.huffingtonpost.ca/entry/medically-assisted-dying-disability_ca_5fda11abc5b6218b42edfe20?utm_hp_ref=ca-news'},\n",
       " {'url': 'https://www.huffingtonpost.ca/entry/ontario-pug-car-police-driving_ca_5fd94e36c5b663c3759abe24?utm_hp_ref=ca-news'},\n",
       " {'url': 'https://www.huffingtonpost.ca/entry/trudeau-tax-hike-deficit_ca_5fd8fcbec5b690d5d307d165?utm_hp_ref=ca-news'},\n",
       " {'url': 'https://www.huffingtonpost.ca/entry/merrilee-fullerton-long-term-care-ontario-coronavirus_ca_5fd8ef5ec5b663c3759a49b2?utm_hp_ref=ca-news'},\n",
       " {'url': 'https://www.huffingtonpost.ca/entry/peter-nygard-arrest_ca_5fd8de17c5b690d5d3079c52?utm_hp_ref=ca-news'},\n",
       " {'url': 'https://www.huffingtonpost.ca/entry/brayden-bushby-thunder-bay-trailer-hitch-indigenous-woman_ca_5fd8c397c5b690d5d3075a52?utm_hp_ref=ca-news'},\n",
       " {'url': 'https://www.huffingtonpost.ca/entry/huffpost-canada-splash-dec-14-2020_ca_5fd7e412c5b690d5d306718f?utm_hp_ref=ca-news'},\n",
       " {'url': 'https://www.huffingtonpost.ca/entry/ottawa-amber-alert-missing-9-month-old_ca_5fdd1c56c5b6e5158fa704f4?utm_hp_ref=ca-news'},\n",
       " {'url': 'https://www.huffingtonpost.ca/entry/ontario-travel-tax-credit_ca_5fdcc352c5b6f24ae35fa16f?utm_hp_ref=ca-news'},\n",
       " {'url': 'https://www.huffingtonpost.ca/entry/huffpost-canada-splash-dec-17-2020_ca_5fdbdc12c5b6094c0ff08aac?utm_hp_ref=ca-news'},\n",
       " {'url': 'https://www.huffingtonpost.ca/entry/rcmp-members-race-data_ca_5fdbb2a6c5b6f24ae35ea035?utm_hp_ref=ca-news'},\n",
       " {'url': 'https://www.huffingtonpost.ca/entry/population-canada-immigration-covid_ca_5fdb9606c5b6f24ae35e7f37?utm_hp_ref=ca-news'},\n",
       " {'url': 'https://www.huffingtonpost.ca/entry/ontario-hospitals-capacity-christmas-coronavirus_ca_5fdb81fcc5b6102009888615?utm_hp_ref=ca-news'},\n",
       " {'url': 'https://www.huffingtonpost.ca/entry/wayne-gretzky-memorabilia-theft_ca_5fdaaa4bc5b6aa861e5b6ce8?utm_hp_ref=ca-news'},\n",
       " {'url': 'https://www.huffingtonpost.ca/entry/biden-good-for-canada-champagne_ca_5fdaae7dc5b6aa861e5b71e0?utm_hp_ref=ca-news'},\n",
       " {'url': 'https://www.huffingtonpost.ca/entry/erin-otoole-residential-schools_ca_5fda64d1c5b6f24ae35cef17?utm_hp_ref=ca-news'},\n",
       " {'url': 'https://www.huffingtonpost.ca/entry/santa-covid-tree-lighting_ca_5fda46c7c5b650b99ad90ff8?utm_hp_ref=ca-news'},\n",
       " {'url': 'https://www.huffingtonpost.ca/entry/ontario-hospitals-surge-coronavirus-patients_ca_5fda2db6c5b6f24ae35ca19a?utm_hp_ref=ca-news'},\n",
       " {'url': 'https://www.huffingtonpost.ca/entry/minority-women-jobs-unemployment-canada_ca_5fda163bc5b663c3759b867d?utm_hp_ref=ca-news'},\n",
       " {'url': 'https://www.huffingtonpost.ca/entry/christmas-restrictions-canada-covid_ca_5fd8fb81c5b690d5d307cea0?utm_hp_ref=ca-news'},\n",
       " {'url': 'https://www.huffingtonpost.ca/entry/moderna-vaccine-canada_ca_5fd8ea5ec5b6218b42ecc1ba?utm_hp_ref=ca-news'},\n",
       " {'url': 'https://www.huffingtonpost.ca/entry/canada-holiday-lockdown-covid_ca_5fd8ab60c5b663c37599c705?utm_hp_ref=ca-news'},\n",
       " {'url': 'https://www.huffingtonpost.ca/entry/joe-biden-46th-president_ca_5fd7ee87c5b690d5d30676f2?utm_hp_ref=ca-news'},\n",
       " {'url': 'https://www.huffingtonpost.ca/entry/canada-refugee-2020-united-nations_ca_5fd7bc35c5b690d5d3064e24?utm_hp_ref=ca-news'},\n",
       " {'url': 'https://www.huffingtonpost.ca/entry/canada-first-covid-vaccine-toronto-workers_ca_5fd7a3d9c5b6218b42eb3c9c?utm_hp_ref=ca-news'}]"
      ]
     },
     "execution_count": 8,
     "metadata": {},
     "output_type": "execute_result"
    }
   ],
   "source": [
    "crawler.all_json_to_send"
   ]
  },
  {
   "cell_type": "code",
   "execution_count": 9,
   "metadata": {},
   "outputs": [],
   "source": [
    "assert(len(crawler.all_json_to_send)>0) "
   ]
  },
  {
   "cell_type": "code",
   "execution_count": 10,
   "metadata": {},
   "outputs": [],
   "source": [
    "\n",
    "assert validators.url(crawler.all_json_to_send[0][\"url\"])"
   ]
  },
  {
   "cell_type": "code",
   "execution_count": 11,
   "metadata": {},
   "outputs": [],
   "source": [
    "SEED_SCRAP = 'https://www.huffingtonpost.ca/entry/biden-good-for-canada-champagne_ca_5fdaae7dc5b6aa861e5b71e0?utm_hp_ref=ca-news'\n"
   ]
  },
  {
   "cell_type": "code",
   "execution_count": 12,
   "metadata": {},
   "outputs": [],
   "source": [
    "QUERY_TITLE = \"//article//h1[@class='headline__title']\"\n",
    "QUERY_CONTENT =  \"//div[contains(@class, 'content-list-component') and contains(@class, 'text')]//p\"\n",
    "QUERY_DATE = \"//article//span[contains(@class, 'timestamp__date--published') and contains(@class, 'timestamp__date')]\""
   ]
  },
  {
   "cell_type": "code",
   "execution_count": 13,
   "metadata": {},
   "outputs": [],
   "source": [
    "import json\n",
    "import w3lib.html\n",
    "import random\n",
    "import os\n",
    "import datetime\n",
    "import requests\n",
    "import string\n",
    "import calendar\n",
    "import html\n",
    "import locale \n",
    "from requests_html import HTMLSession\n",
    "import re"
   ]
  },
  {
   "cell_type": "code",
   "execution_count": 14,
   "metadata": {},
   "outputs": [],
   "source": [
    "class Scraper:\n",
    "    \n",
    "    USER_AGENT_LIST = [\n",
    "        \"Mozilla/5.0 (Windows NT 6.1; WOW64) AppleWebKit/537.1 (KHTML, like Gecko) Chrome/22.0.1207.1 Safari/537.1\",\n",
    "        \"Mozilla/5.0 (X11; CrOS i686 2268.111.0) AppleWebKit/536.11 (KHTML, like Gecko) Chrome/20.0.1132.57 Safari/536.11\",\n",
    "        \"Mozilla/5.0 (Windows NT 6.1; WOW64) AppleWebKit/536.6 (KHTML, like Gecko) Chrome/20.0.1092.0 Safari/536.6\",\n",
    "        \"Mozilla/5.0 (Windows NT 6.2) AppleWebKit/536.6 (KHTML, like Gecko) Chrome/20.0.1090.0 Safari/536.6\",\n",
    "        \"Mozilla/5.0 (Windows NT 6.2; WOW64) AppleWebKit/537.1 (KHTML, like Gecko) Chrome/19.77.34.5 Safari/537.1\",\n",
    "        \"Mozilla/5.0 (X11; Linux x86_64) AppleWebKit/536.5 (KHTML, like Gecko) Chrome/19.0.1084.9 Safari/536.5\",\n",
    "        \"Mozilla/5.0 (Windows NT 6.0) AppleWebKit/536.5 (KHTML, like Gecko) Chrome/19.0.1084.36 Safari/536.5\",\n",
    "        \"Mozilla/5.0 (Windows NT 6.1; WOW64) AppleWebKit/536.3 (KHTML, like Gecko) Chrome/19.0.1063.0 Safari/536.3\",\n",
    "        \"Mozilla/5.0 (Windows NT 5.1) AppleWebKit/536.3 (KHTML, like Gecko) Chrome/19.0.1063.0 Safari/536.3\",\n",
    "        \"Mozilla/5.0 (Macintosh; Intel Mac OS X 10_8_0) AppleWebKit/536.3 (KHTML, like Gecko) Chrome/19.0.1063.0 Safari/536.3\",\n",
    "        \"Mozilla/5.0 (Windows NT 6.2) AppleWebKit/536.3 (KHTML, like Gecko) Chrome/19.0.1062.0 Safari/536.3\",\n",
    "        \"Mozilla/5.0 (Windows NT 6.1; WOW64) AppleWebKit/536.3 (KHTML, like Gecko) Chrome/19.0.1062.0 Safari/536.3\",\n",
    "        \"Mozilla/5.0 (Windows NT 6.2) AppleWebKit/536.3 (KHTML, like Gecko) Chrome/19.0.1061.1 Safari/536.3\",\n",
    "        \"Mozilla/5.0 (Windows NT 6.1; WOW64) AppleWebKit/536.3 (KHTML, like Gecko) Chrome/19.0.1061.1 Safari/536.3\",\n",
    "        \"Mozilla/5.0 (Windows NT 6.1) AppleWebKit/536.3 (KHTML, like Gecko) Chrome/19.0.1061.1 Safari/536.3\",\n",
    "        \"Mozilla/5.0 (Windows NT 6.2) AppleWebKit/536.3 (KHTML, like Gecko) Chrome/19.0.1061.0 Safari/536.3\",\n",
    "        \"Mozilla/5.0 (X11; Linux x86_64) AppleWebKit/535.24 (KHTML, like Gecko) Chrome/19.0.1055.1 Safari/535.24\",\n",
    "        \"Mozilla/5.0 (Windows NT 6.2; WOW64) AppleWebKit/535.24 (KHTML, like Gecko) Chrome/19.0.1055.1 Safari/535.24\"\n",
    "    ]\n",
    "\n",
    "    query_extract_title = QUERY_TITLE\n",
    "    query_extract_text =  QUERY_CONTENT\n",
    "    query_extract_date = QUERY_DATE\n",
    "\n",
    "    \n",
    "    def _init_(self):\n",
    "        pass\n",
    "\n",
    "  \n",
    "    def start_request(self,url):\n",
    "        headers = {'user-agent':random.choice(self.USER_AGENT_LIST) }\n",
    "        session = HTMLSession()\n",
    "        response = session.get(url,headers=headers)  \n",
    "        return response\n",
    "    \n",
    "\n",
    "    def clean_text(self, html_text):\n",
    "        text_without_tags = w3lib.html.remove_tags(html_text)\n",
    "        text_without_escape_chars = w3lib.html.replace_escape_chars(text_without_tags)\n",
    "        text_without_escape_chars = html.unescape(text_without_escape_chars)\n",
    "        text_without_whitespace = text_without_escape_chars.strip()\n",
    "        return text_without_whitespace\n",
    "\n",
    "\n",
    "    def replace_month_name_to_number(self,date_string):\n",
    "        lower_string = date_string.lower()\n",
    "        for month_id in range(1, 13):\n",
    "            if(lower_string.find(calendar.month_name[month_id].lower())!=-1):\n",
    "                if(month_id>=10):\n",
    "                    return (lower_string.replace(calendar.month_name[month_id].lower(),str(month_id)))\n",
    "                else:\n",
    "                    return (lower_string.replace(calendar.month_name[month_id].lower(),\"0\"+str(month_id)))\n",
    "            if(lower_string.find(calendar.month_abbr[month_id].lower())!=-1):\n",
    "                if(month_id>=10):\n",
    "                    return (lower_string.replace(calendar.month_abbr[month_id].lower(),str(month_id)))\n",
    "                else:\n",
    "                    return (lower_string.replace(calendar.month_abbr[month_id].lower(),\"0\"+str(month_id)))\n",
    "                    \n",
    "\n",
    "    def format_date(self,date):\n",
    "        x = datetime.datetime(int(date[6:10]), int(date[0:2]), int(date[3:5]))\n",
    "        return(x.strftime(\"%Y-%m-%d\"))\n",
    "        \n",
    "\n",
    "\n",
    "    def parse(self, response):\n",
    "        self.news_text = []\n",
    "        self.message_to_send = []\n",
    "        self.scraped_url = response.url\n",
    "        self.news_title = response.html.xpath(self.query_extract_title)[0].text\n",
    "        self.date = response.html.xpath(self.query_extract_date)[0]\n",
    "        self.news_title = self.clean_text(self.news_title)\n",
    "        self.date = self.clean_text(self.date.text)\n",
    "        self.date = self.format_date(self.date)    \n",
    "        news_text_extracted_response = response.html.xpath(self.query_extract_text)\n",
    "        for part_of_body in news_text_extracted_response:\n",
    "            stripped_html_tags = w3lib.html.remove_tags(part_of_body.text)\n",
    "            text_cleaned = self.clean_text(stripped_html_tags)\n",
    "            self.news_text.append(text_cleaned) "
   ]
  },
  {
   "cell_type": "code",
   "execution_count": 15,
   "metadata": {},
   "outputs": [],
   "source": [
    "scraper = Scraper()\n",
    "response =scraper.start_request(SEED_SCRAP)"
   ]
  },
  {
   "cell_type": "code",
   "execution_count": 16,
   "metadata": {},
   "outputs": [],
   "source": [
    "scraper.parse(response)"
   ]
  },
  {
   "cell_type": "code",
   "execution_count": 17,
   "metadata": {},
   "outputs": [
    {
     "data": {
      "text/plain": [
       "\"Biden Administration Is 'Good News For Canada': Champagne\""
      ]
     },
     "execution_count": 17,
     "metadata": {},
     "output_type": "execute_result"
    }
   ],
   "source": [
    "scraper.news_title"
   ]
  },
  {
   "cell_type": "code",
   "execution_count": 18,
   "metadata": {},
   "outputs": [
    {
     "data": {
      "text/plain": [
       "'2020-12-16'"
      ]
     },
     "execution_count": 18,
     "metadata": {},
     "output_type": "execute_result"
    }
   ],
   "source": [
    "scraper.date"
   ]
  },
  {
   "cell_type": "code",
   "execution_count": 19,
   "metadata": {},
   "outputs": [
    {
     "data": {
      "text/plain": [
       "['OTTAWA — The incoming Biden administration in the United States will help stabilize the world order and give North America a good shot at beating COVID-19 and fighting climate change, says Foreign Affairs Minister Francois-Philippe Champagne.',\n",
       " 'Champagne, who did an unusual amount of jet-setting during the pandemic this past year, told The Canadian Press on Wednesday he wants to kick off 2021 with a post-inauguration visit to Washington to connect with Antony Blinken, Biden’s nominee for secretary of state.',\n",
       " 'But Champagne says Biden himself, his Montreal-educated vice-president-elect Kamala Harris, and Blinken all know Canada well.',\n",
       " 'Blinken will play the key role in delivering on Biden’s promise to re-engage the U.S. with the world, reversing President Donald Trump’s “America First” foreign policy.',\n",
       " 'Champagne said Canada wants to work side-by-side with what has traditionally been its closest ally and friend, and he wants to deliver that message to Blinken personally and as early as the pandemic allows.',\n",
       " '“I think what this new administration is bringing to the world order is more stability and predictability,” the minister said in an interview in his top-floor, corner office at Global Affairs Canada.',\n",
       " 'Champagne did not mention the departing Trump by name. But he called the incoming Biden administration “good news for Canada.”',\n",
       " 'Champagne acknowledged what many trade experts have warned: that the Biden Democrats will not be any less protectionist on trade, even though Trump threatened many times to rip up the North American Free Trade Agreement as he forced Canada and Mexico to renegotiate it.',\n",
       " '“There’s always been a wind of protectionism” that dates back more than a century, Champagne said.',\n",
       " 'But Biden’s new administration will provide “great opportunities in terms of energy, in terms of green technologies, in terms of aligning our views,” he added.',\n",
       " '“On fighting for climate change, I think this is a game-changer. We heard president-elect Biden say he wants to join the Paris Agreement on Day One,” Champagne explained from an armchair framed by a panoramic vista of the Ottawa River and the snow-frosted Gatineau Hills of west Quebec.',\n",
       " '“There are opportunities for us to do more with respect to the COVID response, when it comes to the vaccine, when it comes to the borders. I see opportunities when we’re talking about the global recovery.”',\n",
       " 'Champagne said many people use the mantra “build back better” but when it comes to the U.S., “I’d like to use, let’s build back better together.”',\n",
       " 'In a previous interview after the pandemic was well underway and ravaging the U.S., Champagne said science needed to be front and centre in the battle against it. This week, the U.S. surpassed the grim milestone of 300,000 deaths due to COVID-19.',\n",
       " 'Asked Wednesday if Biden would make a better science-based partner to Canada, Champagne replied: “I think the numbers speak for themselves. And therefore, I certainly expect the next administration to certainly be focused on the COVID response, as all of us are.”',\n",
       " 'Champagne said the economic recovery from the pandemic in the years ahead will be the greatest challenge of this generation as Canada and its allies grapple to correct the inequities it laid bare by disproportionately targeting poorer segments of their populations. He said it is a challenge that needs to be tackled in “the North American space.”',\n",
       " 'More broadly – and again avoiding Trump, or referencing his baseless allegations about the credibility of the U.S. election he lost – Champagne said Canada needs to stand with allies to reverse the “rise of authoritarian regimes” that he said has occurred during the pandemic.',\n",
       " '“We’ve seen media freedom being eroded. We’ve seen disinformation taking place in many parts of the world, trying even to undermine our model of governance. So therefore, I think we need to respond … and we can do that, certainly with our United States allies and our European allies,” Champagne said.',\n",
       " '“And I want Canada to be the best partner of the United States, because we’ve been blessed by geography.”',\n",
       " 'Champagne hasn’t previously crossed paths with Blinken, a 58-year-old State Department veteran who has also served as a top Biden senatorial aide. But Champagne said that Blinken’s tenure as the deputy to Barack Obama’s secretary of state, John Kerry, has given him broad knowledge of Canada.',\n",
       " '“It’s certainly steady hands on many files, people who can come to these files with a lot of knowledge, expertise and experience, which I think will allow for a fast transition.”',\n",
       " 'Champagne made two, multi-country international trips earlier this year, which allowed him to meet personally with his British counterpart, Dominic Raab, as well as the head of NATO and other international partners.',\n",
       " 'Whether he meets Blinken early will essentially depend on how sick the U.S. is from COVID-19 at the end of January. Champagne said he is ready “to go to Washington to establish that first contact. But obviously we are in an era of COVID.”',\n",
       " 'Blinken was to have met Secretary of State Mike Pompeo in what would have been one of the top transition meetings since the Nov. 3 election. However that meeting was thrown into doubt when Pompeo entered quarantine Wednesday after coming into contact with someone with COVID-19. Pompeo tested negative.',\n",
       " 'This report by The Canadian Press was first published Dec. 16, 2020.']"
      ]
     },
     "execution_count": 19,
     "metadata": {},
     "output_type": "execute_result"
    }
   ],
   "source": [
    "scraper.news_text"
   ]
  },
  {
   "cell_type": "code",
   "execution_count": 20,
   "metadata": {},
   "outputs": [],
   "source": [
    "def validate(date_text):\n",
    "    try:\n",
    "        datetime.datetime.strptime(date_text, \"%Y-%m-%d\")\n",
    "        return True\n",
    "    except:\n",
    "        print(\"La fecha no tiene el formato correcto, año-mes-dia\")\n",
    "        return False\n",
    "\n",
    "    \n",
    "def test_news_title_has_text(news_title):\n",
    "    regex_string_only_numbers = r'^[0-9\\.\\ ]*$'\n",
    "    news_text_is_only_number_query = re.match(regex_string_only_numbers,news_title)\n",
    "    if(news_text_is_only_number_query is None):\n",
    "        return True\n",
    "    else:\n",
    "        return False\n",
    "\n",
    "    \n",
    "def test_news_text_has_text(news_text):\n",
    "    joined_text =   \" \".join(news_text)\n",
    "    regex_string_only_numbers = r'^[0-9\\.\\ ]*$'\n",
    "    news_text_is_only_number_query = re.match(regex_string_only_numbers,joined_text)\n",
    "    if(news_text_is_only_number_query is None):\n",
    "        return True\n",
    "    else:\n",
    "        return False\n",
    "\n",
    "        \n",
    "def test_news_title_length(news_title):\n",
    "    words_of_news_title = news_title.split(\" \")\n",
    "    len_of_each_news_title_word = list(map(len,words_of_news_title))\n",
    "    avg_of_news_words = sum(len_of_each_news_title_word)/len(len_of_each_news_title_word)\n",
    "    if(avg_of_news_words >= 1.5):\n",
    "        return True\n",
    "    else:\n",
    "        return False\n",
    "\n",
    "    \n",
    "def test_news_text_length(news_text):\n",
    "    len_of_each_news_text_words = []\n",
    "    for paragraph in news_text:\n",
    "        splited_words = paragraph.split(\" \")\n",
    "        len_of_each_news_text_words.extend(list(map(len,splited_words)))\n",
    "    avg_of_news_words = sum(len_of_each_news_text_words)/len(len_of_each_news_text_words)\n",
    "    if(avg_of_news_words >= 1.5):\n",
    "        return True\n",
    "    else:\n",
    "        return False"
   ]
  },
  {
   "cell_type": "code",
   "execution_count": 21,
   "metadata": {},
   "outputs": [],
   "source": [
    "assert(len(scraper.news_title)>0)\n",
    "assert(len(scraper.news_text)>0)\n",
    "assert(validate(scraper.date))\n",
    "assert(isinstance(scraper.news_title,str))\n",
    "assert(isinstance(scraper.news_text,list)) \n",
    "assert(scraper.news_title.find(\"<script>\")==-1)\n",
    "assert(scraper.news_title.find(\"</script>\")==-1)\n",
    "for text_piece in scraper.news_text:\n",
    "    assert(text_piece.find(\"<script>\")==-1)\n",
    "    assert(text_piece.find(\"</script>\")==-1)\n",
    "assert(test_news_title_has_text(scraper.news_title))\n",
    "assert(test_news_text_has_text(scraper.news_text))\n",
    "assert(test_news_title_length(scraper.news_title))\n",
    "assert(test_news_text_length(scraper.news_text))  "
   ]
  },
  {
   "cell_type": "code",
   "execution_count": null,
   "metadata": {},
   "outputs": [],
   "source": []
  },
  {
   "cell_type": "code",
   "execution_count": null,
   "metadata": {},
   "outputs": [],
   "source": []
  },
  {
   "cell_type": "code",
   "execution_count": null,
   "metadata": {},
   "outputs": [],
   "source": []
  },
  {
   "cell_type": "code",
   "execution_count": null,
   "metadata": {},
   "outputs": [],
   "source": []
  }
 ],
 "metadata": {
  "kernelspec": {
   "display_name": "Python 3",
   "language": "python",
   "name": "python3"
  },
  "language_info": {
   "codemirror_mode": {
    "name": "ipython",
    "version": 3
   },
   "file_extension": ".py",
   "mimetype": "text/x-python",
   "name": "python",
   "nbconvert_exporter": "python",
   "pygments_lexer": "ipython3",
   "version": "3.8.5"
  }
 },
 "nbformat": 4,
 "nbformat_minor": 4
}
