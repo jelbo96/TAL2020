{
 "cells": [
  {
   "cell_type": "markdown",
   "metadata": {},
   "source": [
    "# Preprocesamientos básicos y representación vectorial Bag-of-words aplicados al análisis de sentimientos\n",
    "\n",
    "## 1. ¿Qué es el lenguaje humano?\n",
    "\n",
    "- Es un proceso de __comunicación__ entre humanos basado sobre un sistema complejo de signos\n",
    "\n",
    "- Es un proceso de __percepción__ del mundo \n",
    "\n",
    "<i>¿Es posible pensar el mundo fuera del lenguaje? Ver concepto de <u>neolengua</u> de George Orwell en la novela 1984, quién puede manipular el lenguaje, puede manipular los humanos.</i>\n",
    "\n",
    "- El lenguaje humano puede ser __verbal__ o __no verbal__\n",
    "\n",
    "- El lenguaje verbal puede ser __oral__ o __escrito__\n",
    "\n",
    "- Los humanos utilizan el lenguaje para cumplir 6 grandes tipos de función:\n",
    "    1. _expresar su subjetividad o relaciones de poder_ (opiniones, emociones, creencias, etc.). Ej: \"¡Me gusta la música!\", \"soy mejor que tú\", etc.\n",
    "    1. _solicitar que el interlocutor exprese su subjetividad_. Ej: \"¿Qué piensas?\", \"¿te \"gusta el deporte?\", etc.\n",
    "    1. _describir el mundo_. Ej: \"Hay una mesa y 4 sillas\", etc.\n",
    "    1. _activar o mantener la comunicación_. Ej: \"Hola\", \"Allo\", \"mmm\", \"eeeh\"\n",
    "    1. _ponerse de acuerdo sobre el sentido de un signo_. Ej: \"Hace frio significa que la temperatura es bajo 10°c\"\n",
    "    1. _comunicar por el placer de comunicar_. Ej: poesia, juegos de palabras, bromas lingúïsticas, etc.\n",
    "    \n",
    "\n",
    "- En conclusión, el lenguaje humano siempre se inscribe en una __situación de comunicación__, revela __explicatamente__ o __implicitamente__ el objetivo de comunicacion un locutor, dentro de un contexto particular. \n",
    "\n",
    "Ejemplo: <code>\"¿Viste como llueve?\"</code>\n",
    "\n",
    "Tal vez quiere decir en realidad: \"¡deberías tomar tu paragua!\"\n",
    "\n",
    "- El lenguaje humano tiene distinto nivel de interpretación:\n",
    "    - nivel __lexico-semántico__ : significado las palabras utilizadas.\n",
    "    - nivel __pragmático-discursivo__ : significado de estas palabras en su contexto.\n",
    "\n",
    "<code>\"Hemos realizados intervenciones quirúrgicas en afganistán\"</code>\n",
    "\n",
    "Busca significar que las intervenciones fueron las más limpias y precisas posibles, pero tambien busca ocultar que se trata de bombardeos y de violencia.\n",
    "       \n",
    "\n",
    "## 2. ¿Qué el Tratamiento Automático del Lenguaje (o _NLP_)?\n",
    "\n",
    "- Es una sub-disciplina de la Informática y de la Inteligencia Artificial que busca dotar los computadores de capacidad para entender, traducir y generar lenguaje humano a través de algoritmos y datos.\n",
    "\n",
    "- Es una disciplina antigua pero creciente dado el desarrollo de la comunicación en Internet y el desarrollo de las técnicas de Machine Learning/Deep Learning.\n",
    "\n",
    "- Problemas particulares del TAL en comparación con otras areas: __datos no estructurados__, __muchas(!!!) ambiguedades en los datos__, __problemas de grandes dimensiones__ (muchas variables posibles).\n",
    "\n",
    "- Tareas clásicas: Traducción Automática, Question-Answering, Análisis de opiniones y sentimientos, Extracción de información, Análisis del discurso, etc.\n",
    "\n",
    "- Tareas clásicas para el lenguaje oral: reconocimiento de las palabras, reconocimiento del locutor, etc.\n",
    "\n",
    "- Tarea para el lenguaje no verbal: reconocimiento des las emociones, reconocimiento de gestos, etc."
   ]
  },
  {
   "cell_type": "markdown",
   "metadata": {},
   "source": [
    "## 3. Preprocesamientos básicos con spaCy\n",
    "\n",
    "### 3.1 Tokenización, Stop-Words y Lematización"
   ]
  },
  {
   "cell_type": "markdown",
   "metadata": {},
   "source": [
    "Cargaremos la librería de NLP spaCy (https://spacy.io/) y los modelos para procesar textos en español.\n",
    "\n",
    "<code>pip3 install -U spacy</code>\n",
    "\n",
    "<code>python3 -m spacy download es_core_news_sm</code>"
   ]
  },
  {
   "cell_type": "code",
   "execution_count": 1,
   "metadata": {},
   "outputs": [],
   "source": [
    "import spacy\n",
    "\n",
    "nlp = spacy.load('es_core_news_sm')"
   ]
  },
  {
   "cell_type": "code",
   "execution_count": 2,
   "metadata": {},
   "outputs": [],
   "source": [
    "doc = nlp(u\"Donald Trump es el presidente de Estados Unidos.\")"
   ]
  },
  {
   "cell_type": "markdown",
   "metadata": {},
   "source": [
    "<img src=\"pipeline.png\"></img>"
   ]
  },
  {
   "cell_type": "code",
   "execution_count": 3,
   "metadata": {},
   "outputs": [
    {
     "name": "stdout",
     "output_type": "stream",
     "text": [
      "Donald False Donald\n",
      "Trump False Trump\n",
      "es True ser\n",
      "el True el\n",
      "presidente False presidente\n",
      "de True de\n",
      "Estados True Estados\n",
      "Unidos False Unidos\n",
      ". False .\n"
     ]
    }
   ],
   "source": [
    "for token in doc:\n",
    "    print(token.text, token.is_stop, token.lemma_)\n",
    "    #Stop word: \"palabras gramaticales que no llevan un sentido importante\""
   ]
  },
  {
   "cell_type": "markdown",
   "metadata": {},
   "source": [
    "El concepto de 'stop words' no tiene una definición objetiva. Una palabra 'stop words' depende mucho del caso de uso. Habitualmente se trata de una lista de palabras gramaticales tales como \"es\", \"el\", \"la\", \"quiere\", etc."
   ]
  },
  {
   "cell_type": "code",
   "execution_count": 4,
   "metadata": {},
   "outputs": [],
   "source": [
    "my_stop_words = [u'presidente']\n",
    "for stopword in my_stop_words:\n",
    "    lexeme = nlp.vocab[stopword]\n",
    "    lexeme.is_stop = True\n",
    "    \n",
    "my_non_stop_words = [u'Estados']\n",
    "for nonstopword in my_non_stop_words:\n",
    "    lexeme = nlp.vocab[nonstopword]\n",
    "    lexeme.is_stop = False"
   ]
  },
  {
   "cell_type": "code",
   "execution_count": 5,
   "metadata": {},
   "outputs": [
    {
     "name": "stdout",
     "output_type": "stream",
     "text": [
      "Donald False Donald\n",
      "Trump False Trump\n",
      "es True ser\n",
      "el True el\n",
      "presidente True presidente\n",
      "de True de\n",
      "Estados False Estados\n",
      "Unidos False Unidos\n",
      ". False .\n"
     ]
    }
   ],
   "source": [
    "for token in doc:\n",
    "    print(token.text, token.is_stop, token.lemma_)"
   ]
  },
  {
   "cell_type": "markdown",
   "metadata": {},
   "source": [
    "### 3.2 Clasificación de la categoría gramatical de las palabras (Part Of Speach tagging)"
   ]
  },
  {
   "cell_type": "code",
   "execution_count": 6,
   "metadata": {},
   "outputs": [
    {
     "name": "stdout",
     "output_type": "stream",
     "text": [
      "Donald PROPN\n",
      "Trump PROPN\n",
      "es AUX\n",
      "el DET\n",
      "presidente NOUN\n",
      "de ADP\n",
      "Estados PROPN\n",
      "Unidos PROPN\n",
      ". PUNCT\n"
     ]
    }
   ],
   "source": [
    "for token in doc:\n",
    "    print(token.text, token.pos_)"
   ]
  },
  {
   "cell_type": "markdown",
   "metadata": {},
   "source": [
    "### 3.3 Reconocimiento de los nombres de entidades (NER)"
   ]
  },
  {
   "cell_type": "code",
   "execution_count": 7,
   "metadata": {},
   "outputs": [
    {
     "name": "stdout",
     "output_type": "stream",
     "text": [
      "Amazon 0 6 PER\n",
      "America del Sur 45 60 LOC\n"
     ]
    }
   ],
   "source": [
    "doc = nlp(u'Amazon tiene oficinas en todos los paises de America del Sur.')\n",
    "\n",
    "for ent in doc.ents:\n",
    "    print(ent.text, ent.start_char, ent.end_char, ent.label_)"
   ]
  },
  {
   "cell_type": "markdown",
   "metadata": {},
   "source": [
    "Por defecto, spaCy utiliza define varios tipos de entidades entre los cuales:\n",
    "- PERSON: personas\n",
    "- ORG: organizaciones, empresas, instituciones, etc.\n",
    "- GPE: paises, ciudades, regiones.\n",
    "- LOC: lugares geografícos que no son paises, ciudades o regiones.\n",
    "- PRODUCT: productos\n",
    "- EVENT: eventos"
   ]
  },
  {
   "cell_type": "code",
   "execution_count": 8,
   "metadata": {},
   "outputs": [
    {
     "data": {
      "text/html": [
       "<span class=\"tex2jax_ignore\"><div class=\"entities\" style=\"line-height: 2.5; direction: ltr\">\n",
       "<mark class=\"entity\" style=\"background: #ddd; padding: 0.45em 0.6em; margin: 0 0.25em; line-height: 1; border-radius: 0.35em;\">\n",
       "    Amazon\n",
       "    <span style=\"font-size: 0.8em; font-weight: bold; line-height: 1; border-radius: 0.35em; text-transform: uppercase; vertical-align: middle; margin-left: 0.5rem\">PER</span>\n",
       "</mark>\n",
       " tiene oficinas en todos los paises de \n",
       "<mark class=\"entity\" style=\"background: #ff9561; padding: 0.45em 0.6em; margin: 0 0.25em; line-height: 1; border-radius: 0.35em;\">\n",
       "    America del Sur\n",
       "    <span style=\"font-size: 0.8em; font-weight: bold; line-height: 1; border-radius: 0.35em; text-transform: uppercase; vertical-align: middle; margin-left: 0.5rem\">LOC</span>\n",
       "</mark>\n",
       ".</div></span>"
      ],
      "text/plain": [
       "<IPython.core.display.HTML object>"
      ]
     },
     "metadata": {},
     "output_type": "display_data"
    }
   ],
   "source": [
    "from spacy import displacy\n",
    "\n",
    "displacy.render(doc, style=\"ent\", jupyter=True)"
   ]
  },
  {
   "cell_type": "markdown",
   "metadata": {},
   "source": [
    "Otros preprocesamientos posibles en el paquete spaCy: https://spacy.io/usage/linguistic-features\n",
    "- Dependency parsing\n",
    "- Sentence segmentation\n",
    "- Rule-based matching"
   ]
  },
  {
   "cell_type": "markdown",
   "metadata": {},
   "source": [
    "## 4. Representación vectorial del lenguaje: Bag-of-words"
   ]
  },
  {
   "cell_type": "markdown",
   "metadata": {},
   "source": [
    "### 4.1 Modelo _Bag of words_\n",
    "\n",
    "Avanzamos hacia la parte de aprendizaje automático del análisis de texto. Empezaremos a jugar un poco menos con palabras y un poco más con números. Representaremos los textos como __vectores__.\n",
    "\n",
    "Los algoritmos de aprendizaje automático utilizan estos vectores en particular para hacer predicciones (algoritmos de aprendizaje supervisado) o agrupamiento (no supervisado).\n",
    "\n",
    "La manera la más clásica de representar un texto como un vector es el modelo __Bag of Words__.\n",
    "\n",
    "Empecemos con dos frases de ejemplo:\n",
    "\n",
    "F1:<code>El gato juega con el perro</code>,\n",
    "F2:<code>El perro duerme</code>\n",
    "    \n",
    "Si aplicamos los preprocesos que vimos antes, llegamos a:\n",
    "\n",
    "F1:<code>gato jugar perro</code>,\n",
    "F2:<code>perro dormir</code>\n",
    "\n",
    "Si queremos representar esto como un vector, necesitaríamos primero construir nuestro vocabulario, que serían las palabras únicas que se encuentran en las oraciones. \n",
    "\n",
    "<code>Vocab = ['gato', 'jugar', 'dormir', 'perro']</code>\n",
    "\n",
    "Y luego representar las frases con la frecuencia de aparición de cada palabra:\n",
    "\n",
    "F1:<code>[1,1,0,1]</code>\n",
    "F2:<code>[0,0,1,1]</code>\n",
    "\n",
    "##### Limitaciones del modelo _Bag of words_\n",
    "\n",
    "Como pueden darse cuenta, en el modelo Bag of words, se pierde el orden de las palabras y entonces se pierde parte del sentido del texto. Sin embargo, para muchas tareas de clasificación automática el modelo Bag of words es suficiente (ej: detección de spam).\n",
    "\n",
    "Otra limitación de lo visto hasta ahora es que estamos suponiendo que cada palabra tiene la misma importancia para revelar el sentido del texto. Detallamos esta idea en la sección siguiente."
   ]
  },
  {
   "cell_type": "markdown",
   "metadata": {},
   "source": [
    "### 4.2 Un primer nivel de análisis: la ponderación de la importancia de las palabras (ej. TF-IDF)\n",
    "\n",
    "TF-IDF es la abreviatura de _Term Frequency_ (frecuencia de término) - _Inverse Document Frequency_ (frecuencia de documento inversa). Ampliamente utilizado en los motores de búsqueda para encontrar documentos relevantes basados en una consulta, es un enfoque bastante intuitivo para convertir nuestras frases en vectores.\n",
    "\n",
    "Como su nombre indica, TF-IDF trata de combinar dos tipos diferentes de información:\n",
    "- la frecuencia de término (TF) es el número de veces que una palabra aparece en un documento dividido por el número de palabras en el texto. Mide la importancia local del término en el texto.\n",
    "\n",
    "- IDF es la fracción inversa a escala logarítmica de los documentos que contienen la palabra. \n",
    "IDF(t) = log_e (total number of documents / number of documents with term t in it)\n",
    "\n",
    "\n",
    "TF-IDF es simplemente el producto de estos dos factores - TF e IDF. Juntos, encapsulan más información en la representación vectorial, en lugar de limitarse a utilizar el recuento de palabras como en la representación vectorial de la bolsa de palabras. TF-IDF hace que las palabras raras sean más relevantes para representar el sentido del texto.\n",
    "\n",
    "Si tomamos nuestras frases de ejemplo, tendriamos los vectores siguientes:\n",
    "F1:<code>[0.1,0.1,0,0]</code>\n",
    "F2:<code>[0,0,0.15,0]</code>"
   ]
  },
  {
   "cell_type": "markdown",
   "metadata": {},
   "source": [
    "### 4.3 Un ejemplo real de representación vectorial de un dataset de documentos\n",
    "\n",
    "#### 4.3.1 Dataset (o _Corpus_)\n",
    "\n",
    "Utilizaremos un dataset de textos en español que corresponde a una muestra de 1.000 noticias publicadas en 2018 por el medio La Tercera (http://www.latercera.com)."
   ]
  },
  {
   "cell_type": "code",
   "execution_count": 9,
   "metadata": {},
   "outputs": [
    {
     "data": {
      "text/html": [
       "<div>\n",
       "<style scoped>\n",
       "    .dataframe tbody tr th:only-of-type {\n",
       "        vertical-align: middle;\n",
       "    }\n",
       "\n",
       "    .dataframe tbody tr th {\n",
       "        vertical-align: top;\n",
       "    }\n",
       "\n",
       "    .dataframe thead th {\n",
       "        text-align: right;\n",
       "    }\n",
       "</style>\n",
       "<table border=\"1\" class=\"dataframe\">\n",
       "  <thead>\n",
       "    <tr style=\"text-align: right;\">\n",
       "      <th></th>\n",
       "      <th>0</th>\n",
       "      <th>1</th>\n",
       "      <th>2</th>\n",
       "      <th>3</th>\n",
       "    </tr>\n",
       "  </thead>\n",
       "  <tbody>\n",
       "    <tr>\n",
       "      <th>0</th>\n",
       "      <td>2016-07-04 07:00:44</td>\n",
       "      <td>latercera</td>\n",
       "      <td>Bachelet propone establecer por ley que \"no h...</td>\n",
       "      <td>Tras visitar a la selección nacional en Juan ...</td>\n",
       "    </tr>\n",
       "    <tr>\n",
       "      <th>1</th>\n",
       "      <td>2016-07-04 08:49:38</td>\n",
       "      <td>latercera</td>\n",
       "      <td>Adriana Delpiano por Reforma educacional: \"De...</td>\n",
       "      <td>Hoy ingresa a la Cámara de Diputados el proye...</td>\n",
       "    </tr>\n",
       "    <tr>\n",
       "      <th>2</th>\n",
       "      <td>2016-07-04 09:40:11</td>\n",
       "      <td>latercera</td>\n",
       "      <td>Cómo será la aventura de la sonda Juno en Júp...</td>\n",
       "      <td>Cinco años después de su lanzamiento, la sond...</td>\n",
       "    </tr>\n",
       "    <tr>\n",
       "      <th>3</th>\n",
       "      <td>2016-07-04 13:25:15</td>\n",
       "      <td>latercera</td>\n",
       "      <td>Se derrumba el reencuentro de las Spice Girls...</td>\n",
       "      <td>En marzo de este año se anunciaba de un posib...</td>\n",
       "    </tr>\n",
       "    <tr>\n",
       "      <th>4</th>\n",
       "      <td>2016-07-03 21:18:00</td>\n",
       "      <td>latercera</td>\n",
       "      <td>Presidenta Bachelet: \"Que quede establecido p...</td>\n",
       "      <td>La Presidenta Michelle Bachelet realizó este ...</td>\n",
       "    </tr>\n",
       "  </tbody>\n",
       "</table>\n",
       "</div>"
      ],
      "text/plain": [
       "                    0            1  \\\n",
       "0 2016-07-04 07:00:44   latercera    \n",
       "1 2016-07-04 08:49:38   latercera    \n",
       "2 2016-07-04 09:40:11   latercera    \n",
       "3 2016-07-04 13:25:15   latercera    \n",
       "4 2016-07-03 21:18:00   latercera    \n",
       "\n",
       "                                                   2  \\\n",
       "0   Bachelet propone establecer por ley que \"no h...   \n",
       "1   Adriana Delpiano por Reforma educacional: \"De...   \n",
       "2   Cómo será la aventura de la sonda Juno en Júp...   \n",
       "3   Se derrumba el reencuentro de las Spice Girls...   \n",
       "4   Presidenta Bachelet: \"Que quede establecido p...   \n",
       "\n",
       "                                                   3  \n",
       "0   Tras visitar a la selección nacional en Juan ...  \n",
       "1   Hoy ingresa a la Cámara de Diputados el proye...  \n",
       "2   Cinco años después de su lanzamiento, la sond...  \n",
       "3   En marzo de este año se anunciaba de un posib...  \n",
       "4   La Presidenta Michelle Bachelet realizó este ...  "
      ]
     },
     "execution_count": 9,
     "metadata": {},
     "output_type": "execute_result"
    }
   ],
   "source": [
    "import pandas as pd\n",
    "\n",
    "DATASET_CSV=\"sophia_latercera-1000.csv\"\n",
    "\n",
    "df = pd.read_csv(DATASET_CSV,sep='|',error_bad_lines=False,header=None)\n",
    "df[0] = pd.to_datetime(df[0])\n",
    "\n",
    "df.head(5)"
   ]
  },
  {
   "cell_type": "code",
   "execution_count": 10,
   "metadata": {},
   "outputs": [
    {
     "data": {
      "text/html": [
       "<div>\n",
       "<style scoped>\n",
       "    .dataframe tbody tr th:only-of-type {\n",
       "        vertical-align: middle;\n",
       "    }\n",
       "\n",
       "    .dataframe tbody tr th {\n",
       "        vertical-align: top;\n",
       "    }\n",
       "\n",
       "    .dataframe thead th {\n",
       "        text-align: right;\n",
       "    }\n",
       "</style>\n",
       "<table border=\"1\" class=\"dataframe\">\n",
       "  <thead>\n",
       "    <tr style=\"text-align: right;\">\n",
       "      <th></th>\n",
       "      <th>fecha</th>\n",
       "      <th>noticia</th>\n",
       "    </tr>\n",
       "  </thead>\n",
       "  <tbody>\n",
       "    <tr>\n",
       "      <th>0</th>\n",
       "      <td>2016-07-04 07:00:44</td>\n",
       "      <td>Tras visitar a la selección nacional en Juan ...</td>\n",
       "    </tr>\n",
       "    <tr>\n",
       "      <th>1</th>\n",
       "      <td>2016-07-04 08:49:38</td>\n",
       "      <td>Hoy ingresa a la Cámara de Diputados el proye...</td>\n",
       "    </tr>\n",
       "    <tr>\n",
       "      <th>2</th>\n",
       "      <td>2016-07-04 09:40:11</td>\n",
       "      <td>Cinco años después de su lanzamiento, la sond...</td>\n",
       "    </tr>\n",
       "    <tr>\n",
       "      <th>3</th>\n",
       "      <td>2016-07-04 13:25:15</td>\n",
       "      <td>En marzo de este año se anunciaba de un posib...</td>\n",
       "    </tr>\n",
       "    <tr>\n",
       "      <th>4</th>\n",
       "      <td>2016-07-03 21:18:00</td>\n",
       "      <td>La Presidenta Michelle Bachelet realizó este ...</td>\n",
       "    </tr>\n",
       "  </tbody>\n",
       "</table>\n",
       "</div>"
      ],
      "text/plain": [
       "                fecha                                            noticia\n",
       "0 2016-07-04 07:00:44   Tras visitar a la selección nacional en Juan ...\n",
       "1 2016-07-04 08:49:38   Hoy ingresa a la Cámara de Diputados el proye...\n",
       "2 2016-07-04 09:40:11   Cinco años después de su lanzamiento, la sond...\n",
       "3 2016-07-04 13:25:15   En marzo de este año se anunciaba de un posib...\n",
       "4 2016-07-03 21:18:00   La Presidenta Michelle Bachelet realizó este ..."
      ]
     },
     "execution_count": 10,
     "metadata": {},
     "output_type": "execute_result"
    }
   ],
   "source": [
    "texts=df[[0,3]]\n",
    "texts.columns = ['fecha', 'noticia']\n",
    "\n",
    "texts.head(5)"
   ]
  },
  {
   "cell_type": "code",
   "execution_count": 11,
   "metadata": {},
   "outputs": [
    {
     "data": {
      "text/html": [
       "<div>\n",
       "<style scoped>\n",
       "    .dataframe tbody tr th:only-of-type {\n",
       "        vertical-align: middle;\n",
       "    }\n",
       "\n",
       "    .dataframe tbody tr th {\n",
       "        vertical-align: top;\n",
       "    }\n",
       "\n",
       "    .dataframe thead th {\n",
       "        text-align: right;\n",
       "    }\n",
       "</style>\n",
       "<table border=\"1\" class=\"dataframe\">\n",
       "  <thead>\n",
       "    <tr style=\"text-align: right;\">\n",
       "      <th></th>\n",
       "      <th>fecha</th>\n",
       "      <th>noticia</th>\n",
       "    </tr>\n",
       "  </thead>\n",
       "  <tbody>\n",
       "    <tr>\n",
       "      <th>934</th>\n",
       "      <td>2016-03-05 01:18:32</td>\n",
       "      <td>El gobierno chino se ha fijado un objetivo de...</td>\n",
       "    </tr>\n",
       "    <tr>\n",
       "      <th>935</th>\n",
       "      <td>2016-03-05 03:20:09</td>\n",
       "      <td>Por “atentado en contra de la autoridad” fue ...</td>\n",
       "    </tr>\n",
       "    <tr>\n",
       "      <th>936</th>\n",
       "      <td>2016-03-05 04:40:10</td>\n",
       "      <td>La semana pasada tres millones de estudiantes...</td>\n",
       "    </tr>\n",
       "    <tr>\n",
       "      <th>937</th>\n",
       "      <td>2016-03-05 05:40:11</td>\n",
       "      <td>El virus del Zika presente en América Latina ...</td>\n",
       "    </tr>\n",
       "    <tr>\n",
       "      <th>938</th>\n",
       "      <td>2016-03-05 10:11:37</td>\n",
       "      <td>“Es como si la gente hubiera levantado una ro...</td>\n",
       "    </tr>\n",
       "  </tbody>\n",
       "</table>\n",
       "</div>"
      ],
      "text/plain": [
       "                  fecha                                            noticia\n",
       "934 2016-03-05 01:18:32   El gobierno chino se ha fijado un objetivo de...\n",
       "935 2016-03-05 03:20:09   Por “atentado en contra de la autoridad” fue ...\n",
       "936 2016-03-05 04:40:10   La semana pasada tres millones de estudiantes...\n",
       "937 2016-03-05 05:40:11   El virus del Zika presente en América Latina ...\n",
       "938 2016-03-05 10:11:37   “Es como si la gente hubiera levantado una ro..."
      ]
     },
     "execution_count": 11,
     "metadata": {},
     "output_type": "execute_result"
    }
   ],
   "source": [
    "texts=texts.sort_values(by=['fecha'])\n",
    "texts.head(5)"
   ]
  },
  {
   "cell_type": "code",
   "execution_count": 12,
   "metadata": {},
   "outputs": [
    {
     "name": "stdout",
     "output_type": "stream",
     "text": [
      " Nada de contento se mostró Esteban Paredes con la llamativa indumentaria de Colo Colo. El conjunto de José Luis Sierra, que ayer perdió 1-0 ante Unión Española en el Monumental, vistió la nueva camiseta roja, algo que molestó al delantero albo, quien hizo sus descargos a través de redes sociales. “Por favor cambiemos y respetemos los colores de mi amado Colo Colo”, publicó Paredes, quien no estuvo presente en el encuentro frente a los hispanos, en su cuenta de Twitter.   La nueva camiseta de los albos, con la que ha disputado los amistosos, será utilizada en los encuentros de Copa Chile, que arranca la semana que viene.  Por favor cambiemos y respetemos los colores de mi amado colo- colo — esteban paredes (@estebanparedesQ) 3 de julio de 2016\n",
      "2016-07-04 05:45:15\n"
     ]
    }
   ],
   "source": [
    "for index,row in texts.iterrows():\n",
    "    if index==6:\n",
    "        print(row['noticia'])\n",
    "        print(row['fecha'])"
   ]
  },
  {
   "cell_type": "code",
   "execution_count": 13,
   "metadata": {},
   "outputs": [
    {
     "data": {
      "text/plain": [
       "fecha\n",
       "2016-03     50\n",
       "2016-04     80\n",
       "2016-05    141\n",
       "2016-06     81\n",
       "2016-07    104\n",
       "2016-08     51\n",
       "2016-09     88\n",
       "2016-10    181\n",
       "2016-11    201\n",
       "2016-12     23\n",
       "Freq: M, Name: noticia, dtype: int64"
      ]
     },
     "execution_count": 13,
     "metadata": {},
     "output_type": "execute_result"
    }
   ],
   "source": [
    "n_texts_perMonth = texts.groupby(texts.fecha.dt.to_period(\"M\")).count()\n",
    "result=n_texts_perMonth['noticia']\n",
    "\n",
    "result"
   ]
  },
  {
   "cell_type": "code",
   "execution_count": 14,
   "metadata": {},
   "outputs": [],
   "source": [
    "import matplotlib.pyplot as plt\n",
    "\n",
    "ax = result.plot.bar(x='fecha', y='noticia', rot=90, color=(0.2, 0.4, 0.6, 0.6))"
   ]
  },
  {
   "cell_type": "markdown",
   "metadata": {},
   "source": [
    "#### 4.3.2 Preprocesamientos básicos (spaCy)"
   ]
  },
  {
   "cell_type": "code",
   "execution_count": 15,
   "metadata": {},
   "outputs": [
    {
     "data": {
      "text/html": [
       "<div>\n",
       "<style scoped>\n",
       "    .dataframe tbody tr th:only-of-type {\n",
       "        vertical-align: middle;\n",
       "    }\n",
       "\n",
       "    .dataframe tbody tr th {\n",
       "        vertical-align: top;\n",
       "    }\n",
       "\n",
       "    .dataframe thead th {\n",
       "        text-align: right;\n",
       "    }\n",
       "</style>\n",
       "<table border=\"1\" class=\"dataframe\">\n",
       "  <thead>\n",
       "    <tr style=\"text-align: right;\">\n",
       "      <th></th>\n",
       "      <th>fecha</th>\n",
       "      <th>noticia</th>\n",
       "    </tr>\n",
       "  </thead>\n",
       "  <tbody>\n",
       "    <tr>\n",
       "      <th>934</th>\n",
       "      <td>2016-03-05 01:18:32</td>\n",
       "      <td>El gobierno chino se ha fijado un objetivo de...</td>\n",
       "    </tr>\n",
       "    <tr>\n",
       "      <th>935</th>\n",
       "      <td>2016-03-05 03:20:09</td>\n",
       "      <td>Por “atentado en contra de la autoridad” fue ...</td>\n",
       "    </tr>\n",
       "    <tr>\n",
       "      <th>936</th>\n",
       "      <td>2016-03-05 04:40:10</td>\n",
       "      <td>La semana pasada tres millones de estudiantes...</td>\n",
       "    </tr>\n",
       "    <tr>\n",
       "      <th>937</th>\n",
       "      <td>2016-03-05 05:40:11</td>\n",
       "      <td>El virus del Zika presente en América Latina ...</td>\n",
       "    </tr>\n",
       "    <tr>\n",
       "      <th>938</th>\n",
       "      <td>2016-03-05 10:11:37</td>\n",
       "      <td>“Es como si la gente hubiera levantado una ro...</td>\n",
       "    </tr>\n",
       "  </tbody>\n",
       "</table>\n",
       "</div>"
      ],
      "text/plain": [
       "                  fecha                                            noticia\n",
       "934 2016-03-05 01:18:32   El gobierno chino se ha fijado un objetivo de...\n",
       "935 2016-03-05 03:20:09   Por “atentado en contra de la autoridad” fue ...\n",
       "936 2016-03-05 04:40:10   La semana pasada tres millones de estudiantes...\n",
       "937 2016-03-05 05:40:11   El virus del Zika presente en América Latina ...\n",
       "938 2016-03-05 10:11:37   “Es como si la gente hubiera levantado una ro..."
      ]
     },
     "execution_count": 15,
     "metadata": {},
     "output_type": "execute_result"
    }
   ],
   "source": [
    "dataset=texts.head(5)\n",
    "dataset"
   ]
  },
  {
   "cell_type": "code",
   "execution_count": 16,
   "metadata": {},
   "outputs": [
    {
     "name": "stdout",
     "output_type": "stream",
     "text": [
      "[[' ', 'gobernar', 'chino', 'fijar', 'objetivar', 'crecimiento', 'pib', 'y', 'ciento', 'frente', 'ciento', 'a', 'luz', 'ralentización', 'sufrir', 'economía', 'mundial', '\\xa0 ', 'meter', 'figurar', 'informar', 'gubernamental', 'leer', 'ministro', 'li', 'keqiang', 'asamblea', 'nacional', 'popular', 'anp', 'legislativo', 'establecer', 'chino', 'año', 'lograr', 'cumplir', 'objetivar', 'crecimiento', '10', 'pib', 'aumentar', 'ciento', '\\xa0 ', 'informar', 'fijo', 'indicador', 'inflación', 'mantener', 'tornar', 'ciento', 'ejercicio', 'anterior', 'creación', 'millón', 'puesto', 'urbano', 'frente', 'a', 'millón', 'generar', 'y', 'aumentar', 'presupuestar', 'defensa', 'ciento', 'año', '\\xa0 ', 'perspectivo', 'necesidad', 'avanzar', 'reformar', 'estructural', 'y', 'ayudar', 'a', 'guiar', 'expectativa', 'mercar', 'y', 'mantenerlas', 'estable', 'señalar', 'informar', 'proyectar', 'crecimiento', 'pib', 'ciento', 'lustrar', '2016-2020', 'aplicar', 'xiii', 'plan', 'quinquenal', '\\xa0 ', 'cifrar', 'contrastar', 'década', 'pasar', 'chino', 'lograr', 'alzar', 'pib', 'anual', 'ciento', 'pekín', 'afirmar', 'a', 'medir', 'desarrollar', 'país', 'complicar', 'mantener', 'alto', 'cifrar', 'crecimiento', '\\xa0 ', 'aumentar', 'punto', 'porcentual', 'pib', 'equivaler', 'a', 'año', 'o', 'defender', 'informar', 'repasar', 'régimen', 'comunista', 'y', 'marcar', 'ruta', 'a', 'seguir', 'año', 'sesión', 'anual', 'anp', 'debatir', 'plan', 'quinquenal', 'y', 'aprobar', 'a', 'mediar', 'marzo'], [' ', 'atentar', 'autoridad', 'formalizar', 'mediodía', 'mujer', 'identificar', 'inicial', 'j.', 'y.', 'm.', 'detenido', 'jueves', 'comuna', 'tirúa', 'región', 'biobío', 'protagonizar', 'incidente', 'patrullar', 'carabinero', 'fundir', 'wagemann', 'procedimiento', 'judicial', 'efectuar', 'juzgar', 'garantir', 'cañete', 'participación', 'hecho', 'grave', 'concertación', 'cometer', 'tipo', 'delito', 'etapa', 'investigativa', 'fiscal', 'juan', 'yáñez', 'persecutor', 'dedicación', 'exclusivo', 'investigar', 'hecho', 'violencia', 'rural', 'provincia', 'arauco', 'imputar', 'medir', 'cautelar', 'firmar', 'semanal', 'ministerio', 'público', 'solicitar', 'arrestar', 'domiciliario', 'nocturno', 'tribunal', 'rechazar', 'plazo', 'investigación', 'mesar', 'patrullaje', 'detención', 'producir', 'patrullaje', 'realizar', 'carabinero', 'emboscar', 'miércoles', 'zona', 'sufrir', 'convoy', 'camión', 'forestal', 'vehículo', 'resultar', 'quemar', 'producto', 'atacar', 'incendiario', 'efectuar', 'encapuchar', 'fiscal', 'yáñez', 'detención', 'efectuar', 'jueves', 'carabinero', 'encontrar', 'camioneta', 'sujeto', 'comenzar', 'a', 'disparar', 'lograr', 'a', 'fugar', 'y', 'interceptar', 'policía', 'camioneta', 'lograr', 'detenido', 'parapetar', 'y', 'comenzar', 'disparo', 'personar', 'vehículo', 'arrancar', 'lograr', 'detención', 'conductor', 'y', 'haber', 'efectuar', 'disparo', 'anoche', 'sujetar', 'hombre', 'inicial', 'h.', 'p.', 'p.', 'permanecer', 'internar', 'hospital', 'curanilahue', 'presentar', 'lesionar', 'formalizar', 'portar', 'ilegal', 'armar', 'y', 'munición', 'receptación', 'escopeta', 'hechizo', 'y', 'atentar', 'autoridad', 'prisión', 'preventivo'], [' ', 'semana', 'millón', 'estudiante', 'ingresar', 'a', 'clase', 'comenzar', 'ciclar', 'escolar', 'mil', 'niño', 'y', 'joven', 'optar', 'caminar', 'estudiar', 'y', 'examen', 'libre', '\\xa0 ', 'casar', 'mariano', 'parra', 'colegiar', '3', 'sentir', 'escuela', 'y', 'querer', 'formar', 'gracia', 'a', 'gestión', 'padre', 'comenzar', 'a', 'estudiar', 'a', 'profesor', 'particular', 'temario', 'entregar', 'colegiar', 'examinador', 'prueba', 'libre', 'lograr', 'terminar', 'etapa', 'escolar', 'y', 'entrar', 'a', 'estudiar', 'ingeniería', 'informático', 'duoc', 'formar', 'programar', 'estudiante', 'inscribirse', 'ministerio', 'educación', 'mineduc', 'autorizar', 'casar', 'menor', 'edad', 'cartero', 'asignar', 'colegiar', 'examinador', 'preparar', 'prueba', '\\xa0 ', 'jefe', 'división', 'educación', 'mineduc', 'gonzalo', 'muñoz', '  ', 'establecimiento', 'educacional', 'designar', 'escoger', 'preferentemente', 'resultar', 'simce', '\\xa0 ', 'casar', 'mayor', 'edad', 'autorización', 'y', 'temario', 'correr', 'mineduc', 'a', 'muñoz', 'examen', '  ', 'constituir', 'excepcionalidad', 'sistema', 'educacional', 'y', 'opción', 'culminar', 'estudio', 'año', 'mineduc', 'cursar', 'autorización', '  ', 'corresponder', 'a', 'menor', 'y', 'a', 'mayor', 'año', '85%', 'llamativo', 'casar', '  ', 'mayor', 'poder', 'prueba', 'aprobar', 'nivelar', '°', 'y', '°', '°', 'básico', 'infografía', 'a', 'contar', 'cifrar', 'muñoz', 'estadístico', 'específico', 'efectivamente', 'rendir', 'examen', 'libre', 'y', 'estimar', 'mitad', 'terminar', 'realizar', '  ', 'trámite', '\\xa0 ', 'mariano', 'benjamín', 'herrero', 'decidir', 'asistir', 'colegiar', 'problema', 'personal', 'y', 'prueba', 'año', 'aprobar', '°', 'y', '°', 'mineduc', 'facilitar', 'libro', 'educarse', 'y', 'prueba', 'libre', 'colegiar', 'examinador', 'sistema', 'favorecer', 'estudio', 'aprender', 'a', 'responsable', 'malo', 'estudiar', 'y', 'tomar', 'atención', 'clase', 'situación', 'cambiar', 'recalcar', 'pesar', 'a', 'fácil', 'estudiar', 'y', 'esperar', 'volver', 'colegiar'], [' ', 'virus', 'zika', 'presentar', 'américa', 'latino', '  ', 'atacar', 'y', 'destruir', 'célula', 'cerebral', 'humano', 'desarrollar', 'feto', '  ', 'revelar', 'estudiar', 'publicar', 'viernes', 'basar', 'a', 'observación', 'laboratorio', '\\xa0 ', 'estudiar', 'probar', 'experimental', 'vínculo', 'biológico', 'virus', 'transmitir', 'mosquito', 'y', 'drástico', 'incrementar', 'caso', '  ', 'microcefalia', 'severo', 'malformación', 'cerebro', 'y', 'cráneo', 'recién', '  ', 'nacido', '\\xa0 ', 'vínculo', 'comprobar', 'circunstancial', 'explicar', 'guo-li', 'ming', 'profesor', 'neurología', 'instituto', 'ingeniería', 'celular', 'instituto', '  ', 'johns', 'hopkins', 'maryland', 'unir', 'codirigir', '  ', 'investigación', '\\xa0 ', 'estudio', 'feto', 'y', 'bebé', 'cerebro', 'reducir', 'y', 'microcefalia', 'zona', '  ', 'afectar', 'virus', 'zika', 'hallar', 'anomalía', 'córtex', 'y', 'virus', '  ', 'tejido', 'fetal', 'indicar', 'estudiar', '\\xa0 ', 'experiencia', 'laboratorio', 'científico', 'exponer', 'tipo', 'célula', 'humano', 'virus', 'zika', '\\xa0 ', 'conocer', 'célula', 'progenitor', 'neuronal', 'humano', 'hnpcs', 'crucial', 'desarrollar', 'córtex', 'o', 'capar', 'superficial', 'cerebro', '  ', 'feto', '\\xa0 ', 'dañar', 'a', 'célula', 'desarrollar', 'neurona', 'maduro', 'coherente', 'trastorno', 'causar', 'microcefalia', '\\xa0 ', 'tipo', 'célula', 'célula', 'madre', 'y', 'neurona', '\\xa0 ', 'prever', 'virus', 'zika', 'atacar', 'a', 'hnpcs', '  ', 'exposición', '90%', 'resultar', 'infectar', 'y', 'morir', '\\xa0 ', 'célula', 'infectar', 'comenzar', 'a', 'replicar', 'copiar', '  ', 'virus', '\\xa0 ', 'gen', 'necesario', 'luchar', 'virus', 'activar', '  ', 'altamente', 'inusual', '\\xa0 ', 'comparación', 'tipo', 'célula', 'humano', 'resultar', '  ', 'relativamente', 'ileso', '\\xa0 ', 'resultar', 'demostrar', 'claramente', 'prueba', 'laboratorio', '  ', 'zika', 'infectar', 'directamente', 'y', 'eficacia', 'a', 'hnpcs', 'concluir', '  ', 'estudiar', '\\xa0 ', 'resultar', 'significativo', 'célula', 'formar', 'córtex', '  ', 'potencialmente', 'vulnerable', 'virus', 'agregar', 'ming', '\\xa0 ', 'resultar', 'publicar', 'revistar', 'cell', 'stem', 'cell', 'ayudar', 'a', '  ', 'identificar', 'medicamento', 'capaz', 'proteger', 'a', 'célula', 'vulnerable', 'o', '  ', 'reducir', 'infección', 'producir', '\\xa0 ', 'zika', 'peligroso', 'resfriar', 'o', 'casar', 'gripe', '  ', 'a', 'presentar', 'síntoma', '\\xa0 ', 'sospechar', 'brotar', 'recentar', 'virus', '  ', 'extender', 'rápidamente', 'y', 'presentar', 'decena', 'país', '  ', 'organización', 'mundial', 'salud', 'oms', 'causar', 'microcefalia', 'y', '  ', 'complicación', 'severo', '  '], [' ', 'gente', 'haber', 'levantar', 'roca', 'y', 'mirar', 'animador', 'bromear', 'director', 'zumbástico', 'studios', 'álvaro', 'ceppi', 'a', 'extremo', 'atención', 'gozar', 'animación', 'chileno', 'historia', 'osar', 'ganar', 'oscar', 'extremo', 'mediatización', 'llevar', 'realizar', 'silenciar', 'animador', 'país', 'año', 'y', 'volver', 'objetar', 'interés', 'chileno', 'plataforma', 'extranjero', 'cartoon', 'network', 'semana', 'compañía', 'anunciar', 'convocatorio', 'proyecto', 'animar', 'chileno', 'presentarse', 'abril', 'a', 'concursar', 'convertirse', 'futuro', 'serie', 'canal', 'animación', 'grande', 'mundo', 'confianza', 'efecto', 'oscar', 'erwin', '  ', 'gómez', 'director', 'fundación', 'chilemonos', 'agrupar', 'a', 'animación', 'independiente', 'oscar', 'chile', 'animación', 'ver', 'venir', 'preguntar', '\\xa0 ', 'historia', 'comenzar', 'animación', 'chile', 'remontar', 'año', 'estrenar', 'dibujo', 'película', 'animar', 'chileno', 'proyectar', 'visitar', 'walt', 'disney', 'a', 'país', 'hito', 'pantalla', 'chico', '  ', '  ', 'tevito', 'mascota', 'tvn', 'gobernar', 'salvador', 'allende', 'y', 'angelito', 'canal', 'abrir', 'y', 'cerrar', 'transmisión', 'canal', 'y', 'pasar', 'importante', '  ', 'ogú', 'y', 'mampato', 'rapar', 'nui', 'alejandro', 'rojo', 'considerar', 'filmar', 'animación', 'moderno', 'chile', 'director', 'papelucho', 'y', 'marciano', 'animar', 'y', 'oscar', 'premiar', 'a', 'historia', 'osar', 'aislar', 'acompañar', 'boom', 'productor', 'independiente', '-que', 'sumir', '25-', 'profesionalización', 'disciplinar', 'país', 'comenzar', 'año', 'y', 'impartir', 'casar', 'estudio', 'acreditar', 'casar', 'universidad', '  ', 'américas', 'y', 'universidad', 'producir', 'chile', 'película', 'animar', 'contar', 'dibujo', 'produciéndose', 'largometraje', 'germán', 'acuñar', 'presidente', 'asociación', 'gremial', 'animador', 'animachi', 'responsable', 'nahuel', 'y', 'librar', 'mágico', 'aporte', 'fondo', 'fomentar', 'audiovisual', 'y', 'cntv', 'historia', 'niño', 'chilote', 'hijo', 'pescador', 'miedo', 'mar', 'enfrentar', 'desafío', 'encontrarse', 'padre', 'separar', '  ', 'naufragar', 'tormenta', 'acuñar', '  ', 'cintar', '  ', 'esperar', 'finalizar', 'y', 'obtener', 'millón', 'peso', 'fondo', 'audiovisual', 'consejo', 'nacional', 'cultura', 'aumentar', 'producción', 'película', 'animar', 'chile', 'explicar', 'fondo', 'audiovisual', 'destin', 'ó', 'recurso', 'exclusivo', 'largometraje', 'animar', 'año', 'adjudicar', 'productor', 'zumbástico', 'y', 'diluviar', 'proyectar', 'mangar', 'brothers', 'película', 'ciencia', 'ficción', '3d', 'trabajar', 'a', 'punkrobot', 'aliens', 'querer', 'conquistar', 'planeta', 'fruto', 'y', 'verdura', 'esperar', 'estar', 'listo', 'millón', 'apoyar', 'consejo', 'cultura', 'casar', 'lobo', 'proyectar', 'cristóbal', 'león', 'y', 'joaquín', 'cociña', 'productor', 'diluviar', 'convertir', 'película', 'stop', 'motion', 'hacer', 'chile', 'sellar', 'artístico', 'comercial', 'película', 'inspirar', 'colonia', 'dignidad', 'historia', 'mujer', 'escapar', 'y', 'llegar', 'a', 'casar', 'habitar', 'cerdo', 'explicar', 'cociña', 'jugar', 'estar', 'filmar', 'productor', 'animación', 'imaginario', 'colonia', 'dignidad', 'agregar', 'león', 'llevar', 'entregar', 'a', 'proyectar', 'año', 'y', 'esperar', 'terminarla', 'año', 'más.el', 'panorama', 'completar', 'ojo', 'gato', 'productor', 'atiempo', 'largometraje', '3d', 'ambientar', 'valparaíso', 'y', 'homeless', 'coproducción', 'lunes', 'y', 'fábula', 'dirigir', 'público', 'adulto', 'niño', 'rico', 'soñar', 'vivir', 'vagabundo', 'serie', 'serie', 'tv', 'animar', 'desarrollar', 'chile', 'sumir', 'y', 'título', 'chileno', 'promediar', 'poner', 'a', 'enumerar', 'conocer', 'seguramente', 'recordar', 'pulentos', 'villa', 'dulce', 'diego', 'y', 'glot', 'tortuga', 'tarugo', 'clarita', 'y', 'suerte', 'paso', 'decena', 'producción', 'animar', 'chileno', 'ganar', 'oscar', 'punkrobot', 'contar', 'serie', 'a', 'flippos', 'y', 'aventurar', 'muelín', 'y', 'perlita', 'transmitir', 'filial', 'infantil', 'globo', 'y', 'ambos', 'netflix', 'parecer', 'paso', 'zumbástico', 'fantástico', 'seriar', 'zumbástico', 'studio', 'comprar', 'cartoon', 'network', 'y', 'transmitir', 'cadena', 'país', 'año', 'seguir', 'cartoon', 'network', 'seriar', 'exitoso', 'pasar', 'seriar', 'tvn', '  ', 'resonancia', 'explicar', 'ceppi', '  ', 'casar', 'similar', 'hostal', 'morrison', 'productor', 'chileno', 'pájaro', 'temporada', 'cartoon', 'network', 'transmitir', 'canal', 'argentino', 'pakapaka', 'año', 'seguir', 'chile', 'temporada', 'emitir', '  ', 'canal', 'y', 'chv', 'preguntar', 'a', 'niño', 'argentino', 'conocer', 'hostal', 'morrison', 'conocer', 'preguntar', 'a', 'niño', 'chileno', 'conocer', 'ejemplificar', 'bernardita', 'ojeda', 'director', 'pájaro', 'erwin', 'gómez', 'álvaro', 'ceppi', 'y', 'bernardita', 'ojeda', 'concordar', 'origen', 'fenómeno', 'escaso', 'apoyar', 'canal', 'televisión', 'abrir', 'brindar', 'a', 'tipo', 'producción', 'perpetuar', 'largo', 'año', 'transmisión', 'programar', 'extranjero', 'simpson', 'terminar', 'sepultar', 'franja', 'programación', 'infantil', '  ', 'chespirito', 'haber', 'chileno', 'chavo', 'haber', 'existir', 'tv', 'haber', 'oportunidad', 'lamentar', 'lópez', 'año', 'tvn', 'transmitir', 'serie', 'animar', 'chileno', 'puerto', 'papel', 'stop', 'motion', 'productor', 'zumbástico', 'comenzar', 'a', 'transmitirse', 'semestre', 'seriar', 'matilde', 'niño', 'vacación', 'abuelo', 'ex-pirata', 'cocar', 'mágico', 'a', 'matilde', 'distinto', 'elegir', 'controlar', 'a', 'creación', 'chileno', 'éxito', 'aforar', 'único', 'gente', 'conocer', 'y', 'disfrutar', 'ceppi', 'financiamiento', 'temer', 'complicar', 'a', 'animador', 'soler', 'encontrar', 'presupuestar', 'preproducción', 'proyecto', 'fondo', 'corfo', 'buscar', 'apoyar', 'a', '  ', 'fondo', 'cntv', 'o', 'consejo', 'cultura', 'película', 'animar', 'caro', 'técnico', 'utilizar', 'complejo', 'y', 'softwares', 'costoso', 'recurso', 'apoyar', 'cntv', 'y', 'consejo', 'cultura', 'existir', 'aclarar', 'ceppi.pero', 'apoyar', 'organismo', 'a', 'animación', 'incierto', 'patrocinio', 'cntv', 'a', 'proyecto', 'animación', 'infantil', 'nulo', 'estancar', 'año', 'desarrollar', 'propuesta', 'invertir', 'a', 'fondo', 'corfo', '\\xa0 ', 'profundar', 'error', 'pensar', 'erwin', 'gómez.tras', 'oscar', 'historia', 'osar', 'animador', 'chileno', 'esperar', 'quedar', 'celebración', 'y', 'generar', 'cambio', 'estructural', 'mejorar', 'condicionar', 'y', 'oportunidad', 'producir', 'y', 'mostrar', 'contenido', 'oscar', 'deber', 'marcar', 'comenzar', 'industrialización', 'esperar', 'director', 'chilemonos', 'interés', 'aforar', 'chile', 'necesitar', 'apañar', 'venir', 'grande', 'concluir']]\n"
     ]
    }
   ],
   "source": [
    "import spacy\n",
    "nlp = spacy.load(\"es_core_news_sm\")\n",
    "\n",
    "noticias = []\n",
    "\n",
    "for index,row in dataset.iterrows():\n",
    "    noticia = []\n",
    "    doc=nlp(row['noticia'].lower())\n",
    "    for token in doc:\n",
    "        if not token.is_stop and not token.is_punct and not token.is_digit and not token.like_num:\n",
    "            noticia.append(token.lemma_)\n",
    "    noticias.append(noticia)\n",
    "    \n",
    "print(noticias)"
   ]
  },
  {
   "cell_type": "code",
   "execution_count": 17,
   "metadata": {},
   "outputs": [
    {
     "data": {
      "text/plain": [
       "[' ',\n",
       " 'semana',\n",
       " 'millón',\n",
       " 'estudiante',\n",
       " 'ingresar',\n",
       " 'a',\n",
       " 'clase',\n",
       " 'comenzar',\n",
       " 'ciclar',\n",
       " 'escolar',\n",
       " 'mil',\n",
       " 'niño',\n",
       " 'y',\n",
       " 'joven',\n",
       " 'optar',\n",
       " 'caminar',\n",
       " 'estudiar',\n",
       " 'y',\n",
       " 'examen',\n",
       " 'libre',\n",
       " '\\xa0 ',\n",
       " 'casar',\n",
       " 'mariano',\n",
       " 'parra',\n",
       " 'colegiar',\n",
       " '3',\n",
       " 'sentir',\n",
       " 'escuela',\n",
       " 'y',\n",
       " 'querer',\n",
       " 'formar',\n",
       " 'gracia',\n",
       " 'a',\n",
       " 'gestión',\n",
       " 'padre',\n",
       " 'comenzar',\n",
       " 'a',\n",
       " 'estudiar',\n",
       " 'a',\n",
       " 'profesor',\n",
       " 'particular',\n",
       " 'temario',\n",
       " 'entregar',\n",
       " 'colegiar',\n",
       " 'examinador',\n",
       " 'prueba',\n",
       " 'libre',\n",
       " 'lograr',\n",
       " 'terminar',\n",
       " 'etapa',\n",
       " 'escolar',\n",
       " 'y',\n",
       " 'entrar',\n",
       " 'a',\n",
       " 'estudiar',\n",
       " 'ingeniería',\n",
       " 'informático',\n",
       " 'duoc',\n",
       " 'formar',\n",
       " 'programar',\n",
       " 'estudiante',\n",
       " 'inscribirse',\n",
       " 'ministerio',\n",
       " 'educación',\n",
       " 'mineduc',\n",
       " 'autorizar',\n",
       " 'casar',\n",
       " 'menor',\n",
       " 'edad',\n",
       " 'cartero',\n",
       " 'asignar',\n",
       " 'colegiar',\n",
       " 'examinador',\n",
       " 'preparar',\n",
       " 'prueba',\n",
       " '\\xa0 ',\n",
       " 'jefe',\n",
       " 'división',\n",
       " 'educación',\n",
       " 'mineduc',\n",
       " 'gonzalo',\n",
       " 'muñoz',\n",
       " '  ',\n",
       " 'establecimiento',\n",
       " 'educacional',\n",
       " 'designar',\n",
       " 'escoger',\n",
       " 'preferentemente',\n",
       " 'resultar',\n",
       " 'simce',\n",
       " '\\xa0 ',\n",
       " 'casar',\n",
       " 'mayor',\n",
       " 'edad',\n",
       " 'autorización',\n",
       " 'y',\n",
       " 'temario',\n",
       " 'correr',\n",
       " 'mineduc',\n",
       " 'a',\n",
       " 'muñoz',\n",
       " 'examen',\n",
       " '  ',\n",
       " 'constituir',\n",
       " 'excepcionalidad',\n",
       " 'sistema',\n",
       " 'educacional',\n",
       " 'y',\n",
       " 'opción',\n",
       " 'culminar',\n",
       " 'estudio',\n",
       " 'año',\n",
       " 'mineduc',\n",
       " 'cursar',\n",
       " 'autorización',\n",
       " '  ',\n",
       " 'corresponder',\n",
       " 'a',\n",
       " 'menor',\n",
       " 'y',\n",
       " 'a',\n",
       " 'mayor',\n",
       " 'año',\n",
       " '85%',\n",
       " 'llamativo',\n",
       " 'casar',\n",
       " '  ',\n",
       " 'mayor',\n",
       " 'poder',\n",
       " 'prueba',\n",
       " 'aprobar',\n",
       " 'nivelar',\n",
       " '°',\n",
       " 'y',\n",
       " '°',\n",
       " '°',\n",
       " 'básico',\n",
       " 'infografía',\n",
       " 'a',\n",
       " 'contar',\n",
       " 'cifrar',\n",
       " 'muñoz',\n",
       " 'estadístico',\n",
       " 'específico',\n",
       " 'efectivamente',\n",
       " 'rendir',\n",
       " 'examen',\n",
       " 'libre',\n",
       " 'y',\n",
       " 'estimar',\n",
       " 'mitad',\n",
       " 'terminar',\n",
       " 'realizar',\n",
       " '  ',\n",
       " 'trámite',\n",
       " '\\xa0 ',\n",
       " 'mariano',\n",
       " 'benjamín',\n",
       " 'herrero',\n",
       " 'decidir',\n",
       " 'asistir',\n",
       " 'colegiar',\n",
       " 'problema',\n",
       " 'personal',\n",
       " 'y',\n",
       " 'prueba',\n",
       " 'año',\n",
       " 'aprobar',\n",
       " '°',\n",
       " 'y',\n",
       " '°',\n",
       " 'mineduc',\n",
       " 'facilitar',\n",
       " 'libro',\n",
       " 'educarse',\n",
       " 'y',\n",
       " 'prueba',\n",
       " 'libre',\n",
       " 'colegiar',\n",
       " 'examinador',\n",
       " 'sistema',\n",
       " 'favorecer',\n",
       " 'estudio',\n",
       " 'aprender',\n",
       " 'a',\n",
       " 'responsable',\n",
       " 'malo',\n",
       " 'estudiar',\n",
       " 'y',\n",
       " 'tomar',\n",
       " 'atención',\n",
       " 'clase',\n",
       " 'situación',\n",
       " 'cambiar',\n",
       " 'recalcar',\n",
       " 'pesar',\n",
       " 'a',\n",
       " 'fácil',\n",
       " 'estudiar',\n",
       " 'y',\n",
       " 'esperar',\n",
       " 'volver',\n",
       " 'colegiar']"
      ]
     },
     "execution_count": 17,
     "metadata": {},
     "output_type": "execute_result"
    }
   ],
   "source": [
    "noticias[2]"
   ]
  },
  {
   "cell_type": "markdown",
   "metadata": {},
   "source": [
    "#### 4.3.3 Representación vectorial (Gensim): Bag of words (sin ponderación)\n",
    "\n",
    "Gensim: https://radimrehurek.com/gensim/\n"
   ]
  },
  {
   "cell_type": "code",
   "execution_count": 18,
   "metadata": {},
   "outputs": [
    {
     "name": "stdout",
     "output_type": "stream",
     "text": [
      "{' ': 0, '10': 1, '2016-2020': 2, 'a': 3, 'afirmar': 4, 'alto': 5, 'alzar': 6, 'anp': 7, 'anterior': 8, 'anual': 9, 'aplicar': 10, 'aprobar': 11, 'asamblea': 12, 'aumentar': 13, 'avanzar': 14, 'ayudar': 15, 'año': 16, 'chino': 17, 'ciento': 18, 'cifrar': 19, 'complicar': 20, 'comunista': 21, 'contrastar': 22, 'creación': 23, 'crecimiento': 24, 'cumplir': 25, 'debatir': 26, 'defender': 27, 'defensa': 28, 'desarrollar': 29, 'década': 30, 'economía': 31, 'ejercicio': 32, 'equivaler': 33, 'estable': 34, 'establecer': 35, 'estructural': 36, 'expectativa': 37, 'figurar': 38, 'fijar': 39, 'fijo': 40, 'frente': 41, 'generar': 42, 'gobernar': 43, 'gubernamental': 44, 'guiar': 45, 'indicador': 46, 'inflación': 47, 'informar': 48, 'keqiang': 49, 'leer': 50, 'legislativo': 51, 'li': 52, 'lograr': 53, 'lustrar': 54, 'luz': 55, 'mantener': 56, 'mantenerlas': 57, 'marcar': 58, 'marzo': 59, 'mediar': 60, 'medir': 61, 'mercar': 62, 'meter': 63, 'millón': 64, 'ministro': 65, 'mundial': 66, 'nacional': 67, 'necesidad': 68, 'o': 69, 'objetivar': 70, 'pasar': 71, 'país': 72, 'pekín': 73, 'perspectivo': 74, 'pib': 75, 'plan': 76, 'popular': 77, 'porcentual': 78, 'presupuestar': 79, 'proyectar': 80, 'puesto': 81, 'punto': 82, 'quinquenal': 83, 'ralentización': 84, 'reformar': 85, 'repasar': 86, 'ruta': 87, 'régimen': 88, 'seguir': 89, 'sesión': 90, 'señalar': 91, 'sufrir': 92, 'tornar': 93, 'urbano': 94, 'xiii': 95, 'y': 96, '\\xa0 ': 97, 'anoche': 98, 'arauco': 99, 'armar': 100, 'arrancar': 101, 'arrestar': 102, 'atacar': 103, 'atentar': 104, 'autoridad': 105, 'biobío': 106, 'camioneta': 107, 'camión': 108, 'carabinero': 109, 'cautelar': 110, 'cañete': 111, 'comenzar': 112, 'cometer': 113, 'comuna': 114, 'concertación': 115, 'conductor': 116, 'convoy': 117, 'curanilahue': 118, 'dedicación': 119, 'delito': 120, 'detención': 121, 'detenido': 122, 'disparar': 123, 'disparo': 124, 'domiciliario': 125, 'efectuar': 126, 'emboscar': 127, 'encapuchar': 128, 'encontrar': 129, 'escopeta': 130, 'etapa': 131, 'exclusivo': 132, 'firmar': 133, 'fiscal': 134, 'forestal': 135, 'formalizar': 136, 'fugar': 137, 'fundir': 138, 'garantir': 139, 'grave': 140, 'h.': 141, 'haber': 142, 'hechizo': 143, 'hecho': 144, 'hombre': 145, 'hospital': 146, 'identificar': 147, 'ilegal': 148, 'imputar': 149, 'incendiario': 150, 'incidente': 151, 'inicial': 152, 'interceptar': 153, 'internar': 154, 'investigación': 155, 'investigar': 156, 'investigativa': 157, 'j.': 158, 'juan': 159, 'judicial': 160, 'jueves': 161, 'juzgar': 162, 'lesionar': 163, 'm.': 164, 'mediodía': 165, 'mesar': 166, 'ministerio': 167, 'miércoles': 168, 'mujer': 169, 'munición': 170, 'nocturno': 171, 'p.': 172, 'parapetar': 173, 'participación': 174, 'patrullaje': 175, 'patrullar': 176, 'permanecer': 177, 'persecutor': 178, 'personar': 179, 'plazo': 180, 'policía': 181, 'portar': 182, 'presentar': 183, 'preventivo': 184, 'prisión': 185, 'procedimiento': 186, 'producir': 187, 'producto': 188, 'protagonizar': 189, 'provincia': 190, 'público': 191, 'quemar': 192, 'realizar': 193, 'receptación': 194, 'rechazar': 195, 'región': 196, 'resultar': 197, 'rural': 198, 'semanal': 199, 'solicitar': 200, 'sujetar': 201, 'sujeto': 202, 'tipo': 203, 'tirúa': 204, 'tribunal': 205, 'vehículo': 206, 'violencia': 207, 'wagemann': 208, 'y.': 209, 'yáñez': 210, 'zona': 211, '  ': 212, '3': 213, '85%': 214, 'aprender': 215, 'asignar': 216, 'asistir': 217, 'atención': 218, 'autorización': 219, 'autorizar': 220, 'benjamín': 221, 'básico': 222, 'cambiar': 223, 'caminar': 224, 'cartero': 225, 'casar': 226, 'ciclar': 227, 'clase': 228, 'colegiar': 229, 'constituir': 230, 'contar': 231, 'correr': 232, 'corresponder': 233, 'culminar': 234, 'cursar': 235, 'decidir': 236, 'designar': 237, 'división': 238, 'duoc': 239, 'edad': 240, 'educacional': 241, 'educación': 242, 'educarse': 243, 'efectivamente': 244, 'entrar': 245, 'entregar': 246, 'escoger': 247, 'escolar': 248, 'escuela': 249, 'específico': 250, 'esperar': 251, 'establecimiento': 252, 'estadístico': 253, 'estimar': 254, 'estudiante': 255, 'estudiar': 256, 'estudio': 257, 'examen': 258, 'examinador': 259, 'excepcionalidad': 260, 'facilitar': 261, 'favorecer': 262, 'formar': 263, 'fácil': 264, 'gestión': 265, 'gonzalo': 266, 'gracia': 267, 'herrero': 268, 'infografía': 269, 'informático': 270, 'ingeniería': 271, 'ingresar': 272, 'inscribirse': 273, 'jefe': 274, 'joven': 275, 'libre': 276, 'libro': 277, 'llamativo': 278, 'malo': 279, 'mariano': 280, 'mayor': 281, 'menor': 282, 'mil': 283, 'mineduc': 284, 'mitad': 285, 'muñoz': 286, 'nivelar': 287, 'niño': 288, 'opción': 289, 'optar': 290, 'padre': 291, 'parra': 292, 'particular': 293, 'personal': 294, 'pesar': 295, 'poder': 296, 'preferentemente': 297, 'preparar': 298, 'problema': 299, 'profesor': 300, 'programar': 301, 'prueba': 302, 'querer': 303, 'recalcar': 304, 'rendir': 305, 'responsable': 306, 'semana': 307, 'sentir': 308, 'simce': 309, 'sistema': 310, 'situación': 311, 'temario': 312, 'terminar': 313, 'tomar': 314, 'trámite': 315, 'volver': 316, '°': 317, '90%': 318, 'activar': 319, 'afectar': 320, 'agregar': 321, 'altamente': 322, 'américa': 323, 'anomalía': 324, 'basar': 325, 'bebé': 326, 'biológico': 327, 'brotar': 328, 'capar': 329, 'capaz': 330, 'caso': 331, 'causar': 332, 'cell': 333, 'celular': 334, 'cerebral': 335, 'cerebro': 336, 'científico': 337, 'circunstancial': 338, 'claramente': 339, 'codirigir': 340, 'coherente': 341, 'comparación': 342, 'complicación': 343, 'comprobar': 344, 'concluir': 345, 'conocer': 346, 'copiar': 347, 'crucial': 348, 'cráneo': 349, 'célula': 350, 'córtex': 351, 'dañar': 352, 'decena': 353, 'demostrar': 354, 'destruir': 355, 'directamente': 356, 'drástico': 357, 'eficacia': 358, 'experiencia': 359, 'experimental': 360, 'explicar': 361, 'exponer': 362, 'exposición': 363, 'extender': 364, 'fetal': 365, 'feto': 366, 'gen': 367, 'gripe': 368, 'guo-li': 369, 'hallar': 370, 'hnpcs': 371, 'hopkins': 372, 'humano': 373, 'ileso': 374, 'incrementar': 375, 'indicar': 376, 'infección': 377, 'infectar': 378, 'instituto': 379, 'inusual': 380, 'johns': 381, 'laboratorio': 382, 'latino': 383, 'luchar': 384, 'madre': 385, 'maduro': 386, 'malformación': 387, 'maryland': 388, 'medicamento': 389, 'microcefalia': 390, 'ming': 391, 'morir': 392, 'mosquito': 393, 'nacido': 394, 'necesario': 395, 'neurología': 396, 'neurona': 397, 'neuronal': 398, 'observación': 399, 'oms': 400, 'organización': 401, 'peligroso': 402, 'potencialmente': 403, 'prever': 404, 'probar': 405, 'progenitor': 406, 'proteger': 407, 'publicar': 408, 'recentar': 409, 'recién': 410, 'reducir': 411, 'relativamente': 412, 'replicar': 413, 'resfriar': 414, 'revelar': 415, 'revistar': 416, 'rápidamente': 417, 'salud': 418, 'severo': 419, 'significativo': 420, 'sospechar': 421, 'stem': 422, 'superficial': 423, 'síntoma': 424, 'tejido': 425, 'transmitir': 426, 'trastorno': 427, 'unir': 428, 'viernes': 429, 'virus': 430, 'vulnerable': 431, 'vínculo': 432, 'zika': 433, '-que': 434, '25-': 435, '3d': 436, 'abril': 437, 'abrir': 438, 'abuelo': 439, 'aclarar': 440, 'acompañar': 441, 'acreditar': 442, 'acuñar': 443, 'adjudicar': 444, 'adulto': 445, 'aforar': 446, 'agrupar': 447, 'aislar': 448, 'alejandro': 449, 'aliens': 450, 'allende': 451, 'ambientar': 452, 'ambos': 453, 'américas': 454, 'angelito': 455, 'animachi': 456, 'animación': 457, 'animador': 458, 'animar': 459, 'anunciar': 460, 'apañar': 461, 'aporte': 462, 'apoyar': 463, 'argentino': 464, 'artístico': 465, 'asociación': 466, 'atiempo': 467, 'audiovisual': 468, 'aventurar': 469, 'bernardita': 470, 'boom': 471, 'brindar': 472, 'bromear': 473, 'brothers': 474, 'buscar': 475, 'cadena': 476, 'cambio': 477, 'canal': 478, 'caro': 479, 'cartoon': 480, 'celebración': 481, 'ceppi': 482, 'ceppi.pero': 483, 'cerdo': 484, 'cerrar': 485, 'chavo': 486, 'chespirito': 487, 'chico': 488, 'chile': 489, 'chilemonos': 490, 'chileno': 491, 'chilote': 492, 'chv': 493, 'ciencia': 494, 'cintar': 495, 'clarita': 496, 'cntv': 497, 'cocar': 498, 'cociña': 499, 'colonia': 500, 'comercial': 501, 'compañía': 502, 'complejo': 503, 'completar': 504, 'comprar': 505, 'concordar': 506, 'concursar': 507, 'condicionar': 508, 'confianza': 509, 'conquistar': 510, 'consejo': 511, 'considerar': 512, 'contenido': 513, 'controlar': 514, 'convertir': 515, 'convertirse': 516, 'convocatorio': 517, 'coproducción': 518, 'corfo': 519, 'costoso': 520, 'cristóbal': 521, 'cultura': 522, 'deber': 523, 'desafío': 524, 'destin': 525, 'dibujo': 526, 'diego': 527, 'dignidad': 528, 'diluviar': 529, 'director': 530, 'dirigir': 531, 'disciplinar': 532, 'disfrutar': 533, 'disney': 534, 'distinto': 535, 'dulce': 536, 'efecto': 537, 'ejemplificar': 538, 'elegir': 539, 'emitir': 540, 'encontrarse': 541, 'enfrentar': 542, 'enumerar': 543, 'error': 544, 'erwin': 545, 'escapar': 546, 'escaso': 547, 'estancar': 548, 'estar': 549, 'estrenar': 550, 'ex-pirata': 551, 'existir': 552, 'exitoso': 553, 'extranjero': 554, 'extremo': 555, 'fantástico': 556, 'fenómeno': 557, 'ficción': 558, 'filial': 559, 'filmar': 560, 'finalizar': 561, 'financiamiento': 562, 'flippos': 563, 'fomentar': 564, 'fondo': 565, 'franja': 566, 'fruto': 567, 'fundación': 568, 'futuro': 569, 'fábula': 570, 'ganar': 571, 'gato': 572, 'gente': 573, 'germán': 574, 'globo': 575, 'glot': 576, 'gozar': 577, 'grande': 578, 'gremial': 579, 'gómez': 580, 'gómez.tras': 581, 'habitar': 582, 'hacer': 583, 'hijo': 584, 'historia': 585, 'hito': 586, 'homeless': 587, 'hostal': 588, 'imaginario': 589, 'impartir': 590, 'importante': 591, 'incierto': 592, 'independiente': 593, 'industrialización': 594, 'infantil': 595, 'inspirar': 596, 'interés': 597, 'invertir': 598, 'joaquín': 599, 'jugar': 600, 'lamentar': 601, 'largo': 602, 'largometraje': 603, 'levantar': 604, 'león': 605, 'librar': 606, 'listo': 607, 'llegar': 608, 'llevar': 609, 'lobo': 610, 'lunes': 611, 'lópez': 612, 'mampato': 613, 'mangar': 614, 'mar': 615, 'marciano': 616, 'mascota': 617, 'matilde': 618, 'mediatización': 619, 'mejorar': 620, 'miedo': 621, 'mirar': 622, 'moderno': 623, 'morrison': 624, 'mostrar': 625, 'motion': 626, 'muelín': 627, 'mundo': 628, 'mágico': 629, 'más.el': 630, 'nahuel': 631, 'naufragar': 632, 'necesitar': 633, 'netflix': 634, 'network': 635, 'nui': 636, 'nulo': 637, 'objetar': 638, 'obtener': 639, 'ogú': 640, 'ojeda': 641, 'ojo': 642, 'oportunidad': 643, 'organismo': 644, 'origen': 645, 'osar': 646, 'oscar': 647, 'pakapaka': 648, 'panorama': 649, 'pantalla': 650, 'papel': 651, 'papelucho': 652, 'parecer': 653, 'paso': 654, 'patrocinio': 655, 'película': 656, 'pensar': 657, 'perlita': 658, 'perpetuar': 659, 'pescador': 660, 'peso': 661, 'planeta': 662, 'plataforma': 663, 'poner': 664, 'preguntar': 665, 'premiar': 666, 'preproducción': 667, 'presentarse': 668, 'presidente': 669, 'producción': 670, 'produciéndose': 671, 'productor': 672, 'profesionalización': 673, 'profundar': 674, 'programación': 675, 'promediar': 676, 'propuesta': 677, 'proyecto': 678, 'puerto': 679, 'pulentos': 680, 'punkrobot': 681, 'pájaro': 682, 'quedar': 683, 'rapar': 684, 'recordar': 685, 'recurso': 686, 'remontar': 687, 'resonancia': 688, 'rico': 689, 'roca': 690, 'rojo': 691, 'salvador': 692, 'seguramente': 693, 'sellar': 694, 'semestre': 695, 'separar': 696, 'sepultar': 697, 'seriar': 698, 'serie': 699, 'silenciar': 700, 'similar': 701, 'simpson': 702, 'softwares': 703, 'soler': 704, 'soñar': 705, 'stop': 706, 'studio': 707, 'studios': 708, 'suerte': 709, 'sumir': 710, 'tarugo': 711, 'televisión': 712, 'temer': 713, 'temporada': 714, 'terminarla': 715, 'tevito': 716, 'tormenta': 717, 'tortuga': 718, 'trabajar': 719, 'transmisión': 720, 'transmitirse': 721, 'tv': 722, 'tvn': 723, 'técnico': 724, 'título': 725, 'universidad': 726, 'utilizar': 727, 'vacación': 728, 'vagabundo': 729, 'valparaíso': 730, 'venir': 731, 'ver': 732, 'verdura': 733, 'villa': 734, 'visitar': 735, 'vivir': 736, 'walt': 737, 'zumbástico': 738, 'álvaro': 739, 'éxito': 740, 'ó': 741, 'único': 742}\n"
     ]
    }
   ],
   "source": [
    "from gensim import corpora\n",
    "\n",
    "dictionary = corpora.Dictionary(noticias)\n",
    "print(dictionary.token2id)\n",
    "#asigna un id por cada palabra del vocabulario"
   ]
  },
  {
   "cell_type": "code",
   "execution_count": 19,
   "metadata": {},
   "outputs": [],
   "source": [
    "#transformamos el dataset en un representacion vectorial tipo bag of word\n",
    "dataset_vectorized = [dictionary.doc2bow(noticia) for noticia in noticias]"
   ]
  },
  {
   "cell_type": "code",
   "execution_count": 20,
   "metadata": {},
   "outputs": [
    {
     "name": "stdout",
     "output_type": "stream",
     "text": [
      "[(0, 1), (3, 8), (15, 1), (29, 3), (66, 1), (69, 3), (72, 1), (96, 11), (97, 16), (103, 2), (112, 1), (147, 1), (155, 1), (183, 3), (187, 1), (197, 5), (203, 3), (211, 1), (212, 23), (226, 1), (256, 4), (257, 1), (263, 1), (271, 1), (300, 1), (302, 1), (318, 1), (319, 1), (320, 1), (321, 1), (322, 1), (323, 1), (324, 1), (325, 1), (326, 1), (327, 1), (328, 1), (329, 1), (330, 1), (331, 1), (332, 2), (333, 2), (334, 1), (335, 1), (336, 3), (337, 1), (338, 1), (339, 1), (340, 1), (341, 1), (342, 1), (343, 1), (344, 1), (345, 1), (346, 1), (347, 1), (348, 1), (349, 1), (350, 10), (351, 3), (352, 1), (353, 1), (354, 1), (355, 1), (356, 1), (357, 1), (358, 1), (359, 1), (360, 1), (361, 1), (362, 1), (363, 1), (364, 1), (365, 1), (366, 3), (367, 1), (368, 1), (369, 1), (370, 1), (371, 3), (372, 1), (373, 4), (374, 1), (375, 1), (376, 1), (377, 1), (378, 3), (379, 2), (380, 1), (381, 1), (382, 3), (383, 1), (384, 1), (385, 1), (386, 1), (387, 1), (388, 1), (389, 1), (390, 4), (391, 2), (392, 1), (393, 1), (394, 1), (395, 1), (396, 1), (397, 2), (398, 1), (399, 1), (400, 1), (401, 1), (402, 1), (403, 1), (404, 1), (405, 1), (406, 1), (407, 1), (408, 2), (409, 1), (410, 1), (411, 2), (412, 1), (413, 1), (414, 1), (415, 1), (416, 1), (417, 1), (418, 1), (419, 2), (420, 1), (421, 1), (422, 1), (423, 1), (424, 1), (425, 1), (426, 1), (427, 1), (428, 1), (429, 1), (430, 10), (431, 2), (432, 2), (433, 6)]\n"
     ]
    }
   ],
   "source": [
    "print(dataset_vectorized[3])"
   ]
  },
  {
   "cell_type": "markdown",
   "metadata": {},
   "source": [
    "#### 4.3.4 Representación vectorial (Gensim): Bag of words (con ponderación TF-IDF)"
   ]
  },
  {
   "cell_type": "code",
   "execution_count": 21,
   "metadata": {},
   "outputs": [],
   "source": [
    "#Convertir el BOW en una representación TF-IDF\n",
    "from gensim import models\n",
    "tfidf = models.TfidfModel(dataset_vectorized)"
   ]
  },
  {
   "cell_type": "code",
   "execution_count": 22,
   "metadata": {},
   "outputs": [
    {
     "data": {
      "text/plain": [
       "[(15, 0.024750053986729106),\n",
       " (29, 0.041393941877443045),\n",
       " (66, 0.024750053986729106),\n",
       " (69, 0.041393941877443045),\n",
       " (72, 0.013797980625814348),\n",
       " (97, 0.09643777460057358),\n",
       " (103, 0.04950010797345821),\n",
       " (112, 0.006027360912535849),\n",
       " (147, 0.024750053986729106),\n",
       " (155, 0.024750053986729106),\n",
       " (183, 0.07425016196018731),\n",
       " (187, 0.013797980625814348),\n",
       " (197, 0.06898990312907173),\n",
       " (203, 0.041393941877443045),\n",
       " (211, 0.024750053986729106),\n",
       " (212, 0.31735355439373),\n",
       " (226, 0.013797980625814348),\n",
       " (256, 0.09900021594691642),\n",
       " (257, 0.013797980625814348),\n",
       " (263, 0.024750053986729106),\n",
       " (271, 0.024750053986729106),\n",
       " (300, 0.024750053986729106),\n",
       " (302, 0.024750053986729106),\n",
       " (318, 0.043472747060922357),\n",
       " (319, 0.043472747060922357),\n",
       " (320, 0.043472747060922357),\n",
       " (321, 0.024750053986729106),\n",
       " (322, 0.043472747060922357),\n",
       " (323, 0.043472747060922357),\n",
       " (324, 0.043472747060922357),\n",
       " (325, 0.043472747060922357),\n",
       " (326, 0.043472747060922357),\n",
       " (327, 0.043472747060922357),\n",
       " (328, 0.043472747060922357),\n",
       " (329, 0.043472747060922357),\n",
       " (330, 0.043472747060922357),\n",
       " (331, 0.043472747060922357),\n",
       " (332, 0.08694549412184471),\n",
       " (333, 0.08694549412184471),\n",
       " (334, 0.043472747060922357),\n",
       " (335, 0.043472747060922357),\n",
       " (336, 0.1304182411827671),\n",
       " (337, 0.043472747060922357),\n",
       " (338, 0.043472747060922357),\n",
       " (339, 0.043472747060922357),\n",
       " (340, 0.043472747060922357),\n",
       " (341, 0.043472747060922357),\n",
       " (342, 0.043472747060922357),\n",
       " (343, 0.043472747060922357),\n",
       " (344, 0.043472747060922357),\n",
       " (345, 0.024750053986729106),\n",
       " (346, 0.024750053986729106),\n",
       " (347, 0.043472747060922357),\n",
       " (348, 0.043472747060922357),\n",
       " (349, 0.043472747060922357),\n",
       " (350, 0.43472747060922357),\n",
       " (351, 0.1304182411827671),\n",
       " (352, 0.043472747060922357),\n",
       " (353, 0.024750053986729106),\n",
       " (354, 0.043472747060922357),\n",
       " (355, 0.043472747060922357),\n",
       " (356, 0.043472747060922357),\n",
       " (357, 0.043472747060922357),\n",
       " (358, 0.043472747060922357),\n",
       " (359, 0.043472747060922357),\n",
       " (360, 0.043472747060922357),\n",
       " (361, 0.024750053986729106),\n",
       " (362, 0.043472747060922357),\n",
       " (363, 0.043472747060922357),\n",
       " (364, 0.043472747060922357),\n",
       " (365, 0.043472747060922357),\n",
       " (366, 0.1304182411827671),\n",
       " (367, 0.043472747060922357),\n",
       " (368, 0.043472747060922357),\n",
       " (369, 0.043472747060922357),\n",
       " (370, 0.043472747060922357),\n",
       " (371, 0.1304182411827671),\n",
       " (372, 0.043472747060922357),\n",
       " (373, 0.17389098824368943),\n",
       " (374, 0.043472747060922357),\n",
       " (375, 0.043472747060922357),\n",
       " (376, 0.043472747060922357),\n",
       " (377, 0.043472747060922357),\n",
       " (378, 0.1304182411827671),\n",
       " (379, 0.08694549412184471),\n",
       " (380, 0.043472747060922357),\n",
       " (381, 0.043472747060922357),\n",
       " (382, 0.1304182411827671),\n",
       " (383, 0.043472747060922357),\n",
       " (384, 0.043472747060922357),\n",
       " (385, 0.043472747060922357),\n",
       " (386, 0.043472747060922357),\n",
       " (387, 0.043472747060922357),\n",
       " (388, 0.043472747060922357),\n",
       " (389, 0.043472747060922357),\n",
       " (390, 0.17389098824368943),\n",
       " (391, 0.08694549412184471),\n",
       " (392, 0.043472747060922357),\n",
       " (393, 0.043472747060922357),\n",
       " (394, 0.043472747060922357),\n",
       " (395, 0.043472747060922357),\n",
       " (396, 0.043472747060922357),\n",
       " (397, 0.08694549412184471),\n",
       " (398, 0.043472747060922357),\n",
       " (399, 0.043472747060922357),\n",
       " (400, 0.043472747060922357),\n",
       " (401, 0.043472747060922357),\n",
       " (402, 0.043472747060922357),\n",
       " (403, 0.043472747060922357),\n",
       " (404, 0.043472747060922357),\n",
       " (405, 0.043472747060922357),\n",
       " (406, 0.043472747060922357),\n",
       " (407, 0.043472747060922357),\n",
       " (408, 0.08694549412184471),\n",
       " (409, 0.043472747060922357),\n",
       " (410, 0.043472747060922357),\n",
       " (411, 0.08694549412184471),\n",
       " (412, 0.043472747060922357),\n",
       " (413, 0.043472747060922357),\n",
       " (414, 0.043472747060922357),\n",
       " (415, 0.043472747060922357),\n",
       " (416, 0.043472747060922357),\n",
       " (417, 0.043472747060922357),\n",
       " (418, 0.043472747060922357),\n",
       " (419, 0.08694549412184471),\n",
       " (420, 0.043472747060922357),\n",
       " (421, 0.043472747060922357),\n",
       " (422, 0.043472747060922357),\n",
       " (423, 0.043472747060922357),\n",
       " (424, 0.043472747060922357),\n",
       " (425, 0.043472747060922357),\n",
       " (426, 0.024750053986729106),\n",
       " (427, 0.043472747060922357),\n",
       " (428, 0.043472747060922357),\n",
       " (429, 0.043472747060922357),\n",
       " (430, 0.43472747060922357),\n",
       " (431, 0.08694549412184471),\n",
       " (432, 0.08694549412184471),\n",
       " (433, 0.2608364823655342)]"
      ]
     },
     "execution_count": 22,
     "metadata": {},
     "output_type": "execute_result"
    }
   ],
   "source": [
    "tfidf[dataset_vectorized][3]"
   ]
  },
  {
   "cell_type": "markdown",
   "metadata": {},
   "source": [
    "### 5. Aplicación en Análisis de sentimientos "
   ]
  },
  {
   "cell_type": "markdown",
   "metadata": {},
   "source": [
    "Empezaremos importando las librerías que necesitaremos para esta tarea. Ya hemos importado spaCy, pero también necesitaremos pandas y scikit-learn."
   ]
  },
  {
   "cell_type": "code",
   "execution_count": 23,
   "metadata": {},
   "outputs": [],
   "source": [
    "import pandas as pd\n",
    "from sklearn.feature_extraction.text import CountVectorizer,TfidfVectorizer\n",
    "from sklearn.base import TransformerMixin\n",
    "from sklearn.pipeline import Pipeline"
   ]
  },
  {
   "cell_type": "markdown",
   "metadata": {},
   "source": [
    "#### 5.1 Dataset\n",
    "Vamos a usar un conjunto de datos real: un conjunto de reseñas de productos de Amazon Alexa. Este conjunto de datos viene como un archivo separado por tabulaciones (.tsv). Tiene cinco columnas: \n",
    "- __rating__: se refiere a la calificación que cada usuario dio a Alexa (de 0 a 5). \n",
    "- __fecha__: fecha de la reseña\n",
    "- __variación__: describe el modelo de producto Alexa que el usuario comentó.\n",
    "- __verified_reviews__: contiene el texto del comentario.\n",
    "- __feedback__: contiene un label, 0 o 1, que indica el sentimiento general negativo (0) o positivo (1)."
   ]
  },
  {
   "cell_type": "code",
   "execution_count": 24,
   "metadata": {},
   "outputs": [],
   "source": [
    "# Loading TSV file\n",
    "df_amazon = pd.read_csv (\"amazon_alexa.tsv\", sep=\"\\t\")"
   ]
  },
  {
   "cell_type": "code",
   "execution_count": 25,
   "metadata": {},
   "outputs": [
    {
     "data": {
      "text/html": [
       "<div>\n",
       "<style scoped>\n",
       "    .dataframe tbody tr th:only-of-type {\n",
       "        vertical-align: middle;\n",
       "    }\n",
       "\n",
       "    .dataframe tbody tr th {\n",
       "        vertical-align: top;\n",
       "    }\n",
       "\n",
       "    .dataframe thead th {\n",
       "        text-align: right;\n",
       "    }\n",
       "</style>\n",
       "<table border=\"1\" class=\"dataframe\">\n",
       "  <thead>\n",
       "    <tr style=\"text-align: right;\">\n",
       "      <th></th>\n",
       "      <th>rating</th>\n",
       "      <th>date</th>\n",
       "      <th>variation</th>\n",
       "      <th>verified_reviews</th>\n",
       "      <th>feedback</th>\n",
       "    </tr>\n",
       "  </thead>\n",
       "  <tbody>\n",
       "    <tr>\n",
       "      <th>0</th>\n",
       "      <td>5</td>\n",
       "      <td>31-Jul-18</td>\n",
       "      <td>Charcoal Fabric</td>\n",
       "      <td>Love my Echo!</td>\n",
       "      <td>1</td>\n",
       "    </tr>\n",
       "    <tr>\n",
       "      <th>1</th>\n",
       "      <td>5</td>\n",
       "      <td>31-Jul-18</td>\n",
       "      <td>Charcoal Fabric</td>\n",
       "      <td>Loved it!</td>\n",
       "      <td>1</td>\n",
       "    </tr>\n",
       "    <tr>\n",
       "      <th>2</th>\n",
       "      <td>4</td>\n",
       "      <td>31-Jul-18</td>\n",
       "      <td>Walnut Finish</td>\n",
       "      <td>Sometimes while playing a game, you can answer...</td>\n",
       "      <td>1</td>\n",
       "    </tr>\n",
       "    <tr>\n",
       "      <th>3</th>\n",
       "      <td>5</td>\n",
       "      <td>31-Jul-18</td>\n",
       "      <td>Charcoal Fabric</td>\n",
       "      <td>I have had a lot of fun with this thing. My 4 ...</td>\n",
       "      <td>1</td>\n",
       "    </tr>\n",
       "    <tr>\n",
       "      <th>4</th>\n",
       "      <td>5</td>\n",
       "      <td>31-Jul-18</td>\n",
       "      <td>Charcoal Fabric</td>\n",
       "      <td>Music</td>\n",
       "      <td>1</td>\n",
       "    </tr>\n",
       "    <tr>\n",
       "      <th>...</th>\n",
       "      <td>...</td>\n",
       "      <td>...</td>\n",
       "      <td>...</td>\n",
       "      <td>...</td>\n",
       "      <td>...</td>\n",
       "    </tr>\n",
       "    <tr>\n",
       "      <th>3145</th>\n",
       "      <td>5</td>\n",
       "      <td>30-Jul-18</td>\n",
       "      <td>Black  Dot</td>\n",
       "      <td>Perfect for kids, adults and everyone in betwe...</td>\n",
       "      <td>1</td>\n",
       "    </tr>\n",
       "    <tr>\n",
       "      <th>3146</th>\n",
       "      <td>5</td>\n",
       "      <td>30-Jul-18</td>\n",
       "      <td>Black  Dot</td>\n",
       "      <td>Listening to music, searching locations, check...</td>\n",
       "      <td>1</td>\n",
       "    </tr>\n",
       "    <tr>\n",
       "      <th>3147</th>\n",
       "      <td>5</td>\n",
       "      <td>30-Jul-18</td>\n",
       "      <td>Black  Dot</td>\n",
       "      <td>I do love these things, i have them running my...</td>\n",
       "      <td>1</td>\n",
       "    </tr>\n",
       "    <tr>\n",
       "      <th>3148</th>\n",
       "      <td>5</td>\n",
       "      <td>30-Jul-18</td>\n",
       "      <td>White  Dot</td>\n",
       "      <td>Only complaint I have is that the sound qualit...</td>\n",
       "      <td>1</td>\n",
       "    </tr>\n",
       "    <tr>\n",
       "      <th>3149</th>\n",
       "      <td>4</td>\n",
       "      <td>29-Jul-18</td>\n",
       "      <td>Black  Dot</td>\n",
       "      <td>Good</td>\n",
       "      <td>1</td>\n",
       "    </tr>\n",
       "  </tbody>\n",
       "</table>\n",
       "<p>3150 rows × 5 columns</p>\n",
       "</div>"
      ],
      "text/plain": [
       "      rating       date         variation  \\\n",
       "0          5  31-Jul-18  Charcoal Fabric    \n",
       "1          5  31-Jul-18  Charcoal Fabric    \n",
       "2          4  31-Jul-18    Walnut Finish    \n",
       "3          5  31-Jul-18  Charcoal Fabric    \n",
       "4          5  31-Jul-18  Charcoal Fabric    \n",
       "...      ...        ...               ...   \n",
       "3145       5  30-Jul-18        Black  Dot   \n",
       "3146       5  30-Jul-18        Black  Dot   \n",
       "3147       5  30-Jul-18        Black  Dot   \n",
       "3148       5  30-Jul-18        White  Dot   \n",
       "3149       4  29-Jul-18        Black  Dot   \n",
       "\n",
       "                                       verified_reviews  feedback  \n",
       "0                                         Love my Echo!         1  \n",
       "1                                             Loved it!         1  \n",
       "2     Sometimes while playing a game, you can answer...         1  \n",
       "3     I have had a lot of fun with this thing. My 4 ...         1  \n",
       "4                                                 Music         1  \n",
       "...                                                 ...       ...  \n",
       "3145  Perfect for kids, adults and everyone in betwe...         1  \n",
       "3146  Listening to music, searching locations, check...         1  \n",
       "3147  I do love these things, i have them running my...         1  \n",
       "3148  Only complaint I have is that the sound qualit...         1  \n",
       "3149                                               Good         1  \n",
       "\n",
       "[3150 rows x 5 columns]"
      ]
     },
     "execution_count": 25,
     "metadata": {},
     "output_type": "execute_result"
    }
   ],
   "source": [
    "# Top 5 records\n",
    "df_amazon"
   ]
  },
  {
   "cell_type": "code",
   "execution_count": 26,
   "metadata": {},
   "outputs": [
    {
     "data": {
      "text/plain": [
       "(3150, 5)"
      ]
     },
     "execution_count": 26,
     "metadata": {},
     "output_type": "execute_result"
    }
   ],
   "source": [
    "# shape of dataframe\n",
    "df_amazon.shape"
   ]
  },
  {
   "cell_type": "code",
   "execution_count": 27,
   "metadata": {},
   "outputs": [
    {
     "name": "stdout",
     "output_type": "stream",
     "text": [
      "<class 'pandas.core.frame.DataFrame'>\n",
      "RangeIndex: 3150 entries, 0 to 3149\n",
      "Data columns (total 5 columns):\n",
      " #   Column            Non-Null Count  Dtype \n",
      "---  ------            --------------  ----- \n",
      " 0   rating            3150 non-null   int64 \n",
      " 1   date              3150 non-null   object\n",
      " 2   variation         3150 non-null   object\n",
      " 3   verified_reviews  3150 non-null   object\n",
      " 4   feedback          3150 non-null   int64 \n",
      "dtypes: int64(2), object(3)\n",
      "memory usage: 123.2+ KB\n"
     ]
    }
   ],
   "source": [
    "# View data information\n",
    "df_amazon.info()"
   ]
  },
  {
   "cell_type": "code",
   "execution_count": 28,
   "metadata": {},
   "outputs": [
    {
     "data": {
      "text/plain": [
       "1    2893\n",
       "0     257\n",
       "Name: feedback, dtype: int64"
      ]
     },
     "execution_count": 28,
     "metadata": {},
     "output_type": "execute_result"
    }
   ],
   "source": [
    "# Feedback Value count\n",
    "df_amazon.feedback.value_counts()"
   ]
  },
  {
   "cell_type": "markdown",
   "metadata": {},
   "source": [
    "#### 5.2 Preprocesamientos y representación vectorial:\n",
    "\n",
    "Crearemos una función personalizada <code>spacy_tokenizer()</code> que acepta una frase como entrada y la procesa en tokens, realizando lemmatización, minúsculas y eliminando palabras stop-words."
   ]
  },
  {
   "cell_type": "code",
   "execution_count": 29,
   "metadata": {},
   "outputs": [],
   "source": [
    "import spacy\n",
    "import string\n",
    "from spacy.lang.en.stop_words import STOP_WORDS\n",
    "from spacy.lang.en import English\n",
    "\n",
    "# Create our list of punctuation marks\n",
    "punctuations = string.punctuation\n",
    "\n",
    "# Create our list of stopwords\n",
    "stop_words=\"\"\n",
    "\n",
    "# Load English tokenizer, tagger, parser, NER and word vectors\n",
    "parser = English()\n",
    "\n",
    "# Creating our tokenizer function\n",
    "def spacy_tokenizer(sentence):\n",
    "    # Creating our token object, which is used to create documents with linguistic annotations.\n",
    "    mytokens = parser(sentence)\n",
    "\n",
    "    # Lemmatizing each token and converting each token into lowercase\n",
    "    mytokens = [ word.lemma_.lower().strip() if word.lemma_ != \"-PRON-\" else word.lower_ for word in mytokens ]\n",
    "\n",
    "    # Removing stop words\n",
    "    mytokens = [ word for word in mytokens if word not in stop_words and word not in punctuations ]\n",
    "\n",
    "    # return preprocessed list of tokens\n",
    "    return mytokens"
   ]
  },
  {
   "cell_type": "markdown",
   "metadata": {},
   "source": [
    "#### Vectorización de los textos en BoW o TF-IDF, con scikit-learn\n",
    "\n",
    "Podemos generar una matriz BoW para nuestros datos de texto usando la clase <code>CountVectorizer</code> de scikit-learn. En el código de abajo, le decimos a CountVectorizer que use la función personalizada spacy_tokenizer que construimos como su tokenizer, y que defina el rango de ngramo que queremos.\n",
    "\n",
    "Los N-gramos son combinaciones de palabras adyacentes en un texto dado, donde _n_ es el número de palabras que se incluyen en las fichas. Por ejemplo, en la frase \"¿Quién ganará la Copa del Mundo de fútbol en 2022? Bigramas sería una secuencia de dos palabras contiguas como \"quién ganará\", \"ganará la\", y así sucesivamente. Así que el parámetro ngram_range que usaremos en el código de abajo establece los límites inferior y superior de nuestros ngramas (usaremos unigramas). Entonces asignaremos los ngramas a bow_vector."
   ]
  },
  {
   "cell_type": "code",
   "execution_count": 30,
   "metadata": {},
   "outputs": [
    {
     "data": {
      "text/plain": [
       "CountVectorizer(tokenizer=<function spacy_tokenizer at 0x7fc46615a598>)"
      ]
     },
     "execution_count": 30,
     "metadata": {},
     "output_type": "execute_result"
    }
   ],
   "source": [
    "bow_vector = CountVectorizer(tokenizer = spacy_tokenizer, ngram_range=(1,1))\n",
    "bow_vector"
   ]
  },
  {
   "cell_type": "markdown",
   "metadata": {},
   "source": [
    "Podriamos también transformar los textos en vectores para tener los pesos TF-IDF de cada palabra en cada documento:"
   ]
  },
  {
   "cell_type": "code",
   "execution_count": 31,
   "metadata": {},
   "outputs": [],
   "source": [
    "tfidf_vector = TfidfVectorizer(tokenizer = spacy_tokenizer)"
   ]
  },
  {
   "cell_type": "markdown",
   "metadata": {},
   "source": [
    "#### Partición de los datos en conjuntos de entrenamiento y test para entrenar y evaluar un modelo predictivo\n",
    "\n",
    "Usaremos la mitad de nuestro conjunto de datos como nuestro conjunto de entrenamiento, que incluirá las respuestas correctas. Luego probaremos nuestro modelo usando la otra mitad del conjunto de datos sin darle las respuestas, para ver con qué precisión funciona.\n",
    "\n",
    "Convenientemente, scikit-learn nos da una función incorporada para hacer esto: train_test_split(). Sólo necesitamos decirle el conjunto de características que queremos que se divida (X), las etiquetas contra las que queremos que se realice la prueba (ylabels), y el tamaño que queremos usar para el conjunto de pruebas (representado como un porcentaje en forma decimal)."
   ]
  },
  {
   "cell_type": "code",
   "execution_count": 32,
   "metadata": {},
   "outputs": [],
   "source": [
    "from sklearn.model_selection import train_test_split\n",
    "\n",
    "X = df_amazon['verified_reviews'] # the features we want to analyze\n",
    "ylabels = df_amazon['feedback'] # the labels, or answers, we want to test against\n",
    "\n",
    "X_train, X_test, y_train, y_test = train_test_split(X, ylabels, test_size=0.5)\n"
   ]
  },
  {
   "cell_type": "markdown",
   "metadata": {},
   "source": [
    "#### Creación de un pipeline y generación del modelo\n",
    "\n",
    "Es el momento de construir nuestro modelo predictivo. Empezaremos importando el módulo LogisticRegression y creando un objeto clasificador LogisticRegression.\n",
    "\n",
    "__Para revisar sobre qué aprende y cómo aprendre el algorítmo de regresión logística: [slides](https://docs.google.com/presentation/d/11O3ud6ywHuaro6OemhyeH07nuJtdc4ybMuTJicnMnm8/edit?usp=sharing)__\n",
    "\n",
    "Luego, crearemos un pipeline de procesamiento con dos componentes: un vectorizador y algoritmo de clasificación basado en la regresión logística. El vectorizador utiliza preprocesamientos (spacy) y vectorización (scikit-learn) para crear una matriz para representar nuestros textos.\n",
    "\n",
    "Una vez que se construya este pipeline, se aprende el modelo predictivo llamando el método <code>fit()</code>."
   ]
  },
  {
   "cell_type": "code",
   "execution_count": 33,
   "metadata": {},
   "outputs": [
    {
     "data": {
      "text/plain": [
       "Pipeline(steps=[('preprocessing',\n",
       "                 CountVectorizer(tokenizer=<function spacy_tokenizer at 0x7fc46615a598>)),\n",
       "                ('regression-ML', LogisticRegression())])"
      ]
     },
     "execution_count": 33,
     "metadata": {},
     "output_type": "execute_result"
    }
   ],
   "source": [
    "# Logistic Regression Classifier\n",
    "from sklearn.linear_model import LogisticRegression\n",
    "modelLR = LogisticRegression()\n",
    "\n",
    "# Create pipeline using Bag of Words\n",
    "pipe = Pipeline([('preprocessing', bow_vector),\n",
    "                 ('regression-ML', modelLR)])\n",
    "\n",
    "# model generation\n",
    "pipe.fit(X_train,y_train)"
   ]
  },
  {
   "cell_type": "markdown",
   "metadata": {},
   "source": [
    "#### 5.3 Evaluación del modelo\n",
    "\n",
    "Podemos evaluar el rendimiento de nuestro modelo usando el módulo de métricas de scikit-learn. Ahora que hemos entrenado nuestro modelo, pondremos nuestros datos de prueba a disposición para hacer predicciones. Luego usaremos varias funciones del módulo de métricas para ver la exactitud, precisión y recall de nuestro modelo."
   ]
  },
  {
   "cell_type": "code",
   "execution_count": 34,
   "metadata": {},
   "outputs": [
    {
     "name": "stdout",
     "output_type": "stream",
     "text": [
      "[1 1 1 ... 0 1 1]\n",
      "Logistic Regression Accuracy: 0.9434920634920635\n",
      "Logistic Regression Precision: 0.950592885375494\n",
      "Logistic Regression Recall: 0.9903912148249828\n"
     ]
    }
   ],
   "source": [
    "from sklearn import metrics\n",
    "# Predicting with a test dataset\n",
    "predicted = pipe.predict(X_test)\n",
    "print(predicted)\n",
    "\n",
    "# Model Accuracy\n",
    "print(\"Logistic Regression Accuracy:\",metrics.accuracy_score(y_test, predicted))\n",
    "print(\"Logistic Regression Precision:\",metrics.precision_score(y_test, predicted))\n",
    "print(\"Logistic Regression Recall:\",metrics.recall_score(y_test, predicted))"
   ]
  },
  {
   "cell_type": "code",
   "execution_count": 35,
   "metadata": {},
   "outputs": [
    {
     "name": "stdout",
     "output_type": "stream",
     "text": [
      "[[  43   75]\n",
      " [  14 1443]]\n",
      "              precision    recall  f1-score   support\n",
      "\n",
      "           0       0.75      0.36      0.49       118\n",
      "           1       0.95      0.99      0.97      1457\n",
      "\n",
      "    accuracy                           0.94      1575\n",
      "   macro avg       0.85      0.68      0.73      1575\n",
      "weighted avg       0.94      0.94      0.93      1575\n",
      "\n"
     ]
    }
   ],
   "source": [
    "#Evaluación del rendimiento del clasificador\n",
    "from sklearn.metrics import confusion_matrix\n",
    "confusion_matrix = confusion_matrix(y_test, predicted)\n",
    "print(confusion_matrix)\n",
    "#Print de la matriz de confusión\n",
    "from sklearn.metrics import classification_report\n",
    "print(classification_report(y_test, predicted))"
   ]
  },
  {
   "cell_type": "code",
   "execution_count": 1,
   "metadata": {},
   "outputs": [],
   "source": [
    "def printNMostInformative(vectorizer, model, N):\n",
    "    feature_names = vectorizer.get_feature_names()\n",
    "    coefs_with_fns = sorted(zip(model.coef_[0], feature_names))\n",
    "    topClass1 = coefs_with_fns[:N]\n",
    "    topClass2 = coefs_with_fns[:-(N + 1):-1]\n",
    "    print(\"Class 1 best: \")\n",
    "    for feat in topClass1:\n",
    "        print(feat)\n",
    "    print(\"Class 2 best: \")\n",
    "    for feat in topClass2:\n",
    "        print(feat)"
   ]
  },
  {
   "cell_type": "code",
   "execution_count": 2,
   "metadata": {},
   "outputs": [
    {
     "ename": "NameError",
     "evalue": "name 'bow_vector' is not defined",
     "output_type": "error",
     "traceback": [
      "\u001b[0;31m---------------------------------------------------------------------------\u001b[0m",
      "\u001b[0;31mNameError\u001b[0m                                 Traceback (most recent call last)",
      "\u001b[0;32m<ipython-input-2-ed5c2379ced6>\u001b[0m in \u001b[0;36m<module>\u001b[0;34m()\u001b[0m\n\u001b[0;32m----> 1\u001b[0;31m \u001b[0mprintNMostInformative\u001b[0m\u001b[0;34m(\u001b[0m\u001b[0mbow_vector\u001b[0m\u001b[0;34m,\u001b[0m \u001b[0mmodelLR\u001b[0m\u001b[0;34m,\u001b[0m \u001b[0;36m20\u001b[0m\u001b[0;34m)\u001b[0m\u001b[0;34m\u001b[0m\u001b[0;34m\u001b[0m\u001b[0m\n\u001b[0m",
      "\u001b[0;31mNameError\u001b[0m: name 'bow_vector' is not defined"
     ]
    }
   ],
   "source": [
    "printNMostInformative(bow_vector, modelLR, 20)"
   ]
  },
  {
   "cell_type": "markdown",
   "metadata": {},
   "source": [
    "#### 6. Ejercicio: Análisis de sentimientos en español\n",
    "\n",
    "Análisis de sentimientos de los tweets en español sobre aerolineas: Analizar cómo los viajeros expresaron sus sentimientos.\n"
   ]
  },
  {
   "cell_type": "code",
   "execution_count": 38,
   "metadata": {
    "scrolled": true
   },
   "outputs": [
    {
     "data": {
      "text/html": [
       "<div>\n",
       "<style scoped>\n",
       "    .dataframe tbody tr th:only-of-type {\n",
       "        vertical-align: middle;\n",
       "    }\n",
       "\n",
       "    .dataframe tbody tr th {\n",
       "        vertical-align: top;\n",
       "    }\n",
       "\n",
       "    .dataframe thead th {\n",
       "        text-align: right;\n",
       "    }\n",
       "</style>\n",
       "<table border=\"1\" class=\"dataframe\">\n",
       "  <thead>\n",
       "    <tr style=\"text-align: right;\">\n",
       "      <th></th>\n",
       "      <th>airline_sentiment</th>\n",
       "      <th>is_reply</th>\n",
       "      <th>reply_count</th>\n",
       "      <th>retweet_count</th>\n",
       "      <th>text</th>\n",
       "      <th>tweet_coord</th>\n",
       "      <th>tweet_created</th>\n",
       "      <th>tweet_location</th>\n",
       "      <th>user_timezone</th>\n",
       "    </tr>\n",
       "    <tr>\n",
       "      <th>tweet_id</th>\n",
       "      <th></th>\n",
       "      <th></th>\n",
       "      <th></th>\n",
       "      <th></th>\n",
       "      <th></th>\n",
       "      <th></th>\n",
       "      <th></th>\n",
       "      <th></th>\n",
       "      <th></th>\n",
       "    </tr>\n",
       "  </thead>\n",
       "  <tbody>\n",
       "    <tr>\n",
       "      <th>926419989107798016</th>\n",
       "      <td>neutral</td>\n",
       "      <td>False</td>\n",
       "      <td>0</td>\n",
       "      <td>0</td>\n",
       "      <td>Trabajar en #Ryanair como #TMA: https://t.co/r...</td>\n",
       "      <td>NaN</td>\n",
       "      <td>Fri Nov 03 12:05:12 +0000 2017</td>\n",
       "      <td>NaN</td>\n",
       "      <td>Madrid</td>\n",
       "    </tr>\n",
       "    <tr>\n",
       "      <th>934854385577943041</th>\n",
       "      <td>neutral</td>\n",
       "      <td>True</td>\n",
       "      <td>0</td>\n",
       "      <td>0</td>\n",
       "      <td>@Iberia @FIONAFERRER Cuando gusten en Cancún s...</td>\n",
       "      <td>NaN</td>\n",
       "      <td>Sun Nov 26 18:40:28 +0000 2017</td>\n",
       "      <td>NaN</td>\n",
       "      <td>Mexico City</td>\n",
       "    </tr>\n",
       "    <tr>\n",
       "      <th>945318406441635840</th>\n",
       "      <td>negative</td>\n",
       "      <td>False</td>\n",
       "      <td>0</td>\n",
       "      <td>0</td>\n",
       "      <td>Sabiais que @Iberia te trata muy bien en santi...</td>\n",
       "      <td>NaN</td>\n",
       "      <td>Mon Dec 25 15:40:45 +0000 2017</td>\n",
       "      <td>NaN</td>\n",
       "      <td>Madrid</td>\n",
       "    </tr>\n",
       "    <tr>\n",
       "      <th>927540721296568320</th>\n",
       "      <td>negative</td>\n",
       "      <td>False</td>\n",
       "      <td>0</td>\n",
       "      <td>0</td>\n",
       "      <td>NUNCA NUNCA NUNCA pidáis el café de Ryanair.\\n...</td>\n",
       "      <td>NaN</td>\n",
       "      <td>Mon Nov 06 14:18:35 +0000 2017</td>\n",
       "      <td>NaN</td>\n",
       "      <td>Pacific Time (US &amp; Canada)</td>\n",
       "    </tr>\n",
       "    <tr>\n",
       "      <th>947965901332197376</th>\n",
       "      <td>positive</td>\n",
       "      <td>True</td>\n",
       "      <td>0</td>\n",
       "      <td>0</td>\n",
       "      <td>@cris_tortu @dakar @Iberia @Mitsubishi_ES @BFG...</td>\n",
       "      <td>NaN</td>\n",
       "      <td>Mon Jan 01 23:00:57 +0000 2018</td>\n",
       "      <td>NaN</td>\n",
       "      <td>Buenos Aires</td>\n",
       "    </tr>\n",
       "  </tbody>\n",
       "</table>\n",
       "</div>"
      ],
      "text/plain": [
       "                   airline_sentiment  is_reply  reply_count  retweet_count  \\\n",
       "tweet_id                                                                     \n",
       "926419989107798016           neutral     False            0              0   \n",
       "934854385577943041           neutral      True            0              0   \n",
       "945318406441635840          negative     False            0              0   \n",
       "927540721296568320          negative     False            0              0   \n",
       "947965901332197376          positive      True            0              0   \n",
       "\n",
       "                                                                 text  \\\n",
       "tweet_id                                                                \n",
       "926419989107798016  Trabajar en #Ryanair como #TMA: https://t.co/r...   \n",
       "934854385577943041  @Iberia @FIONAFERRER Cuando gusten en Cancún s...   \n",
       "945318406441635840  Sabiais que @Iberia te trata muy bien en santi...   \n",
       "927540721296568320  NUNCA NUNCA NUNCA pidáis el café de Ryanair.\\n...   \n",
       "947965901332197376  @cris_tortu @dakar @Iberia @Mitsubishi_ES @BFG...   \n",
       "\n",
       "                   tweet_coord                   tweet_created tweet_location  \\\n",
       "tweet_id                                                                        \n",
       "926419989107798016         NaN  Fri Nov 03 12:05:12 +0000 2017            NaN   \n",
       "934854385577943041         NaN  Sun Nov 26 18:40:28 +0000 2017            NaN   \n",
       "945318406441635840         NaN  Mon Dec 25 15:40:45 +0000 2017            NaN   \n",
       "927540721296568320         NaN  Mon Nov 06 14:18:35 +0000 2017            NaN   \n",
       "947965901332197376         NaN  Mon Jan 01 23:00:57 +0000 2018            NaN   \n",
       "\n",
       "                                 user_timezone  \n",
       "tweet_id                                        \n",
       "926419989107798016                      Madrid  \n",
       "934854385577943041                 Mexico City  \n",
       "945318406441635840                      Madrid  \n",
       "927540721296568320  Pacific Time (US & Canada)  \n",
       "947965901332197376                Buenos Aires  "
      ]
     },
     "execution_count": 38,
     "metadata": {},
     "output_type": "execute_result"
    }
   ],
   "source": [
    "df = pd.read_csv('tweets_public.csv', encoding='utf-8', index_col='tweet_id')\n",
    "df.head(5)"
   ]
  },
  {
   "cell_type": "code",
   "execution_count": null,
   "metadata": {},
   "outputs": [],
   "source": []
  }
 ],
 "metadata": {
  "celltoolbar": "Raw Cell Format",
  "kernelspec": {
   "display_name": "Python 3",
   "language": "python",
   "name": "python3"
  },
  "language_info": {
   "codemirror_mode": {
    "name": "ipython",
    "version": 3
   },
   "file_extension": ".py",
   "mimetype": "text/x-python",
   "name": "python",
   "nbconvert_exporter": "python",
   "pygments_lexer": "ipython3",
   "version": "3.6.9"
  }
 },
 "nbformat": 4,
 "nbformat_minor": 2
}
